{
 "cells": [
  {
   "cell_type": "code",
   "execution_count": 1,
   "metadata": {
    "id": "igMyGnjE9hEp"
   },
   "outputs": [
    {
     "name": "stderr",
     "output_type": "stream",
     "text": [
      "2023-06-17 13:25:21.898694: I tensorflow/tsl/cuda/cudart_stub.cc:28] Could not find cuda drivers on your machine, GPU will not be used.\n",
      "2023-06-17 13:25:22.270323: I tensorflow/tsl/cuda/cudart_stub.cc:28] Could not find cuda drivers on your machine, GPU will not be used.\n"
     ]
    },
    {
     "ename": "KeyboardInterrupt",
     "evalue": "",
     "output_type": "error",
     "traceback": [
      "\u001b[0;31m---------------------------------------------------------------------------\u001b[0m",
      "\u001b[0;31mKeyboardInterrupt\u001b[0m                         Traceback (most recent call last)",
      "Cell \u001b[0;32mIn[1], line 4\u001b[0m\n\u001b[1;32m      1\u001b[0m \u001b[39mimport\u001b[39;00m \u001b[39mcsv\u001b[39;00m\n\u001b[1;32m      3\u001b[0m \u001b[39mimport\u001b[39;00m \u001b[39mnumpy\u001b[39;00m \u001b[39mas\u001b[39;00m \u001b[39mnp\u001b[39;00m\n\u001b[0;32m----> 4\u001b[0m \u001b[39mimport\u001b[39;00m \u001b[39mtensorflow\u001b[39;00m \u001b[39mas\u001b[39;00m \u001b[39mtf\u001b[39;00m\n\u001b[1;32m      5\u001b[0m \u001b[39mfrom\u001b[39;00m \u001b[39msklearn\u001b[39;00m\u001b[39m.\u001b[39;00m\u001b[39mmodel_selection\u001b[39;00m \u001b[39mimport\u001b[39;00m train_test_split\n\u001b[1;32m      7\u001b[0m RANDOM_SEED \u001b[39m=\u001b[39m \u001b[39m42\u001b[39m\n",
      "File \u001b[0;32m~/.local/lib/python3.10/site-packages/tensorflow/__init__.py:37\u001b[0m\n\u001b[1;32m     34\u001b[0m \u001b[39mimport\u001b[39;00m \u001b[39msys\u001b[39;00m \u001b[39mas\u001b[39;00m \u001b[39m_sys\u001b[39;00m\n\u001b[1;32m     35\u001b[0m \u001b[39mimport\u001b[39;00m \u001b[39mtyping\u001b[39;00m \u001b[39mas\u001b[39;00m \u001b[39m_typing\u001b[39;00m\n\u001b[0;32m---> 37\u001b[0m \u001b[39mfrom\u001b[39;00m \u001b[39mtensorflow\u001b[39;00m\u001b[39m.\u001b[39;00m\u001b[39mpython\u001b[39;00m\u001b[39m.\u001b[39;00m\u001b[39mtools\u001b[39;00m \u001b[39mimport\u001b[39;00m module_util \u001b[39mas\u001b[39;00m _module_util\n\u001b[1;32m     38\u001b[0m \u001b[39mfrom\u001b[39;00m \u001b[39mtensorflow\u001b[39;00m\u001b[39m.\u001b[39;00m\u001b[39mpython\u001b[39;00m\u001b[39m.\u001b[39;00m\u001b[39mutil\u001b[39;00m\u001b[39m.\u001b[39;00m\u001b[39mlazy_loader\u001b[39;00m \u001b[39mimport\u001b[39;00m LazyLoader \u001b[39mas\u001b[39;00m _LazyLoader\n\u001b[1;32m     40\u001b[0m \u001b[39m# Make sure code inside the TensorFlow codebase can use tf2.enabled() at import.\u001b[39;00m\n",
      "File \u001b[0;32m~/.local/lib/python3.10/site-packages/tensorflow/python/__init__.py:36\u001b[0m\n\u001b[1;32m     27\u001b[0m \u001b[39mimport\u001b[39;00m \u001b[39mtraceback\u001b[39;00m\n\u001b[1;32m     29\u001b[0m \u001b[39m# We aim to keep this file minimal and ideally remove completely.\u001b[39;00m\n\u001b[1;32m     30\u001b[0m \u001b[39m# If you are adding a new file with @tf_export decorators,\u001b[39;00m\n\u001b[1;32m     31\u001b[0m \u001b[39m# import it in modules_with_exports.py instead.\u001b[39;00m\n\u001b[1;32m     32\u001b[0m \n\u001b[1;32m     33\u001b[0m \u001b[39m# go/tf-wildcard-import\u001b[39;00m\n\u001b[1;32m     34\u001b[0m \u001b[39m# pylint: disable=wildcard-import,g-bad-import-order,g-import-not-at-top\u001b[39;00m\n\u001b[0;32m---> 36\u001b[0m \u001b[39mfrom\u001b[39;00m \u001b[39mtensorflow\u001b[39;00m\u001b[39m.\u001b[39;00m\u001b[39mpython\u001b[39;00m \u001b[39mimport\u001b[39;00m pywrap_tensorflow \u001b[39mas\u001b[39;00m _pywrap_tensorflow\n\u001b[1;32m     37\u001b[0m \u001b[39mfrom\u001b[39;00m \u001b[39mtensorflow\u001b[39;00m\u001b[39m.\u001b[39;00m\u001b[39mpython\u001b[39;00m\u001b[39m.\u001b[39;00m\u001b[39meager\u001b[39;00m \u001b[39mimport\u001b[39;00m context\n\u001b[1;32m     39\u001b[0m \u001b[39m# pylint: enable=wildcard-import\u001b[39;00m\n\u001b[1;32m     40\u001b[0m \n\u001b[1;32m     41\u001b[0m \u001b[39m# Bring in subpackages.\u001b[39;00m\n",
      "File \u001b[0;32m~/.local/lib/python3.10/site-packages/tensorflow/python/pywrap_tensorflow.py:26\u001b[0m\n\u001b[1;32m     21\u001b[0m \u001b[39mfrom\u001b[39;00m \u001b[39mtensorflow\u001b[39;00m\u001b[39m.\u001b[39;00m\u001b[39mpython\u001b[39;00m\u001b[39m.\u001b[39;00m\u001b[39mplatform\u001b[39;00m \u001b[39mimport\u001b[39;00m self_check\n\u001b[1;32m     23\u001b[0m \u001b[39m# TODO(mdan): Cleanup antipattern: import for side effects.\u001b[39;00m\n\u001b[1;32m     24\u001b[0m \n\u001b[1;32m     25\u001b[0m \u001b[39m# Perform pre-load sanity checks in order to produce a more actionable error.\u001b[39;00m\n\u001b[0;32m---> 26\u001b[0m self_check\u001b[39m.\u001b[39;49mpreload_check()\n\u001b[1;32m     28\u001b[0m \u001b[39m# pylint: disable=wildcard-import,g-import-not-at-top,unused-import,line-too-long\u001b[39;00m\n\u001b[1;32m     30\u001b[0m \u001b[39mtry\u001b[39;00m:\n\u001b[1;32m     31\u001b[0m   \u001b[39m# This import is expected to fail if there is an explicit shared object\u001b[39;00m\n\u001b[1;32m     32\u001b[0m   \u001b[39m# dependency (with_framework_lib=true), since we do not need RTLD_GLOBAL.\u001b[39;00m\n",
      "File \u001b[0;32m~/.local/lib/python3.10/site-packages/tensorflow/python/platform/self_check.py:63\u001b[0m, in \u001b[0;36mpreload_check\u001b[0;34m()\u001b[0m\n\u001b[1;32m     50\u001b[0m       \u001b[39mraise\u001b[39;00m \u001b[39mImportError\u001b[39;00m(\n\u001b[1;32m     51\u001b[0m           \u001b[39m\"\u001b[39m\u001b[39mCould not find the DLL(s) \u001b[39m\u001b[39m%r\u001b[39;00m\u001b[39m. TensorFlow requires that these DLLs \u001b[39m\u001b[39m\"\u001b[39m\n\u001b[1;32m     52\u001b[0m           \u001b[39m\"\u001b[39m\u001b[39mbe installed in a directory that is named in your \u001b[39m\u001b[39m%%\u001b[39;00m\u001b[39mPATH\u001b[39m\u001b[39m%%\u001b[39;00m\u001b[39m \u001b[39m\u001b[39m\"\u001b[39m\n\u001b[0;32m   (...)\u001b[0m\n\u001b[1;32m     56\u001b[0m           \u001b[39m\"\u001b[39m\u001b[39mhttps://support.microsoft.com/help/2977003/the-latest-supported-visual-c-downloads\u001b[39m\u001b[39m\"\u001b[39m\n\u001b[1;32m     57\u001b[0m           \u001b[39m%\u001b[39m \u001b[39m\"\u001b[39m\u001b[39m or \u001b[39m\u001b[39m\"\u001b[39m\u001b[39m.\u001b[39mjoin(missing))\n\u001b[1;32m     58\u001b[0m \u001b[39melse\u001b[39;00m:\n\u001b[1;32m     59\u001b[0m   \u001b[39m# Load a library that performs CPU feature guard checking.  Doing this here\u001b[39;00m\n\u001b[1;32m     60\u001b[0m   \u001b[39m# as a preload check makes it more likely that we detect any CPU feature\u001b[39;00m\n\u001b[1;32m     61\u001b[0m   \u001b[39m# incompatibilities before we trigger them (which would typically result in\u001b[39;00m\n\u001b[1;32m     62\u001b[0m   \u001b[39m# SIGILL).\u001b[39;00m\n\u001b[0;32m---> 63\u001b[0m   \u001b[39mfrom\u001b[39;00m \u001b[39mtensorflow\u001b[39;00m\u001b[39m.\u001b[39;00m\u001b[39mpython\u001b[39;00m\u001b[39m.\u001b[39;00m\u001b[39mplatform\u001b[39;00m \u001b[39mimport\u001b[39;00m _pywrap_cpu_feature_guard\n\u001b[1;32m     64\u001b[0m   _pywrap_cpu_feature_guard\u001b[39m.\u001b[39mInfoAboutUnusedCPUFeatures()\n",
      "\u001b[0;31mKeyboardInterrupt\u001b[0m: "
     ]
    }
   ],
   "source": [
    "import csv\n",
    "\n",
    "import numpy as np\n",
    "import tensorflow as tf\n",
    "from sklearn.model_selection import train_test_split\n",
    "\n",
    "RANDOM_SEED = 42"
   ]
  },
  {
   "cell_type": "markdown",
   "metadata": {
    "id": "t2HDvhIu9hEr"
   },
   "source": [
    "# Specify each path"
   ]
  },
  {
   "cell_type": "code",
   "execution_count": null,
   "metadata": {
    "id": "9NvZP2Zn9hEy"
   },
   "outputs": [],
   "source": [
    "dataset = 'model/keypoint_classifier/keypoint.csv'\n",
    "model_save_path = 'model/keypoint_classifier/keypoint_classifier.hdf5'\n",
    "tflite_save_path = 'model/keypoint_classifier/keypoint_classifier.tflite'"
   ]
  },
  {
   "cell_type": "markdown",
   "metadata": {
    "id": "s5oMH7x19hEz"
   },
   "source": [
    "# Set number of classes"
   ]
  },
  {
   "cell_type": "code",
   "execution_count": null,
   "metadata": {
    "id": "du4kodXL9hEz"
   },
   "outputs": [],
   "source": [
    "NUM_CLASSES = 10"
   ]
  },
  {
   "cell_type": "markdown",
   "metadata": {
    "id": "XjnL0uso9hEz"
   },
   "source": [
    "# Dataset reading"
   ]
  },
  {
   "cell_type": "code",
   "execution_count": null,
   "metadata": {
    "id": "QT5ZqtEz9hE0"
   },
   "outputs": [],
   "source": [
    "X_dataset = np.loadtxt(dataset, delimiter=',', dtype='float32', usecols=list(range(1, (21 * 2) + 1)))"
   ]
  },
  {
   "cell_type": "code",
   "execution_count": null,
   "metadata": {
    "id": "QmoKFsp49hE0"
   },
   "outputs": [],
   "source": [
    "y_dataset = np.loadtxt(dataset, delimiter=',', dtype='int32', usecols=(0))"
   ]
  },
  {
   "cell_type": "code",
   "execution_count": null,
   "metadata": {
    "id": "xQU7JTZ_9hE0"
   },
   "outputs": [],
   "source": [
    "X_train, X_test, y_train, y_test = train_test_split(X_dataset, y_dataset, train_size=0.75, random_state=RANDOM_SEED)"
   ]
  },
  {
   "cell_type": "markdown",
   "metadata": {
    "id": "mxK_lETT9hE0"
   },
   "source": [
    "# Model building"
   ]
  },
  {
   "cell_type": "code",
   "execution_count": null,
   "metadata": {
    "id": "vHBmUf1t9hE1"
   },
   "outputs": [],
   "source": [
    "model = tf.keras.models.Sequential([\n",
    "    tf.keras.layers.Input((21 * 2, )),\n",
    "    tf.keras.layers.Dropout(0.2),\n",
    "    tf.keras.layers.Dense(80, activation='relu'),\n",
    "    tf.keras.layers.Dropout(0.4),\n",
    "    tf.keras.layers.Dense(10, activation='relu'),\n",
    "    tf.keras.layers.Dense(NUM_CLASSES, activation='softmax')\n",
    "])"
   ]
  },
  {
   "cell_type": "code",
   "execution_count": null,
   "metadata": {
    "colab": {
     "base_uri": "https://localhost:8080/"
    },
    "id": "ypqky9tc9hE1",
    "outputId": "5db082bb-30e3-4110-bf63-a1ee777ecd46"
   },
   "outputs": [
    {
     "name": "stdout",
     "output_type": "stream",
     "text": [
      "Model: \"sequential\"\n",
      "_________________________________________________________________\n",
      " Layer (type)                Output Shape              Param #   \n",
      "=================================================================\n",
      " dropout (Dropout)           (None, 42)                0         \n",
      "                                                                 \n",
      " dense (Dense)               (None, 80)                3440      \n",
      "                                                                 \n",
      " dropout_1 (Dropout)         (None, 80)                0         \n",
      "                                                                 \n",
      " dense_1 (Dense)             (None, 10)                810       \n",
      "                                                                 \n",
      " dense_2 (Dense)             (None, 10)                110       \n",
      "                                                                 \n",
      "=================================================================\n",
      "Total params: 4,360\n",
      "Trainable params: 4,360\n",
      "Non-trainable params: 0\n",
      "_________________________________________________________________\n"
     ]
    }
   ],
   "source": [
    "model.summary()  # tf.keras.utils.plot_model(model, show_shapes=True)"
   ]
  },
  {
   "cell_type": "code",
   "execution_count": null,
   "metadata": {
    "id": "MbMjOflQ9hE1"
   },
   "outputs": [],
   "source": [
    "# Model checkpoint callback\n",
    "cp_callback = tf.keras.callbacks.ModelCheckpoint(\n",
    "    model_save_path, verbose=1, save_weights_only=False)\n",
    "# Callback for early stopping\n",
    "es_callback = tf.keras.callbacks.EarlyStopping(patience=20, verbose=1)"
   ]
  },
  {
   "cell_type": "code",
   "execution_count": null,
   "metadata": {
    "id": "c3Dac0M_9hE2"
   },
   "outputs": [],
   "source": [
    "# Model compilation\n",
    "model.compile(\n",
    "    optimizer='adam',\n",
    "    loss='sparse_categorical_crossentropy',\n",
    "    metrics=['accuracy']\n",
    ")"
   ]
  },
  {
   "cell_type": "markdown",
   "metadata": {
    "id": "7XI0j1Iu9hE2"
   },
   "source": [
    "# Model training"
   ]
  },
  {
   "cell_type": "code",
   "execution_count": null,
   "metadata": {
    "colab": {
     "base_uri": "https://localhost:8080/"
    },
    "id": "WirBl-JE9hE3",
    "outputId": "71b30ca2-8294-4d9d-8aa2-800d90d399de",
    "scrolled": true
   },
   "outputs": [
    {
     "name": "stdout",
     "output_type": "stream",
     "text": [
      "Epoch 1/1000\n",
      "46/52 [=========================>....] - ETA: 0s - loss: 2.1807 - accuracy: 0.2193 \n",
      "Epoch 1: saving model to model/keypoint_classifier/keypoint_classifier.hdf5\n",
      "52/52 [==============================] - 1s 5ms/step - loss: 2.1557 - accuracy: 0.2312 - val_loss: 1.9331 - val_accuracy: 0.3469\n",
      "Epoch 2/1000\n",
      "46/52 [=========================>....] - ETA: 0s - loss: 1.8393 - accuracy: 0.3405\n",
      "Epoch 2: saving model to model/keypoint_classifier/keypoint_classifier.hdf5\n",
      "52/52 [==============================] - 0s 2ms/step - loss: 1.8305 - accuracy: 0.3405 - val_loss: 1.6749 - val_accuracy: 0.3528\n",
      "Epoch 3/1000\n",
      "45/52 [========================>.....] - ETA: 0s - loss: 1.6295 - accuracy: 0.3903\n",
      "Epoch 3: saving model to model/keypoint_classifier/keypoint_classifier.hdf5\n",
      "52/52 [==============================] - 0s 2ms/step - loss: 1.6203 - accuracy: 0.3942 - val_loss: 1.4501 - val_accuracy: 0.5317\n",
      "Epoch 4/1000\n",
      "33/52 [==================>...........] - ETA: 0s - loss: 1.4804 - accuracy: 0.4536\n",
      "Epoch 4: saving model to model/keypoint_classifier/keypoint_classifier.hdf5\n",
      "52/52 [==============================] - 0s 4ms/step - loss: 1.4489 - accuracy: 0.4662 - val_loss: 1.2291 - val_accuracy: 0.5691\n",
      "Epoch 5/1000\n",
      "45/52 [========================>.....] - ETA: 0s - loss: 1.3066 - accuracy: 0.5123\n",
      "Epoch 5: saving model to model/keypoint_classifier/keypoint_classifier.hdf5\n",
      "52/52 [==============================] - 0s 2ms/step - loss: 1.2953 - accuracy: 0.5160 - val_loss: 1.0450 - val_accuracy: 0.6581\n",
      "Epoch 6/1000\n",
      "33/52 [==================>...........] - ETA: 0s - loss: 1.1878 - accuracy: 0.5625\n",
      "Epoch 6: saving model to model/keypoint_classifier/keypoint_classifier.hdf5\n",
      "52/52 [==============================] - 0s 3ms/step - loss: 1.1590 - accuracy: 0.5741 - val_loss: 0.9033 - val_accuracy: 0.7170\n",
      "Epoch 7/1000\n",
      "35/52 [===================>..........] - ETA: 0s - loss: 1.0740 - accuracy: 0.5929\n",
      "Epoch 7: saving model to model/keypoint_classifier/keypoint_classifier.hdf5\n",
      "52/52 [==============================] - 0s 2ms/step - loss: 1.0711 - accuracy: 0.5925 - val_loss: 0.8002 - val_accuracy: 0.8106\n",
      "Epoch 8/1000\n",
      "28/52 [===============>..............] - ETA: 0s - loss: 1.0096 - accuracy: 0.6152\n",
      "Epoch 8: saving model to model/keypoint_classifier/keypoint_classifier.hdf5\n",
      "52/52 [==============================] - 0s 3ms/step - loss: 1.0041 - accuracy: 0.6195 - val_loss: 0.7280 - val_accuracy: 0.8065\n",
      "Epoch 9/1000\n",
      "38/52 [====================>.........] - ETA: 0s - loss: 0.9518 - accuracy: 0.6433\n",
      "Epoch 9: saving model to model/keypoint_classifier/keypoint_classifier.hdf5\n",
      "52/52 [==============================] - 0s 3ms/step - loss: 0.9555 - accuracy: 0.6443 - val_loss: 0.6747 - val_accuracy: 0.8517\n",
      "Epoch 10/1000\n",
      "36/52 [===================>..........] - ETA: 0s - loss: 0.9204 - accuracy: 0.6541\n",
      "Epoch 10: saving model to model/keypoint_classifier/keypoint_classifier.hdf5\n",
      "52/52 [==============================] - 0s 2ms/step - loss: 0.9134 - accuracy: 0.6546 - val_loss: 0.6284 - val_accuracy: 0.8864\n",
      "Epoch 11/1000\n",
      "25/52 [=============>................] - ETA: 0s - loss: 0.8769 - accuracy: 0.6697\n",
      "Epoch 11: saving model to model/keypoint_classifier/keypoint_classifier.hdf5\n",
      "52/52 [==============================] - 0s 3ms/step - loss: 0.8827 - accuracy: 0.6702 - val_loss: 0.5912 - val_accuracy: 0.8791\n",
      "Epoch 12/1000\n",
      "48/52 [==========================>...] - ETA: 0s - loss: 0.8471 - accuracy: 0.6868\n",
      "Epoch 12: saving model to model/keypoint_classifier/keypoint_classifier.hdf5\n",
      "52/52 [==============================] - 0s 3ms/step - loss: 0.8455 - accuracy: 0.6872 - val_loss: 0.5629 - val_accuracy: 0.8845\n",
      "Epoch 13/1000\n",
      "47/52 [==========================>...] - ETA: 0s - loss: 0.8218 - accuracy: 0.6922\n",
      "Epoch 13: saving model to model/keypoint_classifier/keypoint_classifier.hdf5\n",
      "52/52 [==============================] - 0s 3ms/step - loss: 0.8183 - accuracy: 0.6950 - val_loss: 0.5369 - val_accuracy: 0.9023\n",
      "Epoch 14/1000\n",
      "26/52 [==============>...............] - ETA: 0s - loss: 0.7990 - accuracy: 0.7040\n",
      "Epoch 14: saving model to model/keypoint_classifier/keypoint_classifier.hdf5\n",
      "52/52 [==============================] - 0s 3ms/step - loss: 0.7941 - accuracy: 0.7006 - val_loss: 0.5172 - val_accuracy: 0.8973\n",
      "Epoch 15/1000\n",
      "24/52 [============>.................] - ETA: 0s - loss: 0.7760 - accuracy: 0.7126\n",
      "Epoch 15: saving model to model/keypoint_classifier/keypoint_classifier.hdf5\n",
      "52/52 [==============================] - 0s 3ms/step - loss: 0.7843 - accuracy: 0.7056 - val_loss: 0.4962 - val_accuracy: 0.9083\n",
      "Epoch 16/1000\n",
      "46/52 [=========================>....] - ETA: 0s - loss: 0.7720 - accuracy: 0.7142\n",
      "Epoch 16: saving model to model/keypoint_classifier/keypoint_classifier.hdf5\n",
      "52/52 [==============================] - 0s 2ms/step - loss: 0.7748 - accuracy: 0.7140 - val_loss: 0.4815 - val_accuracy: 0.9147\n",
      "Epoch 17/1000\n",
      "42/52 [=======================>......] - ETA: 0s - loss: 0.7494 - accuracy: 0.7225\n",
      "Epoch 17: saving model to model/keypoint_classifier/keypoint_classifier.hdf5\n",
      "52/52 [==============================] - 0s 2ms/step - loss: 0.7427 - accuracy: 0.7248 - val_loss: 0.4601 - val_accuracy: 0.9165\n",
      "Epoch 18/1000\n",
      "45/52 [========================>.....] - ETA: 0s - loss: 0.7194 - accuracy: 0.7356\n",
      "Epoch 18: saving model to model/keypoint_classifier/keypoint_classifier.hdf5\n",
      "52/52 [==============================] - 0s 2ms/step - loss: 0.7273 - accuracy: 0.7321 - val_loss: 0.4420 - val_accuracy: 0.9110\n",
      "Epoch 19/1000\n",
      "31/52 [================>.............] - ETA: 0s - loss: 0.7098 - accuracy: 0.7412\n",
      "Epoch 19: saving model to model/keypoint_classifier/keypoint_classifier.hdf5\n",
      "52/52 [==============================] - 0s 2ms/step - loss: 0.7156 - accuracy: 0.7327 - val_loss: 0.4252 - val_accuracy: 0.9210\n",
      "Epoch 20/1000\n",
      "47/52 [==========================>...] - ETA: 0s - loss: 0.7143 - accuracy: 0.7387\n",
      "Epoch 20: saving model to model/keypoint_classifier/keypoint_classifier.hdf5\n",
      "52/52 [==============================] - 0s 2ms/step - loss: 0.7138 - accuracy: 0.7400 - val_loss: 0.4126 - val_accuracy: 0.9210\n",
      "Epoch 21/1000\n",
      "44/52 [========================>.....] - ETA: 0s - loss: 0.6955 - accuracy: 0.7441\n",
      "Epoch 21: saving model to model/keypoint_classifier/keypoint_classifier.hdf5\n",
      "52/52 [==============================] - 0s 2ms/step - loss: 0.6903 - accuracy: 0.7463 - val_loss: 0.3978 - val_accuracy: 0.9206\n",
      "Epoch 22/1000\n",
      "35/52 [===================>..........] - ETA: 0s - loss: 0.6742 - accuracy: 0.7507\n",
      "Epoch 22: saving model to model/keypoint_classifier/keypoint_classifier.hdf5\n",
      "52/52 [==============================] - 0s 2ms/step - loss: 0.6777 - accuracy: 0.7481 - val_loss: 0.3909 - val_accuracy: 0.9229\n",
      "Epoch 23/1000\n",
      "45/52 [========================>.....] - ETA: 0s - loss: 0.6777 - accuracy: 0.7483\n",
      "Epoch 23: saving model to model/keypoint_classifier/keypoint_classifier.hdf5\n",
      "52/52 [==============================] - 0s 3ms/step - loss: 0.6779 - accuracy: 0.7466 - val_loss: 0.3849 - val_accuracy: 0.9242\n",
      "Epoch 24/1000\n",
      "37/52 [====================>.........] - ETA: 0s - loss: 0.6720 - accuracy: 0.7527\n",
      "Epoch 24: saving model to model/keypoint_classifier/keypoint_classifier.hdf5\n",
      "52/52 [==============================] - 0s 2ms/step - loss: 0.6641 - accuracy: 0.7563 - val_loss: 0.3755 - val_accuracy: 0.9338\n",
      "Epoch 25/1000\n",
      "44/52 [========================>.....] - ETA: 0s - loss: 0.6458 - accuracy: 0.7649\n",
      "Epoch 25: saving model to model/keypoint_classifier/keypoint_classifier.hdf5\n",
      "52/52 [==============================] - 0s 2ms/step - loss: 0.6432 - accuracy: 0.7648 - val_loss: 0.3622 - val_accuracy: 0.9416\n",
      "Epoch 26/1000\n",
      "28/52 [===============>..............] - ETA: 0s - loss: 0.6457 - accuracy: 0.7581\n",
      "Epoch 26: saving model to model/keypoint_classifier/keypoint_classifier.hdf5\n",
      "52/52 [==============================] - 0s 2ms/step - loss: 0.6476 - accuracy: 0.7629 - val_loss: 0.3562 - val_accuracy: 0.9452\n",
      "Epoch 27/1000\n",
      "44/52 [========================>.....] - ETA: 0s - loss: 0.6414 - accuracy: 0.7704\n",
      "Epoch 27: saving model to model/keypoint_classifier/keypoint_classifier.hdf5\n",
      "52/52 [==============================] - 0s 2ms/step - loss: 0.6418 - accuracy: 0.7696 - val_loss: 0.3512 - val_accuracy: 0.9425\n",
      "Epoch 28/1000\n",
      "26/52 [==============>...............] - ETA: 0s - loss: 0.6224 - accuracy: 0.7761\n",
      "Epoch 28: saving model to model/keypoint_classifier/keypoint_classifier.hdf5\n",
      "52/52 [==============================] - 0s 3ms/step - loss: 0.6148 - accuracy: 0.7802 - val_loss: 0.3375 - val_accuracy: 0.9425\n",
      "Epoch 29/1000\n",
      "45/52 [========================>.....] - ETA: 0s - loss: 0.6101 - accuracy: 0.7783\n",
      "Epoch 29: saving model to model/keypoint_classifier/keypoint_classifier.hdf5\n",
      "52/52 [==============================] - 0s 2ms/step - loss: 0.6116 - accuracy: 0.7799 - val_loss: 0.3351 - val_accuracy: 0.9352\n",
      "Epoch 30/1000\n",
      "44/52 [========================>.....] - ETA: 0s - loss: 0.6083 - accuracy: 0.7781\n",
      "Epoch 30: saving model to model/keypoint_classifier/keypoint_classifier.hdf5\n",
      "52/52 [==============================] - 0s 2ms/step - loss: 0.6080 - accuracy: 0.7801 - val_loss: 0.3285 - val_accuracy: 0.9407\n",
      "Epoch 31/1000\n",
      "45/52 [========================>.....] - ETA: 0s - loss: 0.6028 - accuracy: 0.7863\n",
      "Epoch 31: saving model to model/keypoint_classifier/keypoint_classifier.hdf5\n",
      "52/52 [==============================] - 0s 2ms/step - loss: 0.5950 - accuracy: 0.7901 - val_loss: 0.3301 - val_accuracy: 0.9407\n",
      "Epoch 32/1000\n",
      "45/52 [========================>.....] - ETA: 0s - loss: 0.5934 - accuracy: 0.7865\n",
      "Epoch 32: saving model to model/keypoint_classifier/keypoint_classifier.hdf5\n",
      "52/52 [==============================] - 0s 2ms/step - loss: 0.5931 - accuracy: 0.7881 - val_loss: 0.3167 - val_accuracy: 0.9384\n",
      "Epoch 33/1000\n",
      "45/52 [========================>.....] - ETA: 0s - loss: 0.5926 - accuracy: 0.7865\n",
      "Epoch 33: saving model to model/keypoint_classifier/keypoint_classifier.hdf5\n",
      "52/52 [==============================] - 0s 2ms/step - loss: 0.5911 - accuracy: 0.7868 - val_loss: 0.3177 - val_accuracy: 0.9439\n",
      "Epoch 34/1000\n",
      "46/52 [=========================>....] - ETA: 0s - loss: 0.5997 - accuracy: 0.7921\n",
      "Epoch 34: saving model to model/keypoint_classifier/keypoint_classifier.hdf5\n",
      "52/52 [==============================] - 0s 2ms/step - loss: 0.6006 - accuracy: 0.7901 - val_loss: 0.3156 - val_accuracy: 0.9512\n",
      "Epoch 35/1000\n",
      "45/52 [========================>.....] - ETA: 0s - loss: 0.5775 - accuracy: 0.8040\n",
      "Epoch 35: saving model to model/keypoint_classifier/keypoint_classifier.hdf5\n",
      "52/52 [==============================] - 0s 2ms/step - loss: 0.5765 - accuracy: 0.8037 - val_loss: 0.3052 - val_accuracy: 0.9429\n",
      "Epoch 36/1000\n",
      "45/52 [========================>.....] - ETA: 0s - loss: 0.5555 - accuracy: 0.8085\n",
      "Epoch 36: saving model to model/keypoint_classifier/keypoint_classifier.hdf5\n",
      "52/52 [==============================] - 0s 2ms/step - loss: 0.5536 - accuracy: 0.8085 - val_loss: 0.3010 - val_accuracy: 0.9471\n",
      "Epoch 37/1000\n",
      "45/52 [========================>.....] - ETA: 0s - loss: 0.5819 - accuracy: 0.8010\n",
      "Epoch 37: saving model to model/keypoint_classifier/keypoint_classifier.hdf5\n",
      "52/52 [==============================] - 0s 2ms/step - loss: 0.5736 - accuracy: 0.8020 - val_loss: 0.3005 - val_accuracy: 0.9534\n",
      "Epoch 38/1000\n",
      "46/52 [=========================>....] - ETA: 0s - loss: 0.5577 - accuracy: 0.8059\n",
      "Epoch 38: saving model to model/keypoint_classifier/keypoint_classifier.hdf5\n",
      "52/52 [==============================] - 0s 2ms/step - loss: 0.5572 - accuracy: 0.8052 - val_loss: 0.2968 - val_accuracy: 0.9503\n",
      "Epoch 39/1000\n",
      "46/52 [=========================>....] - ETA: 0s - loss: 0.5477 - accuracy: 0.8106\n",
      "Epoch 39: saving model to model/keypoint_classifier/keypoint_classifier.hdf5\n",
      "52/52 [==============================] - 0s 2ms/step - loss: 0.5487 - accuracy: 0.8104 - val_loss: 0.2965 - val_accuracy: 0.9475\n",
      "Epoch 40/1000\n",
      "44/52 [========================>.....] - ETA: 0s - loss: 0.5353 - accuracy: 0.8116\n",
      "Epoch 40: saving model to model/keypoint_classifier/keypoint_classifier.hdf5\n",
      "52/52 [==============================] - 0s 2ms/step - loss: 0.5354 - accuracy: 0.8104 - val_loss: 0.2885 - val_accuracy: 0.9434\n",
      "Epoch 41/1000\n",
      "45/52 [========================>.....] - ETA: 0s - loss: 0.5467 - accuracy: 0.8120\n",
      "Epoch 41: saving model to model/keypoint_classifier/keypoint_classifier.hdf5\n",
      "52/52 [==============================] - 0s 2ms/step - loss: 0.5476 - accuracy: 0.8122 - val_loss: 0.2859 - val_accuracy: 0.9425\n",
      "Epoch 42/1000\n",
      "33/52 [==================>...........] - ETA: 0s - loss: 0.5430 - accuracy: 0.8094\n",
      "Epoch 42: saving model to model/keypoint_classifier/keypoint_classifier.hdf5\n",
      "52/52 [==============================] - 0s 2ms/step - loss: 0.5336 - accuracy: 0.8116 - val_loss: 0.2779 - val_accuracy: 0.9566\n",
      "Epoch 43/1000\n",
      "46/52 [=========================>....] - ETA: 0s - loss: 0.5298 - accuracy: 0.8140\n",
      "Epoch 43: saving model to model/keypoint_classifier/keypoint_classifier.hdf5\n",
      "52/52 [==============================] - 0s 2ms/step - loss: 0.5321 - accuracy: 0.8125 - val_loss: 0.2812 - val_accuracy: 0.9521\n",
      "Epoch 44/1000\n",
      "45/52 [========================>.....] - ETA: 0s - loss: 0.5374 - accuracy: 0.8085\n",
      "Epoch 44: saving model to model/keypoint_classifier/keypoint_classifier.hdf5\n",
      "52/52 [==============================] - 0s 2ms/step - loss: 0.5321 - accuracy: 0.8119 - val_loss: 0.2800 - val_accuracy: 0.9493\n",
      "Epoch 45/1000\n",
      "44/52 [========================>.....] - ETA: 0s - loss: 0.5275 - accuracy: 0.8210\n",
      "Epoch 45: saving model to model/keypoint_classifier/keypoint_classifier.hdf5\n",
      "52/52 [==============================] - 0s 2ms/step - loss: 0.5228 - accuracy: 0.8234 - val_loss: 0.2711 - val_accuracy: 0.9598\n",
      "Epoch 46/1000\n",
      "44/52 [========================>.....] - ETA: 0s - loss: 0.5154 - accuracy: 0.8253\n",
      "Epoch 46: saving model to model/keypoint_classifier/keypoint_classifier.hdf5\n",
      "52/52 [==============================] - 0s 2ms/step - loss: 0.5168 - accuracy: 0.8254 - val_loss: 0.2663 - val_accuracy: 0.9484\n",
      "Epoch 47/1000\n",
      "44/52 [========================>.....] - ETA: 0s - loss: 0.5156 - accuracy: 0.8279\n",
      "Epoch 47: saving model to model/keypoint_classifier/keypoint_classifier.hdf5\n",
      "52/52 [==============================] - 0s 2ms/step - loss: 0.5188 - accuracy: 0.8253 - val_loss: 0.2669 - val_accuracy: 0.9553\n",
      "Epoch 48/1000\n",
      "46/52 [=========================>....] - ETA: 0s - loss: 0.5027 - accuracy: 0.8308\n",
      "Epoch 48: saving model to model/keypoint_classifier/keypoint_classifier.hdf5\n",
      "52/52 [==============================] - 0s 2ms/step - loss: 0.5054 - accuracy: 0.8289 - val_loss: 0.2696 - val_accuracy: 0.9548\n",
      "Epoch 49/1000\n",
      "45/52 [========================>.....] - ETA: 0s - loss: 0.5188 - accuracy: 0.8241\n",
      "Epoch 49: saving model to model/keypoint_classifier/keypoint_classifier.hdf5\n",
      "52/52 [==============================] - 0s 2ms/step - loss: 0.5161 - accuracy: 0.8250 - val_loss: 0.2644 - val_accuracy: 0.9434\n",
      "Epoch 50/1000\n",
      "45/52 [========================>.....] - ETA: 0s - loss: 0.5066 - accuracy: 0.8292\n",
      "Epoch 50: saving model to model/keypoint_classifier/keypoint_classifier.hdf5\n",
      "52/52 [==============================] - 0s 2ms/step - loss: 0.5027 - accuracy: 0.8294 - val_loss: 0.2622 - val_accuracy: 0.9521\n",
      "Epoch 51/1000\n",
      "44/52 [========================>.....] - ETA: 0s - loss: 0.4897 - accuracy: 0.8333\n",
      "Epoch 51: saving model to model/keypoint_classifier/keypoint_classifier.hdf5\n",
      "52/52 [==============================] - 0s 2ms/step - loss: 0.4901 - accuracy: 0.8346 - val_loss: 0.2544 - val_accuracy: 0.9466\n",
      "Epoch 52/1000\n",
      "44/52 [========================>.....] - ETA: 0s - loss: 0.4940 - accuracy: 0.8324\n",
      "Epoch 52: saving model to model/keypoint_classifier/keypoint_classifier.hdf5\n",
      "52/52 [==============================] - 0s 2ms/step - loss: 0.4895 - accuracy: 0.8342 - val_loss: 0.2622 - val_accuracy: 0.9534\n",
      "Epoch 53/1000\n",
      "32/52 [=================>............] - ETA: 0s - loss: 0.4992 - accuracy: 0.8330\n",
      "Epoch 53: saving model to model/keypoint_classifier/keypoint_classifier.hdf5\n",
      "52/52 [==============================] - 0s 2ms/step - loss: 0.4893 - accuracy: 0.8332 - val_loss: 0.2534 - val_accuracy: 0.9630\n",
      "Epoch 54/1000\n",
      "47/52 [==========================>...] - ETA: 0s - loss: 0.4855 - accuracy: 0.8336\n",
      "Epoch 54: saving model to model/keypoint_classifier/keypoint_classifier.hdf5\n",
      "52/52 [==============================] - 0s 2ms/step - loss: 0.4897 - accuracy: 0.8317 - val_loss: 0.2524 - val_accuracy: 0.9566\n",
      "Epoch 55/1000\n",
      "44/52 [========================>.....] - ETA: 0s - loss: 0.4979 - accuracy: 0.8308\n",
      "Epoch 55: saving model to model/keypoint_classifier/keypoint_classifier.hdf5\n",
      "52/52 [==============================] - 0s 2ms/step - loss: 0.4905 - accuracy: 0.8339 - val_loss: 0.2604 - val_accuracy: 0.9548\n",
      "Epoch 56/1000\n",
      "45/52 [========================>.....] - ETA: 0s - loss: 0.4841 - accuracy: 0.8398\n",
      "Epoch 56: saving model to model/keypoint_classifier/keypoint_classifier.hdf5\n",
      "52/52 [==============================] - 0s 2ms/step - loss: 0.4848 - accuracy: 0.8385 - val_loss: 0.2465 - val_accuracy: 0.9594\n",
      "Epoch 57/1000\n",
      "46/52 [=========================>....] - ETA: 0s - loss: 0.4714 - accuracy: 0.8441\n",
      "Epoch 57: saving model to model/keypoint_classifier/keypoint_classifier.hdf5\n",
      "52/52 [==============================] - 0s 2ms/step - loss: 0.4683 - accuracy: 0.8463 - val_loss: 0.2471 - val_accuracy: 0.9562\n",
      "Epoch 58/1000\n",
      "45/52 [========================>.....] - ETA: 0s - loss: 0.4677 - accuracy: 0.8347\n",
      "Epoch 58: saving model to model/keypoint_classifier/keypoint_classifier.hdf5\n",
      "52/52 [==============================] - 0s 2ms/step - loss: 0.4672 - accuracy: 0.8359 - val_loss: 0.2425 - val_accuracy: 0.9466\n",
      "Epoch 59/1000\n",
      "46/52 [=========================>....] - ETA: 0s - loss: 0.4701 - accuracy: 0.8387\n",
      "Epoch 59: saving model to model/keypoint_classifier/keypoint_classifier.hdf5\n",
      "52/52 [==============================] - 0s 2ms/step - loss: 0.4674 - accuracy: 0.8399 - val_loss: 0.2410 - val_accuracy: 0.9635\n",
      "Epoch 60/1000\n",
      "47/52 [==========================>...] - ETA: 0s - loss: 0.4666 - accuracy: 0.8414\n",
      "Epoch 60: saving model to model/keypoint_classifier/keypoint_classifier.hdf5\n",
      "52/52 [==============================] - 0s 2ms/step - loss: 0.4630 - accuracy: 0.8429 - val_loss: 0.2455 - val_accuracy: 0.9530\n",
      "Epoch 61/1000\n",
      "45/52 [========================>.....] - ETA: 0s - loss: 0.4493 - accuracy: 0.8481\n",
      "Epoch 61: saving model to model/keypoint_classifier/keypoint_classifier.hdf5\n",
      "52/52 [==============================] - 0s 2ms/step - loss: 0.4513 - accuracy: 0.8486 - val_loss: 0.2400 - val_accuracy: 0.9457\n",
      "Epoch 62/1000\n",
      "46/52 [=========================>....] - ETA: 0s - loss: 0.4609 - accuracy: 0.8453\n",
      "Epoch 62: saving model to model/keypoint_classifier/keypoint_classifier.hdf5\n",
      "52/52 [==============================] - 0s 2ms/step - loss: 0.4614 - accuracy: 0.8455 - val_loss: 0.2443 - val_accuracy: 0.9507\n",
      "Epoch 63/1000\n",
      "45/52 [========================>.....] - ETA: 0s - loss: 0.4578 - accuracy: 0.8418\n",
      "Epoch 63: saving model to model/keypoint_classifier/keypoint_classifier.hdf5\n",
      "52/52 [==============================] - 0s 2ms/step - loss: 0.4502 - accuracy: 0.8440 - val_loss: 0.2339 - val_accuracy: 0.9544\n",
      "Epoch 64/1000\n",
      "46/52 [=========================>....] - ETA: 0s - loss: 0.4559 - accuracy: 0.8449\n",
      "Epoch 64: saving model to model/keypoint_classifier/keypoint_classifier.hdf5\n",
      "52/52 [==============================] - 0s 2ms/step - loss: 0.4535 - accuracy: 0.8454 - val_loss: 0.2437 - val_accuracy: 0.9566\n",
      "Epoch 65/1000\n",
      "33/52 [==================>...........] - ETA: 0s - loss: 0.4479 - accuracy: 0.8490\n",
      "Epoch 65: saving model to model/keypoint_classifier/keypoint_classifier.hdf5\n",
      "52/52 [==============================] - 0s 2ms/step - loss: 0.4515 - accuracy: 0.8476 - val_loss: 0.2410 - val_accuracy: 0.9534\n",
      "Epoch 66/1000\n",
      "46/52 [=========================>....] - ETA: 0s - loss: 0.4420 - accuracy: 0.8551\n",
      "Epoch 66: saving model to model/keypoint_classifier/keypoint_classifier.hdf5\n",
      "52/52 [==============================] - 0s 2ms/step - loss: 0.4395 - accuracy: 0.8559 - val_loss: 0.2295 - val_accuracy: 0.9544\n",
      "Epoch 67/1000\n",
      "43/52 [=======================>......] - ETA: 0s - loss: 0.4490 - accuracy: 0.8476\n",
      "Epoch 67: saving model to model/keypoint_classifier/keypoint_classifier.hdf5\n",
      "52/52 [==============================] - 0s 2ms/step - loss: 0.4470 - accuracy: 0.8486 - val_loss: 0.2349 - val_accuracy: 0.9585\n",
      "Epoch 68/1000\n",
      "46/52 [=========================>....] - ETA: 0s - loss: 0.4436 - accuracy: 0.8487\n",
      "Epoch 68: saving model to model/keypoint_classifier/keypoint_classifier.hdf5\n",
      "52/52 [==============================] - 0s 2ms/step - loss: 0.4472 - accuracy: 0.8492 - val_loss: 0.2474 - val_accuracy: 0.9589\n",
      "Epoch 69/1000\n",
      "43/52 [=======================>......] - ETA: 0s - loss: 0.4370 - accuracy: 0.8521\n",
      "Epoch 69: saving model to model/keypoint_classifier/keypoint_classifier.hdf5\n",
      "52/52 [==============================] - 0s 2ms/step - loss: 0.4348 - accuracy: 0.8525 - val_loss: 0.2338 - val_accuracy: 0.9617\n",
      "Epoch 70/1000\n",
      "43/52 [=======================>......] - ETA: 0s - loss: 0.4472 - accuracy: 0.8476\n",
      "Epoch 70: saving model to model/keypoint_classifier/keypoint_classifier.hdf5\n",
      "52/52 [==============================] - 0s 2ms/step - loss: 0.4431 - accuracy: 0.8492 - val_loss: 0.2295 - val_accuracy: 0.9512\n",
      "Epoch 71/1000\n",
      "45/52 [========================>.....] - ETA: 0s - loss: 0.4249 - accuracy: 0.8599\n",
      "Epoch 71: saving model to model/keypoint_classifier/keypoint_classifier.hdf5\n",
      "52/52 [==============================] - 0s 2ms/step - loss: 0.4280 - accuracy: 0.8597 - val_loss: 0.2282 - val_accuracy: 0.9621\n",
      "Epoch 72/1000\n",
      "45/52 [========================>.....] - ETA: 0s - loss: 0.4416 - accuracy: 0.8503\n",
      "Epoch 72: saving model to model/keypoint_classifier/keypoint_classifier.hdf5\n",
      "52/52 [==============================] - 0s 2ms/step - loss: 0.4421 - accuracy: 0.8498 - val_loss: 0.2333 - val_accuracy: 0.9662\n",
      "Epoch 73/1000\n",
      "45/52 [========================>.....] - ETA: 0s - loss: 0.4358 - accuracy: 0.8575\n",
      "Epoch 73: saving model to model/keypoint_classifier/keypoint_classifier.hdf5\n",
      "52/52 [==============================] - 0s 2ms/step - loss: 0.4328 - accuracy: 0.8586 - val_loss: 0.2287 - val_accuracy: 0.9598\n",
      "Epoch 74/1000\n",
      "46/52 [=========================>....] - ETA: 0s - loss: 0.4158 - accuracy: 0.8538\n",
      "Epoch 74: saving model to model/keypoint_classifier/keypoint_classifier.hdf5\n",
      "52/52 [==============================] - 0s 2ms/step - loss: 0.4199 - accuracy: 0.8542 - val_loss: 0.2276 - val_accuracy: 0.9612\n",
      "Epoch 75/1000\n",
      "36/52 [===================>..........] - ETA: 0s - loss: 0.4068 - accuracy: 0.8596\n",
      "Epoch 75: saving model to model/keypoint_classifier/keypoint_classifier.hdf5\n",
      "52/52 [==============================] - 0s 2ms/step - loss: 0.4110 - accuracy: 0.8569 - val_loss: 0.2243 - val_accuracy: 0.9644\n",
      "Epoch 76/1000\n",
      "46/52 [=========================>....] - ETA: 0s - loss: 0.4280 - accuracy: 0.8572\n",
      "Epoch 76: saving model to model/keypoint_classifier/keypoint_classifier.hdf5\n",
      "52/52 [==============================] - 0s 2ms/step - loss: 0.4309 - accuracy: 0.8571 - val_loss: 0.2332 - val_accuracy: 0.9544\n",
      "Epoch 77/1000\n",
      "45/52 [========================>.....] - ETA: 0s - loss: 0.4198 - accuracy: 0.8561\n",
      "Epoch 77: saving model to model/keypoint_classifier/keypoint_classifier.hdf5\n",
      "52/52 [==============================] - 0s 2ms/step - loss: 0.4131 - accuracy: 0.8578 - val_loss: 0.2263 - val_accuracy: 0.9585\n",
      "Epoch 78/1000\n",
      "45/52 [========================>.....] - ETA: 0s - loss: 0.4170 - accuracy: 0.8566\n",
      "Epoch 78: saving model to model/keypoint_classifier/keypoint_classifier.hdf5\n",
      "52/52 [==============================] - 0s 2ms/step - loss: 0.4164 - accuracy: 0.8578 - val_loss: 0.2403 - val_accuracy: 0.9539\n",
      "Epoch 79/1000\n",
      "44/52 [========================>.....] - ETA: 0s - loss: 0.4235 - accuracy: 0.8615\n",
      "Epoch 79: saving model to model/keypoint_classifier/keypoint_classifier.hdf5\n",
      "52/52 [==============================] - 0s 2ms/step - loss: 0.4223 - accuracy: 0.8610 - val_loss: 0.2328 - val_accuracy: 0.9507\n",
      "Epoch 80/1000\n",
      "45/52 [========================>.....] - ETA: 0s - loss: 0.4167 - accuracy: 0.8608\n",
      "Epoch 80: saving model to model/keypoint_classifier/keypoint_classifier.hdf5\n",
      "52/52 [==============================] - 0s 2ms/step - loss: 0.4151 - accuracy: 0.8612 - val_loss: 0.2344 - val_accuracy: 0.9525\n",
      "Epoch 81/1000\n",
      "44/52 [========================>.....] - ETA: 0s - loss: 0.4090 - accuracy: 0.8604\n",
      "Epoch 81: saving model to model/keypoint_classifier/keypoint_classifier.hdf5\n",
      "52/52 [==============================] - 0s 2ms/step - loss: 0.4108 - accuracy: 0.8603 - val_loss: 0.2303 - val_accuracy: 0.9621\n",
      "Epoch 82/1000\n",
      "45/52 [========================>.....] - ETA: 0s - loss: 0.4056 - accuracy: 0.8635\n",
      "Epoch 82: saving model to model/keypoint_classifier/keypoint_classifier.hdf5\n",
      "52/52 [==============================] - 0s 2ms/step - loss: 0.4061 - accuracy: 0.8633 - val_loss: 0.2305 - val_accuracy: 0.9585\n",
      "Epoch 83/1000\n",
      "40/52 [======================>.......] - ETA: 0s - loss: 0.4004 - accuracy: 0.8594\n",
      "Epoch 83: saving model to model/keypoint_classifier/keypoint_classifier.hdf5\n",
      "52/52 [==============================] - 0s 2ms/step - loss: 0.4026 - accuracy: 0.8607 - val_loss: 0.2427 - val_accuracy: 0.9598\n",
      "Epoch 84/1000\n",
      "44/52 [========================>.....] - ETA: 0s - loss: 0.3956 - accuracy: 0.8690\n",
      "Epoch 84: saving model to model/keypoint_classifier/keypoint_classifier.hdf5\n",
      "52/52 [==============================] - 0s 2ms/step - loss: 0.3974 - accuracy: 0.8682 - val_loss: 0.2386 - val_accuracy: 0.9607\n",
      "Epoch 85/1000\n",
      "44/52 [========================>.....] - ETA: 0s - loss: 0.3949 - accuracy: 0.8697\n",
      "Epoch 85: saving model to model/keypoint_classifier/keypoint_classifier.hdf5\n",
      "52/52 [==============================] - 0s 2ms/step - loss: 0.3938 - accuracy: 0.8683 - val_loss: 0.2273 - val_accuracy: 0.9598\n",
      "Epoch 86/1000\n",
      "34/52 [==================>...........] - ETA: 0s - loss: 0.4016 - accuracy: 0.8653\n",
      "Epoch 86: saving model to model/keypoint_classifier/keypoint_classifier.hdf5\n",
      "52/52 [==============================] - 0s 2ms/step - loss: 0.4007 - accuracy: 0.8686 - val_loss: 0.2187 - val_accuracy: 0.9571\n",
      "Epoch 87/1000\n",
      "46/52 [=========================>....] - ETA: 0s - loss: 0.3962 - accuracy: 0.8726\n",
      "Epoch 87: saving model to model/keypoint_classifier/keypoint_classifier.hdf5\n",
      "52/52 [==============================] - 0s 2ms/step - loss: 0.3967 - accuracy: 0.8715 - val_loss: 0.2224 - val_accuracy: 0.9662\n",
      "Epoch 88/1000\n",
      "45/52 [========================>.....] - ETA: 0s - loss: 0.3976 - accuracy: 0.8625\n",
      "Epoch 88: saving model to model/keypoint_classifier/keypoint_classifier.hdf5\n",
      "52/52 [==============================] - 0s 2ms/step - loss: 0.3990 - accuracy: 0.8626 - val_loss: 0.2165 - val_accuracy: 0.9603\n",
      "Epoch 89/1000\n",
      "44/52 [========================>.....] - ETA: 0s - loss: 0.4033 - accuracy: 0.8663\n",
      "Epoch 89: saving model to model/keypoint_classifier/keypoint_classifier.hdf5\n",
      "52/52 [==============================] - 0s 2ms/step - loss: 0.4044 - accuracy: 0.8647 - val_loss: 0.2225 - val_accuracy: 0.9594\n",
      "Epoch 90/1000\n",
      "45/52 [========================>.....] - ETA: 0s - loss: 0.4023 - accuracy: 0.8694\n",
      "Epoch 90: saving model to model/keypoint_classifier/keypoint_classifier.hdf5\n",
      "52/52 [==============================] - 0s 2ms/step - loss: 0.3974 - accuracy: 0.8699 - val_loss: 0.2274 - val_accuracy: 0.9639\n",
      "Epoch 91/1000\n",
      "44/52 [========================>.....] - ETA: 0s - loss: 0.3892 - accuracy: 0.8711\n",
      "Epoch 91: saving model to model/keypoint_classifier/keypoint_classifier.hdf5\n",
      "52/52 [==============================] - 0s 2ms/step - loss: 0.3876 - accuracy: 0.8715 - val_loss: 0.2105 - val_accuracy: 0.9621\n",
      "Epoch 92/1000\n",
      "46/52 [=========================>....] - ETA: 0s - loss: 0.3957 - accuracy: 0.8689\n",
      "Epoch 92: saving model to model/keypoint_classifier/keypoint_classifier.hdf5\n",
      "52/52 [==============================] - 0s 2ms/step - loss: 0.3924 - accuracy: 0.8702 - val_loss: 0.2331 - val_accuracy: 0.9653\n",
      "Epoch 93/1000\n",
      "45/52 [========================>.....] - ETA: 0s - loss: 0.3827 - accuracy: 0.8674\n",
      "Epoch 93: saving model to model/keypoint_classifier/keypoint_classifier.hdf5\n",
      "52/52 [==============================] - 0s 2ms/step - loss: 0.3889 - accuracy: 0.8677 - val_loss: 0.2384 - val_accuracy: 0.9571\n",
      "Epoch 94/1000\n",
      "44/52 [========================>.....] - ETA: 0s - loss: 0.3946 - accuracy: 0.8601\n",
      "Epoch 94: saving model to model/keypoint_classifier/keypoint_classifier.hdf5\n",
      "52/52 [==============================] - 0s 2ms/step - loss: 0.3893 - accuracy: 0.8621 - val_loss: 0.2223 - val_accuracy: 0.9667\n",
      "Epoch 95/1000\n",
      "46/52 [=========================>....] - ETA: 0s - loss: 0.3926 - accuracy: 0.8697\n",
      "Epoch 95: saving model to model/keypoint_classifier/keypoint_classifier.hdf5\n",
      "52/52 [==============================] - 0s 2ms/step - loss: 0.3907 - accuracy: 0.8702 - val_loss: 0.2284 - val_accuracy: 0.9512\n",
      "Epoch 96/1000\n",
      "23/52 [============>.................] - ETA: 0s - loss: 0.3778 - accuracy: 0.8750\n",
      "Epoch 96: saving model to model/keypoint_classifier/keypoint_classifier.hdf5\n",
      "52/52 [==============================] - 0s 3ms/step - loss: 0.3845 - accuracy: 0.8711 - val_loss: 0.2364 - val_accuracy: 0.9557\n",
      "Epoch 97/1000\n",
      "46/52 [=========================>....] - ETA: 0s - loss: 0.3868 - accuracy: 0.8752\n",
      "Epoch 97: saving model to model/keypoint_classifier/keypoint_classifier.hdf5\n",
      "52/52 [==============================] - 0s 2ms/step - loss: 0.3857 - accuracy: 0.8744 - val_loss: 0.2133 - val_accuracy: 0.9589\n",
      "Epoch 98/1000\n",
      "45/52 [========================>.....] - ETA: 0s - loss: 0.3777 - accuracy: 0.8753\n",
      "Epoch 98: saving model to model/keypoint_classifier/keypoint_classifier.hdf5\n",
      "52/52 [==============================] - 0s 2ms/step - loss: 0.3783 - accuracy: 0.8731 - val_loss: 0.2234 - val_accuracy: 0.9594\n",
      "Epoch 99/1000\n",
      "44/52 [========================>.....] - ETA: 0s - loss: 0.3741 - accuracy: 0.8759\n",
      "Epoch 99: saving model to model/keypoint_classifier/keypoint_classifier.hdf5\n",
      "52/52 [==============================] - 0s 2ms/step - loss: 0.3764 - accuracy: 0.8746 - val_loss: 0.2273 - val_accuracy: 0.9639\n",
      "Epoch 100/1000\n",
      "44/52 [========================>.....] - ETA: 0s - loss: 0.3828 - accuracy: 0.8713\n",
      "Epoch 100: saving model to model/keypoint_classifier/keypoint_classifier.hdf5\n",
      "52/52 [==============================] - 0s 2ms/step - loss: 0.3838 - accuracy: 0.8697 - val_loss: 0.2356 - val_accuracy: 0.9480\n",
      "Epoch 101/1000\n",
      "46/52 [=========================>....] - ETA: 0s - loss: 0.3820 - accuracy: 0.8699\n",
      "Epoch 101: saving model to model/keypoint_classifier/keypoint_classifier.hdf5\n",
      "52/52 [==============================] - 0s 2ms/step - loss: 0.3817 - accuracy: 0.8696 - val_loss: 0.2197 - val_accuracy: 0.9544\n",
      "Epoch 102/1000\n",
      "45/52 [========================>.....] - ETA: 0s - loss: 0.3789 - accuracy: 0.8731\n",
      "Epoch 102: saving model to model/keypoint_classifier/keypoint_classifier.hdf5\n",
      "52/52 [==============================] - 0s 2ms/step - loss: 0.3790 - accuracy: 0.8743 - val_loss: 0.2216 - val_accuracy: 0.9525\n",
      "Epoch 103/1000\n",
      "36/52 [===================>..........] - ETA: 0s - loss: 0.3526 - accuracy: 0.8830\n",
      "Epoch 103: saving model to model/keypoint_classifier/keypoint_classifier.hdf5\n",
      "52/52 [==============================] - 0s 3ms/step - loss: 0.3570 - accuracy: 0.8795 - val_loss: 0.2237 - val_accuracy: 0.9512\n",
      "Epoch 104/1000\n",
      "46/52 [=========================>....] - ETA: 0s - loss: 0.3688 - accuracy: 0.8826\n",
      "Epoch 104: saving model to model/keypoint_classifier/keypoint_classifier.hdf5\n",
      "52/52 [==============================] - 0s 2ms/step - loss: 0.3728 - accuracy: 0.8802 - val_loss: 0.2330 - val_accuracy: 0.9594\n",
      "Epoch 105/1000\n",
      "31/52 [================>.............] - ETA: 0s - loss: 0.3709 - accuracy: 0.8702\n",
      "Epoch 105: saving model to model/keypoint_classifier/keypoint_classifier.hdf5\n",
      "52/52 [==============================] - 0s 2ms/step - loss: 0.3675 - accuracy: 0.8726 - val_loss: 0.2202 - val_accuracy: 0.9530\n",
      "Epoch 106/1000\n",
      "45/52 [========================>.....] - ETA: 0s - loss: 0.3632 - accuracy: 0.8771\n",
      "Epoch 106: saving model to model/keypoint_classifier/keypoint_classifier.hdf5\n",
      "52/52 [==============================] - 0s 2ms/step - loss: 0.3601 - accuracy: 0.8788 - val_loss: 0.2255 - val_accuracy: 0.9516\n",
      "Epoch 107/1000\n",
      "40/52 [======================>.......] - ETA: 0s - loss: 0.3748 - accuracy: 0.8752\n",
      "Epoch 107: saving model to model/keypoint_classifier/keypoint_classifier.hdf5\n",
      "52/52 [==============================] - 0s 2ms/step - loss: 0.3738 - accuracy: 0.8741 - val_loss: 0.2173 - val_accuracy: 0.9566\n",
      "Epoch 108/1000\n",
      "45/52 [========================>.....] - ETA: 0s - loss: 0.3685 - accuracy: 0.8807\n",
      "Epoch 108: saving model to model/keypoint_classifier/keypoint_classifier.hdf5\n",
      "52/52 [==============================] - 0s 2ms/step - loss: 0.3717 - accuracy: 0.8790 - val_loss: 0.2112 - val_accuracy: 0.9557\n",
      "Epoch 109/1000\n",
      "46/52 [=========================>....] - ETA: 0s - loss: 0.3668 - accuracy: 0.8789\n",
      "Epoch 109: saving model to model/keypoint_classifier/keypoint_classifier.hdf5\n",
      "52/52 [==============================] - 0s 2ms/step - loss: 0.3707 - accuracy: 0.8784 - val_loss: 0.2223 - val_accuracy: 0.9617\n",
      "Epoch 110/1000\n",
      "45/52 [========================>.....] - ETA: 0s - loss: 0.3672 - accuracy: 0.8766\n",
      "Epoch 110: saving model to model/keypoint_classifier/keypoint_classifier.hdf5\n",
      "52/52 [==============================] - 0s 2ms/step - loss: 0.3647 - accuracy: 0.8763 - val_loss: 0.2243 - val_accuracy: 0.9653\n",
      "Epoch 111/1000\n",
      "45/52 [========================>.....] - ETA: 0s - loss: 0.3658 - accuracy: 0.8766\n",
      "Epoch 111: saving model to model/keypoint_classifier/keypoint_classifier.hdf5\n",
      "52/52 [==============================] - 0s 2ms/step - loss: 0.3643 - accuracy: 0.8772 - val_loss: 0.2402 - val_accuracy: 0.9530\n",
      "Epoch 111: early stopping\n"
     ]
    },
    {
     "data": {
      "text/plain": [
       "<keras.callbacks.History at 0x727568086d70>"
      ]
     },
     "execution_count": 11,
     "metadata": {},
     "output_type": "execute_result"
    }
   ],
   "source": [
    "model.fit(\n",
    "    X_train,\n",
    "    y_train,\n",
    "    epochs=1000,\n",
    "    batch_size=128,\n",
    "    validation_data=(X_test, y_test),\n",
    "    callbacks=[cp_callback, es_callback]\n",
    ")"
   ]
  },
  {
   "cell_type": "code",
   "execution_count": null,
   "metadata": {
    "colab": {
     "base_uri": "https://localhost:8080/"
    },
    "id": "pxvb2Y299hE3",
    "outputId": "59eb3185-2e37-4b9e-bc9d-ab1b8ac29b7f"
   },
   "outputs": [
    {
     "name": "stdout",
     "output_type": "stream",
     "text": [
      "18/18 [==============================] - 0s 916us/step - loss: 0.2402 - accuracy: 0.9530\n"
     ]
    }
   ],
   "source": [
    "# Model evaluation\n",
    "val_loss, val_acc = model.evaluate(X_test, y_test, batch_size=128)"
   ]
  },
  {
   "cell_type": "code",
   "execution_count": null,
   "metadata": {
    "id": "RBkmDeUW9hE4"
   },
   "outputs": [],
   "source": [
    "# Loading the saved model\n",
    "model = tf.keras.models.load_model(model_save_path)"
   ]
  },
  {
   "cell_type": "code",
   "execution_count": null,
   "metadata": {
    "colab": {
     "base_uri": "https://localhost:8080/"
    },
    "id": "tFz9Tb0I9hE4",
    "outputId": "1c3b3528-54ae-4ee2-ab04-77429211cbef"
   },
   "outputs": [
    {
     "name": "stdout",
     "output_type": "stream",
     "text": [
      "1/1 [==============================] - 0s 57ms/step\n",
      "[8.8255582e-03 9.6602784e-04 1.2036941e-02 1.1883562e-10 2.7194763e-12\n",
      " 6.9666987e-07 2.7538767e-02 7.7406412e-01 1.7656749e-01 4.6999349e-07]\n",
      "7\n"
     ]
    }
   ],
   "source": [
    "# Inference test\n",
    "predict_result = model.predict(np.array([X_test[0]]))\n",
    "print(np.squeeze(predict_result))\n",
    "print(np.argmax(np.squeeze(predict_result)))"
   ]
  },
  {
   "cell_type": "markdown",
   "metadata": {
    "id": "FNP6aqzc9hE5"
   },
   "source": [
    "# Saving Model"
   ]
  },
  {
   "cell_type": "code",
   "execution_count": null,
   "metadata": {
    "id": "ODjnYyld9hE6"
   },
   "outputs": [],
   "source": [
    "# Save as a model dedicated to inference\n",
    "model.save(model_save_path, include_optimizer=False)"
   ]
  },
  {
   "cell_type": "code",
   "execution_count": null,
   "metadata": {
    "colab": {
     "base_uri": "https://localhost:8080/"
    },
    "id": "zRfuK8Y59hE6",
    "outputId": "a4ca585c-b5d5-4244-8291-8674063209bb"
   },
   "outputs": [
    {
     "name": "stderr",
     "output_type": "stream",
     "text": [
      "2023-06-12 08:28:30.630710: I tensorflow/core/common_runtime/executor.cc:1197] [/device:CPU:0] (DEBUG INFO) Executor start aborting (this does not indicate an error and you can ignore this message): INVALID_ARGUMENT: You must feed a value for placeholder tensor 'input_1' with dtype float and shape [?,42]\n",
      "\t [[{{node input_1}}]]\n",
      "2023-06-12 08:28:30.682699: I tensorflow/core/common_runtime/executor.cc:1197] [/device:CPU:0] (DEBUG INFO) Executor start aborting (this does not indicate an error and you can ignore this message): INVALID_ARGUMENT: You must feed a value for placeholder tensor 'inputs' with dtype float and shape [?,42]\n",
      "\t [[{{node inputs}}]]\n",
      "2023-06-12 08:28:30.694221: I tensorflow/core/common_runtime/executor.cc:1197] [/device:CPU:0] (DEBUG INFO) Executor start aborting (this does not indicate an error and you can ignore this message): INVALID_ARGUMENT: You must feed a value for placeholder tensor 'input_1' with dtype float and shape [?,42]\n",
      "\t [[{{node input_1}}]]\n",
      "2023-06-12 08:28:30.716426: I tensorflow/core/common_runtime/executor.cc:1197] [/device:CPU:0] (DEBUG INFO) Executor start aborting (this does not indicate an error and you can ignore this message): INVALID_ARGUMENT: You must feed a value for placeholder tensor 'inputs' with dtype float and shape [?,42]\n",
      "\t [[{{node inputs}}]]\n",
      "2023-06-12 08:28:30.728932: I tensorflow/core/common_runtime/executor.cc:1197] [/device:CPU:0] (DEBUG INFO) Executor start aborting (this does not indicate an error and you can ignore this message): INVALID_ARGUMENT: You must feed a value for placeholder tensor 'inputs' with dtype float and shape [?,80]\n",
      "\t [[{{node inputs}}]]\n",
      "2023-06-12 08:28:30.751828: I tensorflow/core/common_runtime/executor.cc:1197] [/device:CPU:0] (DEBUG INFO) Executor start aborting (this does not indicate an error and you can ignore this message): INVALID_ARGUMENT: You must feed a value for placeholder tensor 'inputs' with dtype float and shape [?,42]\n",
      "\t [[{{node inputs}}]]\n",
      "2023-06-12 08:28:30.905167: I tensorflow/core/common_runtime/executor.cc:1197] [/device:CPU:0] (DEBUG INFO) Executor start aborting (this does not indicate an error and you can ignore this message): INVALID_ARGUMENT: You must feed a value for placeholder tensor 'inputs' with dtype float and shape [?,42]\n",
      "\t [[{{node inputs}}]]\n",
      "2023-06-12 08:28:30.955063: I tensorflow/core/common_runtime/executor.cc:1197] [/device:CPU:0] (DEBUG INFO) Executor start aborting (this does not indicate an error and you can ignore this message): INVALID_ARGUMENT: You must feed a value for placeholder tensor 'inputs' with dtype float and shape [?,42]\n",
      "\t [[{{node inputs}}]]\n",
      "2023-06-12 08:28:30.983177: I tensorflow/core/common_runtime/executor.cc:1197] [/device:CPU:0] (DEBUG INFO) Executor start aborting (this does not indicate an error and you can ignore this message): INVALID_ARGUMENT: You must feed a value for placeholder tensor 'inputs' with dtype float and shape [?,80]\n",
      "\t [[{{node inputs}}]]\n",
      "WARNING:absl:Found untraced functions such as _update_step_xla while saving (showing 1 of 1). These functions will not be directly callable after loading.\n"
     ]
    },
    {
     "name": "stdout",
     "output_type": "stream",
     "text": [
      "INFO:tensorflow:Assets written to: /tmp/tmplkg0v6pn/assets\n"
     ]
    },
    {
     "name": "stderr",
     "output_type": "stream",
     "text": [
      "INFO:tensorflow:Assets written to: /tmp/tmplkg0v6pn/assets\n",
      "2023-06-12 08:28:31.630351: W tensorflow/compiler/mlir/lite/python/tf_tfl_flatbuffer_helpers.cc:364] Ignored output_format.\n",
      "2023-06-12 08:28:31.630408: W tensorflow/compiler/mlir/lite/python/tf_tfl_flatbuffer_helpers.cc:367] Ignored drop_control_dependency.\n",
      "2023-06-12 08:28:31.631300: I tensorflow/cc/saved_model/reader.cc:45] Reading SavedModel from: /tmp/tmplkg0v6pn\n",
      "2023-06-12 08:28:31.632377: I tensorflow/cc/saved_model/reader.cc:89] Reading meta graph with tags { serve }\n",
      "2023-06-12 08:28:31.632393: I tensorflow/cc/saved_model/reader.cc:130] Reading SavedModel debug info (if present) from: /tmp/tmplkg0v6pn\n",
      "2023-06-12 08:28:31.635837: I tensorflow/compiler/mlir/mlir_graph_optimization_pass.cc:353] MLIR V1 optimization pass is not enabled\n",
      "2023-06-12 08:28:31.636773: I tensorflow/cc/saved_model/loader.cc:231] Restoring SavedModel bundle.\n",
      "2023-06-12 08:28:31.672776: I tensorflow/cc/saved_model/loader.cc:215] Running initialization op on SavedModel bundle at path: /tmp/tmplkg0v6pn\n",
      "2023-06-12 08:28:31.682031: I tensorflow/cc/saved_model/loader.cc:314] SavedModel load for tags { serve }; Status: success: OK. Took 50733 microseconds.\n",
      "2023-06-12 08:28:31.725555: I tensorflow/compiler/mlir/tensorflow/utils/dump_mlir_util.cc:269] disabling MLIR crash reproducer, set env var `MLIR_CRASH_REPRODUCER_DIRECTORY` to enable.\n"
     ]
    },
    {
     "data": {
      "text/plain": [
       "9552"
      ]
     },
     "execution_count": 16,
     "metadata": {},
     "output_type": "execute_result"
    }
   ],
   "source": [
    "# Transform model (quantization)\n",
    "\n",
    "converter = tf.lite.TFLiteConverter.from_keras_model(model)\n",
    "converter.optimizations = [tf.lite.Optimize.DEFAULT]\n",
    "tflite_quantized_model = converter.convert()\n",
    "\n",
    "open(tflite_save_path, 'wb').write(tflite_quantized_model)"
   ]
  },
  {
   "cell_type": "markdown",
   "metadata": {
    "id": "CHBPBXdx9hE6"
   },
   "source": [
    "# Inference test"
   ]
  },
  {
   "cell_type": "code",
   "execution_count": null,
   "metadata": {
    "id": "mGAzLocO9hE7"
   },
   "outputs": [
    {
     "name": "stderr",
     "output_type": "stream",
     "text": [
      "INFO: Created TensorFlow Lite XNNPACK delegate for CPU.\n"
     ]
    }
   ],
   "source": [
    "interpreter = tf.lite.Interpreter(model_path=tflite_save_path)\n",
    "interpreter.allocate_tensors()"
   ]
  },
  {
   "cell_type": "code",
   "execution_count": null,
   "metadata": {
    "id": "oQuDK8YS9hE7"
   },
   "outputs": [],
   "source": [
    "# Get I / O tensor\n",
    "input_details = interpreter.get_input_details()\n",
    "output_details = interpreter.get_output_details()"
   ]
  },
  {
   "cell_type": "code",
   "execution_count": null,
   "metadata": {
    "id": "2_ixAf_l9hE7"
   },
   "outputs": [],
   "source": [
    "interpreter.set_tensor(input_details[0]['index'], np.array([X_test[0]]))"
   ]
  },
  {
   "cell_type": "code",
   "execution_count": null,
   "metadata": {
    "colab": {
     "base_uri": "https://localhost:8080/"
    },
    "id": "s4FoAnuc9hE7",
    "outputId": "91f18257-8d8b-4ef3-c558-e9b5f94fabbf",
    "scrolled": true
   },
   "outputs": [
    {
     "name": "stdout",
     "output_type": "stream",
     "text": [
      "CPU times: user 1.25 ms, sys: 92 µs, total: 1.34 ms\n",
      "Wall time: 5.79 ms\n"
     ]
    }
   ],
   "source": [
    "%%time\n",
    "# Inference implementation\n",
    "interpreter.invoke()\n",
    "tflite_results = interpreter.get_tensor(output_details[0]['index'])"
   ]
  },
  {
   "cell_type": "code",
   "execution_count": null,
   "metadata": {
    "colab": {
     "base_uri": "https://localhost:8080/"
    },
    "id": "vONjp19J9hE8",
    "outputId": "77205e24-fd00-42c4-f7b6-e06e527c2cba"
   },
   "outputs": [
    {
     "name": "stdout",
     "output_type": "stream",
     "text": [
      "[7.9772957e-03 8.1127422e-04 1.1780136e-02 1.1979551e-10 2.6501431e-12\n",
      " 6.1536321e-07 2.7638040e-02 7.8212702e-01 1.6966517e-01 3.9018295e-07]\n",
      "7\n"
     ]
    }
   ],
   "source": [
    "print(np.squeeze(tflite_results))\n",
    "print(np.argmax(np.squeeze(tflite_results)))"
   ]
  }
 ],
 "metadata": {
  "accelerator": "GPU",
  "colab": {
   "collapsed_sections": [],
   "name": "keypoint_classification_EN.ipynb",
   "provenance": [],
   "toc_visible": true
  },
  "kernelspec": {
   "display_name": "Python 3 (ipykernel)",
   "language": "python",
   "name": "python3"
  },
  "language_info": {
   "codemirror_mode": {
    "name": "ipython",
    "version": 3
   },
   "file_extension": ".py",
   "mimetype": "text/x-python",
   "name": "python",
   "nbconvert_exporter": "python",
   "pygments_lexer": "ipython3",
   "version": "3.10.9"
  }
 },
 "nbformat": 4,
 "nbformat_minor": 1
}
