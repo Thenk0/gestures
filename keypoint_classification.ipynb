{
 "cells": [
  {
   "cell_type": "code",
   "execution_count": 1,
   "metadata": {
    "id": "igMyGnjE9hEp"
   },
   "outputs": [
    {
     "name": "stderr",
     "output_type": "stream",
     "text": [
      "2023-04-26 10:02:21.233110: I tensorflow/tsl/cuda/cudart_stub.cc:28] Could not find cuda drivers on your machine, GPU will not be used.\n",
      "2023-04-26 10:02:21.277878: I tensorflow/tsl/cuda/cudart_stub.cc:28] Could not find cuda drivers on your machine, GPU will not be used.\n",
      "2023-04-26 10:02:21.278619: I tensorflow/core/platform/cpu_feature_guard.cc:182] This TensorFlow binary is optimized to use available CPU instructions in performance-critical operations.\n",
      "To enable the following instructions: AVX2 FMA, in other operations, rebuild TensorFlow with the appropriate compiler flags.\n",
      "2023-04-26 10:02:21.906111: W tensorflow/compiler/tf2tensorrt/utils/py_utils.cc:38] TF-TRT Warning: Could not find TensorRT\n"
     ]
    }
   ],
   "source": [
    "import csv\n",
    "\n",
    "import numpy as np\n",
    "import tensorflow as tf\n",
    "from sklearn.model_selection import train_test_split\n",
    "\n",
    "RANDOM_SEED = 42"
   ]
  },
  {
   "cell_type": "markdown",
   "metadata": {
    "id": "t2HDvhIu9hEr"
   },
   "source": [
    "# Specify each path"
   ]
  },
  {
   "cell_type": "code",
   "execution_count": 2,
   "metadata": {
    "id": "9NvZP2Zn9hEy"
   },
   "outputs": [],
   "source": [
    "dataset = 'model/keypoint_classifier/keypoint.csv'\n",
    "model_save_path = 'model/keypoint_classifier/keypoint_classifier.hdf5'\n",
    "tflite_save_path = 'model/keypoint_classifier/keypoint_classifier.tflite'"
   ]
  },
  {
   "cell_type": "markdown",
   "metadata": {
    "id": "s5oMH7x19hEz"
   },
   "source": [
    "# Set number of classes"
   ]
  },
  {
   "cell_type": "code",
   "execution_count": 3,
   "metadata": {
    "id": "du4kodXL9hEz"
   },
   "outputs": [],
   "source": [
    "NUM_CLASSES = 9"
   ]
  },
  {
   "cell_type": "markdown",
   "metadata": {
    "id": "XjnL0uso9hEz"
   },
   "source": [
    "# Dataset reading"
   ]
  },
  {
   "cell_type": "code",
   "execution_count": 4,
   "metadata": {
    "id": "QT5ZqtEz9hE0"
   },
   "outputs": [],
   "source": [
    "X_dataset = np.loadtxt(dataset, delimiter=',', dtype='float32', usecols=list(range(1, (21 * 2) + 1)))"
   ]
  },
  {
   "cell_type": "code",
   "execution_count": 5,
   "metadata": {
    "id": "QmoKFsp49hE0"
   },
   "outputs": [],
   "source": [
    "y_dataset = np.loadtxt(dataset, delimiter=',', dtype='int32', usecols=(0))"
   ]
  },
  {
   "cell_type": "code",
   "execution_count": 6,
   "metadata": {
    "id": "xQU7JTZ_9hE0"
   },
   "outputs": [],
   "source": [
    "X_train, X_test, y_train, y_test = train_test_split(X_dataset, y_dataset, train_size=0.75, random_state=RANDOM_SEED)"
   ]
  },
  {
   "cell_type": "markdown",
   "metadata": {
    "id": "mxK_lETT9hE0"
   },
   "source": [
    "# Model building"
   ]
  },
  {
   "cell_type": "code",
   "execution_count": 7,
   "metadata": {
    "id": "vHBmUf1t9hE1"
   },
   "outputs": [],
   "source": [
    "model = tf.keras.models.Sequential([\n",
    "    tf.keras.layers.Input((21 * 2, )),\n",
    "    tf.keras.layers.Dropout(0.2),\n",
    "    tf.keras.layers.Dense(20, activation='relu'),\n",
    "    tf.keras.layers.Dropout(0.4),\n",
    "    tf.keras.layers.Dense(10, activation='relu'),\n",
    "    tf.keras.layers.Dense(NUM_CLASSES, activation='softmax')\n",
    "])"
   ]
  },
  {
   "cell_type": "code",
   "execution_count": 8,
   "metadata": {
    "colab": {
     "base_uri": "https://localhost:8080/"
    },
    "id": "ypqky9tc9hE1",
    "outputId": "5db082bb-30e3-4110-bf63-a1ee777ecd46"
   },
   "outputs": [
    {
     "name": "stdout",
     "output_type": "stream",
     "text": [
      "Model: \"sequential\"\n",
      "_________________________________________________________________\n",
      " Layer (type)                Output Shape              Param #   \n",
      "=================================================================\n",
      " dropout (Dropout)           (None, 42)                0         \n",
      "                                                                 \n",
      " dense (Dense)               (None, 20)                860       \n",
      "                                                                 \n",
      " dropout_1 (Dropout)         (None, 20)                0         \n",
      "                                                                 \n",
      " dense_1 (Dense)             (None, 10)                210       \n",
      "                                                                 \n",
      " dense_2 (Dense)             (None, 9)                 99        \n",
      "                                                                 \n",
      "=================================================================\n",
      "Total params: 1,169\n",
      "Trainable params: 1,169\n",
      "Non-trainable params: 0\n",
      "_________________________________________________________________\n"
     ]
    }
   ],
   "source": [
    "model.summary()  # tf.keras.utils.plot_model(model, show_shapes=True)"
   ]
  },
  {
   "cell_type": "code",
   "execution_count": 9,
   "metadata": {
    "id": "MbMjOflQ9hE1"
   },
   "outputs": [],
   "source": [
    "# Model checkpoint callback\n",
    "cp_callback = tf.keras.callbacks.ModelCheckpoint(\n",
    "    model_save_path, verbose=1, save_weights_only=False)\n",
    "# Callback for early stopping\n",
    "es_callback = tf.keras.callbacks.EarlyStopping(patience=20, verbose=1)"
   ]
  },
  {
   "cell_type": "code",
   "execution_count": 10,
   "metadata": {
    "id": "c3Dac0M_9hE2"
   },
   "outputs": [],
   "source": [
    "# Model compilation\n",
    "model.compile(\n",
    "    optimizer='adam',\n",
    "    loss='sparse_categorical_crossentropy',\n",
    "    metrics=['accuracy']\n",
    ")"
   ]
  },
  {
   "cell_type": "markdown",
   "metadata": {
    "id": "7XI0j1Iu9hE2"
   },
   "source": [
    "# Model training"
   ]
  },
  {
   "cell_type": "code",
   "execution_count": 11,
   "metadata": {
    "colab": {
     "base_uri": "https://localhost:8080/"
    },
    "id": "WirBl-JE9hE3",
    "outputId": "71b30ca2-8294-4d9d-8aa2-800d90d399de",
    "scrolled": true
   },
   "outputs": [
    {
     "name": "stdout",
     "output_type": "stream",
     "text": [
      "Epoch 1/1000\n",
      " 1/38 [..............................] - ETA: 18s - loss: 2.2662 - accuracy: 0.1094\n",
      "Epoch 1: saving model to model/keypoint_classifier/keypoint_classifier.hdf5\n",
      "38/38 [==============================] - 1s 6ms/step - loss: 2.1841 - accuracy: 0.1532 - val_loss: 2.0627 - val_accuracy: 0.2789\n",
      "Epoch 2/1000\n",
      " 1/38 [..............................] - ETA: 0s - loss: 2.1049 - accuracy: 0.2188\n",
      "Epoch 2: saving model to model/keypoint_classifier/keypoint_classifier.hdf5\n",
      "38/38 [==============================] - 0s 2ms/step - loss: 2.0300 - accuracy: 0.2239 - val_loss: 1.8904 - val_accuracy: 0.2536\n",
      "Epoch 3/1000\n",
      " 1/38 [..............................] - ETA: 0s - loss: 1.9717 - accuracy: 0.2109\n",
      "Epoch 3: saving model to model/keypoint_classifier/keypoint_classifier.hdf5\n",
      "38/38 [==============================] - 0s 2ms/step - loss: 1.8745 - accuracy: 0.2666 - val_loss: 1.7235 - val_accuracy: 0.2940\n",
      "Epoch 4/1000\n",
      " 1/38 [..............................] - ETA: 0s - loss: 1.8497 - accuracy: 0.2969\n",
      "Epoch 4: saving model to model/keypoint_classifier/keypoint_classifier.hdf5\n",
      "38/38 [==============================] - 0s 2ms/step - loss: 1.7465 - accuracy: 0.2967 - val_loss: 1.5804 - val_accuracy: 0.3382\n",
      "Epoch 5/1000\n",
      " 1/38 [..............................] - ETA: 0s - loss: 1.7286 - accuracy: 0.2969\n",
      "Epoch 5: saving model to model/keypoint_classifier/keypoint_classifier.hdf5\n",
      "38/38 [==============================] - 0s 2ms/step - loss: 1.6399 - accuracy: 0.3274 - val_loss: 1.4661 - val_accuracy: 0.4498\n",
      "Epoch 6/1000\n",
      " 1/38 [..............................] - ETA: 0s - loss: 1.6437 - accuracy: 0.3516\n",
      "Epoch 6: saving model to model/keypoint_classifier/keypoint_classifier.hdf5\n",
      "38/38 [==============================] - 0s 2ms/step - loss: 1.5605 - accuracy: 0.3408 - val_loss: 1.3660 - val_accuracy: 0.4303\n",
      "Epoch 7/1000\n",
      " 1/38 [..............................] - ETA: 0s - loss: 1.4588 - accuracy: 0.3984\n",
      "Epoch 7: saving model to model/keypoint_classifier/keypoint_classifier.hdf5\n",
      "38/38 [==============================] - 0s 2ms/step - loss: 1.4832 - accuracy: 0.3642 - val_loss: 1.2792 - val_accuracy: 0.4416\n",
      "Epoch 8/1000\n",
      " 1/38 [..............................] - ETA: 0s - loss: 1.5249 - accuracy: 0.4453\n",
      "Epoch 8: saving model to model/keypoint_classifier/keypoint_classifier.hdf5\n",
      "38/38 [==============================] - 0s 2ms/step - loss: 1.4287 - accuracy: 0.3774 - val_loss: 1.2064 - val_accuracy: 0.4732\n",
      "Epoch 9/1000\n",
      " 1/38 [..............................] - ETA: 0s - loss: 1.4359 - accuracy: 0.3594\n",
      "Epoch 9: saving model to model/keypoint_classifier/keypoint_classifier.hdf5\n",
      "38/38 [==============================] - 0s 2ms/step - loss: 1.3926 - accuracy: 0.3970 - val_loss: 1.1474 - val_accuracy: 0.5085\n",
      "Epoch 10/1000\n",
      " 1/38 [..............................] - ETA: 0s - loss: 1.3398 - accuracy: 0.3984\n",
      "Epoch 10: saving model to model/keypoint_classifier/keypoint_classifier.hdf5\n",
      "38/38 [==============================] - 0s 2ms/step - loss: 1.3436 - accuracy: 0.4046 - val_loss: 1.1003 - val_accuracy: 0.5300\n",
      "Epoch 11/1000\n",
      " 1/38 [..............................] - ETA: 0s - loss: 1.4330 - accuracy: 0.3281\n",
      "Epoch 11: saving model to model/keypoint_classifier/keypoint_classifier.hdf5\n",
      "38/38 [==============================] - 0s 2ms/step - loss: 1.3202 - accuracy: 0.4109 - val_loss: 1.0634 - val_accuracy: 0.5319\n",
      "Epoch 12/1000\n",
      " 1/38 [..............................] - ETA: 0s - loss: 1.3456 - accuracy: 0.4375\n",
      "Epoch 12: saving model to model/keypoint_classifier/keypoint_classifier.hdf5\n",
      "38/38 [==============================] - 0s 2ms/step - loss: 1.2718 - accuracy: 0.4444 - val_loss: 1.0281 - val_accuracy: 0.6145\n",
      "Epoch 13/1000\n",
      " 1/38 [..............................] - ETA: 0s - loss: 1.1489 - accuracy: 0.5234\n",
      "Epoch 13: saving model to model/keypoint_classifier/keypoint_classifier.hdf5\n",
      "38/38 [==============================] - 0s 2ms/step - loss: 1.2450 - accuracy: 0.4462 - val_loss: 0.9926 - val_accuracy: 0.6303\n",
      "Epoch 14/1000\n",
      " 1/38 [..............................] - ETA: 0s - loss: 1.2589 - accuracy: 0.4453\n",
      "Epoch 14: saving model to model/keypoint_classifier/keypoint_classifier.hdf5\n",
      "38/38 [==============================] - 0s 2ms/step - loss: 1.2405 - accuracy: 0.4505 - val_loss: 0.9694 - val_accuracy: 0.6814\n",
      "Epoch 15/1000\n",
      " 1/38 [..............................] - ETA: 0s - loss: 1.2352 - accuracy: 0.4375\n",
      "Epoch 15: saving model to model/keypoint_classifier/keypoint_classifier.hdf5\n",
      "38/38 [==============================] - 0s 2ms/step - loss: 1.2124 - accuracy: 0.4629 - val_loss: 0.9413 - val_accuracy: 0.6959\n",
      "Epoch 16/1000\n",
      " 1/38 [..............................] - ETA: 0s - loss: 1.2257 - accuracy: 0.4844\n",
      "Epoch 16: saving model to model/keypoint_classifier/keypoint_classifier.hdf5\n",
      "38/38 [==============================] - 0s 2ms/step - loss: 1.1832 - accuracy: 0.4782 - val_loss: 0.9182 - val_accuracy: 0.7129\n",
      "Epoch 17/1000\n",
      " 1/38 [..............................] - ETA: 0s - loss: 1.1324 - accuracy: 0.4922\n",
      "Epoch 17: saving model to model/keypoint_classifier/keypoint_classifier.hdf5\n",
      "38/38 [==============================] - 0s 2ms/step - loss: 1.1681 - accuracy: 0.4814 - val_loss: 0.8921 - val_accuracy: 0.7167\n",
      "Epoch 18/1000\n",
      " 1/38 [..............................] - ETA: 0s - loss: 1.1318 - accuracy: 0.4844\n",
      "Epoch 18: saving model to model/keypoint_classifier/keypoint_classifier.hdf5\n",
      "38/38 [==============================] - 0s 2ms/step - loss: 1.1412 - accuracy: 0.4900 - val_loss: 0.8687 - val_accuracy: 0.7817\n",
      "Epoch 19/1000\n",
      " 1/38 [..............................] - ETA: 0s - loss: 1.1029 - accuracy: 0.5703\n",
      "Epoch 19: saving model to model/keypoint_classifier/keypoint_classifier.hdf5\n",
      "38/38 [==============================] - 0s 2ms/step - loss: 1.1322 - accuracy: 0.5089 - val_loss: 0.8512 - val_accuracy: 0.8278\n",
      "Epoch 20/1000\n",
      " 1/38 [..............................] - ETA: 0s - loss: 1.1721 - accuracy: 0.4297\n",
      "Epoch 20: saving model to model/keypoint_classifier/keypoint_classifier.hdf5\n",
      "38/38 [==============================] - 0s 2ms/step - loss: 1.1032 - accuracy: 0.5155 - val_loss: 0.8295 - val_accuracy: 0.8252\n",
      "Epoch 21/1000\n",
      " 1/38 [..............................] - ETA: 0s - loss: 1.0896 - accuracy: 0.5234\n",
      "Epoch 21: saving model to model/keypoint_classifier/keypoint_classifier.hdf5\n",
      "38/38 [==============================] - 0s 2ms/step - loss: 1.1047 - accuracy: 0.5226 - val_loss: 0.8143 - val_accuracy: 0.8082\n",
      "Epoch 22/1000\n",
      " 1/38 [..............................] - ETA: 0s - loss: 1.0726 - accuracy: 0.5547\n",
      "Epoch 22: saving model to model/keypoint_classifier/keypoint_classifier.hdf5\n",
      "38/38 [==============================] - 0s 2ms/step - loss: 1.0830 - accuracy: 0.5355 - val_loss: 0.7977 - val_accuracy: 0.8707\n",
      "Epoch 23/1000\n",
      " 1/38 [..............................] - ETA: 0s - loss: 1.0793 - accuracy: 0.4922\n",
      "Epoch 23: saving model to model/keypoint_classifier/keypoint_classifier.hdf5\n",
      "38/38 [==============================] - 0s 2ms/step - loss: 1.0636 - accuracy: 0.5407 - val_loss: 0.7818 - val_accuracy: 0.8486\n",
      "Epoch 24/1000\n",
      " 1/38 [..............................] - ETA: 0s - loss: 1.0550 - accuracy: 0.5625\n",
      "Epoch 24: saving model to model/keypoint_classifier/keypoint_classifier.hdf5\n",
      "38/38 [==============================] - 0s 2ms/step - loss: 1.0542 - accuracy: 0.5411 - val_loss: 0.7639 - val_accuracy: 0.8751\n",
      "Epoch 25/1000\n",
      " 1/38 [..............................] - ETA: 0s - loss: 1.0184 - accuracy: 0.5469\n",
      "Epoch 25: saving model to model/keypoint_classifier/keypoint_classifier.hdf5\n",
      "38/38 [==============================] - 0s 2ms/step - loss: 1.0700 - accuracy: 0.5422 - val_loss: 0.7576 - val_accuracy: 0.8328\n",
      "Epoch 26/1000\n",
      " 1/38 [..............................] - ETA: 0s - loss: 1.0115 - accuracy: 0.6016\n",
      "Epoch 26: saving model to model/keypoint_classifier/keypoint_classifier.hdf5\n",
      "38/38 [==============================] - 0s 2ms/step - loss: 1.0467 - accuracy: 0.5523 - val_loss: 0.7452 - val_accuracy: 0.8801\n",
      "Epoch 27/1000\n",
      " 1/38 [..............................] - ETA: 0s - loss: 1.0494 - accuracy: 0.5547\n",
      "Epoch 27: saving model to model/keypoint_classifier/keypoint_classifier.hdf5\n",
      "38/38 [==============================] - 0s 2ms/step - loss: 1.0273 - accuracy: 0.5563 - val_loss: 0.7299 - val_accuracy: 0.8852\n",
      "Epoch 28/1000\n"
     ]
    },
    {
     "name": "stdout",
     "output_type": "stream",
     "text": [
      " 1/38 [..............................] - ETA: 0s - loss: 0.9899 - accuracy: 0.5938\n",
      "Epoch 28: saving model to model/keypoint_classifier/keypoint_classifier.hdf5\n",
      "38/38 [==============================] - 0s 2ms/step - loss: 1.0188 - accuracy: 0.5695 - val_loss: 0.7133 - val_accuracy: 0.8726\n",
      "Epoch 29/1000\n",
      " 1/38 [..............................] - ETA: 0s - loss: 1.0988 - accuracy: 0.5156\n",
      "Epoch 29: saving model to model/keypoint_classifier/keypoint_classifier.hdf5\n",
      "38/38 [==============================] - 0s 2ms/step - loss: 1.0179 - accuracy: 0.5657 - val_loss: 0.7038 - val_accuracy: 0.8896\n",
      "Epoch 30/1000\n",
      " 1/38 [..............................] - ETA: 0s - loss: 0.9234 - accuracy: 0.6094\n",
      "Epoch 30: saving model to model/keypoint_classifier/keypoint_classifier.hdf5\n",
      "38/38 [==============================] - 0s 2ms/step - loss: 0.9992 - accuracy: 0.5836 - val_loss: 0.6844 - val_accuracy: 0.9060\n",
      "Epoch 31/1000\n",
      " 1/38 [..............................] - ETA: 0s - loss: 1.1297 - accuracy: 0.5469\n",
      "Epoch 31: saving model to model/keypoint_classifier/keypoint_classifier.hdf5\n",
      "38/38 [==============================] - 0s 3ms/step - loss: 0.9910 - accuracy: 0.5864 - val_loss: 0.6730 - val_accuracy: 0.8858\n",
      "Epoch 32/1000\n",
      " 1/38 [..............................] - ETA: 0s - loss: 0.9975 - accuracy: 0.5469\n",
      "Epoch 32: saving model to model/keypoint_classifier/keypoint_classifier.hdf5\n",
      "38/38 [==============================] - 0s 2ms/step - loss: 0.9972 - accuracy: 0.5756 - val_loss: 0.6624 - val_accuracy: 0.8972\n",
      "Epoch 33/1000\n",
      " 1/38 [..............................] - ETA: 0s - loss: 1.0431 - accuracy: 0.5547\n",
      "Epoch 33: saving model to model/keypoint_classifier/keypoint_classifier.hdf5\n",
      "38/38 [==============================] - 0s 2ms/step - loss: 0.9849 - accuracy: 0.5798 - val_loss: 0.6630 - val_accuracy: 0.9054\n",
      "Epoch 34/1000\n",
      " 1/38 [..............................] - ETA: 0s - loss: 0.9677 - accuracy: 0.6406\n",
      "Epoch 34: saving model to model/keypoint_classifier/keypoint_classifier.hdf5\n",
      "38/38 [==============================] - 0s 2ms/step - loss: 0.9910 - accuracy: 0.5862 - val_loss: 0.6548 - val_accuracy: 0.9098\n",
      "Epoch 35/1000\n",
      " 1/38 [..............................] - ETA: 0s - loss: 1.0725 - accuracy: 0.5625\n",
      "Epoch 35: saving model to model/keypoint_classifier/keypoint_classifier.hdf5\n",
      "38/38 [==============================] - 0s 2ms/step - loss: 0.9630 - accuracy: 0.5956 - val_loss: 0.6343 - val_accuracy: 0.9142\n",
      "Epoch 36/1000\n",
      " 1/38 [..............................] - ETA: 0s - loss: 1.1121 - accuracy: 0.5703\n",
      "Epoch 36: saving model to model/keypoint_classifier/keypoint_classifier.hdf5\n",
      "38/38 [==============================] - 0s 2ms/step - loss: 0.9594 - accuracy: 0.6017 - val_loss: 0.6256 - val_accuracy: 0.9167\n",
      "Epoch 37/1000\n",
      " 1/38 [..............................] - ETA: 0s - loss: 0.9832 - accuracy: 0.5391\n",
      "Epoch 37: saving model to model/keypoint_classifier/keypoint_classifier.hdf5\n",
      "38/38 [==============================] - 0s 2ms/step - loss: 0.9596 - accuracy: 0.5992 - val_loss: 0.6184 - val_accuracy: 0.9180\n",
      "Epoch 38/1000\n",
      " 1/38 [..............................] - ETA: 0s - loss: 0.8890 - accuracy: 0.6250\n",
      "Epoch 38: saving model to model/keypoint_classifier/keypoint_classifier.hdf5\n",
      "38/38 [==============================] - 0s 2ms/step - loss: 0.9344 - accuracy: 0.6160 - val_loss: 0.6044 - val_accuracy: 0.9129\n",
      "Epoch 39/1000\n",
      " 1/38 [..............................] - ETA: 0s - loss: 0.9723 - accuracy: 0.6094\n",
      "Epoch 39: saving model to model/keypoint_classifier/keypoint_classifier.hdf5\n",
      "38/38 [==============================] - 0s 2ms/step - loss: 0.9291 - accuracy: 0.6221 - val_loss: 0.5967 - val_accuracy: 0.9224\n",
      "Epoch 40/1000\n",
      " 1/38 [..............................] - ETA: 0s - loss: 0.9240 - accuracy: 0.6094\n",
      "Epoch 40: saving model to model/keypoint_classifier/keypoint_classifier.hdf5\n",
      "38/38 [==============================] - 0s 2ms/step - loss: 0.9310 - accuracy: 0.6179 - val_loss: 0.5924 - val_accuracy: 0.9230\n",
      "Epoch 41/1000\n",
      " 1/38 [..............................] - ETA: 0s - loss: 0.8800 - accuracy: 0.7031\n",
      "Epoch 41: saving model to model/keypoint_classifier/keypoint_classifier.hdf5\n",
      "38/38 [==============================] - 0s 2ms/step - loss: 0.9156 - accuracy: 0.6211 - val_loss: 0.5842 - val_accuracy: 0.9401\n",
      "Epoch 42/1000\n",
      " 1/38 [..............................] - ETA: 0s - loss: 0.8922 - accuracy: 0.7031\n",
      "Epoch 42: saving model to model/keypoint_classifier/keypoint_classifier.hdf5\n",
      "38/38 [==============================] - 0s 2ms/step - loss: 0.9215 - accuracy: 0.6240 - val_loss: 0.5730 - val_accuracy: 0.9394\n",
      "Epoch 43/1000\n",
      " 1/38 [..............................] - ETA: 0s - loss: 0.8208 - accuracy: 0.6641\n",
      "Epoch 43: saving model to model/keypoint_classifier/keypoint_classifier.hdf5\n",
      "38/38 [==============================] - 0s 2ms/step - loss: 0.9153 - accuracy: 0.6291 - val_loss: 0.5597 - val_accuracy: 0.9262\n",
      "Epoch 44/1000\n",
      " 1/38 [..............................] - ETA: 0s - loss: 0.8370 - accuracy: 0.6406\n",
      "Epoch 44: saving model to model/keypoint_classifier/keypoint_classifier.hdf5\n",
      "38/38 [==============================] - 0s 2ms/step - loss: 0.9003 - accuracy: 0.6320 - val_loss: 0.5632 - val_accuracy: 0.9382\n",
      "Epoch 45/1000\n",
      " 1/38 [..............................] - ETA: 0s - loss: 0.9546 - accuracy: 0.6016\n",
      "Epoch 45: saving model to model/keypoint_classifier/keypoint_classifier.hdf5\n",
      "38/38 [==============================] - 0s 2ms/step - loss: 0.8945 - accuracy: 0.6400 - val_loss: 0.5543 - val_accuracy: 0.9388\n",
      "Epoch 46/1000\n",
      " 1/38 [..............................] - ETA: 0s - loss: 0.8364 - accuracy: 0.6406\n",
      "Epoch 46: saving model to model/keypoint_classifier/keypoint_classifier.hdf5\n",
      "38/38 [==============================] - 0s 2ms/step - loss: 0.8909 - accuracy: 0.6341 - val_loss: 0.5450 - val_accuracy: 0.9502\n",
      "Epoch 47/1000\n",
      " 1/38 [..............................] - ETA: 0s - loss: 0.9741 - accuracy: 0.6484\n",
      "Epoch 47: saving model to model/keypoint_classifier/keypoint_classifier.hdf5\n",
      "38/38 [==============================] - 0s 2ms/step - loss: 0.9040 - accuracy: 0.6369 - val_loss: 0.5483 - val_accuracy: 0.9375\n",
      "Epoch 48/1000\n",
      " 1/38 [..............................] - ETA: 0s - loss: 0.8537 - accuracy: 0.6719\n",
      "Epoch 48: saving model to model/keypoint_classifier/keypoint_classifier.hdf5\n",
      "38/38 [==============================] - 0s 2ms/step - loss: 0.8852 - accuracy: 0.6499 - val_loss: 0.5416 - val_accuracy: 0.9502\n",
      "Epoch 49/1000\n",
      " 1/38 [..............................] - ETA: 0s - loss: 0.8650 - accuracy: 0.6719\n",
      "Epoch 49: saving model to model/keypoint_classifier/keypoint_classifier.hdf5\n",
      "38/38 [==============================] - 0s 2ms/step - loss: 0.8722 - accuracy: 0.6629 - val_loss: 0.5283 - val_accuracy: 0.9445\n",
      "Epoch 50/1000\n",
      " 1/38 [..............................] - ETA: 0s - loss: 0.7923 - accuracy: 0.6328\n",
      "Epoch 50: saving model to model/keypoint_classifier/keypoint_classifier.hdf5\n",
      "38/38 [==============================] - 0s 2ms/step - loss: 0.8578 - accuracy: 0.6539 - val_loss: 0.5192 - val_accuracy: 0.9438\n",
      "Epoch 51/1000\n",
      "31/38 [=======================>......] - ETA: 0s - loss: 0.8656 - accuracy: 0.6462\n",
      "Epoch 51: saving model to model/keypoint_classifier/keypoint_classifier.hdf5\n",
      "38/38 [==============================] - 0s 3ms/step - loss: 0.8701 - accuracy: 0.6430 - val_loss: 0.5196 - val_accuracy: 0.9489\n",
      "Epoch 52/1000\n",
      " 1/38 [..............................] - ETA: 0s - loss: 0.7931 - accuracy: 0.6328\n",
      "Epoch 52: saving model to model/keypoint_classifier/keypoint_classifier.hdf5\n",
      "38/38 [==============================] - 0s 2ms/step - loss: 0.8591 - accuracy: 0.6558 - val_loss: 0.5150 - val_accuracy: 0.9464\n",
      "Epoch 53/1000\n",
      " 1/38 [..............................] - ETA: 0s - loss: 0.7903 - accuracy: 0.6875\n",
      "Epoch 53: saving model to model/keypoint_classifier/keypoint_classifier.hdf5\n",
      "38/38 [==============================] - 0s 2ms/step - loss: 0.8525 - accuracy: 0.6665 - val_loss: 0.5052 - val_accuracy: 0.9451\n",
      "Epoch 54/1000\n",
      " 1/38 [..............................] - ETA: 0s - loss: 0.8747 - accuracy: 0.6094\n",
      "Epoch 54: saving model to model/keypoint_classifier/keypoint_classifier.hdf5\n",
      "38/38 [==============================] - 0s 2ms/step - loss: 0.8603 - accuracy: 0.6600 - val_loss: 0.5025 - val_accuracy: 0.9514\n",
      "Epoch 55/1000\n"
     ]
    },
    {
     "name": "stdout",
     "output_type": "stream",
     "text": [
      " 1/38 [..............................] - ETA: 0s - loss: 0.8673 - accuracy: 0.6797\n",
      "Epoch 55: saving model to model/keypoint_classifier/keypoint_classifier.hdf5\n",
      "38/38 [==============================] - 0s 2ms/step - loss: 0.8543 - accuracy: 0.6596 - val_loss: 0.4951 - val_accuracy: 0.9502\n",
      "Epoch 56/1000\n",
      " 1/38 [..............................] - ETA: 0s - loss: 0.9168 - accuracy: 0.6719\n",
      "Epoch 56: saving model to model/keypoint_classifier/keypoint_classifier.hdf5\n",
      "38/38 [==============================] - 0s 2ms/step - loss: 0.8447 - accuracy: 0.6709 - val_loss: 0.4936 - val_accuracy: 0.9508\n",
      "Epoch 57/1000\n",
      " 1/38 [..............................] - ETA: 0s - loss: 0.8622 - accuracy: 0.7266\n",
      "Epoch 57: saving model to model/keypoint_classifier/keypoint_classifier.hdf5\n",
      "38/38 [==============================] - 0s 2ms/step - loss: 0.8601 - accuracy: 0.6663 - val_loss: 0.4946 - val_accuracy: 0.9464\n",
      "Epoch 58/1000\n",
      " 1/38 [..............................] - ETA: 0s - loss: 0.8907 - accuracy: 0.6250\n",
      "Epoch 58: saving model to model/keypoint_classifier/keypoint_classifier.hdf5\n",
      "38/38 [==============================] - 0s 2ms/step - loss: 0.8200 - accuracy: 0.6838 - val_loss: 0.4854 - val_accuracy: 0.9476\n",
      "Epoch 59/1000\n",
      " 1/38 [..............................] - ETA: 0s - loss: 0.7208 - accuracy: 0.6953\n",
      "Epoch 59: saving model to model/keypoint_classifier/keypoint_classifier.hdf5\n",
      "38/38 [==============================] - 0s 2ms/step - loss: 0.8318 - accuracy: 0.6823 - val_loss: 0.4756 - val_accuracy: 0.9445\n",
      "Epoch 60/1000\n",
      " 1/38 [..............................] - ETA: 0s - loss: 0.7719 - accuracy: 0.7031\n",
      "Epoch 60: saving model to model/keypoint_classifier/keypoint_classifier.hdf5\n",
      "38/38 [==============================] - 0s 2ms/step - loss: 0.8234 - accuracy: 0.6747 - val_loss: 0.4720 - val_accuracy: 0.9495\n",
      "Epoch 61/1000\n",
      " 1/38 [..............................] - ETA: 0s - loss: 0.7967 - accuracy: 0.7266\n",
      "Epoch 61: saving model to model/keypoint_classifier/keypoint_classifier.hdf5\n",
      "38/38 [==============================] - 0s 2ms/step - loss: 0.8337 - accuracy: 0.6775 - val_loss: 0.4594 - val_accuracy: 0.9609\n",
      "Epoch 62/1000\n",
      " 1/38 [..............................] - ETA: 0s - loss: 0.7931 - accuracy: 0.6719\n",
      "Epoch 62: saving model to model/keypoint_classifier/keypoint_classifier.hdf5\n",
      "38/38 [==============================] - 0s 2ms/step - loss: 0.8242 - accuracy: 0.6785 - val_loss: 0.4664 - val_accuracy: 0.9514\n",
      "Epoch 63/1000\n",
      " 1/38 [..............................] - ETA: 0s - loss: 0.8718 - accuracy: 0.6719\n",
      "Epoch 63: saving model to model/keypoint_classifier/keypoint_classifier.hdf5\n",
      "38/38 [==============================] - 0s 2ms/step - loss: 0.8245 - accuracy: 0.6882 - val_loss: 0.4551 - val_accuracy: 0.9539\n",
      "Epoch 64/1000\n",
      " 1/38 [..............................] - ETA: 0s - loss: 0.7357 - accuracy: 0.7031\n",
      "Epoch 64: saving model to model/keypoint_classifier/keypoint_classifier.hdf5\n",
      "38/38 [==============================] - 0s 2ms/step - loss: 0.8068 - accuracy: 0.6911 - val_loss: 0.4601 - val_accuracy: 0.9514\n",
      "Epoch 65/1000\n",
      " 1/38 [..............................] - ETA: 0s - loss: 0.8372 - accuracy: 0.7266\n",
      "Epoch 65: saving model to model/keypoint_classifier/keypoint_classifier.hdf5\n",
      "38/38 [==============================] - 0s 2ms/step - loss: 0.8045 - accuracy: 0.6932 - val_loss: 0.4490 - val_accuracy: 0.9552\n",
      "Epoch 66/1000\n",
      " 1/38 [..............................] - ETA: 0s - loss: 0.8130 - accuracy: 0.6875\n",
      "Epoch 66: saving model to model/keypoint_classifier/keypoint_classifier.hdf5\n",
      "38/38 [==============================] - 0s 2ms/step - loss: 0.8012 - accuracy: 0.6947 - val_loss: 0.4457 - val_accuracy: 0.9514\n",
      "Epoch 67/1000\n",
      " 1/38 [..............................] - ETA: 0s - loss: 0.7326 - accuracy: 0.7344\n",
      "Epoch 67: saving model to model/keypoint_classifier/keypoint_classifier.hdf5\n",
      "38/38 [==============================] - 0s 2ms/step - loss: 0.8010 - accuracy: 0.6930 - val_loss: 0.4480 - val_accuracy: 0.9508\n",
      "Epoch 68/1000\n",
      " 1/38 [..............................] - ETA: 0s - loss: 0.6896 - accuracy: 0.7734\n",
      "Epoch 68: saving model to model/keypoint_classifier/keypoint_classifier.hdf5\n",
      "38/38 [==============================] - 0s 2ms/step - loss: 0.7920 - accuracy: 0.6975 - val_loss: 0.4386 - val_accuracy: 0.9514\n",
      "Epoch 69/1000\n",
      " 1/38 [..............................] - ETA: 0s - loss: 0.7148 - accuracy: 0.6797\n",
      "Epoch 69: saving model to model/keypoint_classifier/keypoint_classifier.hdf5\n",
      "38/38 [==============================] - 0s 2ms/step - loss: 0.7947 - accuracy: 0.6920 - val_loss: 0.4345 - val_accuracy: 0.9546\n",
      "Epoch 70/1000\n",
      " 1/38 [..............................] - ETA: 0s - loss: 0.7211 - accuracy: 0.7188\n",
      "Epoch 70: saving model to model/keypoint_classifier/keypoint_classifier.hdf5\n",
      "38/38 [==============================] - 0s 2ms/step - loss: 0.7959 - accuracy: 0.6932 - val_loss: 0.4259 - val_accuracy: 0.9552\n",
      "Epoch 71/1000\n",
      " 1/38 [..............................] - ETA: 0s - loss: 0.7796 - accuracy: 0.6953\n",
      "Epoch 71: saving model to model/keypoint_classifier/keypoint_classifier.hdf5\n",
      "38/38 [==============================] - 0s 2ms/step - loss: 0.7832 - accuracy: 0.6979 - val_loss: 0.4286 - val_accuracy: 0.9533\n",
      "Epoch 72/1000\n",
      " 1/38 [..............................] - ETA: 0s - loss: 0.7983 - accuracy: 0.6797\n",
      "Epoch 72: saving model to model/keypoint_classifier/keypoint_classifier.hdf5\n",
      "38/38 [==============================] - 0s 2ms/step - loss: 0.7996 - accuracy: 0.6983 - val_loss: 0.4173 - val_accuracy: 0.9502\n",
      "Epoch 73/1000\n",
      " 1/38 [..............................] - ETA: 0s - loss: 0.8254 - accuracy: 0.7031\n",
      "Epoch 73: saving model to model/keypoint_classifier/keypoint_classifier.hdf5\n",
      "38/38 [==============================] - 0s 2ms/step - loss: 0.7733 - accuracy: 0.7084 - val_loss: 0.4206 - val_accuracy: 0.9533\n",
      "Epoch 74/1000\n",
      " 1/38 [..............................] - ETA: 0s - loss: 0.9424 - accuracy: 0.7109\n",
      "Epoch 74: saving model to model/keypoint_classifier/keypoint_classifier.hdf5\n",
      "38/38 [==============================] - 0s 2ms/step - loss: 0.7688 - accuracy: 0.7094 - val_loss: 0.4176 - val_accuracy: 0.9502\n",
      "Epoch 75/1000\n",
      " 1/38 [..............................] - ETA: 0s - loss: 0.8436 - accuracy: 0.6406\n",
      "Epoch 75: saving model to model/keypoint_classifier/keypoint_classifier.hdf5\n",
      "38/38 [==============================] - 0s 2ms/step - loss: 0.7882 - accuracy: 0.6937 - val_loss: 0.4163 - val_accuracy: 0.9590\n",
      "Epoch 76/1000\n",
      "28/38 [=====================>........] - ETA: 0s - loss: 0.7940 - accuracy: 0.6956\n",
      "Epoch 76: saving model to model/keypoint_classifier/keypoint_classifier.hdf5\n",
      "38/38 [==============================] - 0s 3ms/step - loss: 0.7846 - accuracy: 0.7008 - val_loss: 0.4184 - val_accuracy: 0.9533\n",
      "Epoch 77/1000\n",
      " 1/38 [..............................] - ETA: 0s - loss: 0.7438 - accuracy: 0.7109\n",
      "Epoch 77: saving model to model/keypoint_classifier/keypoint_classifier.hdf5\n",
      "38/38 [==============================] - 0s 2ms/step - loss: 0.7694 - accuracy: 0.7107 - val_loss: 0.4128 - val_accuracy: 0.9533\n",
      "Epoch 78/1000\n",
      " 1/38 [..............................] - ETA: 0s - loss: 0.7908 - accuracy: 0.6641\n",
      "Epoch 78: saving model to model/keypoint_classifier/keypoint_classifier.hdf5\n",
      "38/38 [==============================] - 0s 2ms/step - loss: 0.7651 - accuracy: 0.7092 - val_loss: 0.4068 - val_accuracy: 0.9552\n",
      "Epoch 79/1000\n",
      " 1/38 [..............................] - ETA: 0s - loss: 0.7801 - accuracy: 0.7109\n",
      "Epoch 79: saving model to model/keypoint_classifier/keypoint_classifier.hdf5\n",
      "38/38 [==============================] - 0s 2ms/step - loss: 0.7758 - accuracy: 0.7042 - val_loss: 0.3992 - val_accuracy: 0.9640\n",
      "Epoch 80/1000\n",
      " 1/38 [..............................] - ETA: 0s - loss: 0.8090 - accuracy: 0.7344\n",
      "Epoch 80: saving model to model/keypoint_classifier/keypoint_classifier.hdf5\n",
      "38/38 [==============================] - 0s 2ms/step - loss: 0.7461 - accuracy: 0.7183 - val_loss: 0.4036 - val_accuracy: 0.9546\n",
      "Epoch 81/1000\n",
      " 1/38 [..............................] - ETA: 0s - loss: 0.7878 - accuracy: 0.6719\n",
      "Epoch 81: saving model to model/keypoint_classifier/keypoint_classifier.hdf5\n",
      "38/38 [==============================] - 0s 2ms/step - loss: 0.7930 - accuracy: 0.7000 - val_loss: 0.4014 - val_accuracy: 0.9514\n",
      "Epoch 82/1000\n"
     ]
    },
    {
     "name": "stdout",
     "output_type": "stream",
     "text": [
      " 1/38 [..............................] - ETA: 0s - loss: 0.7286 - accuracy: 0.7422\n",
      "Epoch 82: saving model to model/keypoint_classifier/keypoint_classifier.hdf5\n",
      "38/38 [==============================] - 0s 2ms/step - loss: 0.7396 - accuracy: 0.7259 - val_loss: 0.4012 - val_accuracy: 0.9590\n",
      "Epoch 83/1000\n",
      " 1/38 [..............................] - ETA: 0s - loss: 0.6629 - accuracy: 0.7500\n",
      "Epoch 83: saving model to model/keypoint_classifier/keypoint_classifier.hdf5\n",
      "38/38 [==============================] - 0s 2ms/step - loss: 0.7534 - accuracy: 0.7202 - val_loss: 0.3846 - val_accuracy: 0.9552\n",
      "Epoch 84/1000\n",
      " 1/38 [..............................] - ETA: 0s - loss: 0.8241 - accuracy: 0.6562\n",
      "Epoch 84: saving model to model/keypoint_classifier/keypoint_classifier.hdf5\n",
      "38/38 [==============================] - 0s 2ms/step - loss: 0.7775 - accuracy: 0.7069 - val_loss: 0.3875 - val_accuracy: 0.9565\n",
      "Epoch 85/1000\n",
      " 1/38 [..............................] - ETA: 0s - loss: 0.7243 - accuracy: 0.7422\n",
      "Epoch 85: saving model to model/keypoint_classifier/keypoint_classifier.hdf5\n",
      "38/38 [==============================] - 0s 2ms/step - loss: 0.7607 - accuracy: 0.7153 - val_loss: 0.3981 - val_accuracy: 0.9457\n",
      "Epoch 86/1000\n",
      " 1/38 [..............................] - ETA: 0s - loss: 0.9310 - accuracy: 0.6719\n",
      "Epoch 86: saving model to model/keypoint_classifier/keypoint_classifier.hdf5\n",
      "38/38 [==============================] - 0s 2ms/step - loss: 0.7623 - accuracy: 0.7166 - val_loss: 0.3854 - val_accuracy: 0.9546\n",
      "Epoch 87/1000\n",
      " 1/38 [..............................] - ETA: 0s - loss: 0.7266 - accuracy: 0.7344\n",
      "Epoch 87: saving model to model/keypoint_classifier/keypoint_classifier.hdf5\n",
      "38/38 [==============================] - 0s 2ms/step - loss: 0.7528 - accuracy: 0.7187 - val_loss: 0.3825 - val_accuracy: 0.9552\n",
      "Epoch 88/1000\n",
      " 1/38 [..............................] - ETA: 0s - loss: 0.7589 - accuracy: 0.6641\n",
      "Epoch 88: saving model to model/keypoint_classifier/keypoint_classifier.hdf5\n",
      "38/38 [==============================] - 0s 2ms/step - loss: 0.7392 - accuracy: 0.7187 - val_loss: 0.3838 - val_accuracy: 0.9546\n",
      "Epoch 89/1000\n",
      " 1/38 [..............................] - ETA: 0s - loss: 0.7180 - accuracy: 0.7500\n",
      "Epoch 89: saving model to model/keypoint_classifier/keypoint_classifier.hdf5\n",
      "38/38 [==============================] - 0s 2ms/step - loss: 0.7427 - accuracy: 0.7168 - val_loss: 0.3856 - val_accuracy: 0.9546\n",
      "Epoch 90/1000\n",
      " 1/38 [..............................] - ETA: 0s - loss: 0.6396 - accuracy: 0.7969\n",
      "Epoch 90: saving model to model/keypoint_classifier/keypoint_classifier.hdf5\n",
      "38/38 [==============================] - 0s 2ms/step - loss: 0.7452 - accuracy: 0.7210 - val_loss: 0.3802 - val_accuracy: 0.9603\n",
      "Epoch 91/1000\n",
      " 1/38 [..............................] - ETA: 0s - loss: 0.5735 - accuracy: 0.8125\n",
      "Epoch 91: saving model to model/keypoint_classifier/keypoint_classifier.hdf5\n",
      "38/38 [==============================] - 0s 2ms/step - loss: 0.7409 - accuracy: 0.7256 - val_loss: 0.3803 - val_accuracy: 0.9615\n",
      "Epoch 92/1000\n",
      " 1/38 [..............................] - ETA: 0s - loss: 0.6218 - accuracy: 0.7812\n",
      "Epoch 92: saving model to model/keypoint_classifier/keypoint_classifier.hdf5\n",
      "38/38 [==============================] - 0s 2ms/step - loss: 0.7218 - accuracy: 0.7336 - val_loss: 0.3831 - val_accuracy: 0.9483\n",
      "Epoch 93/1000\n",
      " 1/38 [..............................] - ETA: 0s - loss: 0.6776 - accuracy: 0.7422\n",
      "Epoch 93: saving model to model/keypoint_classifier/keypoint_classifier.hdf5\n",
      "38/38 [==============================] - 0s 2ms/step - loss: 0.7132 - accuracy: 0.7290 - val_loss: 0.3707 - val_accuracy: 0.9653\n",
      "Epoch 94/1000\n",
      " 1/38 [..............................] - ETA: 0s - loss: 0.7235 - accuracy: 0.7031\n",
      "Epoch 94: saving model to model/keypoint_classifier/keypoint_classifier.hdf5\n",
      "38/38 [==============================] - 0s 2ms/step - loss: 0.7251 - accuracy: 0.7280 - val_loss: 0.3690 - val_accuracy: 0.9565\n",
      "Epoch 95/1000\n",
      " 1/38 [..............................] - ETA: 0s - loss: 0.8311 - accuracy: 0.7422\n",
      "Epoch 95: saving model to model/keypoint_classifier/keypoint_classifier.hdf5\n",
      "38/38 [==============================] - 0s 2ms/step - loss: 0.7228 - accuracy: 0.7263 - val_loss: 0.3665 - val_accuracy: 0.9571\n",
      "Epoch 96/1000\n",
      " 1/38 [..............................] - ETA: 0s - loss: 0.8126 - accuracy: 0.6250\n",
      "Epoch 96: saving model to model/keypoint_classifier/keypoint_classifier.hdf5\n",
      "38/38 [==============================] - 0s 2ms/step - loss: 0.7211 - accuracy: 0.7324 - val_loss: 0.3658 - val_accuracy: 0.9615\n",
      "Epoch 97/1000\n",
      " 1/38 [..............................] - ETA: 0s - loss: 0.7250 - accuracy: 0.7266\n",
      "Epoch 97: saving model to model/keypoint_classifier/keypoint_classifier.hdf5\n",
      "38/38 [==============================] - 0s 2ms/step - loss: 0.7380 - accuracy: 0.7229 - val_loss: 0.3647 - val_accuracy: 0.9558\n",
      "Epoch 98/1000\n",
      " 1/38 [..............................] - ETA: 0s - loss: 0.6518 - accuracy: 0.7734\n",
      "Epoch 98: saving model to model/keypoint_classifier/keypoint_classifier.hdf5\n",
      "38/38 [==============================] - 0s 2ms/step - loss: 0.7218 - accuracy: 0.7311 - val_loss: 0.3728 - val_accuracy: 0.9514\n",
      "Epoch 99/1000\n",
      " 1/38 [..............................] - ETA: 0s - loss: 0.8019 - accuracy: 0.7031\n",
      "Epoch 99: saving model to model/keypoint_classifier/keypoint_classifier.hdf5\n",
      "38/38 [==============================] - 0s 2ms/step - loss: 0.7194 - accuracy: 0.7265 - val_loss: 0.3684 - val_accuracy: 0.9495\n",
      "Epoch 100/1000\n",
      " 1/38 [..............................] - ETA: 0s - loss: 0.7363 - accuracy: 0.7031\n",
      "Epoch 100: saving model to model/keypoint_classifier/keypoint_classifier.hdf5\n",
      "38/38 [==============================] - 0s 2ms/step - loss: 0.7158 - accuracy: 0.7351 - val_loss: 0.3597 - val_accuracy: 0.9539\n",
      "Epoch 101/1000\n",
      " 1/38 [..............................] - ETA: 0s - loss: 0.8024 - accuracy: 0.7109\n",
      "Epoch 101: saving model to model/keypoint_classifier/keypoint_classifier.hdf5\n",
      "38/38 [==============================] - 0s 2ms/step - loss: 0.7096 - accuracy: 0.7378 - val_loss: 0.3668 - val_accuracy: 0.9552\n",
      "Epoch 102/1000\n",
      " 1/38 [..............................] - ETA: 0s - loss: 0.7090 - accuracy: 0.7656\n",
      "Epoch 102: saving model to model/keypoint_classifier/keypoint_classifier.hdf5\n",
      "38/38 [==============================] - 0s 2ms/step - loss: 0.7283 - accuracy: 0.7290 - val_loss: 0.3623 - val_accuracy: 0.9533\n",
      "Epoch 103/1000\n",
      " 1/38 [..............................] - ETA: 0s - loss: 0.7591 - accuracy: 0.7344\n",
      "Epoch 103: saving model to model/keypoint_classifier/keypoint_classifier.hdf5\n",
      "38/38 [==============================] - 0s 2ms/step - loss: 0.7185 - accuracy: 0.7416 - val_loss: 0.3593 - val_accuracy: 0.9495\n",
      "Epoch 104/1000\n",
      " 1/38 [..............................] - ETA: 0s - loss: 0.6895 - accuracy: 0.7031\n",
      "Epoch 104: saving model to model/keypoint_classifier/keypoint_classifier.hdf5\n",
      "38/38 [==============================] - 0s 2ms/step - loss: 0.7085 - accuracy: 0.7362 - val_loss: 0.3578 - val_accuracy: 0.9546\n",
      "Epoch 105/1000\n",
      " 1/38 [..............................] - ETA: 0s - loss: 0.6730 - accuracy: 0.7500\n",
      "Epoch 105: saving model to model/keypoint_classifier/keypoint_classifier.hdf5\n",
      "38/38 [==============================] - 0s 2ms/step - loss: 0.7120 - accuracy: 0.7347 - val_loss: 0.3538 - val_accuracy: 0.9521\n",
      "Epoch 106/1000\n",
      " 1/38 [..............................] - ETA: 0s - loss: 0.7413 - accuracy: 0.7344\n",
      "Epoch 106: saving model to model/keypoint_classifier/keypoint_classifier.hdf5\n",
      "38/38 [==============================] - 0s 2ms/step - loss: 0.7153 - accuracy: 0.7408 - val_loss: 0.3501 - val_accuracy: 0.9521\n",
      "Epoch 107/1000\n",
      " 1/38 [..............................] - ETA: 0s - loss: 0.6582 - accuracy: 0.7422\n",
      "Epoch 107: saving model to model/keypoint_classifier/keypoint_classifier.hdf5\n",
      "38/38 [==============================] - 0s 2ms/step - loss: 0.7020 - accuracy: 0.7442 - val_loss: 0.3465 - val_accuracy: 0.9533\n",
      "Epoch 108/1000\n",
      " 1/38 [..............................] - ETA: 0s - loss: 0.7671 - accuracy: 0.6875\n",
      "Epoch 108: saving model to model/keypoint_classifier/keypoint_classifier.hdf5\n",
      "38/38 [==============================] - 0s 2ms/step - loss: 0.7004 - accuracy: 0.7442 - val_loss: 0.3609 - val_accuracy: 0.9350\n",
      "Epoch 109/1000\n"
     ]
    },
    {
     "name": "stdout",
     "output_type": "stream",
     "text": [
      " 1/38 [..............................] - ETA: 0s - loss: 0.9419 - accuracy: 0.6406\n",
      "Epoch 109: saving model to model/keypoint_classifier/keypoint_classifier.hdf5\n",
      "38/38 [==============================] - 0s 2ms/step - loss: 0.7003 - accuracy: 0.7387 - val_loss: 0.3527 - val_accuracy: 0.9470\n",
      "Epoch 110/1000\n",
      " 1/38 [..............................] - ETA: 0s - loss: 0.7130 - accuracy: 0.7344\n",
      "Epoch 110: saving model to model/keypoint_classifier/keypoint_classifier.hdf5\n",
      "38/38 [==============================] - 0s 2ms/step - loss: 0.7029 - accuracy: 0.7376 - val_loss: 0.3497 - val_accuracy: 0.9539\n",
      "Epoch 111/1000\n",
      " 1/38 [..............................] - ETA: 0s - loss: 0.6207 - accuracy: 0.7812\n",
      "Epoch 111: saving model to model/keypoint_classifier/keypoint_classifier.hdf5\n",
      "38/38 [==============================] - 0s 2ms/step - loss: 0.6982 - accuracy: 0.7416 - val_loss: 0.3534 - val_accuracy: 0.9394\n",
      "Epoch 112/1000\n",
      " 1/38 [..............................] - ETA: 0s - loss: 0.5892 - accuracy: 0.7734\n",
      "Epoch 112: saving model to model/keypoint_classifier/keypoint_classifier.hdf5\n",
      "38/38 [==============================] - 0s 2ms/step - loss: 0.6801 - accuracy: 0.7450 - val_loss: 0.3471 - val_accuracy: 0.9432\n",
      "Epoch 113/1000\n",
      " 1/38 [..............................] - ETA: 0s - loss: 0.6386 - accuracy: 0.7812\n",
      "Epoch 113: saving model to model/keypoint_classifier/keypoint_classifier.hdf5\n",
      "38/38 [==============================] - 0s 2ms/step - loss: 0.7023 - accuracy: 0.7421 - val_loss: 0.3508 - val_accuracy: 0.9407\n",
      "Epoch 114/1000\n",
      " 1/38 [..............................] - ETA: 0s - loss: 0.6365 - accuracy: 0.7734\n",
      "Epoch 114: saving model to model/keypoint_classifier/keypoint_classifier.hdf5\n",
      "38/38 [==============================] - 0s 2ms/step - loss: 0.6905 - accuracy: 0.7479 - val_loss: 0.3436 - val_accuracy: 0.9470\n",
      "Epoch 115/1000\n",
      " 1/38 [..............................] - ETA: 0s - loss: 0.7622 - accuracy: 0.7422\n",
      "Epoch 115: saving model to model/keypoint_classifier/keypoint_classifier.hdf5\n",
      "38/38 [==============================] - 0s 2ms/step - loss: 0.6912 - accuracy: 0.7442 - val_loss: 0.3446 - val_accuracy: 0.9464\n",
      "Epoch 116/1000\n",
      " 1/38 [..............................] - ETA: 0s - loss: 0.6060 - accuracy: 0.7578\n",
      "Epoch 116: saving model to model/keypoint_classifier/keypoint_classifier.hdf5\n",
      "38/38 [==============================] - 0s 2ms/step - loss: 0.6867 - accuracy: 0.7454 - val_loss: 0.3409 - val_accuracy: 0.9621\n",
      "Epoch 117/1000\n",
      " 1/38 [..............................] - ETA: 0s - loss: 0.6185 - accuracy: 0.8047\n",
      "Epoch 117: saving model to model/keypoint_classifier/keypoint_classifier.hdf5\n",
      "38/38 [==============================] - 0s 2ms/step - loss: 0.6786 - accuracy: 0.7465 - val_loss: 0.3381 - val_accuracy: 0.9375\n",
      "Epoch 118/1000\n",
      " 1/38 [..............................] - ETA: 0s - loss: 0.6858 - accuracy: 0.7266\n",
      "Epoch 118: saving model to model/keypoint_classifier/keypoint_classifier.hdf5\n",
      "38/38 [==============================] - 0s 2ms/step - loss: 0.6809 - accuracy: 0.7461 - val_loss: 0.3381 - val_accuracy: 0.9331\n",
      "Epoch 119/1000\n",
      " 1/38 [..............................] - ETA: 0s - loss: 0.7251 - accuracy: 0.7188\n",
      "Epoch 119: saving model to model/keypoint_classifier/keypoint_classifier.hdf5\n",
      "38/38 [==============================] - 0s 2ms/step - loss: 0.6723 - accuracy: 0.7528 - val_loss: 0.3517 - val_accuracy: 0.9382\n",
      "Epoch 120/1000\n",
      " 1/38 [..............................] - ETA: 0s - loss: 0.6972 - accuracy: 0.7344\n",
      "Epoch 120: saving model to model/keypoint_classifier/keypoint_classifier.hdf5\n",
      "38/38 [==============================] - 0s 2ms/step - loss: 0.6833 - accuracy: 0.7519 - val_loss: 0.3362 - val_accuracy: 0.9451\n",
      "Epoch 121/1000\n",
      " 1/38 [..............................] - ETA: 0s - loss: 0.6482 - accuracy: 0.7812\n",
      "Epoch 121: saving model to model/keypoint_classifier/keypoint_classifier.hdf5\n",
      "38/38 [==============================] - 0s 2ms/step - loss: 0.6804 - accuracy: 0.7501 - val_loss: 0.3341 - val_accuracy: 0.9539\n",
      "Epoch 122/1000\n",
      " 1/38 [..............................] - ETA: 0s - loss: 0.6279 - accuracy: 0.8047\n",
      "Epoch 122: saving model to model/keypoint_classifier/keypoint_classifier.hdf5\n",
      "38/38 [==============================] - 0s 2ms/step - loss: 0.6916 - accuracy: 0.7486 - val_loss: 0.3530 - val_accuracy: 0.9382\n",
      "Epoch 123/1000\n",
      " 1/38 [..............................] - ETA: 0s - loss: 0.7746 - accuracy: 0.7578\n",
      "Epoch 123: saving model to model/keypoint_classifier/keypoint_classifier.hdf5\n",
      "38/38 [==============================] - 0s 2ms/step - loss: 0.6811 - accuracy: 0.7511 - val_loss: 0.3398 - val_accuracy: 0.9464\n",
      "Epoch 124/1000\n",
      " 1/38 [..............................] - ETA: 0s - loss: 0.5655 - accuracy: 0.8125\n",
      "Epoch 124: saving model to model/keypoint_classifier/keypoint_classifier.hdf5\n",
      "38/38 [==============================] - 0s 2ms/step - loss: 0.6824 - accuracy: 0.7467 - val_loss: 0.3534 - val_accuracy: 0.9148\n",
      "Epoch 125/1000\n",
      " 1/38 [..............................] - ETA: 0s - loss: 0.7114 - accuracy: 0.7578\n",
      "Epoch 125: saving model to model/keypoint_classifier/keypoint_classifier.hdf5\n",
      "38/38 [==============================] - 0s 2ms/step - loss: 0.6729 - accuracy: 0.7507 - val_loss: 0.3327 - val_accuracy: 0.9350\n",
      "Epoch 126/1000\n",
      " 1/38 [..............................] - ETA: 0s - loss: 0.5122 - accuracy: 0.8672\n",
      "Epoch 126: saving model to model/keypoint_classifier/keypoint_classifier.hdf5\n",
      "38/38 [==============================] - 0s 2ms/step - loss: 0.6707 - accuracy: 0.7530 - val_loss: 0.3316 - val_accuracy: 0.9426\n",
      "Epoch 127/1000\n",
      " 1/38 [..............................] - ETA: 0s - loss: 0.7254 - accuracy: 0.7188\n",
      "Epoch 127: saving model to model/keypoint_classifier/keypoint_classifier.hdf5\n",
      "38/38 [==============================] - 0s 2ms/step - loss: 0.6805 - accuracy: 0.7469 - val_loss: 0.3447 - val_accuracy: 0.9338\n",
      "Epoch 128/1000\n",
      "36/38 [===========================>..] - ETA: 0s - loss: 0.6803 - accuracy: 0.7556\n",
      "Epoch 128: saving model to model/keypoint_classifier/keypoint_classifier.hdf5\n",
      "38/38 [==============================] - 0s 3ms/step - loss: 0.6795 - accuracy: 0.7559 - val_loss: 0.3539 - val_accuracy: 0.9293\n",
      "Epoch 129/1000\n",
      "34/38 [=========================>....] - ETA: 0s - loss: 0.6717 - accuracy: 0.7495\n",
      "Epoch 129: saving model to model/keypoint_classifier/keypoint_classifier.hdf5\n",
      "38/38 [==============================] - 0s 3ms/step - loss: 0.6720 - accuracy: 0.7501 - val_loss: 0.3448 - val_accuracy: 0.9281\n",
      "Epoch 130/1000\n",
      " 1/38 [..............................] - ETA: 0s - loss: 0.6431 - accuracy: 0.7891\n",
      "Epoch 130: saving model to model/keypoint_classifier/keypoint_classifier.hdf5\n",
      "38/38 [==============================] - 0s 2ms/step - loss: 0.6666 - accuracy: 0.7612 - val_loss: 0.3432 - val_accuracy: 0.9394\n",
      "Epoch 131/1000\n",
      " 1/38 [..............................] - ETA: 0s - loss: 0.7495 - accuracy: 0.7578\n",
      "Epoch 131: saving model to model/keypoint_classifier/keypoint_classifier.hdf5\n",
      "38/38 [==============================] - 0s 2ms/step - loss: 0.6670 - accuracy: 0.7597 - val_loss: 0.3338 - val_accuracy: 0.9344\n",
      "Epoch 132/1000\n",
      " 1/38 [..............................] - ETA: 0s - loss: 0.7221 - accuracy: 0.6875\n",
      "Epoch 132: saving model to model/keypoint_classifier/keypoint_classifier.hdf5\n",
      "38/38 [==============================] - 0s 2ms/step - loss: 0.6791 - accuracy: 0.7517 - val_loss: 0.3403 - val_accuracy: 0.9319\n",
      "Epoch 133/1000\n",
      " 1/38 [..............................] - ETA: 0s - loss: 0.7006 - accuracy: 0.7344\n",
      "Epoch 133: saving model to model/keypoint_classifier/keypoint_classifier.hdf5\n",
      "38/38 [==============================] - 0s 2ms/step - loss: 0.6823 - accuracy: 0.7454 - val_loss: 0.3343 - val_accuracy: 0.9489\n",
      "Epoch 134/1000\n",
      " 1/38 [..............................] - ETA: 0s - loss: 0.7281 - accuracy: 0.7422\n",
      "Epoch 134: saving model to model/keypoint_classifier/keypoint_classifier.hdf5\n",
      "38/38 [==============================] - 0s 3ms/step - loss: 0.6647 - accuracy: 0.7593 - val_loss: 0.3377 - val_accuracy: 0.9249\n",
      "Epoch 135/1000\n",
      " 1/38 [..............................] - ETA: 0s - loss: 0.7151 - accuracy: 0.7891\n",
      "Epoch 135: saving model to model/keypoint_classifier/keypoint_classifier.hdf5\n",
      "38/38 [==============================] - 0s 2ms/step - loss: 0.6684 - accuracy: 0.7595 - val_loss: 0.3414 - val_accuracy: 0.9155\n"
     ]
    },
    {
     "name": "stdout",
     "output_type": "stream",
     "text": [
      "Epoch 136/1000\n",
      " 1/38 [..............................] - ETA: 0s - loss: 0.6979 - accuracy: 0.7344\n",
      "Epoch 136: saving model to model/keypoint_classifier/keypoint_classifier.hdf5\n",
      "38/38 [==============================] - 0s 2ms/step - loss: 0.6538 - accuracy: 0.7631 - val_loss: 0.3398 - val_accuracy: 0.9338\n",
      "Epoch 137/1000\n",
      " 1/38 [..............................] - ETA: 0s - loss: 0.7410 - accuracy: 0.7344\n",
      "Epoch 137: saving model to model/keypoint_classifier/keypoint_classifier.hdf5\n",
      "38/38 [==============================] - 0s 2ms/step - loss: 0.6591 - accuracy: 0.7551 - val_loss: 0.3294 - val_accuracy: 0.9363\n",
      "Epoch 138/1000\n",
      " 1/38 [..............................] - ETA: 0s - loss: 0.6208 - accuracy: 0.7578\n",
      "Epoch 138: saving model to model/keypoint_classifier/keypoint_classifier.hdf5\n",
      "38/38 [==============================] - 0s 2ms/step - loss: 0.6564 - accuracy: 0.7585 - val_loss: 0.3222 - val_accuracy: 0.9401\n",
      "Epoch 139/1000\n",
      " 1/38 [..............................] - ETA: 0s - loss: 0.7320 - accuracy: 0.7422\n",
      "Epoch 139: saving model to model/keypoint_classifier/keypoint_classifier.hdf5\n",
      "38/38 [==============================] - 0s 2ms/step - loss: 0.6384 - accuracy: 0.7587 - val_loss: 0.3396 - val_accuracy: 0.9192\n",
      "Epoch 140/1000\n",
      " 1/38 [..............................] - ETA: 0s - loss: 0.5513 - accuracy: 0.7891\n",
      "Epoch 140: saving model to model/keypoint_classifier/keypoint_classifier.hdf5\n",
      "38/38 [==============================] - 0s 2ms/step - loss: 0.6660 - accuracy: 0.7589 - val_loss: 0.3367 - val_accuracy: 0.9211\n",
      "Epoch 141/1000\n",
      " 1/38 [..............................] - ETA: 0s - loss: 0.5715 - accuracy: 0.7734\n",
      "Epoch 141: saving model to model/keypoint_classifier/keypoint_classifier.hdf5\n",
      "38/38 [==============================] - 0s 2ms/step - loss: 0.6491 - accuracy: 0.7599 - val_loss: 0.3347 - val_accuracy: 0.9438\n",
      "Epoch 142/1000\n",
      " 1/38 [..............................] - ETA: 0s - loss: 0.8985 - accuracy: 0.7344\n",
      "Epoch 142: saving model to model/keypoint_classifier/keypoint_classifier.hdf5\n",
      "38/38 [==============================] - 0s 2ms/step - loss: 0.6619 - accuracy: 0.7591 - val_loss: 0.3405 - val_accuracy: 0.9312\n",
      "Epoch 143/1000\n",
      " 1/38 [..............................] - ETA: 0s - loss: 0.6248 - accuracy: 0.7656\n",
      "Epoch 143: saving model to model/keypoint_classifier/keypoint_classifier.hdf5\n",
      "38/38 [==============================] - 0s 2ms/step - loss: 0.6458 - accuracy: 0.7597 - val_loss: 0.3312 - val_accuracy: 0.9218\n",
      "Epoch 144/1000\n",
      " 1/38 [..............................] - ETA: 0s - loss: 0.6173 - accuracy: 0.7422\n",
      "Epoch 144: saving model to model/keypoint_classifier/keypoint_classifier.hdf5\n",
      "38/38 [==============================] - 0s 2ms/step - loss: 0.6549 - accuracy: 0.7593 - val_loss: 0.3315 - val_accuracy: 0.9306\n",
      "Epoch 145/1000\n",
      " 1/38 [..............................] - ETA: 0s - loss: 0.7669 - accuracy: 0.8047\n",
      "Epoch 145: saving model to model/keypoint_classifier/keypoint_classifier.hdf5\n",
      "38/38 [==============================] - 0s 3ms/step - loss: 0.6524 - accuracy: 0.7721 - val_loss: 0.3412 - val_accuracy: 0.9180\n",
      "Epoch 146/1000\n",
      " 1/38 [..............................] - ETA: 0s - loss: 0.6514 - accuracy: 0.7812\n",
      "Epoch 146: saving model to model/keypoint_classifier/keypoint_classifier.hdf5\n",
      "38/38 [==============================] - 0s 3ms/step - loss: 0.6575 - accuracy: 0.7595 - val_loss: 0.3489 - val_accuracy: 0.9186\n",
      "Epoch 147/1000\n",
      " 1/38 [..............................] - ETA: 0s - loss: 0.5788 - accuracy: 0.7734\n",
      "Epoch 147: saving model to model/keypoint_classifier/keypoint_classifier.hdf5\n",
      "38/38 [==============================] - 0s 2ms/step - loss: 0.6388 - accuracy: 0.7526 - val_loss: 0.3399 - val_accuracy: 0.9155\n",
      "Epoch 148/1000\n",
      " 1/38 [..............................] - ETA: 0s - loss: 0.6074 - accuracy: 0.8203\n",
      "Epoch 148: saving model to model/keypoint_classifier/keypoint_classifier.hdf5\n",
      "38/38 [==============================] - 0s 2ms/step - loss: 0.6532 - accuracy: 0.7700 - val_loss: 0.3375 - val_accuracy: 0.9161\n",
      "Epoch 149/1000\n",
      " 1/38 [..............................] - ETA: 0s - loss: 0.6194 - accuracy: 0.7969\n",
      "Epoch 149: saving model to model/keypoint_classifier/keypoint_classifier.hdf5\n",
      "38/38 [==============================] - 0s 2ms/step - loss: 0.6698 - accuracy: 0.7572 - val_loss: 0.3358 - val_accuracy: 0.9312\n",
      "Epoch 150/1000\n",
      " 1/38 [..............................] - ETA: 0s - loss: 0.6068 - accuracy: 0.7578\n",
      "Epoch 150: saving model to model/keypoint_classifier/keypoint_classifier.hdf5\n",
      "38/38 [==============================] - 0s 2ms/step - loss: 0.6481 - accuracy: 0.7629 - val_loss: 0.3426 - val_accuracy: 0.9129\n",
      "Epoch 151/1000\n",
      " 1/38 [..............................] - ETA: 0s - loss: 0.5879 - accuracy: 0.7969\n",
      "Epoch 151: saving model to model/keypoint_classifier/keypoint_classifier.hdf5\n",
      "38/38 [==============================] - 0s 2ms/step - loss: 0.6507 - accuracy: 0.7580 - val_loss: 0.3476 - val_accuracy: 0.9192\n",
      "Epoch 152/1000\n",
      " 1/38 [..............................] - ETA: 0s - loss: 0.7069 - accuracy: 0.7734\n",
      "Epoch 152: saving model to model/keypoint_classifier/keypoint_classifier.hdf5\n",
      "38/38 [==============================] - 0s 2ms/step - loss: 0.6358 - accuracy: 0.7665 - val_loss: 0.3363 - val_accuracy: 0.9274\n",
      "Epoch 153/1000\n",
      " 1/38 [..............................] - ETA: 0s - loss: 0.5757 - accuracy: 0.7812\n",
      "Epoch 153: saving model to model/keypoint_classifier/keypoint_classifier.hdf5\n",
      "38/38 [==============================] - 0s 2ms/step - loss: 0.6333 - accuracy: 0.7667 - val_loss: 0.3497 - val_accuracy: 0.9199\n",
      "Epoch 154/1000\n",
      " 1/38 [..............................] - ETA: 0s - loss: 0.7248 - accuracy: 0.7031\n",
      "Epoch 154: saving model to model/keypoint_classifier/keypoint_classifier.hdf5\n",
      "38/38 [==============================] - 0s 2ms/step - loss: 0.6444 - accuracy: 0.7612 - val_loss: 0.3567 - val_accuracy: 0.9091\n",
      "Epoch 155/1000\n",
      " 1/38 [..............................] - ETA: 0s - loss: 0.6536 - accuracy: 0.7500\n",
      "Epoch 155: saving model to model/keypoint_classifier/keypoint_classifier.hdf5\n",
      "38/38 [==============================] - 0s 2ms/step - loss: 0.6316 - accuracy: 0.7633 - val_loss: 0.3422 - val_accuracy: 0.9211\n",
      "Epoch 156/1000\n",
      " 1/38 [..............................] - ETA: 0s - loss: 0.4958 - accuracy: 0.8203\n",
      "Epoch 156: saving model to model/keypoint_classifier/keypoint_classifier.hdf5\n",
      "38/38 [==============================] - 0s 2ms/step - loss: 0.6309 - accuracy: 0.7690 - val_loss: 0.3482 - val_accuracy: 0.9161\n",
      "Epoch 157/1000\n",
      " 1/38 [..............................] - ETA: 0s - loss: 0.6344 - accuracy: 0.7812\n",
      "Epoch 157: saving model to model/keypoint_classifier/keypoint_classifier.hdf5\n",
      "38/38 [==============================] - 0s 2ms/step - loss: 0.6441 - accuracy: 0.7557 - val_loss: 0.3611 - val_accuracy: 0.9066\n",
      "Epoch 158/1000\n",
      " 1/38 [..............................] - ETA: 0s - loss: 0.5720 - accuracy: 0.8125\n",
      "Epoch 158: saving model to model/keypoint_classifier/keypoint_classifier.hdf5\n",
      "38/38 [==============================] - 0s 2ms/step - loss: 0.6514 - accuracy: 0.7679 - val_loss: 0.3447 - val_accuracy: 0.9060\n",
      "Epoch 158: early stopping\n"
     ]
    },
    {
     "data": {
      "text/plain": [
       "<keras.callbacks.History at 0x7ecb3868e500>"
      ]
     },
     "execution_count": 11,
     "metadata": {},
     "output_type": "execute_result"
    }
   ],
   "source": [
    "model.fit(\n",
    "    X_train,\n",
    "    y_train,\n",
    "    epochs=1000,\n",
    "    batch_size=128,\n",
    "    validation_data=(X_test, y_test),\n",
    "    callbacks=[cp_callback, es_callback]\n",
    ")"
   ]
  },
  {
   "cell_type": "code",
   "execution_count": 12,
   "metadata": {
    "colab": {
     "base_uri": "https://localhost:8080/"
    },
    "id": "pxvb2Y299hE3",
    "outputId": "59eb3185-2e37-4b9e-bc9d-ab1b8ac29b7f"
   },
   "outputs": [
    {
     "name": "stdout",
     "output_type": "stream",
     "text": [
      "13/13 [==============================] - 0s 976us/step - loss: 0.3447 - accuracy: 0.9060\n"
     ]
    }
   ],
   "source": [
    "# Model evaluation\n",
    "val_loss, val_acc = model.evaluate(X_test, y_test, batch_size=128)"
   ]
  },
  {
   "cell_type": "code",
   "execution_count": 13,
   "metadata": {
    "id": "RBkmDeUW9hE4"
   },
   "outputs": [],
   "source": [
    "# Loading the saved model\n",
    "model = tf.keras.models.load_model(model_save_path)"
   ]
  },
  {
   "cell_type": "code",
   "execution_count": 14,
   "metadata": {
    "colab": {
     "base_uri": "https://localhost:8080/"
    },
    "id": "tFz9Tb0I9hE4",
    "outputId": "1c3b3528-54ae-4ee2-ab04-77429211cbef"
   },
   "outputs": [
    {
     "name": "stdout",
     "output_type": "stream",
     "text": [
      "1/1 [==============================] - 0s 60ms/step\n",
      "[1.3476586e-01 7.6246065e-01 8.7998286e-02 5.8687983e-06 5.5204332e-06\n",
      " 4.8144320e-05 8.2681561e-03 3.6634686e-03 2.7840419e-03]\n",
      "1\n"
     ]
    }
   ],
   "source": [
    "# Inference test\n",
    "predict_result = model.predict(np.array([X_test[0]]))\n",
    "print(np.squeeze(predict_result))\n",
    "print(np.argmax(np.squeeze(predict_result)))"
   ]
  },
  {
   "cell_type": "markdown",
   "metadata": {
    "id": "FNP6aqzc9hE5"
   },
   "source": [
    "# Saving Model"
   ]
  },
  {
   "cell_type": "code",
   "execution_count": 15,
   "metadata": {
    "id": "ODjnYyld9hE6"
   },
   "outputs": [],
   "source": [
    "# Save as a model dedicated to inference\n",
    "model.save(model_save_path, include_optimizer=False)"
   ]
  },
  {
   "cell_type": "code",
   "execution_count": 16,
   "metadata": {
    "colab": {
     "base_uri": "https://localhost:8080/"
    },
    "id": "zRfuK8Y59hE6",
    "outputId": "a4ca585c-b5d5-4244-8291-8674063209bb"
   },
   "outputs": [
    {
     "name": "stderr",
     "output_type": "stream",
     "text": [
      "2023-04-26 10:02:37.914492: I tensorflow/core/common_runtime/executor.cc:1197] [/device:CPU:0] (DEBUG INFO) Executor start aborting (this does not indicate an error and you can ignore this message): INVALID_ARGUMENT: You must feed a value for placeholder tensor 'input_1' with dtype float and shape [?,42]\n",
      "\t [[{{node input_1}}]]\n",
      "2023-04-26 10:02:37.968534: I tensorflow/core/common_runtime/executor.cc:1197] [/device:CPU:0] (DEBUG INFO) Executor start aborting (this does not indicate an error and you can ignore this message): INVALID_ARGUMENT: You must feed a value for placeholder tensor 'inputs' with dtype float and shape [?,42]\n",
      "\t [[{{node inputs}}]]\n",
      "2023-04-26 10:02:37.981068: I tensorflow/core/common_runtime/executor.cc:1197] [/device:CPU:0] (DEBUG INFO) Executor start aborting (this does not indicate an error and you can ignore this message): INVALID_ARGUMENT: You must feed a value for placeholder tensor 'input_1' with dtype float and shape [?,42]\n",
      "\t [[{{node input_1}}]]\n",
      "2023-04-26 10:02:38.004258: I tensorflow/core/common_runtime/executor.cc:1197] [/device:CPU:0] (DEBUG INFO) Executor start aborting (this does not indicate an error and you can ignore this message): INVALID_ARGUMENT: You must feed a value for placeholder tensor 'inputs' with dtype float and shape [?,42]\n",
      "\t [[{{node inputs}}]]\n",
      "2023-04-26 10:02:38.017973: I tensorflow/core/common_runtime/executor.cc:1197] [/device:CPU:0] (DEBUG INFO) Executor start aborting (this does not indicate an error and you can ignore this message): INVALID_ARGUMENT: You must feed a value for placeholder tensor 'inputs' with dtype float and shape [?,20]\n",
      "\t [[{{node inputs}}]]\n",
      "2023-04-26 10:02:38.040299: I tensorflow/core/common_runtime/executor.cc:1197] [/device:CPU:0] (DEBUG INFO) Executor start aborting (this does not indicate an error and you can ignore this message): INVALID_ARGUMENT: You must feed a value for placeholder tensor 'inputs' with dtype float and shape [?,42]\n",
      "\t [[{{node inputs}}]]\n",
      "2023-04-26 10:02:38.107904: I tensorflow/core/common_runtime/executor.cc:1197] [/device:CPU:0] (DEBUG INFO) Executor start aborting (this does not indicate an error and you can ignore this message): INVALID_ARGUMENT: You must feed a value for placeholder tensor 'inputs' with dtype float and shape [?,42]\n",
      "\t [[{{node inputs}}]]\n",
      "2023-04-26 10:02:38.162380: I tensorflow/core/common_runtime/executor.cc:1197] [/device:CPU:0] (DEBUG INFO) Executor start aborting (this does not indicate an error and you can ignore this message): INVALID_ARGUMENT: You must feed a value for placeholder tensor 'inputs' with dtype float and shape [?,42]\n",
      "\t [[{{node inputs}}]]\n",
      "2023-04-26 10:02:38.191403: I tensorflow/core/common_runtime/executor.cc:1197] [/device:CPU:0] (DEBUG INFO) Executor start aborting (this does not indicate an error and you can ignore this message): INVALID_ARGUMENT: You must feed a value for placeholder tensor 'inputs' with dtype float and shape [?,20]\n",
      "\t [[{{node inputs}}]]\n",
      "WARNING:absl:Found untraced functions such as _update_step_xla while saving (showing 1 of 1). These functions will not be directly callable after loading.\n"
     ]
    },
    {
     "name": "stdout",
     "output_type": "stream",
     "text": [
      "INFO:tensorflow:Assets written to: /tmp/tmppawemfvr/assets\n"
     ]
    },
    {
     "name": "stderr",
     "output_type": "stream",
     "text": [
      "INFO:tensorflow:Assets written to: /tmp/tmppawemfvr/assets\n",
      "2023-04-26 10:02:38.831888: W tensorflow/compiler/mlir/lite/python/tf_tfl_flatbuffer_helpers.cc:364] Ignored output_format.\n",
      "2023-04-26 10:02:38.831932: W tensorflow/compiler/mlir/lite/python/tf_tfl_flatbuffer_helpers.cc:367] Ignored drop_control_dependency.\n",
      "2023-04-26 10:02:38.832265: I tensorflow/cc/saved_model/reader.cc:45] Reading SavedModel from: /tmp/tmppawemfvr\n",
      "2023-04-26 10:02:38.833365: I tensorflow/cc/saved_model/reader.cc:89] Reading meta graph with tags { serve }\n",
      "2023-04-26 10:02:38.833387: I tensorflow/cc/saved_model/reader.cc:130] Reading SavedModel debug info (if present) from: /tmp/tmppawemfvr\n",
      "2023-04-26 10:02:38.836906: I tensorflow/compiler/mlir/mlir_graph_optimization_pass.cc:353] MLIR V1 optimization pass is not enabled\n",
      "2023-04-26 10:02:38.837851: I tensorflow/cc/saved_model/loader.cc:231] Restoring SavedModel bundle.\n",
      "2023-04-26 10:02:38.871511: I tensorflow/cc/saved_model/loader.cc:215] Running initialization op on SavedModel bundle at path: /tmp/tmppawemfvr\n",
      "2023-04-26 10:02:38.881805: I tensorflow/cc/saved_model/loader.cc:314] SavedModel load for tags { serve }; Status: success: OK. Took 49541 microseconds.\n",
      "2023-04-26 10:02:38.899432: I tensorflow/compiler/mlir/tensorflow/utils/dump_mlir_util.cc:269] disabling MLIR crash reproducer, set env var `MLIR_CRASH_REPRODUCER_DIRECTORY` to enable.\n"
     ]
    },
    {
     "data": {
      "text/plain": [
       "6764"
      ]
     },
     "execution_count": 16,
     "metadata": {},
     "output_type": "execute_result"
    }
   ],
   "source": [
    "# Transform model (quantization)\n",
    "\n",
    "converter = tf.lite.TFLiteConverter.from_keras_model(model)\n",
    "converter.optimizations = [tf.lite.Optimize.DEFAULT]\n",
    "tflite_quantized_model = converter.convert()\n",
    "\n",
    "open(tflite_save_path, 'wb').write(tflite_quantized_model)"
   ]
  },
  {
   "cell_type": "markdown",
   "metadata": {
    "id": "CHBPBXdx9hE6"
   },
   "source": [
    "# Inference test"
   ]
  },
  {
   "cell_type": "code",
   "execution_count": 17,
   "metadata": {
    "id": "mGAzLocO9hE7"
   },
   "outputs": [
    {
     "name": "stderr",
     "output_type": "stream",
     "text": [
      "INFO: Created TensorFlow Lite XNNPACK delegate for CPU.\n"
     ]
    }
   ],
   "source": [
    "interpreter = tf.lite.Interpreter(model_path=tflite_save_path)\n",
    "interpreter.allocate_tensors()"
   ]
  },
  {
   "cell_type": "code",
   "execution_count": 18,
   "metadata": {
    "id": "oQuDK8YS9hE7"
   },
   "outputs": [],
   "source": [
    "# Get I / O tensor\n",
    "input_details = interpreter.get_input_details()\n",
    "output_details = interpreter.get_output_details()"
   ]
  },
  {
   "cell_type": "code",
   "execution_count": 19,
   "metadata": {
    "id": "2_ixAf_l9hE7"
   },
   "outputs": [],
   "source": [
    "interpreter.set_tensor(input_details[0]['index'], np.array([X_test[0]]))"
   ]
  },
  {
   "cell_type": "code",
   "execution_count": 20,
   "metadata": {
    "colab": {
     "base_uri": "https://localhost:8080/"
    },
    "id": "s4FoAnuc9hE7",
    "outputId": "91f18257-8d8b-4ef3-c558-e9b5f94fabbf",
    "scrolled": true
   },
   "outputs": [
    {
     "name": "stdout",
     "output_type": "stream",
     "text": [
      "CPU times: user 94 µs, sys: 5 µs, total: 99 µs\n",
      "Wall time: 70.1 µs\n"
     ]
    }
   ],
   "source": [
    "%%time\n",
    "# Inference implementation\n",
    "interpreter.invoke()\n",
    "tflite_results = interpreter.get_tensor(output_details[0]['index'])"
   ]
  },
  {
   "cell_type": "code",
   "execution_count": 21,
   "metadata": {
    "colab": {
     "base_uri": "https://localhost:8080/"
    },
    "id": "vONjp19J9hE8",
    "outputId": "77205e24-fd00-42c4-f7b6-e06e527c2cba"
   },
   "outputs": [
    {
     "name": "stdout",
     "output_type": "stream",
     "text": [
      "[1.3476589e-01 7.6246065e-01 8.7998256e-02 5.8687983e-06 5.5204337e-06\n",
      " 4.8144313e-05 8.2681486e-03 3.6634651e-03 2.7840394e-03]\n",
      "1\n"
     ]
    }
   ],
   "source": [
    "print(np.squeeze(tflite_results))\n",
    "print(np.argmax(np.squeeze(tflite_results)))"
   ]
  }
 ],
 "metadata": {
  "accelerator": "GPU",
  "colab": {
   "collapsed_sections": [],
   "name": "keypoint_classification_EN.ipynb",
   "provenance": [],
   "toc_visible": true
  },
  "kernelspec": {
   "display_name": "Python 3 (ipykernel)",
   "language": "python",
   "name": "python3"
  },
  "language_info": {
   "codemirror_mode": {
    "name": "ipython",
    "version": 3
   },
   "file_extension": ".py",
   "mimetype": "text/x-python",
   "name": "python",
   "nbconvert_exporter": "python",
   "pygments_lexer": "ipython3",
   "version": "3.10.9"
  }
 },
 "nbformat": 4,
 "nbformat_minor": 1
}
