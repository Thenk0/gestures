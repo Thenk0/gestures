{
 "cells": [
  {
   "cell_type": "code",
   "execution_count": 1,
   "metadata": {
    "id": "igMyGnjE9hEp"
   },
   "outputs": [
    {
     "name": "stderr",
     "output_type": "stream",
     "text": [
      "2023-04-26 15:55:38.855339: I tensorflow/tsl/cuda/cudart_stub.cc:28] Could not find cuda drivers on your machine, GPU will not be used.\n",
      "2023-04-26 15:55:38.898953: I tensorflow/tsl/cuda/cudart_stub.cc:28] Could not find cuda drivers on your machine, GPU will not be used.\n",
      "2023-04-26 15:55:38.899693: I tensorflow/core/platform/cpu_feature_guard.cc:182] This TensorFlow binary is optimized to use available CPU instructions in performance-critical operations.\n",
      "To enable the following instructions: AVX2 FMA, in other operations, rebuild TensorFlow with the appropriate compiler flags.\n",
      "2023-04-26 15:55:39.539560: W tensorflow/compiler/tf2tensorrt/utils/py_utils.cc:38] TF-TRT Warning: Could not find TensorRT\n"
     ]
    }
   ],
   "source": [
    "import csv\n",
    "\n",
    "import numpy as np\n",
    "import tensorflow as tf\n",
    "from sklearn.model_selection import train_test_split\n",
    "\n",
    "RANDOM_SEED = 42"
   ]
  },
  {
   "cell_type": "markdown",
   "metadata": {
    "id": "t2HDvhIu9hEr"
   },
   "source": [
    "# Specify each path"
   ]
  },
  {
   "cell_type": "code",
   "execution_count": 2,
   "metadata": {
    "id": "9NvZP2Zn9hEy"
   },
   "outputs": [],
   "source": [
    "dataset = 'model/keypoint_classifier/keypoint.csv'\n",
    "model_save_path = 'model/keypoint_classifier/keypoint_classifier.hdf5'\n",
    "tflite_save_path = 'model/keypoint_classifier/keypoint_classifier.tflite'"
   ]
  },
  {
   "cell_type": "markdown",
   "metadata": {
    "id": "s5oMH7x19hEz"
   },
   "source": [
    "# Set number of classes"
   ]
  },
  {
   "cell_type": "code",
   "execution_count": 3,
   "metadata": {
    "id": "du4kodXL9hEz"
   },
   "outputs": [],
   "source": [
    "NUM_CLASSES = 9"
   ]
  },
  {
   "cell_type": "markdown",
   "metadata": {
    "id": "XjnL0uso9hEz"
   },
   "source": [
    "# Dataset reading"
   ]
  },
  {
   "cell_type": "code",
   "execution_count": 4,
   "metadata": {
    "id": "QT5ZqtEz9hE0"
   },
   "outputs": [],
   "source": [
    "X_dataset = np.loadtxt(dataset, delimiter=',', dtype='float32', usecols=list(range(1, (21 * 2) + 1)))"
   ]
  },
  {
   "cell_type": "code",
   "execution_count": 5,
   "metadata": {
    "id": "QmoKFsp49hE0"
   },
   "outputs": [],
   "source": [
    "y_dataset = np.loadtxt(dataset, delimiter=',', dtype='int32', usecols=(0))"
   ]
  },
  {
   "cell_type": "code",
   "execution_count": 6,
   "metadata": {
    "id": "xQU7JTZ_9hE0"
   },
   "outputs": [],
   "source": [
    "X_train, X_test, y_train, y_test = train_test_split(X_dataset, y_dataset, train_size=0.75, random_state=RANDOM_SEED)"
   ]
  },
  {
   "cell_type": "markdown",
   "metadata": {
    "id": "mxK_lETT9hE0"
   },
   "source": [
    "# Model building"
   ]
  },
  {
   "cell_type": "code",
   "execution_count": 7,
   "metadata": {
    "id": "vHBmUf1t9hE1"
   },
   "outputs": [],
   "source": [
    "model = tf.keras.models.Sequential([\n",
    "    tf.keras.layers.Input((21 * 2, )),\n",
    "    tf.keras.layers.Dropout(0.2),\n",
    "    tf.keras.layers.Dense(80, activation='relu'),\n",
    "    tf.keras.layers.Dropout(0.4),\n",
    "    tf.keras.layers.Dense(10, activation='relu'),\n",
    "    tf.keras.layers.Dense(NUM_CLASSES, activation='softmax')\n",
    "])"
   ]
  },
  {
   "cell_type": "code",
   "execution_count": 8,
   "metadata": {
    "colab": {
     "base_uri": "https://localhost:8080/"
    },
    "id": "ypqky9tc9hE1",
    "outputId": "5db082bb-30e3-4110-bf63-a1ee777ecd46"
   },
   "outputs": [
    {
     "name": "stdout",
     "output_type": "stream",
     "text": [
      "Model: \"sequential\"\n",
      "_________________________________________________________________\n",
      " Layer (type)                Output Shape              Param #   \n",
      "=================================================================\n",
      " dropout (Dropout)           (None, 42)                0         \n",
      "                                                                 \n",
      " dense (Dense)               (None, 80)                3440      \n",
      "                                                                 \n",
      " dropout_1 (Dropout)         (None, 80)                0         \n",
      "                                                                 \n",
      " dense_1 (Dense)             (None, 10)                810       \n",
      "                                                                 \n",
      " dense_2 (Dense)             (None, 9)                 99        \n",
      "                                                                 \n",
      "=================================================================\n",
      "Total params: 4,349\n",
      "Trainable params: 4,349\n",
      "Non-trainable params: 0\n",
      "_________________________________________________________________\n"
     ]
    }
   ],
   "source": [
    "model.summary()  # tf.keras.utils.plot_model(model, show_shapes=True)"
   ]
  },
  {
   "cell_type": "code",
   "execution_count": 9,
   "metadata": {
    "id": "MbMjOflQ9hE1"
   },
   "outputs": [],
   "source": [
    "# Model checkpoint callback\n",
    "cp_callback = tf.keras.callbacks.ModelCheckpoint(\n",
    "    model_save_path, verbose=1, save_weights_only=False)\n",
    "# Callback for early stopping\n",
    "es_callback = tf.keras.callbacks.EarlyStopping(patience=20, verbose=1)"
   ]
  },
  {
   "cell_type": "code",
   "execution_count": 10,
   "metadata": {
    "id": "c3Dac0M_9hE2"
   },
   "outputs": [],
   "source": [
    "# Model compilation\n",
    "model.compile(\n",
    "    optimizer='adam',\n",
    "    loss='sparse_categorical_crossentropy',\n",
    "    metrics=['accuracy']\n",
    ")"
   ]
  },
  {
   "cell_type": "markdown",
   "metadata": {
    "id": "7XI0j1Iu9hE2"
   },
   "source": [
    "# Model training"
   ]
  },
  {
   "cell_type": "code",
   "execution_count": 11,
   "metadata": {
    "colab": {
     "base_uri": "https://localhost:8080/"
    },
    "id": "WirBl-JE9hE3",
    "outputId": "71b30ca2-8294-4d9d-8aa2-800d90d399de",
    "scrolled": true
   },
   "outputs": [
    {
     "name": "stdout",
     "output_type": "stream",
     "text": [
      "Epoch 1/1000\n",
      " 1/38 [..............................] - ETA: 18s - loss: 2.2016 - accuracy: 0.1641\n",
      "Epoch 1: saving model to model/keypoint_classifier/keypoint_classifier.hdf5\n",
      "38/38 [==============================] - 1s 6ms/step - loss: 2.0604 - accuracy: 0.2542 - val_loss: 1.8960 - val_accuracy: 0.3192\n",
      "Epoch 2/1000\n",
      " 1/38 [..............................] - ETA: 0s - loss: 1.9672 - accuracy: 0.2578\n",
      "Epoch 2: saving model to model/keypoint_classifier/keypoint_classifier.hdf5\n",
      "38/38 [==============================] - 0s 2ms/step - loss: 1.8267 - accuracy: 0.3221 - val_loss: 1.6570 - val_accuracy: 0.4183\n",
      "Epoch 3/1000\n",
      " 1/38 [..............................] - ETA: 0s - loss: 1.7834 - accuracy: 0.3281\n",
      "Epoch 3: saving model to model/keypoint_classifier/keypoint_classifier.hdf5\n",
      "38/38 [==============================] - 0s 2ms/step - loss: 1.6275 - accuracy: 0.3930 - val_loss: 1.4163 - val_accuracy: 0.4833\n",
      "Epoch 4/1000\n",
      " 1/38 [..............................] - ETA: 0s - loss: 1.5786 - accuracy: 0.4219\n",
      "Epoch 4: saving model to model/keypoint_classifier/keypoint_classifier.hdf5\n",
      "38/38 [==============================] - 0s 2ms/step - loss: 1.4528 - accuracy: 0.4561 - val_loss: 1.2382 - val_accuracy: 0.5457\n",
      "Epoch 5/1000\n",
      " 1/38 [..............................] - ETA: 0s - loss: 1.3505 - accuracy: 0.4766\n",
      "Epoch 5: saving model to model/keypoint_classifier/keypoint_classifier.hdf5\n",
      "38/38 [==============================] - 0s 2ms/step - loss: 1.3070 - accuracy: 0.4890 - val_loss: 1.0977 - val_accuracy: 0.6196\n",
      "Epoch 6/1000\n",
      " 1/38 [..............................] - ETA: 0s - loss: 1.3071 - accuracy: 0.4531\n",
      "Epoch 6: saving model to model/keypoint_classifier/keypoint_classifier.hdf5\n",
      "38/38 [==============================] - 0s 2ms/step - loss: 1.2025 - accuracy: 0.5064 - val_loss: 0.9870 - val_accuracy: 0.6536\n",
      "Epoch 7/1000\n",
      " 1/38 [..............................] - ETA: 0s - loss: 1.1204 - accuracy: 0.5234\n",
      "Epoch 7: saving model to model/keypoint_classifier/keypoint_classifier.hdf5\n",
      "38/38 [==============================] - 0s 2ms/step - loss: 1.1062 - accuracy: 0.5365 - val_loss: 0.8995 - val_accuracy: 0.6580\n",
      "Epoch 8/1000\n",
      " 1/38 [..............................] - ETA: 0s - loss: 1.0887 - accuracy: 0.6094\n",
      "Epoch 8: saving model to model/keypoint_classifier/keypoint_classifier.hdf5\n",
      "38/38 [==============================] - 0s 2ms/step - loss: 1.0517 - accuracy: 0.5538 - val_loss: 0.8300 - val_accuracy: 0.6877\n",
      "Epoch 9/1000\n",
      " 1/38 [..............................] - ETA: 0s - loss: 1.0721 - accuracy: 0.5703\n",
      "Epoch 9: saving model to model/keypoint_classifier/keypoint_classifier.hdf5\n",
      "38/38 [==============================] - 0s 2ms/step - loss: 0.9841 - accuracy: 0.5777 - val_loss: 0.7566 - val_accuracy: 0.7293\n",
      "Epoch 10/1000\n",
      " 1/38 [..............................] - ETA: 0s - loss: 0.9644 - accuracy: 0.5859\n",
      "Epoch 10: saving model to model/keypoint_classifier/keypoint_classifier.hdf5\n",
      "38/38 [==============================] - 0s 2ms/step - loss: 0.9504 - accuracy: 0.5944 - val_loss: 0.7036 - val_accuracy: 0.7426\n",
      "Epoch 11/1000\n",
      " 1/38 [..............................] - ETA: 0s - loss: 0.8868 - accuracy: 0.6484\n",
      "Epoch 11: saving model to model/keypoint_classifier/keypoint_classifier.hdf5\n",
      "38/38 [==============================] - 0s 2ms/step - loss: 0.9045 - accuracy: 0.6236 - val_loss: 0.6641 - val_accuracy: 0.7729\n",
      "Epoch 12/1000\n",
      " 1/38 [..............................] - ETA: 0s - loss: 0.8702 - accuracy: 0.6797\n",
      "Epoch 12: saving model to model/keypoint_classifier/keypoint_classifier.hdf5\n",
      "38/38 [==============================] - 0s 2ms/step - loss: 0.8674 - accuracy: 0.6373 - val_loss: 0.6223 - val_accuracy: 0.8694\n",
      "Epoch 13/1000\n",
      " 1/38 [..............................] - ETA: 0s - loss: 0.8695 - accuracy: 0.6484\n",
      "Epoch 13: saving model to model/keypoint_classifier/keypoint_classifier.hdf5\n",
      "38/38 [==============================] - 0s 2ms/step - loss: 0.8262 - accuracy: 0.6638 - val_loss: 0.5890 - val_accuracy: 0.8789\n",
      "Epoch 14/1000\n",
      " 1/38 [..............................] - ETA: 0s - loss: 0.8090 - accuracy: 0.7109\n",
      "Epoch 14: saving model to model/keypoint_classifier/keypoint_classifier.hdf5\n",
      "38/38 [==============================] - 0s 2ms/step - loss: 0.8183 - accuracy: 0.6651 - val_loss: 0.5596 - val_accuracy: 0.8814\n",
      "Epoch 15/1000\n",
      " 1/38 [..............................] - ETA: 0s - loss: 0.7848 - accuracy: 0.6562\n",
      "Epoch 15: saving model to model/keypoint_classifier/keypoint_classifier.hdf5\n",
      "38/38 [==============================] - 0s 2ms/step - loss: 0.7988 - accuracy: 0.6749 - val_loss: 0.5350 - val_accuracy: 0.8934\n",
      "Epoch 16/1000\n",
      " 1/38 [..............................] - ETA: 0s - loss: 0.7168 - accuracy: 0.7109\n",
      "Epoch 16: saving model to model/keypoint_classifier/keypoint_classifier.hdf5\n",
      "38/38 [==============================] - 0s 2ms/step - loss: 0.7685 - accuracy: 0.6859 - val_loss: 0.5076 - val_accuracy: 0.8972\n",
      "Epoch 17/1000\n",
      "37/38 [============================>.] - ETA: 0s - loss: 0.7610 - accuracy: 0.7038\n",
      "Epoch 17: saving model to model/keypoint_classifier/keypoint_classifier.hdf5\n",
      "38/38 [==============================] - 0s 2ms/step - loss: 0.7612 - accuracy: 0.7031 - val_loss: 0.4787 - val_accuracy: 0.9142\n",
      "Epoch 18/1000\n",
      " 1/38 [..............................] - ETA: 0s - loss: 0.6734 - accuracy: 0.7500\n",
      "Epoch 18: saving model to model/keypoint_classifier/keypoint_classifier.hdf5\n",
      "38/38 [==============================] - 0s 2ms/step - loss: 0.7332 - accuracy: 0.7145 - val_loss: 0.4682 - val_accuracy: 0.9167\n",
      "Epoch 19/1000\n",
      " 1/38 [..............................] - ETA: 0s - loss: 0.7689 - accuracy: 0.6328\n",
      "Epoch 19: saving model to model/keypoint_classifier/keypoint_classifier.hdf5\n",
      "38/38 [==============================] - 0s 2ms/step - loss: 0.7186 - accuracy: 0.7107 - val_loss: 0.4435 - val_accuracy: 0.9180\n",
      "Epoch 20/1000\n",
      "34/38 [=========================>....] - ETA: 0s - loss: 0.7038 - accuracy: 0.7295\n",
      "Epoch 20: saving model to model/keypoint_classifier/keypoint_classifier.hdf5\n",
      "38/38 [==============================] - 0s 3ms/step - loss: 0.7036 - accuracy: 0.7280 - val_loss: 0.4246 - val_accuracy: 0.9287\n",
      "Epoch 21/1000\n",
      "37/38 [============================>.] - ETA: 0s - loss: 0.6896 - accuracy: 0.7310\n",
      "Epoch 21: saving model to model/keypoint_classifier/keypoint_classifier.hdf5\n",
      "38/38 [==============================] - 0s 3ms/step - loss: 0.6893 - accuracy: 0.7311 - val_loss: 0.4110 - val_accuracy: 0.9438\n",
      "Epoch 22/1000\n",
      "37/38 [============================>.] - ETA: 0s - loss: 0.6822 - accuracy: 0.7375\n",
      "Epoch 22: saving model to model/keypoint_classifier/keypoint_classifier.hdf5\n",
      "38/38 [==============================] - 0s 2ms/step - loss: 0.6828 - accuracy: 0.7374 - val_loss: 0.3920 - val_accuracy: 0.9539\n",
      "Epoch 23/1000\n",
      "36/38 [===========================>..] - ETA: 0s - loss: 0.6714 - accuracy: 0.7365\n",
      "Epoch 23: saving model to model/keypoint_classifier/keypoint_classifier.hdf5\n",
      "38/38 [==============================] - 0s 3ms/step - loss: 0.6718 - accuracy: 0.7355 - val_loss: 0.3858 - val_accuracy: 0.9552\n",
      "Epoch 24/1000\n",
      " 1/38 [..............................] - ETA: 0s - loss: 0.6669 - accuracy: 0.7422\n",
      "Epoch 24: saving model to model/keypoint_classifier/keypoint_classifier.hdf5\n",
      "38/38 [==============================] - 0s 2ms/step - loss: 0.6589 - accuracy: 0.7484 - val_loss: 0.3761 - val_accuracy: 0.9584\n",
      "Epoch 25/1000\n",
      " 1/38 [..............................] - ETA: 0s - loss: 0.6843 - accuracy: 0.7578\n",
      "Epoch 25: saving model to model/keypoint_classifier/keypoint_classifier.hdf5\n",
      "38/38 [==============================] - 0s 2ms/step - loss: 0.6429 - accuracy: 0.7595 - val_loss: 0.3612 - val_accuracy: 0.9640\n",
      "Epoch 26/1000\n",
      " 1/38 [..............................] - ETA: 0s - loss: 0.6345 - accuracy: 0.7578\n",
      "Epoch 26: saving model to model/keypoint_classifier/keypoint_classifier.hdf5\n",
      "38/38 [==============================] - 0s 2ms/step - loss: 0.6380 - accuracy: 0.7555 - val_loss: 0.3553 - val_accuracy: 0.9634\n",
      "Epoch 27/1000\n",
      " 1/38 [..............................] - ETA: 0s - loss: 0.5813 - accuracy: 0.7734\n",
      "Epoch 27: saving model to model/keypoint_classifier/keypoint_classifier.hdf5\n",
      "38/38 [==============================] - 0s 2ms/step - loss: 0.6252 - accuracy: 0.7648 - val_loss: 0.3385 - val_accuracy: 0.9634\n",
      "Epoch 28/1000\n"
     ]
    },
    {
     "name": "stdout",
     "output_type": "stream",
     "text": [
      " 1/38 [..............................] - ETA: 0s - loss: 0.5733 - accuracy: 0.7891\n",
      "Epoch 28: saving model to model/keypoint_classifier/keypoint_classifier.hdf5\n",
      "38/38 [==============================] - 0s 2ms/step - loss: 0.6124 - accuracy: 0.7742 - val_loss: 0.3288 - val_accuracy: 0.9647\n",
      "Epoch 29/1000\n",
      " 1/38 [..............................] - ETA: 0s - loss: 0.6265 - accuracy: 0.7656\n",
      "Epoch 29: saving model to model/keypoint_classifier/keypoint_classifier.hdf5\n",
      "38/38 [==============================] - 0s 2ms/step - loss: 0.6008 - accuracy: 0.7719 - val_loss: 0.3280 - val_accuracy: 0.9634\n",
      "Epoch 30/1000\n",
      " 1/38 [..............................] - ETA: 0s - loss: 0.6897 - accuracy: 0.7266\n",
      "Epoch 30: saving model to model/keypoint_classifier/keypoint_classifier.hdf5\n",
      "38/38 [==============================] - 0s 2ms/step - loss: 0.5952 - accuracy: 0.7793 - val_loss: 0.3178 - val_accuracy: 0.9596\n",
      "Epoch 31/1000\n",
      "38/38 [==============================] - ETA: 0s - loss: 0.5803 - accuracy: 0.7926\n",
      "Epoch 31: saving model to model/keypoint_classifier/keypoint_classifier.hdf5\n",
      "38/38 [==============================] - 0s 2ms/step - loss: 0.5803 - accuracy: 0.7926 - val_loss: 0.3098 - val_accuracy: 0.9647\n",
      "Epoch 32/1000\n",
      "35/38 [==========================>...] - ETA: 0s - loss: 0.5926 - accuracy: 0.7833\n",
      "Epoch 32: saving model to model/keypoint_classifier/keypoint_classifier.hdf5\n",
      "38/38 [==============================] - 0s 3ms/step - loss: 0.5943 - accuracy: 0.7827 - val_loss: 0.3071 - val_accuracy: 0.9621\n",
      "Epoch 33/1000\n",
      "38/38 [==============================] - ETA: 0s - loss: 0.5696 - accuracy: 0.7915\n",
      "Epoch 33: saving model to model/keypoint_classifier/keypoint_classifier.hdf5\n",
      "38/38 [==============================] - 0s 2ms/step - loss: 0.5696 - accuracy: 0.7915 - val_loss: 0.3013 - val_accuracy: 0.9634\n",
      "Epoch 34/1000\n",
      " 1/38 [..............................] - ETA: 0s - loss: 0.4966 - accuracy: 0.8125\n",
      "Epoch 34: saving model to model/keypoint_classifier/keypoint_classifier.hdf5\n",
      "38/38 [==============================] - 0s 2ms/step - loss: 0.5744 - accuracy: 0.7890 - val_loss: 0.3015 - val_accuracy: 0.9615\n",
      "Epoch 35/1000\n",
      " 1/38 [..............................] - ETA: 0s - loss: 0.5965 - accuracy: 0.7734\n",
      "Epoch 35: saving model to model/keypoint_classifier/keypoint_classifier.hdf5\n",
      "38/38 [==============================] - 0s 2ms/step - loss: 0.5678 - accuracy: 0.7978 - val_loss: 0.2934 - val_accuracy: 0.9647\n",
      "Epoch 36/1000\n",
      "38/38 [==============================] - ETA: 0s - loss: 0.5504 - accuracy: 0.7984\n",
      "Epoch 36: saving model to model/keypoint_classifier/keypoint_classifier.hdf5\n",
      "38/38 [==============================] - 0s 2ms/step - loss: 0.5504 - accuracy: 0.7984 - val_loss: 0.2870 - val_accuracy: 0.9647\n",
      "Epoch 37/1000\n",
      "36/38 [===========================>..] - ETA: 0s - loss: 0.5631 - accuracy: 0.7969\n",
      "Epoch 37: saving model to model/keypoint_classifier/keypoint_classifier.hdf5\n",
      "38/38 [==============================] - 0s 3ms/step - loss: 0.5613 - accuracy: 0.7980 - val_loss: 0.2808 - val_accuracy: 0.9659\n",
      "Epoch 38/1000\n",
      " 1/38 [..............................] - ETA: 0s - loss: 0.5489 - accuracy: 0.8125\n",
      "Epoch 38: saving model to model/keypoint_classifier/keypoint_classifier.hdf5\n",
      "38/38 [==============================] - 0s 2ms/step - loss: 0.5493 - accuracy: 0.8018 - val_loss: 0.2761 - val_accuracy: 0.9634\n",
      "Epoch 39/1000\n",
      " 1/38 [..............................] - ETA: 0s - loss: 0.4758 - accuracy: 0.8438\n",
      "Epoch 39: saving model to model/keypoint_classifier/keypoint_classifier.hdf5\n",
      "38/38 [==============================] - 0s 2ms/step - loss: 0.5545 - accuracy: 0.8039 - val_loss: 0.2719 - val_accuracy: 0.9666\n",
      "Epoch 40/1000\n",
      "38/38 [==============================] - ETA: 0s - loss: 0.5422 - accuracy: 0.8029\n",
      "Epoch 40: saving model to model/keypoint_classifier/keypoint_classifier.hdf5\n",
      "38/38 [==============================] - 0s 3ms/step - loss: 0.5422 - accuracy: 0.8029 - val_loss: 0.2685 - val_accuracy: 0.9659\n",
      "Epoch 41/1000\n",
      " 1/38 [..............................] - ETA: 0s - loss: 0.4186 - accuracy: 0.8750\n",
      "Epoch 41: saving model to model/keypoint_classifier/keypoint_classifier.hdf5\n",
      "38/38 [==============================] - 0s 2ms/step - loss: 0.5223 - accuracy: 0.8163 - val_loss: 0.2637 - val_accuracy: 0.9640\n",
      "Epoch 42/1000\n",
      " 1/38 [..............................] - ETA: 0s - loss: 0.5015 - accuracy: 0.7969\n",
      "Epoch 42: saving model to model/keypoint_classifier/keypoint_classifier.hdf5\n",
      "38/38 [==============================] - 0s 2ms/step - loss: 0.5270 - accuracy: 0.8050 - val_loss: 0.2577 - val_accuracy: 0.9678\n",
      "Epoch 43/1000\n",
      "34/38 [=========================>....] - ETA: 0s - loss: 0.5144 - accuracy: 0.8164\n",
      "Epoch 43: saving model to model/keypoint_classifier/keypoint_classifier.hdf5\n",
      "38/38 [==============================] - 0s 3ms/step - loss: 0.5157 - accuracy: 0.8157 - val_loss: 0.2552 - val_accuracy: 0.9678\n",
      "Epoch 44/1000\n",
      " 1/38 [..............................] - ETA: 0s - loss: 0.3612 - accuracy: 0.8750\n",
      "Epoch 44: saving model to model/keypoint_classifier/keypoint_classifier.hdf5\n",
      "38/38 [==============================] - 0s 2ms/step - loss: 0.5108 - accuracy: 0.8178 - val_loss: 0.2641 - val_accuracy: 0.9621\n",
      "Epoch 45/1000\n",
      " 1/38 [..............................] - ETA: 0s - loss: 0.4069 - accuracy: 0.8438\n",
      "Epoch 45: saving model to model/keypoint_classifier/keypoint_classifier.hdf5\n",
      "38/38 [==============================] - 0s 2ms/step - loss: 0.5039 - accuracy: 0.8220 - val_loss: 0.2530 - val_accuracy: 0.9659\n",
      "Epoch 46/1000\n",
      "36/38 [===========================>..] - ETA: 0s - loss: 0.4924 - accuracy: 0.8346\n",
      "Epoch 46: saving model to model/keypoint_classifier/keypoint_classifier.hdf5\n",
      "38/38 [==============================] - 0s 3ms/step - loss: 0.4948 - accuracy: 0.8336 - val_loss: 0.2421 - val_accuracy: 0.9672\n",
      "Epoch 47/1000\n",
      " 1/38 [..............................] - ETA: 0s - loss: 0.3693 - accuracy: 0.8828\n",
      "Epoch 47: saving model to model/keypoint_classifier/keypoint_classifier.hdf5\n",
      "38/38 [==============================] - 0s 2ms/step - loss: 0.5051 - accuracy: 0.8228 - val_loss: 0.2401 - val_accuracy: 0.9703\n",
      "Epoch 48/1000\n",
      " 1/38 [..............................] - ETA: 0s - loss: 0.4940 - accuracy: 0.8203\n",
      "Epoch 48: saving model to model/keypoint_classifier/keypoint_classifier.hdf5\n",
      "38/38 [==============================] - 0s 2ms/step - loss: 0.4980 - accuracy: 0.8189 - val_loss: 0.2376 - val_accuracy: 0.9710\n",
      "Epoch 49/1000\n",
      "29/38 [=====================>........] - ETA: 0s - loss: 0.4964 - accuracy: 0.8238\n",
      "Epoch 49: saving model to model/keypoint_classifier/keypoint_classifier.hdf5\n",
      "38/38 [==============================] - 0s 3ms/step - loss: 0.4976 - accuracy: 0.8237 - val_loss: 0.2391 - val_accuracy: 0.9691\n",
      "Epoch 50/1000\n",
      " 1/38 [..............................] - ETA: 0s - loss: 0.4522 - accuracy: 0.8438\n",
      "Epoch 50: saving model to model/keypoint_classifier/keypoint_classifier.hdf5\n",
      "38/38 [==============================] - 0s 2ms/step - loss: 0.4691 - accuracy: 0.8390 - val_loss: 0.2433 - val_accuracy: 0.9678\n",
      "Epoch 51/1000\n",
      "38/38 [==============================] - ETA: 0s - loss: 0.4870 - accuracy: 0.8321\n",
      "Epoch 51: saving model to model/keypoint_classifier/keypoint_classifier.hdf5\n",
      "38/38 [==============================] - 0s 3ms/step - loss: 0.4870 - accuracy: 0.8321 - val_loss: 0.2353 - val_accuracy: 0.9697\n",
      "Epoch 52/1000\n",
      "28/38 [=====================>........] - ETA: 0s - loss: 0.4835 - accuracy: 0.8273\n",
      "Epoch 52: saving model to model/keypoint_classifier/keypoint_classifier.hdf5\n",
      "38/38 [==============================] - 0s 3ms/step - loss: 0.4897 - accuracy: 0.8262 - val_loss: 0.2306 - val_accuracy: 0.9691\n",
      "Epoch 53/1000\n",
      "29/38 [=====================>........] - ETA: 0s - loss: 0.4676 - accuracy: 0.8362\n",
      "Epoch 53: saving model to model/keypoint_classifier/keypoint_classifier.hdf5\n",
      "38/38 [==============================] - 0s 3ms/step - loss: 0.4756 - accuracy: 0.8351 - val_loss: 0.2280 - val_accuracy: 0.9697\n",
      "Epoch 54/1000\n",
      "32/38 [========================>.....] - ETA: 0s - loss: 0.4660 - accuracy: 0.8455\n",
      "Epoch 54: saving model to model/keypoint_classifier/keypoint_classifier.hdf5\n",
      "38/38 [==============================] - 0s 3ms/step - loss: 0.4639 - accuracy: 0.8454 - val_loss: 0.2211 - val_accuracy: 0.9735\n",
      "Epoch 55/1000\n"
     ]
    },
    {
     "name": "stdout",
     "output_type": "stream",
     "text": [
      "34/38 [=========================>....] - ETA: 0s - loss: 0.4686 - accuracy: 0.8392\n",
      "Epoch 55: saving model to model/keypoint_classifier/keypoint_classifier.hdf5\n",
      "38/38 [==============================] - 0s 3ms/step - loss: 0.4690 - accuracy: 0.8386 - val_loss: 0.2201 - val_accuracy: 0.9710\n",
      "Epoch 56/1000\n",
      "36/38 [===========================>..] - ETA: 0s - loss: 0.4683 - accuracy: 0.8344\n",
      "Epoch 56: saving model to model/keypoint_classifier/keypoint_classifier.hdf5\n",
      "38/38 [==============================] - 0s 3ms/step - loss: 0.4692 - accuracy: 0.8332 - val_loss: 0.2275 - val_accuracy: 0.9653\n",
      "Epoch 57/1000\n",
      "34/38 [=========================>....] - ETA: 0s - loss: 0.4465 - accuracy: 0.8440\n",
      "Epoch 57: saving model to model/keypoint_classifier/keypoint_classifier.hdf5\n",
      "38/38 [==============================] - 0s 3ms/step - loss: 0.4521 - accuracy: 0.8443 - val_loss: 0.2194 - val_accuracy: 0.9678\n",
      "Epoch 58/1000\n",
      "32/38 [========================>.....] - ETA: 0s - loss: 0.4713 - accuracy: 0.8311\n",
      "Epoch 58: saving model to model/keypoint_classifier/keypoint_classifier.hdf5\n",
      "38/38 [==============================] - 0s 3ms/step - loss: 0.4659 - accuracy: 0.8336 - val_loss: 0.2275 - val_accuracy: 0.9628\n",
      "Epoch 59/1000\n",
      "27/38 [====================>.........] - ETA: 0s - loss: 0.4490 - accuracy: 0.8458\n",
      "Epoch 59: saving model to model/keypoint_classifier/keypoint_classifier.hdf5\n",
      "38/38 [==============================] - 0s 3ms/step - loss: 0.4446 - accuracy: 0.8485 - val_loss: 0.2226 - val_accuracy: 0.9647\n",
      "Epoch 60/1000\n",
      " 1/38 [..............................] - ETA: 0s - loss: 0.4971 - accuracy: 0.8281\n",
      "Epoch 60: saving model to model/keypoint_classifier/keypoint_classifier.hdf5\n",
      "38/38 [==============================] - 0s 2ms/step - loss: 0.4535 - accuracy: 0.8441 - val_loss: 0.2149 - val_accuracy: 0.9716\n",
      "Epoch 61/1000\n",
      "37/38 [============================>.] - ETA: 0s - loss: 0.4496 - accuracy: 0.8438\n",
      "Epoch 61: saving model to model/keypoint_classifier/keypoint_classifier.hdf5\n",
      "38/38 [==============================] - 0s 3ms/step - loss: 0.4501 - accuracy: 0.8430 - val_loss: 0.2084 - val_accuracy: 0.9710\n",
      "Epoch 62/1000\n",
      " 1/38 [..............................] - ETA: 0s - loss: 0.4572 - accuracy: 0.7891\n",
      "Epoch 62: saving model to model/keypoint_classifier/keypoint_classifier.hdf5\n",
      "38/38 [==============================] - 0s 2ms/step - loss: 0.4450 - accuracy: 0.8454 - val_loss: 0.2111 - val_accuracy: 0.9703\n",
      "Epoch 63/1000\n",
      " 1/38 [..............................] - ETA: 0s - loss: 0.4298 - accuracy: 0.8359\n",
      "Epoch 63: saving model to model/keypoint_classifier/keypoint_classifier.hdf5\n",
      "38/38 [==============================] - 0s 2ms/step - loss: 0.4340 - accuracy: 0.8519 - val_loss: 0.2040 - val_accuracy: 0.9729\n",
      "Epoch 64/1000\n",
      " 1/38 [..............................] - ETA: 0s - loss: 0.3986 - accuracy: 0.8672\n",
      "Epoch 64: saving model to model/keypoint_classifier/keypoint_classifier.hdf5\n",
      "38/38 [==============================] - 0s 2ms/step - loss: 0.4370 - accuracy: 0.8489 - val_loss: 0.2104 - val_accuracy: 0.9697\n",
      "Epoch 65/1000\n",
      " 1/38 [..............................] - ETA: 0s - loss: 0.4207 - accuracy: 0.8750\n",
      "Epoch 65: saving model to model/keypoint_classifier/keypoint_classifier.hdf5\n",
      "38/38 [==============================] - 0s 2ms/step - loss: 0.4416 - accuracy: 0.8458 - val_loss: 0.2115 - val_accuracy: 0.9703\n",
      "Epoch 66/1000\n",
      " 1/38 [..............................] - ETA: 0s - loss: 0.4369 - accuracy: 0.8672\n",
      "Epoch 66: saving model to model/keypoint_classifier/keypoint_classifier.hdf5\n",
      "38/38 [==============================] - 0s 2ms/step - loss: 0.4332 - accuracy: 0.8500 - val_loss: 0.2035 - val_accuracy: 0.9748\n",
      "Epoch 67/1000\n",
      " 1/38 [..............................] - ETA: 0s - loss: 0.4061 - accuracy: 0.8906\n",
      "Epoch 67: saving model to model/keypoint_classifier/keypoint_classifier.hdf5\n",
      "38/38 [==============================] - 0s 2ms/step - loss: 0.4314 - accuracy: 0.8565 - val_loss: 0.1969 - val_accuracy: 0.9729\n",
      "Epoch 68/1000\n",
      " 1/38 [..............................] - ETA: 0s - loss: 0.4074 - accuracy: 0.8672\n",
      "Epoch 68: saving model to model/keypoint_classifier/keypoint_classifier.hdf5\n",
      "38/38 [==============================] - 0s 2ms/step - loss: 0.4145 - accuracy: 0.8643 - val_loss: 0.1947 - val_accuracy: 0.9722\n",
      "Epoch 69/1000\n",
      "38/38 [==============================] - ETA: 0s - loss: 0.4401 - accuracy: 0.8439\n",
      "Epoch 69: saving model to model/keypoint_classifier/keypoint_classifier.hdf5\n",
      "38/38 [==============================] - 0s 2ms/step - loss: 0.4401 - accuracy: 0.8439 - val_loss: 0.2075 - val_accuracy: 0.9697\n",
      "Epoch 70/1000\n",
      " 1/38 [..............................] - ETA: 0s - loss: 0.3927 - accuracy: 0.9062\n",
      "Epoch 70: saving model to model/keypoint_classifier/keypoint_classifier.hdf5\n",
      "38/38 [==============================] - 0s 2ms/step - loss: 0.4271 - accuracy: 0.8584 - val_loss: 0.1966 - val_accuracy: 0.9729\n",
      "Epoch 71/1000\n",
      "37/38 [============================>.] - ETA: 0s - loss: 0.4030 - accuracy: 0.8647\n",
      "Epoch 71: saving model to model/keypoint_classifier/keypoint_classifier.hdf5\n",
      "38/38 [==============================] - 0s 3ms/step - loss: 0.4029 - accuracy: 0.8643 - val_loss: 0.1905 - val_accuracy: 0.9703\n",
      "Epoch 72/1000\n",
      " 1/38 [..............................] - ETA: 0s - loss: 0.4598 - accuracy: 0.8281\n",
      "Epoch 72: saving model to model/keypoint_classifier/keypoint_classifier.hdf5\n",
      "38/38 [==============================] - 0s 2ms/step - loss: 0.4185 - accuracy: 0.8567 - val_loss: 0.1919 - val_accuracy: 0.9741\n",
      "Epoch 73/1000\n",
      " 1/38 [..............................] - ETA: 0s - loss: 0.4055 - accuracy: 0.8438\n",
      "Epoch 73: saving model to model/keypoint_classifier/keypoint_classifier.hdf5\n",
      "38/38 [==============================] - 0s 2ms/step - loss: 0.3963 - accuracy: 0.8571 - val_loss: 0.1828 - val_accuracy: 0.9729\n",
      "Epoch 74/1000\n",
      "38/38 [==============================] - ETA: 0s - loss: 0.4230 - accuracy: 0.8525\n",
      "Epoch 74: saving model to model/keypoint_classifier/keypoint_classifier.hdf5\n",
      "38/38 [==============================] - 0s 2ms/step - loss: 0.4230 - accuracy: 0.8525 - val_loss: 0.1919 - val_accuracy: 0.9716\n",
      "Epoch 75/1000\n",
      " 1/38 [..............................] - ETA: 0s - loss: 0.4177 - accuracy: 0.8594\n",
      "Epoch 75: saving model to model/keypoint_classifier/keypoint_classifier.hdf5\n",
      "38/38 [==============================] - 0s 2ms/step - loss: 0.4061 - accuracy: 0.8607 - val_loss: 0.1948 - val_accuracy: 0.9729\n",
      "Epoch 76/1000\n",
      " 1/38 [..............................] - ETA: 0s - loss: 0.3963 - accuracy: 0.8906\n",
      "Epoch 76: saving model to model/keypoint_classifier/keypoint_classifier.hdf5\n",
      "38/38 [==============================] - 0s 2ms/step - loss: 0.3982 - accuracy: 0.8620 - val_loss: 0.1855 - val_accuracy: 0.9760\n",
      "Epoch 77/1000\n",
      " 1/38 [..............................] - ETA: 0s - loss: 0.3095 - accuracy: 0.8906\n",
      "Epoch 77: saving model to model/keypoint_classifier/keypoint_classifier.hdf5\n",
      "38/38 [==============================] - 0s 2ms/step - loss: 0.4082 - accuracy: 0.8603 - val_loss: 0.1890 - val_accuracy: 0.9710\n",
      "Epoch 78/1000\n",
      "37/38 [============================>.] - ETA: 0s - loss: 0.3954 - accuracy: 0.8649\n",
      "Epoch 78: saving model to model/keypoint_classifier/keypoint_classifier.hdf5\n",
      "38/38 [==============================] - 0s 2ms/step - loss: 0.3955 - accuracy: 0.8647 - val_loss: 0.1832 - val_accuracy: 0.9754\n",
      "Epoch 79/1000\n",
      "24/38 [=================>............] - ETA: 0s - loss: 0.3998 - accuracy: 0.8604\n",
      "Epoch 79: saving model to model/keypoint_classifier/keypoint_classifier.hdf5\n",
      "38/38 [==============================] - 0s 3ms/step - loss: 0.3988 - accuracy: 0.8624 - val_loss: 0.1837 - val_accuracy: 0.9760\n",
      "Epoch 80/1000\n",
      " 1/38 [..............................] - ETA: 0s - loss: 0.4026 - accuracy: 0.8594\n",
      "Epoch 80: saving model to model/keypoint_classifier/keypoint_classifier.hdf5\n",
      "38/38 [==============================] - 0s 2ms/step - loss: 0.3873 - accuracy: 0.8689 - val_loss: 0.1751 - val_accuracy: 0.9773\n",
      "Epoch 81/1000\n",
      " 1/38 [..............................] - ETA: 0s - loss: 0.3898 - accuracy: 0.8828\n",
      "Epoch 81: saving model to model/keypoint_classifier/keypoint_classifier.hdf5\n",
      "38/38 [==============================] - 0s 2ms/step - loss: 0.3940 - accuracy: 0.8691 - val_loss: 0.1767 - val_accuracy: 0.9748\n",
      "Epoch 82/1000\n"
     ]
    },
    {
     "name": "stdout",
     "output_type": "stream",
     "text": [
      " 1/38 [..............................] - ETA: 0s - loss: 0.3442 - accuracy: 0.8672\n",
      "Epoch 82: saving model to model/keypoint_classifier/keypoint_classifier.hdf5\n",
      "38/38 [==============================] - 0s 2ms/step - loss: 0.3931 - accuracy: 0.8658 - val_loss: 0.1847 - val_accuracy: 0.9779\n",
      "Epoch 83/1000\n",
      " 1/38 [..............................] - ETA: 0s - loss: 0.3768 - accuracy: 0.8828\n",
      "Epoch 83: saving model to model/keypoint_classifier/keypoint_classifier.hdf5\n",
      "38/38 [==============================] - 0s 2ms/step - loss: 0.3831 - accuracy: 0.8683 - val_loss: 0.1770 - val_accuracy: 0.9767\n",
      "Epoch 84/1000\n",
      " 1/38 [..............................] - ETA: 0s - loss: 0.3234 - accuracy: 0.9219\n",
      "Epoch 84: saving model to model/keypoint_classifier/keypoint_classifier.hdf5\n",
      "38/38 [==============================] - 0s 2ms/step - loss: 0.3783 - accuracy: 0.8773 - val_loss: 0.1792 - val_accuracy: 0.9741\n",
      "Epoch 85/1000\n",
      "37/38 [============================>.] - ETA: 0s - loss: 0.3860 - accuracy: 0.8714\n",
      "Epoch 85: saving model to model/keypoint_classifier/keypoint_classifier.hdf5\n",
      "38/38 [==============================] - 0s 3ms/step - loss: 0.3857 - accuracy: 0.8714 - val_loss: 0.1737 - val_accuracy: 0.9754\n",
      "Epoch 86/1000\n",
      "37/38 [============================>.] - ETA: 0s - loss: 0.3864 - accuracy: 0.8666\n",
      "Epoch 86: saving model to model/keypoint_classifier/keypoint_classifier.hdf5\n",
      "38/38 [==============================] - 0s 3ms/step - loss: 0.3860 - accuracy: 0.8668 - val_loss: 0.1911 - val_accuracy: 0.9741\n",
      "Epoch 87/1000\n",
      " 1/38 [..............................] - ETA: 0s - loss: 0.3458 - accuracy: 0.8906\n",
      "Epoch 87: saving model to model/keypoint_classifier/keypoint_classifier.hdf5\n",
      "38/38 [==============================] - 0s 2ms/step - loss: 0.3709 - accuracy: 0.8805 - val_loss: 0.1784 - val_accuracy: 0.9760\n",
      "Epoch 88/1000\n",
      " 1/38 [..............................] - ETA: 0s - loss: 0.5033 - accuracy: 0.8047\n",
      "Epoch 88: saving model to model/keypoint_classifier/keypoint_classifier.hdf5\n",
      "38/38 [==============================] - 0s 2ms/step - loss: 0.3724 - accuracy: 0.8769 - val_loss: 0.1731 - val_accuracy: 0.9773\n",
      "Epoch 89/1000\n",
      " 1/38 [..............................] - ETA: 0s - loss: 0.3530 - accuracy: 0.8828\n",
      "Epoch 89: saving model to model/keypoint_classifier/keypoint_classifier.hdf5\n",
      "38/38 [==============================] - 0s 2ms/step - loss: 0.3587 - accuracy: 0.8784 - val_loss: 0.1658 - val_accuracy: 0.9767\n",
      "Epoch 90/1000\n",
      " 1/38 [..............................] - ETA: 0s - loss: 0.3098 - accuracy: 0.8750\n",
      "Epoch 90: saving model to model/keypoint_classifier/keypoint_classifier.hdf5\n",
      "38/38 [==============================] - 0s 2ms/step - loss: 0.3705 - accuracy: 0.8717 - val_loss: 0.1703 - val_accuracy: 0.9773\n",
      "Epoch 91/1000\n",
      " 1/38 [..............................] - ETA: 0s - loss: 0.3243 - accuracy: 0.8984\n",
      "Epoch 91: saving model to model/keypoint_classifier/keypoint_classifier.hdf5\n",
      "38/38 [==============================] - 0s 2ms/step - loss: 0.3787 - accuracy: 0.8738 - val_loss: 0.1754 - val_accuracy: 0.9773\n",
      "Epoch 92/1000\n",
      " 1/38 [..............................] - ETA: 0s - loss: 0.3398 - accuracy: 0.8750\n",
      "Epoch 92: saving model to model/keypoint_classifier/keypoint_classifier.hdf5\n",
      "38/38 [==============================] - 0s 2ms/step - loss: 0.3571 - accuracy: 0.8752 - val_loss: 0.1671 - val_accuracy: 0.9767\n",
      "Epoch 93/1000\n",
      " 1/38 [..............................] - ETA: 0s - loss: 0.3178 - accuracy: 0.8828\n",
      "Epoch 93: saving model to model/keypoint_classifier/keypoint_classifier.hdf5\n",
      "38/38 [==============================] - 0s 2ms/step - loss: 0.3632 - accuracy: 0.8813 - val_loss: 0.1683 - val_accuracy: 0.9748\n",
      "Epoch 94/1000\n",
      "37/38 [============================>.] - ETA: 0s - loss: 0.3603 - accuracy: 0.8758\n",
      "Epoch 94: saving model to model/keypoint_classifier/keypoint_classifier.hdf5\n",
      "38/38 [==============================] - 0s 3ms/step - loss: 0.3608 - accuracy: 0.8752 - val_loss: 0.1647 - val_accuracy: 0.9773\n",
      "Epoch 95/1000\n",
      " 1/38 [..............................] - ETA: 0s - loss: 0.3192 - accuracy: 0.8750\n",
      "Epoch 95: saving model to model/keypoint_classifier/keypoint_classifier.hdf5\n",
      "38/38 [==============================] - 0s 2ms/step - loss: 0.3504 - accuracy: 0.8822 - val_loss: 0.1676 - val_accuracy: 0.9779\n",
      "Epoch 96/1000\n",
      " 1/38 [..............................] - ETA: 0s - loss: 0.3707 - accuracy: 0.8984\n",
      "Epoch 96: saving model to model/keypoint_classifier/keypoint_classifier.hdf5\n",
      "38/38 [==============================] - 0s 2ms/step - loss: 0.3527 - accuracy: 0.8866 - val_loss: 0.1611 - val_accuracy: 0.9760\n",
      "Epoch 97/1000\n",
      " 1/38 [..............................] - ETA: 0s - loss: 0.4293 - accuracy: 0.8672\n",
      "Epoch 97: saving model to model/keypoint_classifier/keypoint_classifier.hdf5\n",
      "38/38 [==============================] - 0s 2ms/step - loss: 0.3649 - accuracy: 0.8778 - val_loss: 0.1697 - val_accuracy: 0.9773\n",
      "Epoch 98/1000\n",
      " 1/38 [..............................] - ETA: 0s - loss: 0.3196 - accuracy: 0.8906\n",
      "Epoch 98: saving model to model/keypoint_classifier/keypoint_classifier.hdf5\n",
      "38/38 [==============================] - 0s 2ms/step - loss: 0.3443 - accuracy: 0.8805 - val_loss: 0.1610 - val_accuracy: 0.9760\n",
      "Epoch 99/1000\n",
      " 1/38 [..............................] - ETA: 0s - loss: 0.2820 - accuracy: 0.9141\n",
      "Epoch 99: saving model to model/keypoint_classifier/keypoint_classifier.hdf5\n",
      "38/38 [==============================] - 0s 2ms/step - loss: 0.3480 - accuracy: 0.8792 - val_loss: 0.1638 - val_accuracy: 0.9773\n",
      "Epoch 100/1000\n",
      " 1/38 [..............................] - ETA: 0s - loss: 0.5563 - accuracy: 0.8125\n",
      "Epoch 100: saving model to model/keypoint_classifier/keypoint_classifier.hdf5\n",
      "38/38 [==============================] - 0s 2ms/step - loss: 0.3505 - accuracy: 0.8792 - val_loss: 0.1643 - val_accuracy: 0.9767\n",
      "Epoch 101/1000\n",
      " 1/38 [..............................] - ETA: 0s - loss: 0.2947 - accuracy: 0.8828\n",
      "Epoch 101: saving model to model/keypoint_classifier/keypoint_classifier.hdf5\n",
      "38/38 [==============================] - 0s 2ms/step - loss: 0.3334 - accuracy: 0.8813 - val_loss: 0.1595 - val_accuracy: 0.9785\n",
      "Epoch 102/1000\n",
      " 1/38 [..............................] - ETA: 0s - loss: 0.3699 - accuracy: 0.8984\n",
      "Epoch 102: saving model to model/keypoint_classifier/keypoint_classifier.hdf5\n",
      "38/38 [==============================] - 0s 2ms/step - loss: 0.3573 - accuracy: 0.8839 - val_loss: 0.1644 - val_accuracy: 0.9754\n",
      "Epoch 103/1000\n",
      " 1/38 [..............................] - ETA: 0s - loss: 0.4167 - accuracy: 0.8125\n",
      "Epoch 103: saving model to model/keypoint_classifier/keypoint_classifier.hdf5\n",
      "38/38 [==============================] - 0s 2ms/step - loss: 0.3581 - accuracy: 0.8744 - val_loss: 0.1634 - val_accuracy: 0.9792\n",
      "Epoch 104/1000\n",
      " 1/38 [..............................] - ETA: 0s - loss: 0.3274 - accuracy: 0.9297\n",
      "Epoch 104: saving model to model/keypoint_classifier/keypoint_classifier.hdf5\n",
      "38/38 [==============================] - 0s 2ms/step - loss: 0.3372 - accuracy: 0.8858 - val_loss: 0.1534 - val_accuracy: 0.9785\n",
      "Epoch 105/1000\n",
      " 1/38 [..............................] - ETA: 0s - loss: 0.3289 - accuracy: 0.9219\n",
      "Epoch 105: saving model to model/keypoint_classifier/keypoint_classifier.hdf5\n",
      "38/38 [==============================] - 0s 2ms/step - loss: 0.3487 - accuracy: 0.8843 - val_loss: 0.1572 - val_accuracy: 0.9754\n",
      "Epoch 106/1000\n",
      " 1/38 [..............................] - ETA: 0s - loss: 0.4232 - accuracy: 0.8672\n",
      "Epoch 106: saving model to model/keypoint_classifier/keypoint_classifier.hdf5\n",
      "38/38 [==============================] - 0s 2ms/step - loss: 0.3466 - accuracy: 0.8849 - val_loss: 0.1631 - val_accuracy: 0.9760\n",
      "Epoch 107/1000\n",
      "34/38 [=========================>....] - ETA: 0s - loss: 0.3496 - accuracy: 0.8865\n",
      "Epoch 107: saving model to model/keypoint_classifier/keypoint_classifier.hdf5\n",
      "38/38 [==============================] - 0s 3ms/step - loss: 0.3524 - accuracy: 0.8864 - val_loss: 0.1631 - val_accuracy: 0.9779\n",
      "Epoch 108/1000\n",
      " 1/38 [..............................] - ETA: 0s - loss: 0.2354 - accuracy: 0.9375\n",
      "Epoch 108: saving model to model/keypoint_classifier/keypoint_classifier.hdf5\n",
      "38/38 [==============================] - 0s 2ms/step - loss: 0.3495 - accuracy: 0.8876 - val_loss: 0.1622 - val_accuracy: 0.9792\n",
      "Epoch 109/1000\n"
     ]
    },
    {
     "name": "stdout",
     "output_type": "stream",
     "text": [
      " 1/38 [..............................] - ETA: 0s - loss: 0.3221 - accuracy: 0.8828\n",
      "Epoch 109: saving model to model/keypoint_classifier/keypoint_classifier.hdf5\n",
      "38/38 [==============================] - 0s 2ms/step - loss: 0.3430 - accuracy: 0.8834 - val_loss: 0.1530 - val_accuracy: 0.9767\n",
      "Epoch 110/1000\n",
      " 1/38 [..............................] - ETA: 0s - loss: 0.3079 - accuracy: 0.8828\n",
      "Epoch 110: saving model to model/keypoint_classifier/keypoint_classifier.hdf5\n",
      "38/38 [==============================] - 0s 2ms/step - loss: 0.3497 - accuracy: 0.8807 - val_loss: 0.1645 - val_accuracy: 0.9735\n",
      "Epoch 111/1000\n",
      " 1/38 [..............................] - ETA: 0s - loss: 0.2652 - accuracy: 0.9141\n",
      "Epoch 111: saving model to model/keypoint_classifier/keypoint_classifier.hdf5\n",
      "38/38 [==============================] - 0s 2ms/step - loss: 0.3550 - accuracy: 0.8828 - val_loss: 0.1642 - val_accuracy: 0.9760\n",
      "Epoch 112/1000\n",
      " 1/38 [..............................] - ETA: 0s - loss: 0.3288 - accuracy: 0.8594\n",
      "Epoch 112: saving model to model/keypoint_classifier/keypoint_classifier.hdf5\n",
      "38/38 [==============================] - 0s 2ms/step - loss: 0.3391 - accuracy: 0.8828 - val_loss: 0.1469 - val_accuracy: 0.9773\n",
      "Epoch 113/1000\n",
      " 1/38 [..............................] - ETA: 0s - loss: 0.3373 - accuracy: 0.8828\n",
      "Epoch 113: saving model to model/keypoint_classifier/keypoint_classifier.hdf5\n",
      "38/38 [==============================] - 0s 2ms/step - loss: 0.3352 - accuracy: 0.8839 - val_loss: 0.1546 - val_accuracy: 0.9785\n",
      "Epoch 114/1000\n",
      " 1/38 [..............................] - ETA: 0s - loss: 0.3462 - accuracy: 0.8984\n",
      "Epoch 114: saving model to model/keypoint_classifier/keypoint_classifier.hdf5\n",
      "38/38 [==============================] - 0s 2ms/step - loss: 0.3409 - accuracy: 0.8891 - val_loss: 0.1640 - val_accuracy: 0.9767\n",
      "Epoch 115/1000\n",
      " 1/38 [..............................] - ETA: 0s - loss: 0.2289 - accuracy: 0.9062\n",
      "Epoch 115: saving model to model/keypoint_classifier/keypoint_classifier.hdf5\n",
      "38/38 [==============================] - 0s 2ms/step - loss: 0.3320 - accuracy: 0.8862 - val_loss: 0.1551 - val_accuracy: 0.9779\n",
      "Epoch 116/1000\n",
      " 1/38 [..............................] - ETA: 0s - loss: 0.4193 - accuracy: 0.8906\n",
      "Epoch 116: saving model to model/keypoint_classifier/keypoint_classifier.hdf5\n",
      "38/38 [==============================] - 0s 2ms/step - loss: 0.3307 - accuracy: 0.8898 - val_loss: 0.1531 - val_accuracy: 0.9792\n",
      "Epoch 117/1000\n",
      " 1/38 [..............................] - ETA: 0s - loss: 0.2988 - accuracy: 0.8984\n",
      "Epoch 117: saving model to model/keypoint_classifier/keypoint_classifier.hdf5\n",
      "38/38 [==============================] - 0s 2ms/step - loss: 0.3273 - accuracy: 0.8914 - val_loss: 0.1534 - val_accuracy: 0.9792\n",
      "Epoch 118/1000\n",
      " 1/38 [..............................] - ETA: 0s - loss: 0.2966 - accuracy: 0.9062\n",
      "Epoch 118: saving model to model/keypoint_classifier/keypoint_classifier.hdf5\n",
      "38/38 [==============================] - 0s 2ms/step - loss: 0.3224 - accuracy: 0.8908 - val_loss: 0.1498 - val_accuracy: 0.9792\n",
      "Epoch 119/1000\n",
      " 1/38 [..............................] - ETA: 0s - loss: 0.2906 - accuracy: 0.8750\n",
      "Epoch 119: saving model to model/keypoint_classifier/keypoint_classifier.hdf5\n",
      "38/38 [==============================] - 0s 2ms/step - loss: 0.3229 - accuracy: 0.8946 - val_loss: 0.1472 - val_accuracy: 0.9779\n",
      "Epoch 120/1000\n",
      " 1/38 [..............................] - ETA: 0s - loss: 0.3215 - accuracy: 0.8984\n",
      "Epoch 120: saving model to model/keypoint_classifier/keypoint_classifier.hdf5\n",
      "38/38 [==============================] - 0s 2ms/step - loss: 0.3335 - accuracy: 0.8872 - val_loss: 0.1507 - val_accuracy: 0.9811\n",
      "Epoch 121/1000\n",
      " 1/38 [..............................] - ETA: 0s - loss: 0.3771 - accuracy: 0.8828\n",
      "Epoch 121: saving model to model/keypoint_classifier/keypoint_classifier.hdf5\n",
      "38/38 [==============================] - 0s 2ms/step - loss: 0.3316 - accuracy: 0.8895 - val_loss: 0.1540 - val_accuracy: 0.9785\n",
      "Epoch 122/1000\n",
      " 1/38 [..............................] - ETA: 0s - loss: 0.3209 - accuracy: 0.8828\n",
      "Epoch 122: saving model to model/keypoint_classifier/keypoint_classifier.hdf5\n",
      "38/38 [==============================] - 0s 2ms/step - loss: 0.3206 - accuracy: 0.8965 - val_loss: 0.1418 - val_accuracy: 0.9767\n",
      "Epoch 123/1000\n",
      " 1/38 [..............................] - ETA: 0s - loss: 0.2725 - accuracy: 0.9219\n",
      "Epoch 123: saving model to model/keypoint_classifier/keypoint_classifier.hdf5\n",
      "38/38 [==============================] - 0s 2ms/step - loss: 0.3329 - accuracy: 0.8885 - val_loss: 0.1487 - val_accuracy: 0.9785\n",
      "Epoch 124/1000\n",
      " 1/38 [..............................] - ETA: 0s - loss: 0.3236 - accuracy: 0.8828\n",
      "Epoch 124: saving model to model/keypoint_classifier/keypoint_classifier.hdf5\n",
      "38/38 [==============================] - 0s 2ms/step - loss: 0.3314 - accuracy: 0.8956 - val_loss: 0.1503 - val_accuracy: 0.9773\n",
      "Epoch 125/1000\n",
      " 1/38 [..............................] - ETA: 0s - loss: 0.3968 - accuracy: 0.8828\n",
      "Epoch 125: saving model to model/keypoint_classifier/keypoint_classifier.hdf5\n",
      "38/38 [==============================] - 0s 2ms/step - loss: 0.3299 - accuracy: 0.8948 - val_loss: 0.1530 - val_accuracy: 0.9785\n",
      "Epoch 126/1000\n",
      " 1/38 [..............................] - ETA: 0s - loss: 0.5033 - accuracy: 0.8047\n",
      "Epoch 126: saving model to model/keypoint_classifier/keypoint_classifier.hdf5\n",
      "38/38 [==============================] - 0s 2ms/step - loss: 0.3248 - accuracy: 0.8967 - val_loss: 0.1576 - val_accuracy: 0.9804\n",
      "Epoch 127/1000\n",
      " 1/38 [..............................] - ETA: 0s - loss: 0.2382 - accuracy: 0.9062\n",
      "Epoch 127: saving model to model/keypoint_classifier/keypoint_classifier.hdf5\n",
      "38/38 [==============================] - 0s 2ms/step - loss: 0.2926 - accuracy: 0.9043 - val_loss: 0.1502 - val_accuracy: 0.9773\n",
      "Epoch 128/1000\n",
      "38/38 [==============================] - ETA: 0s - loss: 0.3095 - accuracy: 0.8990\n",
      "Epoch 128: saving model to model/keypoint_classifier/keypoint_classifier.hdf5\n",
      "38/38 [==============================] - 0s 2ms/step - loss: 0.3095 - accuracy: 0.8990 - val_loss: 0.1455 - val_accuracy: 0.9804\n",
      "Epoch 129/1000\n",
      " 1/38 [..............................] - ETA: 0s - loss: 0.3601 - accuracy: 0.8672\n",
      "Epoch 129: saving model to model/keypoint_classifier/keypoint_classifier.hdf5\n",
      "38/38 [==============================] - 0s 2ms/step - loss: 0.3179 - accuracy: 0.8935 - val_loss: 0.1487 - val_accuracy: 0.9811\n",
      "Epoch 130/1000\n",
      " 1/38 [..............................] - ETA: 0s - loss: 0.2866 - accuracy: 0.9062\n",
      "Epoch 130: saving model to model/keypoint_classifier/keypoint_classifier.hdf5\n",
      "38/38 [==============================] - 0s 2ms/step - loss: 0.3240 - accuracy: 0.8923 - val_loss: 0.1564 - val_accuracy: 0.9779\n",
      "Epoch 131/1000\n",
      " 1/38 [..............................] - ETA: 0s - loss: 0.3926 - accuracy: 0.8359\n",
      "Epoch 131: saving model to model/keypoint_classifier/keypoint_classifier.hdf5\n",
      "38/38 [==============================] - 0s 2ms/step - loss: 0.3087 - accuracy: 0.9001 - val_loss: 0.1483 - val_accuracy: 0.9785\n",
      "Epoch 132/1000\n",
      "37/38 [============================>.] - ETA: 0s - loss: 0.3167 - accuracy: 0.8910\n",
      "Epoch 132: saving model to model/keypoint_classifier/keypoint_classifier.hdf5\n",
      "38/38 [==============================] - 0s 2ms/step - loss: 0.3167 - accuracy: 0.8908 - val_loss: 0.1536 - val_accuracy: 0.9792\n",
      "Epoch 133/1000\n",
      " 1/38 [..............................] - ETA: 0s - loss: 0.3917 - accuracy: 0.8984\n",
      "Epoch 133: saving model to model/keypoint_classifier/keypoint_classifier.hdf5\n",
      "38/38 [==============================] - 0s 2ms/step - loss: 0.3212 - accuracy: 0.8996 - val_loss: 0.1477 - val_accuracy: 0.9773\n",
      "Epoch 134/1000\n",
      " 1/38 [..............................] - ETA: 0s - loss: 0.2556 - accuracy: 0.9375\n",
      "Epoch 134: saving model to model/keypoint_classifier/keypoint_classifier.hdf5\n",
      "38/38 [==============================] - 0s 2ms/step - loss: 0.3165 - accuracy: 0.8935 - val_loss: 0.1482 - val_accuracy: 0.9785\n",
      "Epoch 135/1000\n",
      "38/38 [==============================] - ETA: 0s - loss: 0.3202 - accuracy: 0.8994\n",
      "Epoch 135: saving model to model/keypoint_classifier/keypoint_classifier.hdf5\n",
      "38/38 [==============================] - 0s 2ms/step - loss: 0.3202 - accuracy: 0.8994 - val_loss: 0.1498 - val_accuracy: 0.9779\n"
     ]
    },
    {
     "name": "stdout",
     "output_type": "stream",
     "text": [
      "Epoch 136/1000\n",
      "37/38 [============================>.] - ETA: 0s - loss: 0.3154 - accuracy: 0.9001\n",
      "Epoch 136: saving model to model/keypoint_classifier/keypoint_classifier.hdf5\n",
      "38/38 [==============================] - 0s 2ms/step - loss: 0.3150 - accuracy: 0.9003 - val_loss: 0.1378 - val_accuracy: 0.9785\n",
      "Epoch 137/1000\n",
      " 1/38 [..............................] - ETA: 0s - loss: 0.2795 - accuracy: 0.9062\n",
      "Epoch 137: saving model to model/keypoint_classifier/keypoint_classifier.hdf5\n",
      "38/38 [==============================] - 0s 2ms/step - loss: 0.3111 - accuracy: 0.8961 - val_loss: 0.1472 - val_accuracy: 0.9785\n",
      "Epoch 138/1000\n",
      " 1/38 [..............................] - ETA: 0s - loss: 0.3352 - accuracy: 0.8750\n",
      "Epoch 138: saving model to model/keypoint_classifier/keypoint_classifier.hdf5\n",
      "38/38 [==============================] - 0s 2ms/step - loss: 0.3015 - accuracy: 0.9064 - val_loss: 0.1494 - val_accuracy: 0.9798\n",
      "Epoch 139/1000\n",
      "38/38 [==============================] - ETA: 0s - loss: 0.3033 - accuracy: 0.9020\n",
      "Epoch 139: saving model to model/keypoint_classifier/keypoint_classifier.hdf5\n",
      "38/38 [==============================] - 0s 2ms/step - loss: 0.3033 - accuracy: 0.9020 - val_loss: 0.1422 - val_accuracy: 0.9779\n",
      "Epoch 140/1000\n",
      " 1/38 [..............................] - ETA: 0s - loss: 0.2849 - accuracy: 0.9062\n",
      "Epoch 140: saving model to model/keypoint_classifier/keypoint_classifier.hdf5\n",
      "38/38 [==============================] - 0s 2ms/step - loss: 0.2983 - accuracy: 0.9017 - val_loss: 0.1462 - val_accuracy: 0.9779\n",
      "Epoch 141/1000\n",
      " 1/38 [..............................] - ETA: 0s - loss: 0.4701 - accuracy: 0.8438\n",
      "Epoch 141: saving model to model/keypoint_classifier/keypoint_classifier.hdf5\n",
      "38/38 [==============================] - 0s 2ms/step - loss: 0.3109 - accuracy: 0.8984 - val_loss: 0.1445 - val_accuracy: 0.9785\n",
      "Epoch 142/1000\n",
      " 1/38 [..............................] - ETA: 0s - loss: 0.3079 - accuracy: 0.9297\n",
      "Epoch 142: saving model to model/keypoint_classifier/keypoint_classifier.hdf5\n",
      "38/38 [==============================] - 0s 2ms/step - loss: 0.2992 - accuracy: 0.9009 - val_loss: 0.1425 - val_accuracy: 0.9785\n",
      "Epoch 143/1000\n",
      "38/38 [==============================] - ETA: 0s - loss: 0.3139 - accuracy: 0.8961\n",
      "Epoch 143: saving model to model/keypoint_classifier/keypoint_classifier.hdf5\n",
      "38/38 [==============================] - 0s 3ms/step - loss: 0.3139 - accuracy: 0.8961 - val_loss: 0.1511 - val_accuracy: 0.9804\n",
      "Epoch 144/1000\n",
      " 1/38 [..............................] - ETA: 0s - loss: 0.2599 - accuracy: 0.9141\n",
      "Epoch 144: saving model to model/keypoint_classifier/keypoint_classifier.hdf5\n",
      "38/38 [==============================] - 0s 2ms/step - loss: 0.2929 - accuracy: 0.9072 - val_loss: 0.1475 - val_accuracy: 0.9785\n",
      "Epoch 145/1000\n",
      " 1/38 [..............................] - ETA: 0s - loss: 0.2904 - accuracy: 0.9062\n",
      "Epoch 145: saving model to model/keypoint_classifier/keypoint_classifier.hdf5\n",
      "38/38 [==============================] - 0s 2ms/step - loss: 0.3063 - accuracy: 0.8992 - val_loss: 0.1404 - val_accuracy: 0.9785\n",
      "Epoch 146/1000\n",
      " 1/38 [..............................] - ETA: 0s - loss: 0.2823 - accuracy: 0.9297\n",
      "Epoch 146: saving model to model/keypoint_classifier/keypoint_classifier.hdf5\n",
      "38/38 [==============================] - 0s 2ms/step - loss: 0.2987 - accuracy: 0.9083 - val_loss: 0.1465 - val_accuracy: 0.9779\n",
      "Epoch 147/1000\n",
      " 1/38 [..............................] - ETA: 0s - loss: 0.2746 - accuracy: 0.8984\n",
      "Epoch 147: saving model to model/keypoint_classifier/keypoint_classifier.hdf5\n",
      "38/38 [==============================] - 0s 2ms/step - loss: 0.3068 - accuracy: 0.9015 - val_loss: 0.1429 - val_accuracy: 0.9798\n",
      "Epoch 148/1000\n",
      " 1/38 [..............................] - ETA: 0s - loss: 0.3266 - accuracy: 0.9297\n",
      "Epoch 148: saving model to model/keypoint_classifier/keypoint_classifier.hdf5\n",
      "38/38 [==============================] - 0s 2ms/step - loss: 0.3032 - accuracy: 0.9045 - val_loss: 0.1446 - val_accuracy: 0.9823\n",
      "Epoch 149/1000\n",
      " 1/38 [..............................] - ETA: 0s - loss: 0.3844 - accuracy: 0.8984\n",
      "Epoch 149: saving model to model/keypoint_classifier/keypoint_classifier.hdf5\n",
      "38/38 [==============================] - 0s 2ms/step - loss: 0.3013 - accuracy: 0.8988 - val_loss: 0.1526 - val_accuracy: 0.9798\n",
      "Epoch 150/1000\n",
      "35/38 [==========================>...] - ETA: 0s - loss: 0.2880 - accuracy: 0.9083\n",
      "Epoch 150: saving model to model/keypoint_classifier/keypoint_classifier.hdf5\n",
      "38/38 [==============================] - 0s 3ms/step - loss: 0.2918 - accuracy: 0.9062 - val_loss: 0.1529 - val_accuracy: 0.9792\n",
      "Epoch 151/1000\n",
      "38/38 [==============================] - ETA: 0s - loss: 0.3022 - accuracy: 0.8977\n",
      "Epoch 151: saving model to model/keypoint_classifier/keypoint_classifier.hdf5\n",
      "38/38 [==============================] - 0s 2ms/step - loss: 0.3022 - accuracy: 0.8977 - val_loss: 0.1504 - val_accuracy: 0.9767\n",
      "Epoch 152/1000\n",
      "36/38 [===========================>..] - ETA: 0s - loss: 0.3029 - accuracy: 0.9082\n",
      "Epoch 152: saving model to model/keypoint_classifier/keypoint_classifier.hdf5\n",
      "38/38 [==============================] - 0s 3ms/step - loss: 0.3021 - accuracy: 0.9091 - val_loss: 0.1491 - val_accuracy: 0.9798\n",
      "Epoch 153/1000\n",
      "37/38 [============================>.] - ETA: 0s - loss: 0.3032 - accuracy: 0.9035\n",
      "Epoch 153: saving model to model/keypoint_classifier/keypoint_classifier.hdf5\n",
      "38/38 [==============================] - 0s 3ms/step - loss: 0.3025 - accuracy: 0.9036 - val_loss: 0.1473 - val_accuracy: 0.9785\n",
      "Epoch 154/1000\n",
      " 1/38 [..............................] - ETA: 0s - loss: 0.3267 - accuracy: 0.8750\n",
      "Epoch 154: saving model to model/keypoint_classifier/keypoint_classifier.hdf5\n",
      "38/38 [==============================] - 0s 2ms/step - loss: 0.2954 - accuracy: 0.9017 - val_loss: 0.1490 - val_accuracy: 0.9798\n",
      "Epoch 155/1000\n",
      " 1/38 [..............................] - ETA: 0s - loss: 0.2928 - accuracy: 0.9375\n",
      "Epoch 155: saving model to model/keypoint_classifier/keypoint_classifier.hdf5\n",
      "38/38 [==============================] - 0s 2ms/step - loss: 0.2830 - accuracy: 0.9045 - val_loss: 0.1381 - val_accuracy: 0.9785\n",
      "Epoch 156/1000\n",
      " 1/38 [..............................] - ETA: 0s - loss: 0.2283 - accuracy: 0.9297\n",
      "Epoch 156: saving model to model/keypoint_classifier/keypoint_classifier.hdf5\n",
      "38/38 [==============================] - 0s 3ms/step - loss: 0.2899 - accuracy: 0.9118 - val_loss: 0.1576 - val_accuracy: 0.9760\n",
      "Epoch 156: early stopping\n"
     ]
    },
    {
     "data": {
      "text/plain": [
       "<keras.callbacks.History at 0x7b4b6c3d6500>"
      ]
     },
     "execution_count": 11,
     "metadata": {},
     "output_type": "execute_result"
    }
   ],
   "source": [
    "model.fit(\n",
    "    X_train,\n",
    "    y_train,\n",
    "    epochs=1000,\n",
    "    batch_size=128,\n",
    "    validation_data=(X_test, y_test),\n",
    "    callbacks=[cp_callback, es_callback]\n",
    ")"
   ]
  },
  {
   "cell_type": "code",
   "execution_count": 12,
   "metadata": {
    "colab": {
     "base_uri": "https://localhost:8080/"
    },
    "id": "pxvb2Y299hE3",
    "outputId": "59eb3185-2e37-4b9e-bc9d-ab1b8ac29b7f"
   },
   "outputs": [
    {
     "name": "stdout",
     "output_type": "stream",
     "text": [
      "13/13 [==============================] - 0s 866us/step - loss: 0.1576 - accuracy: 0.9760\n"
     ]
    }
   ],
   "source": [
    "# Model evaluation\n",
    "val_loss, val_acc = model.evaluate(X_test, y_test, batch_size=128)"
   ]
  },
  {
   "cell_type": "code",
   "execution_count": 13,
   "metadata": {
    "id": "RBkmDeUW9hE4"
   },
   "outputs": [],
   "source": [
    "# Loading the saved model\n",
    "model = tf.keras.models.load_model(model_save_path)"
   ]
  },
  {
   "cell_type": "code",
   "execution_count": 14,
   "metadata": {
    "colab": {
     "base_uri": "https://localhost:8080/"
    },
    "id": "tFz9Tb0I9hE4",
    "outputId": "1c3b3528-54ae-4ee2-ab04-77429211cbef"
   },
   "outputs": [
    {
     "name": "stdout",
     "output_type": "stream",
     "text": [
      "1/1 [==============================] - 0s 58ms/step\n",
      "[1.8663524e-02 9.1192031e-01 6.6212930e-02 2.1673040e-07 2.8208843e-08\n",
      " 2.3854252e-08 2.7255615e-04 2.4831330e-03 4.4729246e-04]\n",
      "1\n"
     ]
    }
   ],
   "source": [
    "# Inference test\n",
    "predict_result = model.predict(np.array([X_test[0]]))\n",
    "print(np.squeeze(predict_result))\n",
    "print(np.argmax(np.squeeze(predict_result)))"
   ]
  },
  {
   "cell_type": "markdown",
   "metadata": {
    "id": "FNP6aqzc9hE5"
   },
   "source": [
    "# Saving Model"
   ]
  },
  {
   "cell_type": "code",
   "execution_count": 15,
   "metadata": {
    "id": "ODjnYyld9hE6"
   },
   "outputs": [],
   "source": [
    "# Save as a model dedicated to inference\n",
    "model.save(model_save_path, include_optimizer=False)"
   ]
  },
  {
   "cell_type": "code",
   "execution_count": 16,
   "metadata": {
    "colab": {
     "base_uri": "https://localhost:8080/"
    },
    "id": "zRfuK8Y59hE6",
    "outputId": "a4ca585c-b5d5-4244-8291-8674063209bb"
   },
   "outputs": [
    {
     "name": "stderr",
     "output_type": "stream",
     "text": [
      "2023-04-26 15:55:56.604553: I tensorflow/core/common_runtime/executor.cc:1197] [/device:CPU:0] (DEBUG INFO) Executor start aborting (this does not indicate an error and you can ignore this message): INVALID_ARGUMENT: You must feed a value for placeholder tensor 'input_1' with dtype float and shape [?,42]\n",
      "\t [[{{node input_1}}]]\n",
      "2023-04-26 15:55:56.656437: I tensorflow/core/common_runtime/executor.cc:1197] [/device:CPU:0] (DEBUG INFO) Executor start aborting (this does not indicate an error and you can ignore this message): INVALID_ARGUMENT: You must feed a value for placeholder tensor 'inputs' with dtype float and shape [?,42]\n",
      "\t [[{{node inputs}}]]\n",
      "2023-04-26 15:55:56.668050: I tensorflow/core/common_runtime/executor.cc:1197] [/device:CPU:0] (DEBUG INFO) Executor start aborting (this does not indicate an error and you can ignore this message): INVALID_ARGUMENT: You must feed a value for placeholder tensor 'input_1' with dtype float and shape [?,42]\n",
      "\t [[{{node input_1}}]]\n",
      "2023-04-26 15:55:56.690009: I tensorflow/core/common_runtime/executor.cc:1197] [/device:CPU:0] (DEBUG INFO) Executor start aborting (this does not indicate an error and you can ignore this message): INVALID_ARGUMENT: You must feed a value for placeholder tensor 'inputs' with dtype float and shape [?,42]\n",
      "\t [[{{node inputs}}]]\n",
      "2023-04-26 15:55:56.703119: I tensorflow/core/common_runtime/executor.cc:1197] [/device:CPU:0] (DEBUG INFO) Executor start aborting (this does not indicate an error and you can ignore this message): INVALID_ARGUMENT: You must feed a value for placeholder tensor 'inputs' with dtype float and shape [?,80]\n",
      "\t [[{{node inputs}}]]\n",
      "2023-04-26 15:55:56.724324: I tensorflow/core/common_runtime/executor.cc:1197] [/device:CPU:0] (DEBUG INFO) Executor start aborting (this does not indicate an error and you can ignore this message): INVALID_ARGUMENT: You must feed a value for placeholder tensor 'inputs' with dtype float and shape [?,42]\n",
      "\t [[{{node inputs}}]]\n",
      "2023-04-26 15:55:56.789958: I tensorflow/core/common_runtime/executor.cc:1197] [/device:CPU:0] (DEBUG INFO) Executor start aborting (this does not indicate an error and you can ignore this message): INVALID_ARGUMENT: You must feed a value for placeholder tensor 'inputs' with dtype float and shape [?,42]\n",
      "\t [[{{node inputs}}]]\n",
      "2023-04-26 15:55:56.846111: I tensorflow/core/common_runtime/executor.cc:1197] [/device:CPU:0] (DEBUG INFO) Executor start aborting (this does not indicate an error and you can ignore this message): INVALID_ARGUMENT: You must feed a value for placeholder tensor 'inputs' with dtype float and shape [?,42]\n",
      "\t [[{{node inputs}}]]\n",
      "2023-04-26 15:55:56.875372: I tensorflow/core/common_runtime/executor.cc:1197] [/device:CPU:0] (DEBUG INFO) Executor start aborting (this does not indicate an error and you can ignore this message): INVALID_ARGUMENT: You must feed a value for placeholder tensor 'inputs' with dtype float and shape [?,80]\n",
      "\t [[{{node inputs}}]]\n",
      "WARNING:absl:Found untraced functions such as _update_step_xla while saving (showing 1 of 1). These functions will not be directly callable after loading.\n"
     ]
    },
    {
     "name": "stdout",
     "output_type": "stream",
     "text": [
      "INFO:tensorflow:Assets written to: /tmp/tmplkt3rx8z/assets\n"
     ]
    },
    {
     "name": "stderr",
     "output_type": "stream",
     "text": [
      "INFO:tensorflow:Assets written to: /tmp/tmplkt3rx8z/assets\n",
      "2023-04-26 15:55:57.516081: W tensorflow/compiler/mlir/lite/python/tf_tfl_flatbuffer_helpers.cc:364] Ignored output_format.\n",
      "2023-04-26 15:55:57.516114: W tensorflow/compiler/mlir/lite/python/tf_tfl_flatbuffer_helpers.cc:367] Ignored drop_control_dependency.\n",
      "2023-04-26 15:55:57.516409: I tensorflow/cc/saved_model/reader.cc:45] Reading SavedModel from: /tmp/tmplkt3rx8z\n",
      "2023-04-26 15:55:57.517475: I tensorflow/cc/saved_model/reader.cc:89] Reading meta graph with tags { serve }\n",
      "2023-04-26 15:55:57.517490: I tensorflow/cc/saved_model/reader.cc:130] Reading SavedModel debug info (if present) from: /tmp/tmplkt3rx8z\n",
      "2023-04-26 15:55:57.520977: I tensorflow/compiler/mlir/mlir_graph_optimization_pass.cc:353] MLIR V1 optimization pass is not enabled\n",
      "2023-04-26 15:55:57.521990: I tensorflow/cc/saved_model/loader.cc:231] Restoring SavedModel bundle.\n",
      "2023-04-26 15:55:57.555968: I tensorflow/cc/saved_model/loader.cc:215] Running initialization op on SavedModel bundle at path: /tmp/tmplkt3rx8z\n",
      "2023-04-26 15:55:57.565354: I tensorflow/cc/saved_model/loader.cc:314] SavedModel load for tags { serve }; Status: success: OK. Took 48946 microseconds.\n",
      "2023-04-26 15:55:57.582498: I tensorflow/compiler/mlir/tensorflow/utils/dump_mlir_util.cc:269] disabling MLIR crash reproducer, set env var `MLIR_CRASH_REPRODUCER_DIRECTORY` to enable.\n"
     ]
    },
    {
     "data": {
      "text/plain": [
       "9504"
      ]
     },
     "execution_count": 16,
     "metadata": {},
     "output_type": "execute_result"
    }
   ],
   "source": [
    "# Transform model (quantization)\n",
    "\n",
    "converter = tf.lite.TFLiteConverter.from_keras_model(model)\n",
    "converter.optimizations = [tf.lite.Optimize.DEFAULT]\n",
    "tflite_quantized_model = converter.convert()\n",
    "\n",
    "open(tflite_save_path, 'wb').write(tflite_quantized_model)"
   ]
  },
  {
   "cell_type": "markdown",
   "metadata": {
    "id": "CHBPBXdx9hE6"
   },
   "source": [
    "# Inference test"
   ]
  },
  {
   "cell_type": "code",
   "execution_count": 17,
   "metadata": {
    "id": "mGAzLocO9hE7"
   },
   "outputs": [
    {
     "name": "stderr",
     "output_type": "stream",
     "text": [
      "INFO: Created TensorFlow Lite XNNPACK delegate for CPU.\n"
     ]
    }
   ],
   "source": [
    "interpreter = tf.lite.Interpreter(model_path=tflite_save_path)\n",
    "interpreter.allocate_tensors()"
   ]
  },
  {
   "cell_type": "code",
   "execution_count": 18,
   "metadata": {
    "id": "oQuDK8YS9hE7"
   },
   "outputs": [],
   "source": [
    "# Get I / O tensor\n",
    "input_details = interpreter.get_input_details()\n",
    "output_details = interpreter.get_output_details()"
   ]
  },
  {
   "cell_type": "code",
   "execution_count": 19,
   "metadata": {
    "id": "2_ixAf_l9hE7"
   },
   "outputs": [],
   "source": [
    "interpreter.set_tensor(input_details[0]['index'], np.array([X_test[0]]))"
   ]
  },
  {
   "cell_type": "code",
   "execution_count": 20,
   "metadata": {
    "colab": {
     "base_uri": "https://localhost:8080/"
    },
    "id": "s4FoAnuc9hE7",
    "outputId": "91f18257-8d8b-4ef3-c558-e9b5f94fabbf",
    "scrolled": true
   },
   "outputs": [
    {
     "name": "stdout",
     "output_type": "stream",
     "text": [
      "CPU times: user 334 µs, sys: 19 µs, total: 353 µs\n",
      "Wall time: 390 µs\n"
     ]
    }
   ],
   "source": [
    "%%time\n",
    "# Inference implementation\n",
    "interpreter.invoke()\n",
    "tflite_results = interpreter.get_tensor(output_details[0]['index'])"
   ]
  },
  {
   "cell_type": "code",
   "execution_count": 21,
   "metadata": {
    "colab": {
     "base_uri": "https://localhost:8080/"
    },
    "id": "vONjp19J9hE8",
    "outputId": "77205e24-fd00-42c4-f7b6-e06e527c2cba"
   },
   "outputs": [
    {
     "name": "stdout",
     "output_type": "stream",
     "text": [
      "[1.9910662e-02 9.1179222e-01 6.5045729e-02 2.2865169e-07 2.8124193e-08\n",
      " 2.2103707e-08 2.5026157e-04 2.5379509e-03 4.6290187e-04]\n",
      "1\n"
     ]
    }
   ],
   "source": [
    "print(np.squeeze(tflite_results))\n",
    "print(np.argmax(np.squeeze(tflite_results)))"
   ]
  }
 ],
 "metadata": {
  "accelerator": "GPU",
  "colab": {
   "collapsed_sections": [],
   "name": "keypoint_classification_EN.ipynb",
   "provenance": [],
   "toc_visible": true
  },
  "kernelspec": {
   "display_name": "Python 3 (ipykernel)",
   "language": "python",
   "name": "python3"
  },
  "language_info": {
   "codemirror_mode": {
    "name": "ipython",
    "version": 3
   },
   "file_extension": ".py",
   "mimetype": "text/x-python",
   "name": "python",
   "nbconvert_exporter": "python",
   "pygments_lexer": "ipython3",
   "version": "3.10.9"
  }
 },
 "nbformat": 4,
 "nbformat_minor": 1
}
