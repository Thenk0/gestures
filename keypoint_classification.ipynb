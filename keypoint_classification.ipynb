{
 "cells": [
  {
   "cell_type": "code",
   "execution_count": 1,
   "metadata": {
    "id": "igMyGnjE9hEp"
   },
   "outputs": [
    {
     "name": "stderr",
     "output_type": "stream",
     "text": [
      "2023-04-27 16:42:19.374007: I tensorflow/tsl/cuda/cudart_stub.cc:28] Could not find cuda drivers on your machine, GPU will not be used.\n",
      "2023-04-27 16:42:19.718422: I tensorflow/tsl/cuda/cudart_stub.cc:28] Could not find cuda drivers on your machine, GPU will not be used.\n",
      "2023-04-27 16:42:19.719902: I tensorflow/core/platform/cpu_feature_guard.cc:182] This TensorFlow binary is optimized to use available CPU instructions in performance-critical operations.\n",
      "To enable the following instructions: AVX2 FMA, in other operations, rebuild TensorFlow with the appropriate compiler flags.\n",
      "2023-04-27 16:42:20.784663: W tensorflow/compiler/tf2tensorrt/utils/py_utils.cc:38] TF-TRT Warning: Could not find TensorRT\n"
     ]
    }
   ],
   "source": [
    "import csv\n",
    "\n",
    "import numpy as np\n",
    "import tensorflow as tf\n",
    "from sklearn.model_selection import train_test_split\n",
    "\n",
    "RANDOM_SEED = 42"
   ]
  },
  {
   "cell_type": "markdown",
   "metadata": {
    "id": "t2HDvhIu9hEr"
   },
   "source": [
    "# Specify each path"
   ]
  },
  {
   "cell_type": "code",
   "execution_count": 2,
   "metadata": {
    "id": "9NvZP2Zn9hEy"
   },
   "outputs": [],
   "source": [
    "dataset = 'model/keypoint_classifier/keypoint.csv'\n",
    "model_save_path = 'model/keypoint_classifier/keypoint_classifier.hdf5'\n",
    "tflite_save_path = 'model/keypoint_classifier/keypoint_classifier.tflite'"
   ]
  },
  {
   "cell_type": "markdown",
   "metadata": {
    "id": "s5oMH7x19hEz"
   },
   "source": [
    "# Set number of classes"
   ]
  },
  {
   "cell_type": "code",
   "execution_count": 3,
   "metadata": {
    "id": "du4kodXL9hEz"
   },
   "outputs": [],
   "source": [
    "NUM_CLASSES = 9"
   ]
  },
  {
   "cell_type": "markdown",
   "metadata": {
    "id": "XjnL0uso9hEz"
   },
   "source": [
    "# Dataset reading"
   ]
  },
  {
   "cell_type": "code",
   "execution_count": 4,
   "metadata": {
    "id": "QT5ZqtEz9hE0"
   },
   "outputs": [],
   "source": [
    "X_dataset = np.loadtxt(dataset, delimiter=',', dtype='float32', usecols=list(range(1, (21 * 2) + 1)))"
   ]
  },
  {
   "cell_type": "code",
   "execution_count": 5,
   "metadata": {
    "id": "QmoKFsp49hE0"
   },
   "outputs": [],
   "source": [
    "y_dataset = np.loadtxt(dataset, delimiter=',', dtype='int32', usecols=(0))"
   ]
  },
  {
   "cell_type": "code",
   "execution_count": 6,
   "metadata": {
    "id": "xQU7JTZ_9hE0"
   },
   "outputs": [],
   "source": [
    "X_train, X_test, y_train, y_test = train_test_split(X_dataset, y_dataset, train_size=0.75, random_state=RANDOM_SEED)"
   ]
  },
  {
   "cell_type": "markdown",
   "metadata": {
    "id": "mxK_lETT9hE0"
   },
   "source": [
    "# Model building"
   ]
  },
  {
   "cell_type": "code",
   "execution_count": 7,
   "metadata": {
    "id": "vHBmUf1t9hE1"
   },
   "outputs": [],
   "source": [
    "model = tf.keras.models.Sequential([\n",
    "    tf.keras.layers.Input((21 * 2, )),\n",
    "    tf.keras.layers.Dropout(0.2),\n",
    "    tf.keras.layers.Dense(80, activation='relu'),\n",
    "    tf.keras.layers.Dropout(0.4),\n",
    "    tf.keras.layers.Dense(10, activation='relu'),\n",
    "    tf.keras.layers.Dense(NUM_CLASSES, activation='softmax')\n",
    "])"
   ]
  },
  {
   "cell_type": "code",
   "execution_count": 8,
   "metadata": {
    "colab": {
     "base_uri": "https://localhost:8080/"
    },
    "id": "ypqky9tc9hE1",
    "outputId": "5db082bb-30e3-4110-bf63-a1ee777ecd46"
   },
   "outputs": [
    {
     "name": "stdout",
     "output_type": "stream",
     "text": [
      "Model: \"sequential\"\n",
      "_________________________________________________________________\n",
      " Layer (type)                Output Shape              Param #   \n",
      "=================================================================\n",
      " dropout (Dropout)           (None, 42)                0         \n",
      "                                                                 \n",
      " dense (Dense)               (None, 80)                3440      \n",
      "                                                                 \n",
      " dropout_1 (Dropout)         (None, 80)                0         \n",
      "                                                                 \n",
      " dense_1 (Dense)             (None, 10)                810       \n",
      "                                                                 \n",
      " dense_2 (Dense)             (None, 9)                 99        \n",
      "                                                                 \n",
      "=================================================================\n",
      "Total params: 4,349\n",
      "Trainable params: 4,349\n",
      "Non-trainable params: 0\n",
      "_________________________________________________________________\n"
     ]
    }
   ],
   "source": [
    "model.summary()  # tf.keras.utils.plot_model(model, show_shapes=True)"
   ]
  },
  {
   "cell_type": "code",
   "execution_count": 9,
   "metadata": {
    "id": "MbMjOflQ9hE1"
   },
   "outputs": [],
   "source": [
    "# Model checkpoint callback\n",
    "cp_callback = tf.keras.callbacks.ModelCheckpoint(\n",
    "    model_save_path, verbose=1, save_weights_only=False)\n",
    "# Callback for early stopping\n",
    "es_callback = tf.keras.callbacks.EarlyStopping(patience=20, verbose=1)"
   ]
  },
  {
   "cell_type": "code",
   "execution_count": 10,
   "metadata": {
    "id": "c3Dac0M_9hE2"
   },
   "outputs": [],
   "source": [
    "# Model compilation\n",
    "model.compile(\n",
    "    optimizer='adam',\n",
    "    loss='sparse_categorical_crossentropy',\n",
    "    metrics=['accuracy']\n",
    ")"
   ]
  },
  {
   "cell_type": "markdown",
   "metadata": {
    "id": "7XI0j1Iu9hE2"
   },
   "source": [
    "# Model training"
   ]
  },
  {
   "cell_type": "code",
   "execution_count": 11,
   "metadata": {
    "colab": {
     "base_uri": "https://localhost:8080/"
    },
    "id": "WirBl-JE9hE3",
    "outputId": "71b30ca2-8294-4d9d-8aa2-800d90d399de",
    "scrolled": true
   },
   "outputs": [
    {
     "name": "stdout",
     "output_type": "stream",
     "text": [
      "Epoch 1/1000\n",
      " 1/41 [..............................] - ETA: 24s - loss: 2.2779 - accuracy: 0.1484\n",
      "Epoch 1: saving model to model/keypoint_classifier/keypoint_classifier.hdf5\n",
      "41/41 [==============================] - 1s 6ms/step - loss: 2.0986 - accuracy: 0.1988 - val_loss: 1.9193 - val_accuracy: 0.2915\n",
      "Epoch 2/1000\n",
      "40/41 [============================>.] - ETA: 0s - loss: 1.8129 - accuracy: 0.3225\n",
      "Epoch 2: saving model to model/keypoint_classifier/keypoint_classifier.hdf5\n",
      "41/41 [==============================] - 0s 2ms/step - loss: 1.8103 - accuracy: 0.3243 - val_loss: 1.5945 - val_accuracy: 0.4303\n",
      "Epoch 3/1000\n",
      " 1/41 [..............................] - ETA: 0s - loss: 1.6308 - accuracy: 0.3906\n",
      "Epoch 3: saving model to model/keypoint_classifier/keypoint_classifier.hdf5\n",
      "41/41 [==============================] - 0s 2ms/step - loss: 1.5202 - accuracy: 0.4279 - val_loss: 1.3410 - val_accuracy: 0.5180\n",
      "Epoch 4/1000\n",
      "41/41 [==============================] - ETA: 0s - loss: 1.3090 - accuracy: 0.4858\n",
      "Epoch 4: saving model to model/keypoint_classifier/keypoint_classifier.hdf5\n",
      "41/41 [==============================] - 0s 2ms/step - loss: 1.3090 - accuracy: 0.4858 - val_loss: 1.1385 - val_accuracy: 0.5523\n",
      "Epoch 5/1000\n",
      " 1/41 [..............................] - ETA: 0s - loss: 1.3257 - accuracy: 0.4688\n",
      "Epoch 5: saving model to model/keypoint_classifier/keypoint_classifier.hdf5\n",
      "41/41 [==============================] - 0s 2ms/step - loss: 1.1665 - accuracy: 0.5284 - val_loss: 0.9767 - val_accuracy: 0.6086\n",
      "Epoch 6/1000\n",
      "39/41 [===========================>..] - ETA: 0s - loss: 1.0618 - accuracy: 0.5509\n",
      "Epoch 6: saving model to model/keypoint_classifier/keypoint_classifier.hdf5\n",
      "41/41 [==============================] - 0s 2ms/step - loss: 1.0582 - accuracy: 0.5533 - val_loss: 0.8486 - val_accuracy: 0.6771\n",
      "Epoch 7/1000\n",
      " 1/41 [..............................] - ETA: 0s - loss: 0.9551 - accuracy: 0.6328\n",
      "Epoch 7: saving model to model/keypoint_classifier/keypoint_classifier.hdf5\n",
      "41/41 [==============================] - 0s 2ms/step - loss: 0.9810 - accuracy: 0.6056 - val_loss: 0.7564 - val_accuracy: 0.7224\n",
      "Epoch 8/1000\n",
      " 1/41 [..............................] - ETA: 0s - loss: 0.8900 - accuracy: 0.6719\n",
      "Epoch 8: saving model to model/keypoint_classifier/keypoint_classifier.hdf5\n",
      "41/41 [==============================] - 0s 2ms/step - loss: 0.9251 - accuracy: 0.6261 - val_loss: 0.6843 - val_accuracy: 0.8508\n",
      "Epoch 9/1000\n",
      " 1/41 [..............................] - ETA: 0s - loss: 0.9437 - accuracy: 0.6250\n",
      "Epoch 9: saving model to model/keypoint_classifier/keypoint_classifier.hdf5\n",
      "41/41 [==============================] - 0s 2ms/step - loss: 0.8627 - accuracy: 0.6565 - val_loss: 0.6145 - val_accuracy: 0.8995\n",
      "Epoch 10/1000\n",
      " 1/41 [..............................] - ETA: 0s - loss: 0.7814 - accuracy: 0.7031\n",
      "Epoch 10: saving model to model/keypoint_classifier/keypoint_classifier.hdf5\n",
      "41/41 [==============================] - 0s 2ms/step - loss: 0.8270 - accuracy: 0.6773 - val_loss: 0.5651 - val_accuracy: 0.9024\n",
      "Epoch 11/1000\n",
      " 1/41 [..............................] - ETA: 0s - loss: 0.8375 - accuracy: 0.7109\n",
      "Epoch 11: saving model to model/keypoint_classifier/keypoint_classifier.hdf5\n",
      "41/41 [==============================] - 0s 2ms/step - loss: 0.7994 - accuracy: 0.6883 - val_loss: 0.5293 - val_accuracy: 0.9303\n",
      "Epoch 12/1000\n",
      " 1/41 [..............................] - ETA: 0s - loss: 0.7277 - accuracy: 0.7578\n",
      "Epoch 12: saving model to model/keypoint_classifier/keypoint_classifier.hdf5\n",
      "41/41 [==============================] - 0s 2ms/step - loss: 0.7724 - accuracy: 0.7065 - val_loss: 0.4899 - val_accuracy: 0.9506\n",
      "Epoch 13/1000\n",
      " 1/41 [..............................] - ETA: 0s - loss: 0.6752 - accuracy: 0.7734\n",
      "Epoch 13: saving model to model/keypoint_classifier/keypoint_classifier.hdf5\n",
      "41/41 [==============================] - 0s 2ms/step - loss: 0.7402 - accuracy: 0.7086 - val_loss: 0.4668 - val_accuracy: 0.9396\n",
      "Epoch 14/1000\n",
      " 1/41 [..............................] - ETA: 0s - loss: 0.6679 - accuracy: 0.7891\n",
      "Epoch 14: saving model to model/keypoint_classifier/keypoint_classifier.hdf5\n",
      "41/41 [==============================] - 0s 2ms/step - loss: 0.7167 - accuracy: 0.7289 - val_loss: 0.4374 - val_accuracy: 0.9495\n",
      "Epoch 15/1000\n",
      "20/41 [=============>................] - ETA: 0s - loss: 0.6905 - accuracy: 0.7371\n",
      "Epoch 15: saving model to model/keypoint_classifier/keypoint_classifier.hdf5\n",
      "41/41 [==============================] - 0s 3ms/step - loss: 0.6820 - accuracy: 0.7400 - val_loss: 0.4198 - val_accuracy: 0.9506\n",
      "Epoch 16/1000\n",
      " 1/41 [..............................] - ETA: 0s - loss: 0.6739 - accuracy: 0.7656\n",
      "Epoch 16: saving model to model/keypoint_classifier/keypoint_classifier.hdf5\n",
      "41/41 [==============================] - 0s 2ms/step - loss: 0.6925 - accuracy: 0.7280 - val_loss: 0.4094 - val_accuracy: 0.9408\n",
      "Epoch 17/1000\n",
      " 1/41 [..............................] - ETA: 0s - loss: 0.7127 - accuracy: 0.6953\n",
      "Epoch 17: saving model to model/keypoint_classifier/keypoint_classifier.hdf5\n",
      "41/41 [==============================] - 0s 2ms/step - loss: 0.6838 - accuracy: 0.7342 - val_loss: 0.3896 - val_accuracy: 0.9553\n",
      "Epoch 18/1000\n",
      " 1/41 [..............................] - ETA: 0s - loss: 0.7108 - accuracy: 0.7031\n",
      "Epoch 18: saving model to model/keypoint_classifier/keypoint_classifier.hdf5\n",
      "41/41 [==============================] - 0s 2ms/step - loss: 0.6588 - accuracy: 0.7557 - val_loss: 0.3699 - val_accuracy: 0.9576\n",
      "Epoch 19/1000\n",
      " 1/41 [..............................] - ETA: 0s - loss: 0.5442 - accuracy: 0.8438\n",
      "Epoch 19: saving model to model/keypoint_classifier/keypoint_classifier.hdf5\n",
      "41/41 [==============================] - 0s 2ms/step - loss: 0.6450 - accuracy: 0.7593 - val_loss: 0.3640 - val_accuracy: 0.9588\n",
      "Epoch 20/1000\n",
      " 1/41 [..............................] - ETA: 0s - loss: 0.6488 - accuracy: 0.7969\n",
      "Epoch 20: saving model to model/keypoint_classifier/keypoint_classifier.hdf5\n",
      "41/41 [==============================] - 0s 2ms/step - loss: 0.6371 - accuracy: 0.7605 - val_loss: 0.3521 - val_accuracy: 0.9593\n",
      "Epoch 21/1000\n",
      " 1/41 [..............................] - ETA: 0s - loss: 0.6895 - accuracy: 0.7344\n",
      "Epoch 21: saving model to model/keypoint_classifier/keypoint_classifier.hdf5\n",
      "41/41 [==============================] - 0s 2ms/step - loss: 0.6187 - accuracy: 0.7698 - val_loss: 0.3389 - val_accuracy: 0.9628\n",
      "Epoch 22/1000\n",
      " 1/41 [..............................] - ETA: 0s - loss: 0.6455 - accuracy: 0.7344\n",
      "Epoch 22: saving model to model/keypoint_classifier/keypoint_classifier.hdf5\n",
      "41/41 [==============================] - 0s 2ms/step - loss: 0.5978 - accuracy: 0.7742 - val_loss: 0.3215 - val_accuracy: 0.9628\n",
      "Epoch 23/1000\n",
      " 1/41 [..............................] - ETA: 0s - loss: 0.6467 - accuracy: 0.7344\n",
      "Epoch 23: saving model to model/keypoint_classifier/keypoint_classifier.hdf5\n",
      "41/41 [==============================] - 0s 2ms/step - loss: 0.5935 - accuracy: 0.7818 - val_loss: 0.3250 - val_accuracy: 0.9506\n",
      "Epoch 24/1000\n",
      " 1/41 [..............................] - ETA: 0s - loss: 0.5609 - accuracy: 0.7969\n",
      "Epoch 24: saving model to model/keypoint_classifier/keypoint_classifier.hdf5\n",
      "41/41 [==============================] - 0s 2ms/step - loss: 0.5815 - accuracy: 0.7816 - val_loss: 0.2993 - val_accuracy: 0.9634\n",
      "Epoch 25/1000\n",
      " 1/41 [..............................] - ETA: 0s - loss: 0.6703 - accuracy: 0.7578\n",
      "Epoch 25: saving model to model/keypoint_classifier/keypoint_classifier.hdf5\n",
      "41/41 [==============================] - 0s 2ms/step - loss: 0.5761 - accuracy: 0.7857 - val_loss: 0.2969 - val_accuracy: 0.9646\n",
      "Epoch 26/1000\n",
      "41/41 [==============================] - ETA: 0s - loss: 0.5796 - accuracy: 0.7897\n",
      "Epoch 26: saving model to model/keypoint_classifier/keypoint_classifier.hdf5\n",
      "41/41 [==============================] - 0s 4ms/step - loss: 0.5796 - accuracy: 0.7897 - val_loss: 0.2906 - val_accuracy: 0.9623\n",
      "Epoch 27/1000\n",
      " 1/41 [..............................] - ETA: 0s - loss: 0.5296 - accuracy: 0.7969\n",
      "Epoch 27: saving model to model/keypoint_classifier/keypoint_classifier.hdf5\n",
      "41/41 [==============================] - 0s 2ms/step - loss: 0.5495 - accuracy: 0.8037 - val_loss: 0.2870 - val_accuracy: 0.9605\n",
      "Epoch 28/1000\n",
      " 1/41 [..............................] - ETA: 0s - loss: 0.4302 - accuracy: 0.8516\n",
      "Epoch 28: saving model to model/keypoint_classifier/keypoint_classifier.hdf5\n",
      "41/41 [==============================] - 0s 2ms/step - loss: 0.5467 - accuracy: 0.7998 - val_loss: 0.2790 - val_accuracy: 0.9617\n",
      "Epoch 29/1000\n",
      " 1/41 [..............................] - ETA: 0s - loss: 0.5692 - accuracy: 0.7734\n",
      "Epoch 29: saving model to model/keypoint_classifier/keypoint_classifier.hdf5\n",
      "41/41 [==============================] - 0s 2ms/step - loss: 0.5570 - accuracy: 0.7986 - val_loss: 0.2832 - val_accuracy: 0.9588\n",
      "Epoch 30/1000\n",
      " 1/41 [..............................] - ETA: 0s - loss: 0.5156 - accuracy: 0.8438\n",
      "Epoch 30: saving model to model/keypoint_classifier/keypoint_classifier.hdf5\n",
      "41/41 [==============================] - 0s 2ms/step - loss: 0.5302 - accuracy: 0.8074 - val_loss: 0.2689 - val_accuracy: 0.9628\n",
      "Epoch 31/1000\n",
      " 1/41 [..............................] - ETA: 0s - loss: 0.5033 - accuracy: 0.8359\n",
      "Epoch 31: saving model to model/keypoint_classifier/keypoint_classifier.hdf5\n",
      "41/41 [==============================] - 0s 2ms/step - loss: 0.5427 - accuracy: 0.8010 - val_loss: 0.2592 - val_accuracy: 0.9675\n",
      "Epoch 32/1000\n",
      "41/41 [==============================] - ETA: 0s - loss: 0.5378 - accuracy: 0.8077\n",
      "Epoch 32: saving model to model/keypoint_classifier/keypoint_classifier.hdf5\n",
      "41/41 [==============================] - 0s 4ms/step - loss: 0.5378 - accuracy: 0.8077 - val_loss: 0.2667 - val_accuracy: 0.9646\n",
      "Epoch 33/1000\n",
      " 1/41 [..............................] - ETA: 0s - loss: 0.4493 - accuracy: 0.8594\n",
      "Epoch 33: saving model to model/keypoint_classifier/keypoint_classifier.hdf5\n",
      "41/41 [==============================] - 0s 2ms/step - loss: 0.5263 - accuracy: 0.8081 - val_loss: 0.2646 - val_accuracy: 0.9605\n",
      "Epoch 34/1000\n",
      " 1/41 [..............................] - ETA: 0s - loss: 0.4981 - accuracy: 0.8359\n",
      "Epoch 34: saving model to model/keypoint_classifier/keypoint_classifier.hdf5\n",
      "41/41 [==============================] - 0s 2ms/step - loss: 0.5234 - accuracy: 0.8039 - val_loss: 0.2656 - val_accuracy: 0.9605\n",
      "Epoch 35/1000\n",
      "36/41 [=========================>....] - ETA: 0s - loss: 0.5008 - accuracy: 0.8103\n",
      "Epoch 35: saving model to model/keypoint_classifier/keypoint_classifier.hdf5\n",
      "41/41 [==============================] - 0s 3ms/step - loss: 0.5020 - accuracy: 0.8116 - val_loss: 0.2548 - val_accuracy: 0.9611\n",
      "Epoch 36/1000\n",
      "40/41 [============================>.] - ETA: 0s - loss: 0.5015 - accuracy: 0.8172\n",
      "Epoch 36: saving model to model/keypoint_classifier/keypoint_classifier.hdf5\n",
      "41/41 [==============================] - 0s 2ms/step - loss: 0.5012 - accuracy: 0.8172 - val_loss: 0.2483 - val_accuracy: 0.9640\n",
      "Epoch 37/1000\n",
      " 1/41 [..............................] - ETA: 0s - loss: 0.4451 - accuracy: 0.8438\n",
      "Epoch 37: saving model to model/keypoint_classifier/keypoint_classifier.hdf5\n",
      "41/41 [==============================] - 0s 2ms/step - loss: 0.4814 - accuracy: 0.8304 - val_loss: 0.2385 - val_accuracy: 0.9634\n",
      "Epoch 38/1000\n",
      "41/41 [==============================] - ETA: 0s - loss: 0.4826 - accuracy: 0.8196\n",
      "Epoch 38: saving model to model/keypoint_classifier/keypoint_classifier.hdf5\n",
      "41/41 [==============================] - 0s 2ms/step - loss: 0.4826 - accuracy: 0.8196 - val_loss: 0.2397 - val_accuracy: 0.9646\n",
      "Epoch 39/1000\n",
      "32/41 [======================>.......] - ETA: 0s - loss: 0.4755 - accuracy: 0.8274\n",
      "Epoch 39: saving model to model/keypoint_classifier/keypoint_classifier.hdf5\n",
      "41/41 [==============================] - 0s 3ms/step - loss: 0.4805 - accuracy: 0.8261 - val_loss: 0.2387 - val_accuracy: 0.9599\n",
      "Epoch 40/1000\n",
      " 1/41 [..............................] - ETA: 0s - loss: 0.4187 - accuracy: 0.8125\n",
      "Epoch 40: saving model to model/keypoint_classifier/keypoint_classifier.hdf5\n",
      "41/41 [==============================] - 0s 2ms/step - loss: 0.4686 - accuracy: 0.8321 - val_loss: 0.2325 - val_accuracy: 0.9657\n",
      "Epoch 41/1000\n",
      " 1/41 [..............................] - ETA: 0s - loss: 0.3407 - accuracy: 0.9062\n",
      "Epoch 41: saving model to model/keypoint_classifier/keypoint_classifier.hdf5\n",
      "41/41 [==============================] - 0s 3ms/step - loss: 0.4841 - accuracy: 0.8287 - val_loss: 0.2340 - val_accuracy: 0.9652\n",
      "Epoch 42/1000\n",
      "34/41 [=======================>......] - ETA: 0s - loss: 0.4574 - accuracy: 0.8375\n",
      "Epoch 42: saving model to model/keypoint_classifier/keypoint_classifier.hdf5\n",
      "41/41 [==============================] - 0s 3ms/step - loss: 0.4568 - accuracy: 0.8383 - val_loss: 0.2207 - val_accuracy: 0.9675\n",
      "Epoch 43/1000\n",
      "34/41 [=======================>......] - ETA: 0s - loss: 0.4449 - accuracy: 0.8447\n",
      "Epoch 43: saving model to model/keypoint_classifier/keypoint_classifier.hdf5\n",
      "41/41 [==============================] - 0s 2ms/step - loss: 0.4450 - accuracy: 0.8441 - val_loss: 0.2244 - val_accuracy: 0.9657\n",
      "Epoch 44/1000\n",
      " 1/41 [..............................] - ETA: 0s - loss: 0.4413 - accuracy: 0.8516\n",
      "Epoch 44: saving model to model/keypoint_classifier/keypoint_classifier.hdf5\n",
      "41/41 [==============================] - 0s 2ms/step - loss: 0.4475 - accuracy: 0.8358 - val_loss: 0.2141 - val_accuracy: 0.9669\n",
      "Epoch 45/1000\n",
      "38/41 [==========================>...] - ETA: 0s - loss: 0.4532 - accuracy: 0.8351\n",
      "Epoch 45: saving model to model/keypoint_classifier/keypoint_classifier.hdf5\n",
      "41/41 [==============================] - 0s 2ms/step - loss: 0.4542 - accuracy: 0.8354 - val_loss: 0.2122 - val_accuracy: 0.9663\n",
      "Epoch 46/1000\n",
      " 1/41 [..............................] - ETA: 0s - loss: 0.4746 - accuracy: 0.8594\n",
      "Epoch 46: saving model to model/keypoint_classifier/keypoint_classifier.hdf5\n",
      "41/41 [==============================] - 0s 2ms/step - loss: 0.4512 - accuracy: 0.8364 - val_loss: 0.2138 - val_accuracy: 0.9686\n",
      "Epoch 47/1000\n",
      " 1/41 [..............................] - ETA: 0s - loss: 0.4787 - accuracy: 0.7891\n",
      "Epoch 47: saving model to model/keypoint_classifier/keypoint_classifier.hdf5\n",
      "41/41 [==============================] - 0s 2ms/step - loss: 0.4553 - accuracy: 0.8366 - val_loss: 0.2199 - val_accuracy: 0.9681\n",
      "Epoch 48/1000\n",
      " 1/41 [..............................] - ETA: 0s - loss: 0.4000 - accuracy: 0.8672\n",
      "Epoch 48: saving model to model/keypoint_classifier/keypoint_classifier.hdf5\n",
      "41/41 [==============================] - 0s 2ms/step - loss: 0.4456 - accuracy: 0.8391 - val_loss: 0.2098 - val_accuracy: 0.9698\n",
      "Epoch 49/1000\n",
      " 1/41 [..............................] - ETA: 0s - loss: 0.4975 - accuracy: 0.8203\n",
      "Epoch 49: saving model to model/keypoint_classifier/keypoint_classifier.hdf5\n",
      "41/41 [==============================] - 0s 2ms/step - loss: 0.4541 - accuracy: 0.8358 - val_loss: 0.2125 - val_accuracy: 0.9692\n",
      "Epoch 50/1000\n",
      " 1/41 [..............................] - ETA: 0s - loss: 0.4567 - accuracy: 0.8438\n",
      "Epoch 50: saving model to model/keypoint_classifier/keypoint_classifier.hdf5\n",
      "41/41 [==============================] - 0s 2ms/step - loss: 0.4480 - accuracy: 0.8424 - val_loss: 0.2180 - val_accuracy: 0.9704\n",
      "Epoch 51/1000\n",
      " 1/41 [..............................] - ETA: 0s - loss: 0.5046 - accuracy: 0.8125\n",
      "Epoch 51: saving model to model/keypoint_classifier/keypoint_classifier.hdf5\n",
      "41/41 [==============================] - 0s 2ms/step - loss: 0.4323 - accuracy: 0.8469 - val_loss: 0.2058 - val_accuracy: 0.9698\n",
      "Epoch 52/1000\n",
      " 1/41 [..............................] - ETA: 0s - loss: 0.5134 - accuracy: 0.8125\n",
      "Epoch 52: saving model to model/keypoint_classifier/keypoint_classifier.hdf5\n",
      "41/41 [==============================] - 0s 2ms/step - loss: 0.4151 - accuracy: 0.8558 - val_loss: 0.2003 - val_accuracy: 0.9692\n",
      "Epoch 53/1000\n",
      "27/41 [==================>...........] - ETA: 0s - loss: 0.4429 - accuracy: 0.8571\n",
      "Epoch 53: saving model to model/keypoint_classifier/keypoint_classifier.hdf5\n",
      "41/41 [==============================] - 0s 3ms/step - loss: 0.4325 - accuracy: 0.8532 - val_loss: 0.2028 - val_accuracy: 0.9652\n",
      "Epoch 54/1000\n",
      " 1/41 [..............................] - ETA: 0s - loss: 0.3514 - accuracy: 0.8906\n",
      "Epoch 54: saving model to model/keypoint_classifier/keypoint_classifier.hdf5\n",
      "41/41 [==============================] - 0s 2ms/step - loss: 0.4255 - accuracy: 0.8498 - val_loss: 0.1995 - val_accuracy: 0.9698\n",
      "Epoch 55/1000\n",
      " 1/41 [..............................] - ETA: 0s - loss: 0.3761 - accuracy: 0.8594\n",
      "Epoch 55: saving model to model/keypoint_classifier/keypoint_classifier.hdf5\n",
      "41/41 [==============================] - 0s 2ms/step - loss: 0.4299 - accuracy: 0.8447 - val_loss: 0.2071 - val_accuracy: 0.9721\n",
      "Epoch 56/1000\n",
      " 1/41 [..............................] - ETA: 0s - loss: 0.3921 - accuracy: 0.8828\n",
      "Epoch 56: saving model to model/keypoint_classifier/keypoint_classifier.hdf5\n",
      "41/41 [==============================] - 0s 2ms/step - loss: 0.4040 - accuracy: 0.8618 - val_loss: 0.2017 - val_accuracy: 0.9652\n",
      "Epoch 57/1000\n",
      " 1/41 [..............................] - ETA: 0s - loss: 0.3290 - accuracy: 0.8906\n",
      "Epoch 57: saving model to model/keypoint_classifier/keypoint_classifier.hdf5\n",
      "41/41 [==============================] - 0s 2ms/step - loss: 0.4056 - accuracy: 0.8596 - val_loss: 0.1954 - val_accuracy: 0.9686\n",
      "Epoch 58/1000\n",
      " 1/41 [..............................] - ETA: 0s - loss: 0.3868 - accuracy: 0.8828\n",
      "Epoch 58: saving model to model/keypoint_classifier/keypoint_classifier.hdf5\n",
      "41/41 [==============================] - 0s 2ms/step - loss: 0.4204 - accuracy: 0.8556 - val_loss: 0.1959 - val_accuracy: 0.9669\n",
      "Epoch 59/1000\n",
      " 1/41 [..............................] - ETA: 0s - loss: 0.3742 - accuracy: 0.8672\n",
      "Epoch 59: saving model to model/keypoint_classifier/keypoint_classifier.hdf5\n",
      "41/41 [==============================] - 0s 2ms/step - loss: 0.4204 - accuracy: 0.8509 - val_loss: 0.1928 - val_accuracy: 0.9710\n",
      "Epoch 60/1000\n",
      " 1/41 [..............................] - ETA: 0s - loss: 0.4420 - accuracy: 0.8281\n",
      "Epoch 60: saving model to model/keypoint_classifier/keypoint_classifier.hdf5\n",
      "41/41 [==============================] - 0s 2ms/step - loss: 0.4119 - accuracy: 0.8542 - val_loss: 0.1874 - val_accuracy: 0.9721\n",
      "Epoch 61/1000\n",
      " 1/41 [..............................] - ETA: 0s - loss: 0.4518 - accuracy: 0.8516\n",
      "Epoch 61: saving model to model/keypoint_classifier/keypoint_classifier.hdf5\n",
      "41/41 [==============================] - 0s 2ms/step - loss: 0.3971 - accuracy: 0.8678 - val_loss: 0.2036 - val_accuracy: 0.9704\n",
      "Epoch 62/1000\n",
      " 1/41 [..............................] - ETA: 0s - loss: 0.3594 - accuracy: 0.8672\n",
      "Epoch 62: saving model to model/keypoint_classifier/keypoint_classifier.hdf5\n",
      "41/41 [==============================] - 0s 2ms/step - loss: 0.4071 - accuracy: 0.8594 - val_loss: 0.1977 - val_accuracy: 0.9692\n",
      "Epoch 63/1000\n",
      " 1/41 [..............................] - ETA: 0s - loss: 0.3343 - accuracy: 0.9062\n",
      "Epoch 63: saving model to model/keypoint_classifier/keypoint_classifier.hdf5\n",
      "41/41 [==============================] - 0s 2ms/step - loss: 0.4085 - accuracy: 0.8558 - val_loss: 0.2044 - val_accuracy: 0.9698\n",
      "Epoch 64/1000\n",
      " 1/41 [..............................] - ETA: 0s - loss: 0.4070 - accuracy: 0.8750\n",
      "Epoch 64: saving model to model/keypoint_classifier/keypoint_classifier.hdf5\n",
      "41/41 [==============================] - 0s 2ms/step - loss: 0.4013 - accuracy: 0.8602 - val_loss: 0.1975 - val_accuracy: 0.9710\n",
      "Epoch 65/1000\n",
      " 1/41 [..............................] - ETA: 0s - loss: 0.3323 - accuracy: 0.8828\n",
      "Epoch 65: saving model to model/keypoint_classifier/keypoint_classifier.hdf5\n",
      "41/41 [==============================] - 0s 2ms/step - loss: 0.3886 - accuracy: 0.8689 - val_loss: 0.1940 - val_accuracy: 0.9698\n",
      "Epoch 66/1000\n",
      " 1/41 [..............................] - ETA: 0s - loss: 0.4858 - accuracy: 0.8359\n",
      "Epoch 66: saving model to model/keypoint_classifier/keypoint_classifier.hdf5\n",
      "41/41 [==============================] - 0s 2ms/step - loss: 0.3830 - accuracy: 0.8747 - val_loss: 0.1900 - val_accuracy: 0.9715\n",
      "Epoch 67/1000\n",
      " 1/41 [..............................] - ETA: 0s - loss: 0.3227 - accuracy: 0.9062\n",
      "Epoch 67: saving model to model/keypoint_classifier/keypoint_classifier.hdf5\n",
      "41/41 [==============================] - 0s 2ms/step - loss: 0.3770 - accuracy: 0.8714 - val_loss: 0.1823 - val_accuracy: 0.9710\n",
      "Epoch 68/1000\n",
      " 1/41 [..............................] - ETA: 0s - loss: 0.4504 - accuracy: 0.8281\n",
      "Epoch 68: saving model to model/keypoint_classifier/keypoint_classifier.hdf5\n",
      "41/41 [==============================] - 0s 2ms/step - loss: 0.3853 - accuracy: 0.8662 - val_loss: 0.1904 - val_accuracy: 0.9692\n",
      "Epoch 69/1000\n",
      " 1/41 [..............................] - ETA: 0s - loss: 0.4874 - accuracy: 0.8125\n",
      "Epoch 69: saving model to model/keypoint_classifier/keypoint_classifier.hdf5\n",
      "41/41 [==============================] - 0s 2ms/step - loss: 0.3882 - accuracy: 0.8680 - val_loss: 0.1900 - val_accuracy: 0.9710\n",
      "Epoch 70/1000\n",
      "32/41 [======================>.......] - ETA: 0s - loss: 0.3887 - accuracy: 0.8711\n",
      "Epoch 70: saving model to model/keypoint_classifier/keypoint_classifier.hdf5\n",
      "41/41 [==============================] - 0s 3ms/step - loss: 0.3842 - accuracy: 0.8703 - val_loss: 0.1869 - val_accuracy: 0.9710\n",
      "Epoch 71/1000\n",
      " 1/41 [..............................] - ETA: 0s - loss: 0.2646 - accuracy: 0.9219\n",
      "Epoch 71: saving model to model/keypoint_classifier/keypoint_classifier.hdf5\n",
      "41/41 [==============================] - 0s 2ms/step - loss: 0.3696 - accuracy: 0.8718 - val_loss: 0.1890 - val_accuracy: 0.9715\n",
      "Epoch 72/1000\n",
      " 1/41 [..............................] - ETA: 0s - loss: 0.4709 - accuracy: 0.8438\n",
      "Epoch 72: saving model to model/keypoint_classifier/keypoint_classifier.hdf5\n",
      "41/41 [==============================] - 0s 2ms/step - loss: 0.3690 - accuracy: 0.8740 - val_loss: 0.1850 - val_accuracy: 0.9704\n",
      "Epoch 73/1000\n",
      " 1/41 [..............................] - ETA: 0s - loss: 0.4968 - accuracy: 0.8359\n",
      "Epoch 73: saving model to model/keypoint_classifier/keypoint_classifier.hdf5\n",
      "41/41 [==============================] - 0s 2ms/step - loss: 0.3801 - accuracy: 0.8693 - val_loss: 0.1803 - val_accuracy: 0.9739\n",
      "Epoch 74/1000\n",
      " 1/41 [..............................] - ETA: 0s - loss: 0.6443 - accuracy: 0.8438\n",
      "Epoch 74: saving model to model/keypoint_classifier/keypoint_classifier.hdf5\n",
      "41/41 [==============================] - 0s 2ms/step - loss: 0.3940 - accuracy: 0.8678 - val_loss: 0.1899 - val_accuracy: 0.9727\n",
      "Epoch 75/1000\n",
      " 1/41 [..............................] - ETA: 0s - loss: 0.3861 - accuracy: 0.8359\n",
      "Epoch 75: saving model to model/keypoint_classifier/keypoint_classifier.hdf5\n",
      "41/41 [==============================] - 0s 2ms/step - loss: 0.3760 - accuracy: 0.8683 - val_loss: 0.1735 - val_accuracy: 0.9733\n",
      "Epoch 76/1000\n",
      " 1/41 [..............................] - ETA: 0s - loss: 0.3168 - accuracy: 0.8750\n",
      "Epoch 76: saving model to model/keypoint_classifier/keypoint_classifier.hdf5\n",
      "41/41 [==============================] - 0s 2ms/step - loss: 0.3609 - accuracy: 0.8773 - val_loss: 0.1774 - val_accuracy: 0.9710\n",
      "Epoch 77/1000\n",
      " 1/41 [..............................] - ETA: 0s - loss: 0.3116 - accuracy: 0.8906\n",
      "Epoch 77: saving model to model/keypoint_classifier/keypoint_classifier.hdf5\n",
      "41/41 [==============================] - 0s 2ms/step - loss: 0.3684 - accuracy: 0.8774 - val_loss: 0.1869 - val_accuracy: 0.9744\n",
      "Epoch 78/1000\n",
      " 1/41 [..............................] - ETA: 0s - loss: 0.3296 - accuracy: 0.8828\n",
      "Epoch 78: saving model to model/keypoint_classifier/keypoint_classifier.hdf5\n",
      "41/41 [==============================] - 0s 2ms/step - loss: 0.3563 - accuracy: 0.8788 - val_loss: 0.1741 - val_accuracy: 0.9704\n",
      "Epoch 79/1000\n",
      " 1/41 [..............................] - ETA: 0s - loss: 0.3975 - accuracy: 0.8516\n",
      "Epoch 79: saving model to model/keypoint_classifier/keypoint_classifier.hdf5\n",
      "41/41 [==============================] - 0s 2ms/step - loss: 0.3671 - accuracy: 0.8782 - val_loss: 0.1746 - val_accuracy: 0.9750\n",
      "Epoch 80/1000\n",
      " 1/41 [..............................] - ETA: 0s - loss: 0.3850 - accuracy: 0.8359\n",
      "Epoch 80: saving model to model/keypoint_classifier/keypoint_classifier.hdf5\n",
      "41/41 [==============================] - 0s 2ms/step - loss: 0.3602 - accuracy: 0.8767 - val_loss: 0.1755 - val_accuracy: 0.9739\n",
      "Epoch 81/1000\n",
      " 1/41 [..............................] - ETA: 0s - loss: 0.2519 - accuracy: 0.9141\n",
      "Epoch 81: saving model to model/keypoint_classifier/keypoint_classifier.hdf5\n",
      "41/41 [==============================] - 0s 2ms/step - loss: 0.3440 - accuracy: 0.8823 - val_loss: 0.1669 - val_accuracy: 0.9744\n",
      "Epoch 82/1000\n",
      " 1/41 [..............................] - ETA: 0s - loss: 0.2900 - accuracy: 0.9141\n",
      "Epoch 82: saving model to model/keypoint_classifier/keypoint_classifier.hdf5\n",
      "41/41 [==============================] - 0s 2ms/step - loss: 0.3527 - accuracy: 0.8834 - val_loss: 0.1611 - val_accuracy: 0.9733\n",
      "Epoch 83/1000\n",
      "28/41 [===================>..........] - ETA: 0s - loss: 0.3384 - accuracy: 0.8836\n",
      "Epoch 83: saving model to model/keypoint_classifier/keypoint_classifier.hdf5\n",
      "41/41 [==============================] - 0s 3ms/step - loss: 0.3428 - accuracy: 0.8867 - val_loss: 0.1658 - val_accuracy: 0.9727\n",
      "Epoch 84/1000\n",
      " 1/41 [..............................] - ETA: 0s - loss: 0.4490 - accuracy: 0.8594\n",
      "Epoch 84: saving model to model/keypoint_classifier/keypoint_classifier.hdf5\n",
      "41/41 [==============================] - 0s 2ms/step - loss: 0.3409 - accuracy: 0.8844 - val_loss: 0.1594 - val_accuracy: 0.9756\n",
      "Epoch 85/1000\n",
      " 1/41 [..............................] - ETA: 0s - loss: 0.2579 - accuracy: 0.9297\n",
      "Epoch 85: saving model to model/keypoint_classifier/keypoint_classifier.hdf5\n",
      "41/41 [==============================] - 0s 2ms/step - loss: 0.3445 - accuracy: 0.8844 - val_loss: 0.1645 - val_accuracy: 0.9779\n",
      "Epoch 86/1000\n",
      " 1/41 [..............................] - ETA: 0s - loss: 0.2645 - accuracy: 0.8984\n",
      "Epoch 86: saving model to model/keypoint_classifier/keypoint_classifier.hdf5\n",
      "41/41 [==============================] - 0s 2ms/step - loss: 0.3458 - accuracy: 0.8833 - val_loss: 0.1636 - val_accuracy: 0.9750\n",
      "Epoch 87/1000\n",
      "41/41 [==============================] - ETA: 0s - loss: 0.3351 - accuracy: 0.8840\n",
      "Epoch 87: saving model to model/keypoint_classifier/keypoint_classifier.hdf5\n",
      "41/41 [==============================] - 0s 2ms/step - loss: 0.3351 - accuracy: 0.8840 - val_loss: 0.1615 - val_accuracy: 0.9739\n",
      "Epoch 88/1000\n",
      " 1/41 [..............................] - ETA: 0s - loss: 0.4045 - accuracy: 0.8672\n",
      "Epoch 88: saving model to model/keypoint_classifier/keypoint_classifier.hdf5\n",
      "41/41 [==============================] - 0s 2ms/step - loss: 0.3357 - accuracy: 0.8908 - val_loss: 0.1577 - val_accuracy: 0.9750\n",
      "Epoch 89/1000\n",
      " 1/41 [..............................] - ETA: 0s - loss: 0.3425 - accuracy: 0.8672\n",
      "Epoch 89: saving model to model/keypoint_classifier/keypoint_classifier.hdf5\n",
      "41/41 [==============================] - 0s 2ms/step - loss: 0.3415 - accuracy: 0.8823 - val_loss: 0.1687 - val_accuracy: 0.9744\n",
      "Epoch 90/1000\n",
      " 1/41 [..............................] - ETA: 0s - loss: 0.2927 - accuracy: 0.9219\n",
      "Epoch 90: saving model to model/keypoint_classifier/keypoint_classifier.hdf5\n",
      "41/41 [==============================] - 0s 2ms/step - loss: 0.3263 - accuracy: 0.8908 - val_loss: 0.1577 - val_accuracy: 0.9768\n",
      "Epoch 91/1000\n",
      " 1/41 [..............................] - ETA: 0s - loss: 0.2577 - accuracy: 0.9141\n",
      "Epoch 91: saving model to model/keypoint_classifier/keypoint_classifier.hdf5\n",
      "41/41 [==============================] - 0s 2ms/step - loss: 0.3422 - accuracy: 0.8848 - val_loss: 0.1666 - val_accuracy: 0.9756\n",
      "Epoch 92/1000\n",
      " 1/41 [..............................] - ETA: 0s - loss: 0.3872 - accuracy: 0.8672\n",
      "Epoch 92: saving model to model/keypoint_classifier/keypoint_classifier.hdf5\n",
      "41/41 [==============================] - 0s 2ms/step - loss: 0.3211 - accuracy: 0.8970 - val_loss: 0.1465 - val_accuracy: 0.9768\n",
      "Epoch 93/1000\n",
      " 1/41 [..............................] - ETA: 0s - loss: 0.3758 - accuracy: 0.8906\n",
      "Epoch 93: saving model to model/keypoint_classifier/keypoint_classifier.hdf5\n",
      "41/41 [==============================] - 0s 2ms/step - loss: 0.3429 - accuracy: 0.8894 - val_loss: 0.1604 - val_accuracy: 0.9768\n",
      "Epoch 94/1000\n",
      " 1/41 [..............................] - ETA: 0s - loss: 0.2786 - accuracy: 0.9141\n",
      "Epoch 94: saving model to model/keypoint_classifier/keypoint_classifier.hdf5\n",
      "41/41 [==============================] - 0s 2ms/step - loss: 0.3206 - accuracy: 0.8908 - val_loss: 0.1697 - val_accuracy: 0.9756\n",
      "Epoch 95/1000\n",
      "22/41 [===============>..............] - ETA: 0s - loss: 0.3392 - accuracy: 0.8903\n",
      "Epoch 95: saving model to model/keypoint_classifier/keypoint_classifier.hdf5\n",
      "41/41 [==============================] - 0s 3ms/step - loss: 0.3326 - accuracy: 0.8887 - val_loss: 0.1600 - val_accuracy: 0.9774\n",
      "Epoch 96/1000\n",
      "29/41 [====================>.........] - ETA: 0s - loss: 0.3388 - accuracy: 0.8801\n",
      "Epoch 96: saving model to model/keypoint_classifier/keypoint_classifier.hdf5\n",
      "41/41 [==============================] - 0s 3ms/step - loss: 0.3332 - accuracy: 0.8846 - val_loss: 0.1558 - val_accuracy: 0.9768\n",
      "Epoch 97/1000\n",
      " 1/41 [..............................] - ETA: 0s - loss: 0.2500 - accuracy: 0.9141\n",
      "Epoch 97: saving model to model/keypoint_classifier/keypoint_classifier.hdf5\n",
      "41/41 [==============================] - 0s 2ms/step - loss: 0.3356 - accuracy: 0.8865 - val_loss: 0.1615 - val_accuracy: 0.9744\n",
      "Epoch 98/1000\n",
      "31/41 [=====================>........] - ETA: 0s - loss: 0.3237 - accuracy: 0.8952\n",
      "Epoch 98: saving model to model/keypoint_classifier/keypoint_classifier.hdf5\n",
      "41/41 [==============================] - 0s 3ms/step - loss: 0.3172 - accuracy: 0.8970 - val_loss: 0.1559 - val_accuracy: 0.9791\n",
      "Epoch 99/1000\n",
      " 1/41 [..............................] - ETA: 0s - loss: 0.3509 - accuracy: 0.8828\n",
      "Epoch 99: saving model to model/keypoint_classifier/keypoint_classifier.hdf5\n",
      "41/41 [==============================] - 0s 2ms/step - loss: 0.3227 - accuracy: 0.8873 - val_loss: 0.1594 - val_accuracy: 0.9768\n",
      "Epoch 100/1000\n",
      " 1/41 [..............................] - ETA: 0s - loss: 0.3467 - accuracy: 0.8906\n",
      "Epoch 100: saving model to model/keypoint_classifier/keypoint_classifier.hdf5\n",
      "41/41 [==============================] - 0s 2ms/step - loss: 0.3262 - accuracy: 0.8902 - val_loss: 0.1666 - val_accuracy: 0.9756\n",
      "Epoch 101/1000\n",
      "24/41 [================>.............] - ETA: 0s - loss: 0.3053 - accuracy: 0.8975\n",
      "Epoch 101: saving model to model/keypoint_classifier/keypoint_classifier.hdf5\n",
      "41/41 [==============================] - 0s 3ms/step - loss: 0.3151 - accuracy: 0.8956 - val_loss: 0.1564 - val_accuracy: 0.9774\n",
      "Epoch 102/1000\n",
      "41/41 [==============================] - ETA: 0s - loss: 0.3110 - accuracy: 0.8978\n",
      "Epoch 102: saving model to model/keypoint_classifier/keypoint_classifier.hdf5\n",
      "41/41 [==============================] - 0s 2ms/step - loss: 0.3110 - accuracy: 0.8978 - val_loss: 0.1512 - val_accuracy: 0.9779\n",
      "Epoch 103/1000\n",
      "35/41 [========================>.....] - ETA: 0s - loss: 0.3351 - accuracy: 0.8855\n",
      "Epoch 103: saving model to model/keypoint_classifier/keypoint_classifier.hdf5\n",
      "41/41 [==============================] - 0s 3ms/step - loss: 0.3307 - accuracy: 0.8856 - val_loss: 0.1661 - val_accuracy: 0.9785\n",
      "Epoch 104/1000\n",
      " 1/41 [..............................] - ETA: 0s - loss: 0.2461 - accuracy: 0.9219\n",
      "Epoch 104: saving model to model/keypoint_classifier/keypoint_classifier.hdf5\n",
      "41/41 [==============================] - 0s 2ms/step - loss: 0.3171 - accuracy: 0.8958 - val_loss: 0.1605 - val_accuracy: 0.9768\n",
      "Epoch 105/1000\n",
      " 1/41 [..............................] - ETA: 0s - loss: 0.2619 - accuracy: 0.9219\n",
      "Epoch 105: saving model to model/keypoint_classifier/keypoint_classifier.hdf5\n",
      "41/41 [==============================] - 0s 2ms/step - loss: 0.2960 - accuracy: 0.9038 - val_loss: 0.1512 - val_accuracy: 0.9791\n",
      "Epoch 106/1000\n",
      "37/41 [==========================>...] - ETA: 0s - loss: 0.3118 - accuracy: 0.8904\n",
      "Epoch 106: saving model to model/keypoint_classifier/keypoint_classifier.hdf5\n",
      "41/41 [==============================] - 0s 3ms/step - loss: 0.3139 - accuracy: 0.8904 - val_loss: 0.1548 - val_accuracy: 0.9756\n",
      "Epoch 107/1000\n",
      " 1/41 [..............................] - ETA: 0s - loss: 0.3464 - accuracy: 0.8828\n",
      "Epoch 107: saving model to model/keypoint_classifier/keypoint_classifier.hdf5\n",
      "41/41 [==============================] - 0s 2ms/step - loss: 0.3017 - accuracy: 0.9009 - val_loss: 0.1568 - val_accuracy: 0.9756\n",
      "Epoch 108/1000\n",
      " 1/41 [..............................] - ETA: 0s - loss: 0.3176 - accuracy: 0.8750\n",
      "Epoch 108: saving model to model/keypoint_classifier/keypoint_classifier.hdf5\n",
      "41/41 [==============================] - 0s 2ms/step - loss: 0.3039 - accuracy: 0.9067 - val_loss: 0.1490 - val_accuracy: 0.9756\n",
      "Epoch 109/1000\n",
      "25/41 [=================>............] - ETA: 0s - loss: 0.3191 - accuracy: 0.8866\n",
      "Epoch 109: saving model to model/keypoint_classifier/keypoint_classifier.hdf5\n",
      "41/41 [==============================] - 0s 4ms/step - loss: 0.3169 - accuracy: 0.8889 - val_loss: 0.1583 - val_accuracy: 0.9785\n",
      "Epoch 110/1000\n",
      "31/41 [=====================>........] - ETA: 0s - loss: 0.2955 - accuracy: 0.8974\n",
      "Epoch 110: saving model to model/keypoint_classifier/keypoint_classifier.hdf5\n",
      "41/41 [==============================] - 0s 3ms/step - loss: 0.2981 - accuracy: 0.8993 - val_loss: 0.1538 - val_accuracy: 0.9762\n",
      "Epoch 111/1000\n",
      "35/41 [========================>.....] - ETA: 0s - loss: 0.2964 - accuracy: 0.9025\n",
      "Epoch 111: saving model to model/keypoint_classifier/keypoint_classifier.hdf5\n",
      "41/41 [==============================] - 0s 3ms/step - loss: 0.2944 - accuracy: 0.9026 - val_loss: 0.1473 - val_accuracy: 0.9803\n",
      "Epoch 112/1000\n",
      "31/41 [=====================>........] - ETA: 0s - loss: 0.3047 - accuracy: 0.9027\n",
      "Epoch 112: saving model to model/keypoint_classifier/keypoint_classifier.hdf5\n",
      "41/41 [==============================] - 0s 3ms/step - loss: 0.3048 - accuracy: 0.9045 - val_loss: 0.1528 - val_accuracy: 0.9797\n",
      "Epoch 112: early stopping\n"
     ]
    },
    {
     "data": {
      "text/plain": [
       "<keras.callbacks.History at 0x7ccceb6106d0>"
      ]
     },
     "execution_count": 11,
     "metadata": {},
     "output_type": "execute_result"
    }
   ],
   "source": [
    "model.fit(\n",
    "    X_train,\n",
    "    y_train,\n",
    "    epochs=1000,\n",
    "    batch_size=128,\n",
    "    validation_data=(X_test, y_test),\n",
    "    callbacks=[cp_callback, es_callback]\n",
    ")"
   ]
  },
  {
   "cell_type": "code",
   "execution_count": 12,
   "metadata": {
    "colab": {
     "base_uri": "https://localhost:8080/"
    },
    "id": "pxvb2Y299hE3",
    "outputId": "59eb3185-2e37-4b9e-bc9d-ab1b8ac29b7f"
   },
   "outputs": [
    {
     "name": "stdout",
     "output_type": "stream",
     "text": [
      "14/14 [==============================] - 0s 1ms/step - loss: 0.1528 - accuracy: 0.9797\n"
     ]
    }
   ],
   "source": [
    "# Model evaluation\n",
    "val_loss, val_acc = model.evaluate(X_test, y_test, batch_size=128)"
   ]
  },
  {
   "cell_type": "code",
   "execution_count": 13,
   "metadata": {
    "id": "RBkmDeUW9hE4"
   },
   "outputs": [],
   "source": [
    "# Loading the saved model\n",
    "model = tf.keras.models.load_model(model_save_path)"
   ]
  },
  {
   "cell_type": "code",
   "execution_count": 14,
   "metadata": {
    "colab": {
     "base_uri": "https://localhost:8080/"
    },
    "id": "tFz9Tb0I9hE4",
    "outputId": "1c3b3528-54ae-4ee2-ab04-77429211cbef"
   },
   "outputs": [
    {
     "name": "stdout",
     "output_type": "stream",
     "text": [
      "1/1 [==============================] - 0s 58ms/step\n",
      "[5.8803074e-10 2.5982598e-07 2.1694658e-11 9.7260362e-01 2.7208427e-02\n",
      " 1.8176727e-04 5.5406790e-06 1.7964950e-09 3.3840027e-07]\n",
      "3\n"
     ]
    }
   ],
   "source": [
    "# Inference test\n",
    "predict_result = model.predict(np.array([X_test[0]]))\n",
    "print(np.squeeze(predict_result))\n",
    "print(np.argmax(np.squeeze(predict_result)))"
   ]
  },
  {
   "cell_type": "markdown",
   "metadata": {
    "id": "FNP6aqzc9hE5"
   },
   "source": [
    "# Saving Model"
   ]
  },
  {
   "cell_type": "code",
   "execution_count": 15,
   "metadata": {
    "id": "ODjnYyld9hE6"
   },
   "outputs": [],
   "source": [
    "# Save as a model dedicated to inference\n",
    "model.save(model_save_path, include_optimizer=False)"
   ]
  },
  {
   "cell_type": "code",
   "execution_count": 16,
   "metadata": {
    "colab": {
     "base_uri": "https://localhost:8080/"
    },
    "id": "zRfuK8Y59hE6",
    "outputId": "a4ca585c-b5d5-4244-8291-8674063209bb"
   },
   "outputs": [
    {
     "name": "stderr",
     "output_type": "stream",
     "text": [
      "2023-04-27 16:42:44.928291: I tensorflow/core/common_runtime/executor.cc:1197] [/device:CPU:0] (DEBUG INFO) Executor start aborting (this does not indicate an error and you can ignore this message): INVALID_ARGUMENT: You must feed a value for placeholder tensor 'input_1' with dtype float and shape [?,42]\n",
      "\t [[{{node input_1}}]]\n",
      "2023-04-27 16:42:44.981028: I tensorflow/core/common_runtime/executor.cc:1197] [/device:CPU:0] (DEBUG INFO) Executor start aborting (this does not indicate an error and you can ignore this message): INVALID_ARGUMENT: You must feed a value for placeholder tensor 'inputs' with dtype float and shape [?,42]\n",
      "\t [[{{node inputs}}]]\n",
      "2023-04-27 16:42:44.993006: I tensorflow/core/common_runtime/executor.cc:1197] [/device:CPU:0] (DEBUG INFO) Executor start aborting (this does not indicate an error and you can ignore this message): INVALID_ARGUMENT: You must feed a value for placeholder tensor 'input_1' with dtype float and shape [?,42]\n",
      "\t [[{{node input_1}}]]\n",
      "2023-04-27 16:42:45.015634: I tensorflow/core/common_runtime/executor.cc:1197] [/device:CPU:0] (DEBUG INFO) Executor start aborting (this does not indicate an error and you can ignore this message): INVALID_ARGUMENT: You must feed a value for placeholder tensor 'inputs' with dtype float and shape [?,42]\n",
      "\t [[{{node inputs}}]]\n",
      "2023-04-27 16:42:45.029000: I tensorflow/core/common_runtime/executor.cc:1197] [/device:CPU:0] (DEBUG INFO) Executor start aborting (this does not indicate an error and you can ignore this message): INVALID_ARGUMENT: You must feed a value for placeholder tensor 'inputs' with dtype float and shape [?,80]\n",
      "\t [[{{node inputs}}]]\n",
      "2023-04-27 16:42:45.051823: I tensorflow/core/common_runtime/executor.cc:1197] [/device:CPU:0] (DEBUG INFO) Executor start aborting (this does not indicate an error and you can ignore this message): INVALID_ARGUMENT: You must feed a value for placeholder tensor 'inputs' with dtype float and shape [?,42]\n",
      "\t [[{{node inputs}}]]\n",
      "2023-04-27 16:42:45.208687: I tensorflow/core/common_runtime/executor.cc:1197] [/device:CPU:0] (DEBUG INFO) Executor start aborting (this does not indicate an error and you can ignore this message): INVALID_ARGUMENT: You must feed a value for placeholder tensor 'inputs' with dtype float and shape [?,42]\n",
      "\t [[{{node inputs}}]]\n",
      "2023-04-27 16:42:45.258888: I tensorflow/core/common_runtime/executor.cc:1197] [/device:CPU:0] (DEBUG INFO) Executor start aborting (this does not indicate an error and you can ignore this message): INVALID_ARGUMENT: You must feed a value for placeholder tensor 'inputs' with dtype float and shape [?,42]\n",
      "\t [[{{node inputs}}]]\n",
      "2023-04-27 16:42:45.287523: I tensorflow/core/common_runtime/executor.cc:1197] [/device:CPU:0] (DEBUG INFO) Executor start aborting (this does not indicate an error and you can ignore this message): INVALID_ARGUMENT: You must feed a value for placeholder tensor 'inputs' with dtype float and shape [?,80]\n",
      "\t [[{{node inputs}}]]\n",
      "WARNING:absl:Found untraced functions such as _update_step_xla while saving (showing 1 of 1). These functions will not be directly callable after loading.\n"
     ]
    },
    {
     "name": "stdout",
     "output_type": "stream",
     "text": [
      "INFO:tensorflow:Assets written to: /tmp/tmp82dyk4k9/assets\n"
     ]
    },
    {
     "name": "stderr",
     "output_type": "stream",
     "text": [
      "INFO:tensorflow:Assets written to: /tmp/tmp82dyk4k9/assets\n",
      "2023-04-27 16:42:45.942360: W tensorflow/compiler/mlir/lite/python/tf_tfl_flatbuffer_helpers.cc:364] Ignored output_format.\n",
      "2023-04-27 16:42:45.942393: W tensorflow/compiler/mlir/lite/python/tf_tfl_flatbuffer_helpers.cc:367] Ignored drop_control_dependency.\n",
      "2023-04-27 16:42:45.943163: I tensorflow/cc/saved_model/reader.cc:45] Reading SavedModel from: /tmp/tmp82dyk4k9\n",
      "2023-04-27 16:42:45.944240: I tensorflow/cc/saved_model/reader.cc:89] Reading meta graph with tags { serve }\n",
      "2023-04-27 16:42:45.944256: I tensorflow/cc/saved_model/reader.cc:130] Reading SavedModel debug info (if present) from: /tmp/tmp82dyk4k9\n",
      "2023-04-27 16:42:45.947687: I tensorflow/compiler/mlir/mlir_graph_optimization_pass.cc:353] MLIR V1 optimization pass is not enabled\n",
      "2023-04-27 16:42:45.948676: I tensorflow/cc/saved_model/loader.cc:231] Restoring SavedModel bundle.\n",
      "2023-04-27 16:42:45.988370: I tensorflow/cc/saved_model/loader.cc:215] Running initialization op on SavedModel bundle at path: /tmp/tmp82dyk4k9\n",
      "2023-04-27 16:42:45.998991: I tensorflow/cc/saved_model/loader.cc:314] SavedModel load for tags { serve }; Status: success: OK. Took 55829 microseconds.\n",
      "2023-04-27 16:42:46.039922: I tensorflow/compiler/mlir/tensorflow/utils/dump_mlir_util.cc:269] disabling MLIR crash reproducer, set env var `MLIR_CRASH_REPRODUCER_DIRECTORY` to enable.\n"
     ]
    },
    {
     "data": {
      "text/plain": [
       "9504"
      ]
     },
     "execution_count": 16,
     "metadata": {},
     "output_type": "execute_result"
    }
   ],
   "source": [
    "# Transform model (quantization)\n",
    "\n",
    "converter = tf.lite.TFLiteConverter.from_keras_model(model)\n",
    "converter.optimizations = [tf.lite.Optimize.DEFAULT]\n",
    "tflite_quantized_model = converter.convert()\n",
    "\n",
    "open(tflite_save_path, 'wb').write(tflite_quantized_model)"
   ]
  },
  {
   "cell_type": "markdown",
   "metadata": {
    "id": "CHBPBXdx9hE6"
   },
   "source": [
    "# Inference test"
   ]
  },
  {
   "cell_type": "code",
   "execution_count": 17,
   "metadata": {
    "id": "mGAzLocO9hE7"
   },
   "outputs": [
    {
     "name": "stderr",
     "output_type": "stream",
     "text": [
      "INFO: Created TensorFlow Lite XNNPACK delegate for CPU.\n"
     ]
    }
   ],
   "source": [
    "interpreter = tf.lite.Interpreter(model_path=tflite_save_path)\n",
    "interpreter.allocate_tensors()"
   ]
  },
  {
   "cell_type": "code",
   "execution_count": 18,
   "metadata": {
    "id": "oQuDK8YS9hE7"
   },
   "outputs": [],
   "source": [
    "# Get I / O tensor\n",
    "input_details = interpreter.get_input_details()\n",
    "output_details = interpreter.get_output_details()"
   ]
  },
  {
   "cell_type": "code",
   "execution_count": 19,
   "metadata": {
    "id": "2_ixAf_l9hE7"
   },
   "outputs": [],
   "source": [
    "interpreter.set_tensor(input_details[0]['index'], np.array([X_test[0]]))"
   ]
  },
  {
   "cell_type": "code",
   "execution_count": 20,
   "metadata": {
    "colab": {
     "base_uri": "https://localhost:8080/"
    },
    "id": "s4FoAnuc9hE7",
    "outputId": "91f18257-8d8b-4ef3-c558-e9b5f94fabbf",
    "scrolled": true
   },
   "outputs": [
    {
     "name": "stdout",
     "output_type": "stream",
     "text": [
      "CPU times: user 1.18 ms, sys: 77 µs, total: 1.26 ms\n",
      "Wall time: 2.9 ms\n"
     ]
    }
   ],
   "source": [
    "%%time\n",
    "# Inference implementation\n",
    "interpreter.invoke()\n",
    "tflite_results = interpreter.get_tensor(output_details[0]['index'])"
   ]
  },
  {
   "cell_type": "code",
   "execution_count": 21,
   "metadata": {
    "colab": {
     "base_uri": "https://localhost:8080/"
    },
    "id": "vONjp19J9hE8",
    "outputId": "77205e24-fd00-42c4-f7b6-e06e527c2cba"
   },
   "outputs": [
    {
     "name": "stdout",
     "output_type": "stream",
     "text": [
      "[5.1678084e-10 2.2847766e-07 1.8742707e-11 9.7236419e-01 2.7455818e-02\n",
      " 1.7441719e-04 4.9910755e-06 1.6621927e-09 3.1184823e-07]\n",
      "3\n"
     ]
    }
   ],
   "source": [
    "print(np.squeeze(tflite_results))\n",
    "print(np.argmax(np.squeeze(tflite_results)))"
   ]
  }
 ],
 "metadata": {
  "accelerator": "GPU",
  "colab": {
   "collapsed_sections": [],
   "name": "keypoint_classification_EN.ipynb",
   "provenance": [],
   "toc_visible": true
  },
  "kernelspec": {
   "display_name": "Python 3 (ipykernel)",
   "language": "python",
   "name": "python3"
  },
  "language_info": {
   "codemirror_mode": {
    "name": "ipython",
    "version": 3
   },
   "file_extension": ".py",
   "mimetype": "text/x-python",
   "name": "python",
   "nbconvert_exporter": "python",
   "pygments_lexer": "ipython3",
   "version": "3.10.9"
  }
 },
 "nbformat": 4,
 "nbformat_minor": 1
}
