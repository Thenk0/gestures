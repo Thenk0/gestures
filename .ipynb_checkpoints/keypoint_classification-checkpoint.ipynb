{
 "cells": [
  {
   "cell_type": "code",
   "execution_count": 1,
   "metadata": {
    "id": "igMyGnjE9hEp"
   },
   "outputs": [
    {
     "name": "stderr",
     "output_type": "stream",
     "text": [
      "2023-04-25 09:11:15.520811: I tensorflow/tsl/cuda/cudart_stub.cc:28] Could not find cuda drivers on your machine, GPU will not be used.\n",
      "2023-04-25 09:11:15.564345: I tensorflow/tsl/cuda/cudart_stub.cc:28] Could not find cuda drivers on your machine, GPU will not be used.\n",
      "2023-04-25 09:11:15.565126: I tensorflow/core/platform/cpu_feature_guard.cc:182] This TensorFlow binary is optimized to use available CPU instructions in performance-critical operations.\n",
      "To enable the following instructions: AVX2 FMA, in other operations, rebuild TensorFlow with the appropriate compiler flags.\n",
      "2023-04-25 09:11:16.184519: W tensorflow/compiler/tf2tensorrt/utils/py_utils.cc:38] TF-TRT Warning: Could not find TensorRT\n"
     ]
    }
   ],
   "source": [
    "import csv\n",
    "\n",
    "import numpy as np\n",
    "import tensorflow as tf\n",
    "from sklearn.model_selection import train_test_split\n",
    "\n",
    "RANDOM_SEED = 42"
   ]
  },
  {
   "cell_type": "markdown",
   "metadata": {
    "id": "t2HDvhIu9hEr"
   },
   "source": [
    "# Specify each path"
   ]
  },
  {
   "cell_type": "code",
   "execution_count": 2,
   "metadata": {
    "id": "9NvZP2Zn9hEy"
   },
   "outputs": [],
   "source": [
    "dataset = 'model/keypoint_classifier/keypoint.csv'\n",
    "model_save_path = 'model/keypoint_classifier/keypoint_classifier.hdf5'\n",
    "tflite_save_path = 'model/keypoint_classifier/keypoint_classifier.tflite'"
   ]
  },
  {
   "cell_type": "markdown",
   "metadata": {
    "id": "s5oMH7x19hEz"
   },
   "source": [
    "# Set number of classes"
   ]
  },
  {
   "cell_type": "code",
   "execution_count": 3,
   "metadata": {
    "id": "du4kodXL9hEz"
   },
   "outputs": [],
   "source": [
    "NUM_CLASSES = 9"
   ]
  },
  {
   "cell_type": "markdown",
   "metadata": {
    "id": "XjnL0uso9hEz"
   },
   "source": [
    "# Dataset reading"
   ]
  },
  {
   "cell_type": "code",
   "execution_count": 4,
   "metadata": {
    "id": "QT5ZqtEz9hE0"
   },
   "outputs": [],
   "source": [
    "X_dataset = np.loadtxt(dataset, delimiter=',', dtype='float32', usecols=list(range(1, (21 * 2) + 1)))"
   ]
  },
  {
   "cell_type": "code",
   "execution_count": 5,
   "metadata": {
    "id": "QmoKFsp49hE0"
   },
   "outputs": [],
   "source": [
    "y_dataset = np.loadtxt(dataset, delimiter=',', dtype='int32', usecols=(0))"
   ]
  },
  {
   "cell_type": "code",
   "execution_count": 6,
   "metadata": {
    "id": "xQU7JTZ_9hE0"
   },
   "outputs": [],
   "source": [
    "X_train, X_test, y_train, y_test = train_test_split(X_dataset, y_dataset, train_size=0.75, random_state=RANDOM_SEED)"
   ]
  },
  {
   "cell_type": "markdown",
   "metadata": {
    "id": "mxK_lETT9hE0"
   },
   "source": [
    "# Model building"
   ]
  },
  {
   "cell_type": "code",
   "execution_count": 7,
   "metadata": {
    "id": "vHBmUf1t9hE1"
   },
   "outputs": [],
   "source": [
    "model = tf.keras.models.Sequential([\n",
    "    tf.keras.layers.Input((21 * 2, )),\n",
    "    tf.keras.layers.Dropout(0.2),\n",
    "    tf.keras.layers.Dense(20, activation='relu'),\n",
    "    tf.keras.layers.Dropout(0.4),\n",
    "    tf.keras.layers.Dense(10, activation='relu'),\n",
    "    tf.keras.layers.Dense(NUM_CLASSES, activation='softmax')\n",
    "])"
   ]
  },
  {
   "cell_type": "code",
   "execution_count": 8,
   "metadata": {
    "colab": {
     "base_uri": "https://localhost:8080/"
    },
    "id": "ypqky9tc9hE1",
    "outputId": "5db082bb-30e3-4110-bf63-a1ee777ecd46"
   },
   "outputs": [
    {
     "name": "stdout",
     "output_type": "stream",
     "text": [
      "Model: \"sequential\"\n",
      "_________________________________________________________________\n",
      " Layer (type)                Output Shape              Param #   \n",
      "=================================================================\n",
      " dropout (Dropout)           (None, 42)                0         \n",
      "                                                                 \n",
      " dense (Dense)               (None, 20)                860       \n",
      "                                                                 \n",
      " dropout_1 (Dropout)         (None, 20)                0         \n",
      "                                                                 \n",
      " dense_1 (Dense)             (None, 10)                210       \n",
      "                                                                 \n",
      " dense_2 (Dense)             (None, 8)                 88        \n",
      "                                                                 \n",
      "=================================================================\n",
      "Total params: 1,158\n",
      "Trainable params: 1,158\n",
      "Non-trainable params: 0\n",
      "_________________________________________________________________\n"
     ]
    }
   ],
   "source": [
    "model.summary()  # tf.keras.utils.plot_model(model, show_shapes=True)"
   ]
  },
  {
   "cell_type": "code",
   "execution_count": 9,
   "metadata": {
    "id": "MbMjOflQ9hE1"
   },
   "outputs": [],
   "source": [
    "# Model checkpoint callback\n",
    "cp_callback = tf.keras.callbacks.ModelCheckpoint(\n",
    "    model_save_path, verbose=1, save_weights_only=False)\n",
    "# Callback for early stopping\n",
    "es_callback = tf.keras.callbacks.EarlyStopping(patience=20, verbose=1)"
   ]
  },
  {
   "cell_type": "code",
   "execution_count": 10,
   "metadata": {
    "id": "c3Dac0M_9hE2"
   },
   "outputs": [],
   "source": [
    "# Model compilation\n",
    "model.compile(\n",
    "    optimizer='adam',\n",
    "    loss='sparse_categorical_crossentropy',\n",
    "    metrics=['accuracy']\n",
    ")"
   ]
  },
  {
   "cell_type": "markdown",
   "metadata": {
    "id": "7XI0j1Iu9hE2"
   },
   "source": [
    "# Model training"
   ]
  },
  {
   "cell_type": "code",
   "execution_count": 11,
   "metadata": {
    "colab": {
     "base_uri": "https://localhost:8080/"
    },
    "id": "WirBl-JE9hE3",
    "outputId": "71b30ca2-8294-4d9d-8aa2-800d90d399de",
    "scrolled": true
   },
   "outputs": [
    {
     "name": "stdout",
     "output_type": "stream",
     "text": [
      "Epoch 1/1000\n",
      " 1/17 [>.............................] - ETA: 8s - loss: 2.0356 - accuracy: 0.2031\n",
      "Epoch 1: saving model to model/keypoint_classifier/keypoint_classifier.hdf5\n",
      "17/17 [==============================] - 1s 11ms/step - loss: 2.0457 - accuracy: 0.2111 - val_loss: 1.9847 - val_accuracy: 0.3639\n",
      "Epoch 2/1000\n",
      " 1/17 [>.............................] - ETA: 0s - loss: 1.9999 - accuracy: 0.2344\n",
      "Epoch 2: saving model to model/keypoint_classifier/keypoint_classifier.hdf5\n",
      "17/17 [==============================] - 0s 3ms/step - loss: 1.9732 - accuracy: 0.2746 - val_loss: 1.9066 - val_accuracy: 0.2994\n",
      "Epoch 3/1000\n",
      " 1/17 [>.............................] - ETA: 0s - loss: 1.9205 - accuracy: 0.2812\n",
      "Epoch 3: saving model to model/keypoint_classifier/keypoint_classifier.hdf5\n",
      "17/17 [==============================] - 0s 3ms/step - loss: 1.8888 - accuracy: 0.3009 - val_loss: 1.8164 - val_accuracy: 0.3395\n",
      "Epoch 4/1000\n",
      " 1/17 [>.............................] - ETA: 0s - loss: 1.8946 - accuracy: 0.3359\n",
      "Epoch 4: saving model to model/keypoint_classifier/keypoint_classifier.hdf5\n",
      "17/17 [==============================] - 0s 3ms/step - loss: 1.8218 - accuracy: 0.3252 - val_loss: 1.7119 - val_accuracy: 0.3854\n",
      "Epoch 5/1000\n",
      " 1/17 [>.............................] - ETA: 0s - loss: 1.7378 - accuracy: 0.3750\n",
      "Epoch 5: saving model to model/keypoint_classifier/keypoint_classifier.hdf5\n",
      "17/17 [==============================] - 0s 3ms/step - loss: 1.7452 - accuracy: 0.3505 - val_loss: 1.6064 - val_accuracy: 0.3926\n",
      "Epoch 6/1000\n",
      " 1/17 [>.............................] - ETA: 0s - loss: 1.6350 - accuracy: 0.3984\n",
      "Epoch 6: saving model to model/keypoint_classifier/keypoint_classifier.hdf5\n",
      "17/17 [==============================] - 0s 3ms/step - loss: 1.6535 - accuracy: 0.3591 - val_loss: 1.5138 - val_accuracy: 0.3926\n",
      "Epoch 7/1000\n",
      " 1/17 [>.............................] - ETA: 0s - loss: 1.4992 - accuracy: 0.4453\n",
      "Epoch 7: saving model to model/keypoint_classifier/keypoint_classifier.hdf5\n",
      "17/17 [==============================] - 0s 3ms/step - loss: 1.5762 - accuracy: 0.3873 - val_loss: 1.4215 - val_accuracy: 0.3983\n",
      "Epoch 8/1000\n",
      " 1/17 [>.............................] - ETA: 0s - loss: 1.5937 - accuracy: 0.3828\n",
      "Epoch 8: saving model to model/keypoint_classifier/keypoint_classifier.hdf5\n",
      "17/17 [==============================] - 0s 3ms/step - loss: 1.4841 - accuracy: 0.4317 - val_loss: 1.3246 - val_accuracy: 0.5315\n",
      "Epoch 9/1000\n",
      " 1/17 [>.............................] - ETA: 0s - loss: 1.4988 - accuracy: 0.3594\n",
      "Epoch 9: saving model to model/keypoint_classifier/keypoint_classifier.hdf5\n",
      "17/17 [==============================] - 0s 3ms/step - loss: 1.4360 - accuracy: 0.4303 - val_loss: 1.2375 - val_accuracy: 0.5444\n",
      "Epoch 10/1000\n",
      " 1/17 [>.............................] - ETA: 0s - loss: 1.3265 - accuracy: 0.4766\n",
      "Epoch 10: saving model to model/keypoint_classifier/keypoint_classifier.hdf5\n",
      "17/17 [==============================] - 0s 3ms/step - loss: 1.3822 - accuracy: 0.4398 - val_loss: 1.1685 - val_accuracy: 0.5573\n",
      "Epoch 11/1000\n",
      " 1/17 [>.............................] - ETA: 0s - loss: 1.4163 - accuracy: 0.4062\n",
      "Epoch 11: saving model to model/keypoint_classifier/keypoint_classifier.hdf5\n",
      "17/17 [==============================] - 0s 3ms/step - loss: 1.3234 - accuracy: 0.4575 - val_loss: 1.1075 - val_accuracy: 0.6390\n",
      "Epoch 12/1000\n",
      " 1/17 [>.............................] - ETA: 0s - loss: 1.2988 - accuracy: 0.4688\n",
      "Epoch 12: saving model to model/keypoint_classifier/keypoint_classifier.hdf5\n",
      "17/17 [==============================] - 0s 3ms/step - loss: 1.2673 - accuracy: 0.4780 - val_loss: 1.0553 - val_accuracy: 0.6547\n",
      "Epoch 13/1000\n",
      " 1/17 [>.............................] - ETA: 0s - loss: 1.1853 - accuracy: 0.5156\n",
      "Epoch 13: saving model to model/keypoint_classifier/keypoint_classifier.hdf5\n",
      "17/17 [==============================] - 0s 3ms/step - loss: 1.2378 - accuracy: 0.4938 - val_loss: 1.0040 - val_accuracy: 0.6848\n",
      "Epoch 14/1000\n",
      " 1/17 [>.............................] - ETA: 0s - loss: 1.2008 - accuracy: 0.4922\n",
      "Epoch 14: saving model to model/keypoint_classifier/keypoint_classifier.hdf5\n",
      "17/17 [==============================] - 0s 3ms/step - loss: 1.2104 - accuracy: 0.4876 - val_loss: 0.9663 - val_accuracy: 0.6461\n",
      "Epoch 15/1000\n",
      " 1/17 [>.............................] - ETA: 0s - loss: 1.2251 - accuracy: 0.4531\n",
      "Epoch 15: saving model to model/keypoint_classifier/keypoint_classifier.hdf5\n",
      "17/17 [==============================] - 0s 3ms/step - loss: 1.1624 - accuracy: 0.5005 - val_loss: 0.9303 - val_accuracy: 0.6934\n",
      "Epoch 16/1000\n",
      " 1/17 [>.............................] - ETA: 0s - loss: 1.1909 - accuracy: 0.5078\n",
      "Epoch 16: saving model to model/keypoint_classifier/keypoint_classifier.hdf5\n",
      "17/17 [==============================] - 0s 3ms/step - loss: 1.1419 - accuracy: 0.5181 - val_loss: 0.8986 - val_accuracy: 0.6490\n",
      "Epoch 17/1000\n",
      " 1/17 [>.............................] - ETA: 0s - loss: 1.1315 - accuracy: 0.5156\n",
      "Epoch 17: saving model to model/keypoint_classifier/keypoint_classifier.hdf5\n",
      "17/17 [==============================] - 0s 3ms/step - loss: 1.1190 - accuracy: 0.5325 - val_loss: 0.8710 - val_accuracy: 0.6862\n",
      "Epoch 18/1000\n",
      " 1/17 [>.............................] - ETA: 0s - loss: 1.0962 - accuracy: 0.5234\n",
      "Epoch 18: saving model to model/keypoint_classifier/keypoint_classifier.hdf5\n",
      "17/17 [==============================] - 0s 3ms/step - loss: 1.0972 - accuracy: 0.5468 - val_loss: 0.8439 - val_accuracy: 0.7278\n",
      "Epoch 19/1000\n",
      " 1/17 [>.............................] - ETA: 0s - loss: 1.2081 - accuracy: 0.4766\n",
      "Epoch 19: saving model to model/keypoint_classifier/keypoint_classifier.hdf5\n",
      "17/17 [==============================] - 0s 3ms/step - loss: 1.0648 - accuracy: 0.5664 - val_loss: 0.8191 - val_accuracy: 0.6590\n",
      "Epoch 20/1000\n",
      " 1/17 [>.............................] - ETA: 0s - loss: 1.0281 - accuracy: 0.6328\n",
      "Epoch 20: saving model to model/keypoint_classifier/keypoint_classifier.hdf5\n",
      "17/17 [==============================] - 0s 3ms/step - loss: 1.0459 - accuracy: 0.5692 - val_loss: 0.7874 - val_accuracy: 0.7364\n",
      "Epoch 21/1000\n",
      " 1/17 [>.............................] - ETA: 0s - loss: 1.0232 - accuracy: 0.5234\n",
      "Epoch 21: saving model to model/keypoint_classifier/keypoint_classifier.hdf5\n",
      "17/17 [==============================] - 0s 3ms/step - loss: 1.0237 - accuracy: 0.5888 - val_loss: 0.7645 - val_accuracy: 0.7722\n",
      "Epoch 22/1000\n",
      " 1/17 [>.............................] - ETA: 0s - loss: 0.9387 - accuracy: 0.6250\n",
      "Epoch 22: saving model to model/keypoint_classifier/keypoint_classifier.hdf5\n",
      "17/17 [==============================] - 0s 4ms/step - loss: 1.0014 - accuracy: 0.5831 - val_loss: 0.7392 - val_accuracy: 0.7980\n",
      "Epoch 23/1000\n",
      " 1/17 [>.............................] - ETA: 0s - loss: 1.0322 - accuracy: 0.5703\n",
      "Epoch 23: saving model to model/keypoint_classifier/keypoint_classifier.hdf5\n",
      "17/17 [==============================] - 0s 3ms/step - loss: 0.9587 - accuracy: 0.6084 - val_loss: 0.7151 - val_accuracy: 0.8223\n",
      "Epoch 24/1000\n",
      " 1/17 [>.............................] - ETA: 0s - loss: 0.9608 - accuracy: 0.5938\n",
      "Epoch 24: saving model to model/keypoint_classifier/keypoint_classifier.hdf5\n",
      "17/17 [==============================] - 0s 3ms/step - loss: 0.9675 - accuracy: 0.6012 - val_loss: 0.6947 - val_accuracy: 0.8496\n",
      "Epoch 25/1000\n",
      " 1/17 [>.............................] - ETA: 0s - loss: 0.9543 - accuracy: 0.6172\n",
      "Epoch 25: saving model to model/keypoint_classifier/keypoint_classifier.hdf5\n",
      "17/17 [==============================] - 0s 3ms/step - loss: 0.9603 - accuracy: 0.6046 - val_loss: 0.6756 - val_accuracy: 0.8782\n",
      "Epoch 26/1000\n",
      " 1/17 [>.............................] - ETA: 0s - loss: 0.9328 - accuracy: 0.5703\n",
      "Epoch 26: saving model to model/keypoint_classifier/keypoint_classifier.hdf5\n",
      "17/17 [==============================] - 0s 4ms/step - loss: 0.9164 - accuracy: 0.6223 - val_loss: 0.6601 - val_accuracy: 0.8682\n",
      "Epoch 27/1000\n",
      " 1/17 [>.............................] - ETA: 0s - loss: 0.8891 - accuracy: 0.6875\n",
      "Epoch 27: saving model to model/keypoint_classifier/keypoint_classifier.hdf5\n",
      "17/17 [==============================] - 0s 3ms/step - loss: 0.9385 - accuracy: 0.6146 - val_loss: 0.6464 - val_accuracy: 0.9054\n",
      "Epoch 28/1000\n"
     ]
    },
    {
     "name": "stdout",
     "output_type": "stream",
     "text": [
      " 1/17 [>.............................] - ETA: 0s - loss: 0.8927 - accuracy: 0.5938\n",
      "Epoch 28: saving model to model/keypoint_classifier/keypoint_classifier.hdf5\n",
      "17/17 [==============================] - 0s 3ms/step - loss: 0.8815 - accuracy: 0.6366 - val_loss: 0.6313 - val_accuracy: 0.9112\n",
      "Epoch 29/1000\n",
      " 1/17 [>.............................] - ETA: 0s - loss: 0.8689 - accuracy: 0.6562\n",
      "Epoch 29: saving model to model/keypoint_classifier/keypoint_classifier.hdf5\n",
      "17/17 [==============================] - 0s 3ms/step - loss: 0.9077 - accuracy: 0.6304 - val_loss: 0.6180 - val_accuracy: 0.9140\n",
      "Epoch 30/1000\n",
      " 1/17 [>.............................] - ETA: 0s - loss: 0.9312 - accuracy: 0.6094\n",
      "Epoch 30: saving model to model/keypoint_classifier/keypoint_classifier.hdf5\n",
      "17/17 [==============================] - 0s 3ms/step - loss: 0.8655 - accuracy: 0.6600 - val_loss: 0.6041 - val_accuracy: 0.8940\n",
      "Epoch 31/1000\n",
      " 1/17 [>.............................] - ETA: 0s - loss: 0.7657 - accuracy: 0.6641\n",
      "Epoch 31: saving model to model/keypoint_classifier/keypoint_classifier.hdf5\n",
      "17/17 [==============================] - 0s 3ms/step - loss: 0.8368 - accuracy: 0.6562 - val_loss: 0.5857 - val_accuracy: 0.9226\n",
      "Epoch 32/1000\n",
      " 1/17 [>.............................] - ETA: 0s - loss: 0.7886 - accuracy: 0.7031\n",
      "Epoch 32: saving model to model/keypoint_classifier/keypoint_classifier.hdf5\n",
      "17/17 [==============================] - 0s 3ms/step - loss: 0.8519 - accuracy: 0.6585 - val_loss: 0.5702 - val_accuracy: 0.9212\n",
      "Epoch 33/1000\n",
      " 1/17 [>.............................] - ETA: 0s - loss: 0.7578 - accuracy: 0.7656\n",
      "Epoch 33: saving model to model/keypoint_classifier/keypoint_classifier.hdf5\n",
      "17/17 [==============================] - 0s 3ms/step - loss: 0.8352 - accuracy: 0.6753 - val_loss: 0.5604 - val_accuracy: 0.9255\n",
      "Epoch 34/1000\n",
      " 1/17 [>.............................] - ETA: 0s - loss: 0.7504 - accuracy: 0.7031\n",
      "Epoch 34: saving model to model/keypoint_classifier/keypoint_classifier.hdf5\n",
      "17/17 [==============================] - 0s 3ms/step - loss: 0.8164 - accuracy: 0.6676 - val_loss: 0.5460 - val_accuracy: 0.9413\n",
      "Epoch 35/1000\n",
      " 1/17 [>.............................] - ETA: 0s - loss: 0.8233 - accuracy: 0.6562\n",
      "Epoch 35: saving model to model/keypoint_classifier/keypoint_classifier.hdf5\n",
      "17/17 [==============================] - 0s 4ms/step - loss: 0.8275 - accuracy: 0.6695 - val_loss: 0.5380 - val_accuracy: 0.9456\n",
      "Epoch 36/1000\n",
      " 1/17 [>.............................] - ETA: 0s - loss: 0.8642 - accuracy: 0.6875\n",
      "Epoch 36: saving model to model/keypoint_classifier/keypoint_classifier.hdf5\n",
      "17/17 [==============================] - 0s 3ms/step - loss: 0.8116 - accuracy: 0.6815 - val_loss: 0.5298 - val_accuracy: 0.9341\n",
      "Epoch 37/1000\n",
      " 1/17 [>.............................] - ETA: 0s - loss: 0.8039 - accuracy: 0.7031\n",
      "Epoch 37: saving model to model/keypoint_classifier/keypoint_classifier.hdf5\n",
      "17/17 [==============================] - 0s 3ms/step - loss: 0.8198 - accuracy: 0.6791 - val_loss: 0.5149 - val_accuracy: 0.9441\n",
      "Epoch 38/1000\n",
      " 1/17 [>.............................] - ETA: 0s - loss: 0.7644 - accuracy: 0.6641\n",
      "Epoch 38: saving model to model/keypoint_classifier/keypoint_classifier.hdf5\n",
      "17/17 [==============================] - 0s 3ms/step - loss: 0.8005 - accuracy: 0.6872 - val_loss: 0.5022 - val_accuracy: 0.9499\n",
      "Epoch 39/1000\n",
      " 1/17 [>.............................] - ETA: 0s - loss: 0.8397 - accuracy: 0.6875\n",
      "Epoch 39: saving model to model/keypoint_classifier/keypoint_classifier.hdf5\n",
      "17/17 [==============================] - 0s 3ms/step - loss: 0.7921 - accuracy: 0.6829 - val_loss: 0.4930 - val_accuracy: 0.9499\n",
      "Epoch 40/1000\n",
      " 1/17 [>.............................] - ETA: 0s - loss: 0.7256 - accuracy: 0.7109\n",
      "Epoch 40: saving model to model/keypoint_classifier/keypoint_classifier.hdf5\n",
      "17/17 [==============================] - 0s 3ms/step - loss: 0.7648 - accuracy: 0.7044 - val_loss: 0.4863 - val_accuracy: 0.9484\n",
      "Epoch 41/1000\n",
      " 1/17 [>.............................] - ETA: 0s - loss: 0.7283 - accuracy: 0.7266\n",
      "Epoch 41: saving model to model/keypoint_classifier/keypoint_classifier.hdf5\n",
      "17/17 [==============================] - 0s 3ms/step - loss: 0.7787 - accuracy: 0.6929 - val_loss: 0.4806 - val_accuracy: 0.9441\n",
      "Epoch 42/1000\n",
      " 1/17 [>.............................] - ETA: 0s - loss: 0.7326 - accuracy: 0.7266\n",
      "Epoch 42: saving model to model/keypoint_classifier/keypoint_classifier.hdf5\n",
      "17/17 [==============================] - 0s 3ms/step - loss: 0.7783 - accuracy: 0.6934 - val_loss: 0.4650 - val_accuracy: 0.9542\n",
      "Epoch 43/1000\n",
      " 1/17 [>.............................] - ETA: 0s - loss: 0.6979 - accuracy: 0.7344\n",
      "Epoch 43: saving model to model/keypoint_classifier/keypoint_classifier.hdf5\n",
      "17/17 [==============================] - 0s 3ms/step - loss: 0.7610 - accuracy: 0.7063 - val_loss: 0.4566 - val_accuracy: 0.9513\n",
      "Epoch 44/1000\n",
      " 1/17 [>.............................] - ETA: 0s - loss: 0.7296 - accuracy: 0.7109\n",
      "Epoch 44: saving model to model/keypoint_classifier/keypoint_classifier.hdf5\n",
      "17/17 [==============================] - 0s 3ms/step - loss: 0.7521 - accuracy: 0.7111 - val_loss: 0.4488 - val_accuracy: 0.9542\n",
      "Epoch 45/1000\n",
      " 1/17 [>.............................] - ETA: 0s - loss: 0.8015 - accuracy: 0.6953\n",
      "Epoch 45: saving model to model/keypoint_classifier/keypoint_classifier.hdf5\n",
      "17/17 [==============================] - 0s 3ms/step - loss: 0.7348 - accuracy: 0.7197 - val_loss: 0.4389 - val_accuracy: 0.9570\n",
      "Epoch 46/1000\n",
      " 1/17 [>.............................] - ETA: 0s - loss: 0.7503 - accuracy: 0.7266\n",
      "Epoch 46: saving model to model/keypoint_classifier/keypoint_classifier.hdf5\n",
      "17/17 [==============================] - 0s 3ms/step - loss: 0.7361 - accuracy: 0.7254 - val_loss: 0.4299 - val_accuracy: 0.9599\n",
      "Epoch 47/1000\n",
      " 1/17 [>.............................] - ETA: 0s - loss: 0.7161 - accuracy: 0.7422\n",
      "Epoch 47: saving model to model/keypoint_classifier/keypoint_classifier.hdf5\n",
      "17/17 [==============================] - 0s 3ms/step - loss: 0.7301 - accuracy: 0.7187 - val_loss: 0.4204 - val_accuracy: 0.9585\n",
      "Epoch 48/1000\n",
      " 1/17 [>.............................] - ETA: 0s - loss: 0.7625 - accuracy: 0.7109\n",
      "Epoch 48: saving model to model/keypoint_classifier/keypoint_classifier.hdf5\n",
      "17/17 [==============================] - 0s 5ms/step - loss: 0.7185 - accuracy: 0.7173 - val_loss: 0.4176 - val_accuracy: 0.9556\n",
      "Epoch 49/1000\n",
      " 1/17 [>.............................] - ETA: 0s - loss: 0.8043 - accuracy: 0.7031\n",
      "Epoch 49: saving model to model/keypoint_classifier/keypoint_classifier.hdf5\n",
      "17/17 [==============================] - 0s 3ms/step - loss: 0.7383 - accuracy: 0.7182 - val_loss: 0.4138 - val_accuracy: 0.9556\n",
      "Epoch 50/1000\n",
      " 1/17 [>.............................] - ETA: 0s - loss: 0.6181 - accuracy: 0.8125\n",
      "Epoch 50: saving model to model/keypoint_classifier/keypoint_classifier.hdf5\n",
      "17/17 [==============================] - 0s 3ms/step - loss: 0.7075 - accuracy: 0.7412 - val_loss: 0.4066 - val_accuracy: 0.9599\n",
      "Epoch 51/1000\n",
      " 1/17 [>.............................] - ETA: 0s - loss: 0.6105 - accuracy: 0.7969\n",
      "Epoch 51: saving model to model/keypoint_classifier/keypoint_classifier.hdf5\n",
      "17/17 [==============================] - 0s 3ms/step - loss: 0.6859 - accuracy: 0.7421 - val_loss: 0.3951 - val_accuracy: 0.9556\n",
      "Epoch 52/1000\n",
      " 1/17 [>.............................] - ETA: 0s - loss: 0.7442 - accuracy: 0.6953\n",
      "Epoch 52: saving model to model/keypoint_classifier/keypoint_classifier.hdf5\n",
      "17/17 [==============================] - 0s 3ms/step - loss: 0.6992 - accuracy: 0.7393 - val_loss: 0.3930 - val_accuracy: 0.9585\n",
      "Epoch 53/1000\n",
      " 1/17 [>.............................] - ETA: 0s - loss: 0.8108 - accuracy: 0.7188\n",
      "Epoch 53: saving model to model/keypoint_classifier/keypoint_classifier.hdf5\n",
      "17/17 [==============================] - 0s 3ms/step - loss: 0.6886 - accuracy: 0.7378 - val_loss: 0.3883 - val_accuracy: 0.9585\n",
      "Epoch 54/1000\n",
      " 1/17 [>.............................] - ETA: 0s - loss: 0.7679 - accuracy: 0.7031\n",
      "Epoch 54: saving model to model/keypoint_classifier/keypoint_classifier.hdf5\n",
      "17/17 [==============================] - 0s 3ms/step - loss: 0.6859 - accuracy: 0.7412 - val_loss: 0.3803 - val_accuracy: 0.9642\n",
      "Epoch 55/1000\n"
     ]
    },
    {
     "name": "stdout",
     "output_type": "stream",
     "text": [
      " 1/17 [>.............................] - ETA: 0s - loss: 0.6546 - accuracy: 0.7578\n",
      "Epoch 55: saving model to model/keypoint_classifier/keypoint_classifier.hdf5\n",
      "17/17 [==============================] - 0s 4ms/step - loss: 0.6920 - accuracy: 0.7536 - val_loss: 0.3747 - val_accuracy: 0.9670\n",
      "Epoch 56/1000\n",
      " 1/17 [>.............................] - ETA: 0s - loss: 0.7455 - accuracy: 0.6875\n",
      "Epoch 56: saving model to model/keypoint_classifier/keypoint_classifier.hdf5\n",
      "17/17 [==============================] - 0s 3ms/step - loss: 0.7006 - accuracy: 0.7311 - val_loss: 0.3729 - val_accuracy: 0.9599\n",
      "Epoch 57/1000\n",
      " 1/17 [>.............................] - ETA: 0s - loss: 0.5274 - accuracy: 0.8359\n",
      "Epoch 57: saving model to model/keypoint_classifier/keypoint_classifier.hdf5\n",
      "17/17 [==============================] - 0s 3ms/step - loss: 0.6673 - accuracy: 0.7426 - val_loss: 0.3647 - val_accuracy: 0.9599\n",
      "Epoch 58/1000\n",
      " 1/17 [>.............................] - ETA: 0s - loss: 0.6487 - accuracy: 0.7656\n",
      "Epoch 58: saving model to model/keypoint_classifier/keypoint_classifier.hdf5\n",
      "17/17 [==============================] - 0s 3ms/step - loss: 0.6631 - accuracy: 0.7459 - val_loss: 0.3590 - val_accuracy: 0.9556\n",
      "Epoch 59/1000\n",
      " 1/17 [>.............................] - ETA: 0s - loss: 0.6544 - accuracy: 0.7188\n",
      "Epoch 59: saving model to model/keypoint_classifier/keypoint_classifier.hdf5\n",
      "17/17 [==============================] - 0s 3ms/step - loss: 0.6683 - accuracy: 0.7469 - val_loss: 0.3552 - val_accuracy: 0.9628\n",
      "Epoch 60/1000\n",
      " 1/17 [>.............................] - ETA: 0s - loss: 0.5837 - accuracy: 0.7578\n",
      "Epoch 60: saving model to model/keypoint_classifier/keypoint_classifier.hdf5\n",
      "17/17 [==============================] - 0s 3ms/step - loss: 0.6463 - accuracy: 0.7517 - val_loss: 0.3487 - val_accuracy: 0.9628\n",
      "Epoch 61/1000\n",
      " 1/17 [>.............................] - ETA: 0s - loss: 0.7119 - accuracy: 0.7188\n",
      "Epoch 61: saving model to model/keypoint_classifier/keypoint_classifier.hdf5\n",
      "17/17 [==============================] - 0s 3ms/step - loss: 0.6534 - accuracy: 0.7526 - val_loss: 0.3475 - val_accuracy: 0.9628\n",
      "Epoch 62/1000\n",
      " 1/17 [>.............................] - ETA: 0s - loss: 0.6367 - accuracy: 0.7734\n",
      "Epoch 62: saving model to model/keypoint_classifier/keypoint_classifier.hdf5\n",
      "17/17 [==============================] - 0s 3ms/step - loss: 0.6495 - accuracy: 0.7517 - val_loss: 0.3435 - val_accuracy: 0.9642\n",
      "Epoch 63/1000\n",
      " 1/17 [>.............................] - ETA: 0s - loss: 0.6507 - accuracy: 0.7734\n",
      "Epoch 63: saving model to model/keypoint_classifier/keypoint_classifier.hdf5\n",
      "17/17 [==============================] - 0s 3ms/step - loss: 0.6473 - accuracy: 0.7607 - val_loss: 0.3400 - val_accuracy: 0.9642\n",
      "Epoch 64/1000\n",
      " 1/17 [>.............................] - ETA: 0s - loss: 0.6075 - accuracy: 0.7734\n",
      "Epoch 64: saving model to model/keypoint_classifier/keypoint_classifier.hdf5\n",
      "17/17 [==============================] - 0s 3ms/step - loss: 0.6611 - accuracy: 0.7412 - val_loss: 0.3382 - val_accuracy: 0.9613\n",
      "Epoch 65/1000\n",
      " 1/17 [>.............................] - ETA: 0s - loss: 0.6481 - accuracy: 0.7578\n",
      "Epoch 65: saving model to model/keypoint_classifier/keypoint_classifier.hdf5\n",
      "17/17 [==============================] - 0s 4ms/step - loss: 0.6627 - accuracy: 0.7507 - val_loss: 0.3361 - val_accuracy: 0.9670\n",
      "Epoch 66/1000\n",
      " 1/17 [>.............................] - ETA: 0s - loss: 0.5920 - accuracy: 0.7266\n",
      "Epoch 66: saving model to model/keypoint_classifier/keypoint_classifier.hdf5\n",
      "17/17 [==============================] - 0s 4ms/step - loss: 0.6165 - accuracy: 0.7660 - val_loss: 0.3312 - val_accuracy: 0.9628\n",
      "Epoch 67/1000\n",
      " 1/17 [>.............................] - ETA: 0s - loss: 0.7942 - accuracy: 0.7109\n",
      "Epoch 67: saving model to model/keypoint_classifier/keypoint_classifier.hdf5\n",
      "17/17 [==============================] - 0s 4ms/step - loss: 0.6562 - accuracy: 0.7607 - val_loss: 0.3265 - val_accuracy: 0.9685\n",
      "Epoch 68/1000\n",
      " 1/17 [>.............................] - ETA: 0s - loss: 0.6448 - accuracy: 0.7578\n",
      "Epoch 68: saving model to model/keypoint_classifier/keypoint_classifier.hdf5\n",
      "17/17 [==============================] - 0s 4ms/step - loss: 0.6081 - accuracy: 0.7760 - val_loss: 0.3220 - val_accuracy: 0.9642\n",
      "Epoch 69/1000\n",
      " 1/17 [>.............................] - ETA: 0s - loss: 0.5324 - accuracy: 0.8203\n",
      "Epoch 69: saving model to model/keypoint_classifier/keypoint_classifier.hdf5\n",
      "17/17 [==============================] - 0s 3ms/step - loss: 0.6383 - accuracy: 0.7679 - val_loss: 0.3154 - val_accuracy: 0.9642\n",
      "Epoch 70/1000\n",
      " 1/17 [>.............................] - ETA: 0s - loss: 0.6718 - accuracy: 0.7422\n",
      "Epoch 70: saving model to model/keypoint_classifier/keypoint_classifier.hdf5\n",
      "17/17 [==============================] - 0s 3ms/step - loss: 0.6300 - accuracy: 0.7722 - val_loss: 0.3112 - val_accuracy: 0.9656\n",
      "Epoch 71/1000\n",
      " 1/17 [>.............................] - ETA: 0s - loss: 0.6641 - accuracy: 0.7500\n",
      "Epoch 71: saving model to model/keypoint_classifier/keypoint_classifier.hdf5\n",
      "17/17 [==============================] - 0s 3ms/step - loss: 0.6331 - accuracy: 0.7655 - val_loss: 0.3111 - val_accuracy: 0.9699\n",
      "Epoch 72/1000\n",
      " 1/17 [>.............................] - ETA: 0s - loss: 0.6145 - accuracy: 0.7734\n",
      "Epoch 72: saving model to model/keypoint_classifier/keypoint_classifier.hdf5\n",
      "17/17 [==============================] - 0s 3ms/step - loss: 0.6192 - accuracy: 0.7789 - val_loss: 0.3054 - val_accuracy: 0.9656\n",
      "Epoch 73/1000\n",
      " 1/17 [>.............................] - ETA: 0s - loss: 0.6284 - accuracy: 0.7344\n",
      "Epoch 73: saving model to model/keypoint_classifier/keypoint_classifier.hdf5\n",
      "17/17 [==============================] - 0s 3ms/step - loss: 0.6181 - accuracy: 0.7665 - val_loss: 0.3004 - val_accuracy: 0.9628\n",
      "Epoch 74/1000\n",
      " 1/17 [>.............................] - ETA: 0s - loss: 0.6179 - accuracy: 0.7891\n",
      "Epoch 74: saving model to model/keypoint_classifier/keypoint_classifier.hdf5\n",
      "17/17 [==============================] - 0s 3ms/step - loss: 0.6074 - accuracy: 0.7755 - val_loss: 0.2971 - val_accuracy: 0.9670\n",
      "Epoch 75/1000\n",
      " 1/17 [>.............................] - ETA: 0s - loss: 0.6197 - accuracy: 0.7656\n",
      "Epoch 75: saving model to model/keypoint_classifier/keypoint_classifier.hdf5\n",
      "17/17 [==============================] - 0s 3ms/step - loss: 0.6266 - accuracy: 0.7808 - val_loss: 0.2949 - val_accuracy: 0.9656\n",
      "Epoch 76/1000\n",
      " 1/17 [>.............................] - ETA: 0s - loss: 0.7542 - accuracy: 0.7266\n",
      "Epoch 76: saving model to model/keypoint_classifier/keypoint_classifier.hdf5\n",
      "17/17 [==============================] - 0s 3ms/step - loss: 0.6161 - accuracy: 0.7751 - val_loss: 0.2996 - val_accuracy: 0.9685\n",
      "Epoch 77/1000\n",
      " 1/17 [>.............................] - ETA: 0s - loss: 0.7325 - accuracy: 0.7109\n",
      "Epoch 77: saving model to model/keypoint_classifier/keypoint_classifier.hdf5\n",
      "17/17 [==============================] - 0s 3ms/step - loss: 0.6325 - accuracy: 0.7660 - val_loss: 0.3042 - val_accuracy: 0.9699\n",
      "Epoch 78/1000\n",
      " 1/17 [>.............................] - ETA: 0s - loss: 0.5661 - accuracy: 0.7812\n",
      "Epoch 78: saving model to model/keypoint_classifier/keypoint_classifier.hdf5\n",
      "17/17 [==============================] - 0s 3ms/step - loss: 0.5912 - accuracy: 0.7894 - val_loss: 0.2990 - val_accuracy: 0.9670\n",
      "Epoch 79/1000\n",
      " 1/17 [>.............................] - ETA: 0s - loss: 0.6623 - accuracy: 0.7656\n",
      "Epoch 79: saving model to model/keypoint_classifier/keypoint_classifier.hdf5\n",
      "17/17 [==============================] - 0s 3ms/step - loss: 0.6056 - accuracy: 0.7894 - val_loss: 0.2924 - val_accuracy: 0.9699\n",
      "Epoch 80/1000\n",
      " 1/17 [>.............................] - ETA: 0s - loss: 0.5918 - accuracy: 0.7734\n",
      "Epoch 80: saving model to model/keypoint_classifier/keypoint_classifier.hdf5\n",
      "17/17 [==============================] - 0s 3ms/step - loss: 0.6217 - accuracy: 0.7660 - val_loss: 0.2889 - val_accuracy: 0.9699\n",
      "Epoch 81/1000\n",
      " 1/17 [>.............................] - ETA: 0s - loss: 0.5612 - accuracy: 0.8125\n",
      "Epoch 81: saving model to model/keypoint_classifier/keypoint_classifier.hdf5\n",
      "17/17 [==============================] - 0s 3ms/step - loss: 0.6096 - accuracy: 0.7708 - val_loss: 0.2913 - val_accuracy: 0.9713\n",
      "Epoch 82/1000\n"
     ]
    },
    {
     "name": "stdout",
     "output_type": "stream",
     "text": [
      " 1/17 [>.............................] - ETA: 0s - loss: 0.6882 - accuracy: 0.7656\n",
      "Epoch 82: saving model to model/keypoint_classifier/keypoint_classifier.hdf5\n",
      "17/17 [==============================] - 0s 3ms/step - loss: 0.6145 - accuracy: 0.7779 - val_loss: 0.2935 - val_accuracy: 0.9699\n",
      "Epoch 83/1000\n",
      " 1/17 [>.............................] - ETA: 0s - loss: 0.4567 - accuracy: 0.8594\n",
      "Epoch 83: saving model to model/keypoint_classifier/keypoint_classifier.hdf5\n",
      "17/17 [==============================] - 0s 4ms/step - loss: 0.5916 - accuracy: 0.7856 - val_loss: 0.2819 - val_accuracy: 0.9713\n",
      "Epoch 84/1000\n",
      " 1/17 [>.............................] - ETA: 0s - loss: 0.6201 - accuracy: 0.7656\n",
      "Epoch 84: saving model to model/keypoint_classifier/keypoint_classifier.hdf5\n",
      "17/17 [==============================] - 0s 3ms/step - loss: 0.5970 - accuracy: 0.7670 - val_loss: 0.2787 - val_accuracy: 0.9670\n",
      "Epoch 85/1000\n",
      " 1/17 [>.............................] - ETA: 0s - loss: 0.5944 - accuracy: 0.7734\n",
      "Epoch 85: saving model to model/keypoint_classifier/keypoint_classifier.hdf5\n",
      "17/17 [==============================] - 0s 3ms/step - loss: 0.5993 - accuracy: 0.7760 - val_loss: 0.2799 - val_accuracy: 0.9656\n",
      "Epoch 86/1000\n",
      " 1/17 [>.............................] - ETA: 0s - loss: 0.6433 - accuracy: 0.7734\n",
      "Epoch 86: saving model to model/keypoint_classifier/keypoint_classifier.hdf5\n",
      "17/17 [==============================] - 0s 3ms/step - loss: 0.6041 - accuracy: 0.7727 - val_loss: 0.2765 - val_accuracy: 0.9699\n",
      "Epoch 87/1000\n",
      " 1/17 [>.............................] - ETA: 0s - loss: 0.6253 - accuracy: 0.8203\n",
      "Epoch 87: saving model to model/keypoint_classifier/keypoint_classifier.hdf5\n",
      "17/17 [==============================] - 0s 3ms/step - loss: 0.5621 - accuracy: 0.8018 - val_loss: 0.2753 - val_accuracy: 0.9699\n",
      "Epoch 88/1000\n",
      " 1/17 [>.............................] - ETA: 0s - loss: 0.6309 - accuracy: 0.7578\n",
      "Epoch 88: saving model to model/keypoint_classifier/keypoint_classifier.hdf5\n",
      "17/17 [==============================] - 0s 3ms/step - loss: 0.5974 - accuracy: 0.7803 - val_loss: 0.2744 - val_accuracy: 0.9713\n",
      "Epoch 89/1000\n",
      " 1/17 [>.............................] - ETA: 0s - loss: 0.6423 - accuracy: 0.7656\n",
      "Epoch 89: saving model to model/keypoint_classifier/keypoint_classifier.hdf5\n",
      "17/17 [==============================] - 0s 3ms/step - loss: 0.5566 - accuracy: 0.7927 - val_loss: 0.2774 - val_accuracy: 0.9699\n",
      "Epoch 90/1000\n",
      " 1/17 [>.............................] - ETA: 0s - loss: 0.5551 - accuracy: 0.7734\n",
      "Epoch 90: saving model to model/keypoint_classifier/keypoint_classifier.hdf5\n",
      "17/17 [==============================] - 0s 3ms/step - loss: 0.5746 - accuracy: 0.7827 - val_loss: 0.2685 - val_accuracy: 0.9685\n",
      "Epoch 91/1000\n",
      " 1/17 [>.............................] - ETA: 0s - loss: 0.7345 - accuracy: 0.7422\n",
      "Epoch 91: saving model to model/keypoint_classifier/keypoint_classifier.hdf5\n",
      "17/17 [==============================] - 0s 3ms/step - loss: 0.5665 - accuracy: 0.7975 - val_loss: 0.2669 - val_accuracy: 0.9699\n",
      "Epoch 92/1000\n",
      " 1/17 [>.............................] - ETA: 0s - loss: 0.5842 - accuracy: 0.7734\n",
      "Epoch 92: saving model to model/keypoint_classifier/keypoint_classifier.hdf5\n",
      "17/17 [==============================] - 0s 3ms/step - loss: 0.5945 - accuracy: 0.7832 - val_loss: 0.2645 - val_accuracy: 0.9728\n",
      "Epoch 93/1000\n",
      " 1/17 [>.............................] - ETA: 0s - loss: 0.4836 - accuracy: 0.8438\n",
      "Epoch 93: saving model to model/keypoint_classifier/keypoint_classifier.hdf5\n",
      "17/17 [==============================] - 0s 3ms/step - loss: 0.5948 - accuracy: 0.7775 - val_loss: 0.2691 - val_accuracy: 0.9656\n",
      "Epoch 94/1000\n",
      " 1/17 [>.............................] - ETA: 0s - loss: 0.6447 - accuracy: 0.7891\n",
      "Epoch 94: saving model to model/keypoint_classifier/keypoint_classifier.hdf5\n",
      "17/17 [==============================] - 0s 3ms/step - loss: 0.5617 - accuracy: 0.8071 - val_loss: 0.2656 - val_accuracy: 0.9742\n",
      "Epoch 95/1000\n",
      " 1/17 [>.............................] - ETA: 0s - loss: 0.6059 - accuracy: 0.8047\n",
      "Epoch 95: saving model to model/keypoint_classifier/keypoint_classifier.hdf5\n",
      "17/17 [==============================] - 0s 3ms/step - loss: 0.5835 - accuracy: 0.7899 - val_loss: 0.2637 - val_accuracy: 0.9685\n",
      "Epoch 96/1000\n",
      " 1/17 [>.............................] - ETA: 0s - loss: 0.6484 - accuracy: 0.7422\n",
      "Epoch 96: saving model to model/keypoint_classifier/keypoint_classifier.hdf5\n",
      "17/17 [==============================] - 0s 5ms/step - loss: 0.5992 - accuracy: 0.7798 - val_loss: 0.2607 - val_accuracy: 0.9670\n",
      "Epoch 97/1000\n",
      " 1/17 [>.............................] - ETA: 0s - loss: 0.5624 - accuracy: 0.8281\n",
      "Epoch 97: saving model to model/keypoint_classifier/keypoint_classifier.hdf5\n",
      "17/17 [==============================] - 0s 3ms/step - loss: 0.5614 - accuracy: 0.8028 - val_loss: 0.2577 - val_accuracy: 0.9756\n",
      "Epoch 98/1000\n",
      " 1/17 [>.............................] - ETA: 0s - loss: 0.5586 - accuracy: 0.7969\n",
      "Epoch 98: saving model to model/keypoint_classifier/keypoint_classifier.hdf5\n",
      "17/17 [==============================] - 0s 3ms/step - loss: 0.5718 - accuracy: 0.7894 - val_loss: 0.2530 - val_accuracy: 0.9728\n",
      "Epoch 99/1000\n",
      " 1/17 [>.............................] - ETA: 0s - loss: 0.5162 - accuracy: 0.8047\n",
      "Epoch 99: saving model to model/keypoint_classifier/keypoint_classifier.hdf5\n",
      "17/17 [==============================] - 0s 3ms/step - loss: 0.5568 - accuracy: 0.7927 - val_loss: 0.2581 - val_accuracy: 0.9742\n",
      "Epoch 100/1000\n",
      " 1/17 [>.............................] - ETA: 0s - loss: 0.5516 - accuracy: 0.8047\n",
      "Epoch 100: saving model to model/keypoint_classifier/keypoint_classifier.hdf5\n",
      "17/17 [==============================] - 0s 3ms/step - loss: 0.5454 - accuracy: 0.8104 - val_loss: 0.2528 - val_accuracy: 0.9713\n",
      "Epoch 101/1000\n",
      " 1/17 [>.............................] - ETA: 0s - loss: 0.5303 - accuracy: 0.8516\n",
      "Epoch 101: saving model to model/keypoint_classifier/keypoint_classifier.hdf5\n",
      "17/17 [==============================] - 0s 3ms/step - loss: 0.5693 - accuracy: 0.7956 - val_loss: 0.2458 - val_accuracy: 0.9699\n",
      "Epoch 102/1000\n",
      " 1/17 [>.............................] - ETA: 0s - loss: 0.5608 - accuracy: 0.7969\n",
      "Epoch 102: saving model to model/keypoint_classifier/keypoint_classifier.hdf5\n",
      "17/17 [==============================] - 0s 3ms/step - loss: 0.5642 - accuracy: 0.7989 - val_loss: 0.2435 - val_accuracy: 0.9699\n",
      "Epoch 103/1000\n",
      " 1/17 [>.............................] - ETA: 0s - loss: 0.6608 - accuracy: 0.7188\n",
      "Epoch 103: saving model to model/keypoint_classifier/keypoint_classifier.hdf5\n",
      "17/17 [==============================] - 0s 4ms/step - loss: 0.5698 - accuracy: 0.7884 - val_loss: 0.2464 - val_accuracy: 0.9742\n",
      "Epoch 104/1000\n",
      " 1/17 [>.............................] - ETA: 0s - loss: 0.6436 - accuracy: 0.7500\n",
      "Epoch 104: saving model to model/keypoint_classifier/keypoint_classifier.hdf5\n",
      "17/17 [==============================] - 0s 3ms/step - loss: 0.5658 - accuracy: 0.7937 - val_loss: 0.2445 - val_accuracy: 0.9728\n",
      "Epoch 105/1000\n",
      " 1/17 [>.............................] - ETA: 0s - loss: 0.7596 - accuracy: 0.7266\n",
      "Epoch 105: saving model to model/keypoint_classifier/keypoint_classifier.hdf5\n",
      "17/17 [==============================] - 0s 3ms/step - loss: 0.5585 - accuracy: 0.8004 - val_loss: 0.2484 - val_accuracy: 0.9728\n",
      "Epoch 106/1000\n",
      " 1/17 [>.............................] - ETA: 0s - loss: 0.4573 - accuracy: 0.8750\n",
      "Epoch 106: saving model to model/keypoint_classifier/keypoint_classifier.hdf5\n",
      "17/17 [==============================] - 0s 3ms/step - loss: 0.5609 - accuracy: 0.7989 - val_loss: 0.2468 - val_accuracy: 0.9742\n",
      "Epoch 107/1000\n",
      " 1/17 [>.............................] - ETA: 0s - loss: 0.5564 - accuracy: 0.7969\n",
      "Epoch 107: saving model to model/keypoint_classifier/keypoint_classifier.hdf5\n",
      "17/17 [==============================] - 0s 3ms/step - loss: 0.5763 - accuracy: 0.8018 - val_loss: 0.2435 - val_accuracy: 0.9713\n",
      "Epoch 108/1000\n",
      " 1/17 [>.............................] - ETA: 0s - loss: 0.5988 - accuracy: 0.7891\n",
      "Epoch 108: saving model to model/keypoint_classifier/keypoint_classifier.hdf5\n",
      "17/17 [==============================] - 0s 4ms/step - loss: 0.5529 - accuracy: 0.7999 - val_loss: 0.2372 - val_accuracy: 0.9713\n",
      "Epoch 109/1000\n"
     ]
    },
    {
     "name": "stdout",
     "output_type": "stream",
     "text": [
      " 1/17 [>.............................] - ETA: 0s - loss: 0.6188 - accuracy: 0.7812\n",
      "Epoch 109: saving model to model/keypoint_classifier/keypoint_classifier.hdf5\n",
      "17/17 [==============================] - 0s 4ms/step - loss: 0.5521 - accuracy: 0.8042 - val_loss: 0.2332 - val_accuracy: 0.9728\n",
      "Epoch 110/1000\n",
      " 1/17 [>.............................] - ETA: 0s - loss: 0.6259 - accuracy: 0.7422\n",
      "Epoch 110: saving model to model/keypoint_classifier/keypoint_classifier.hdf5\n",
      "17/17 [==============================] - 0s 3ms/step - loss: 0.5537 - accuracy: 0.8013 - val_loss: 0.2331 - val_accuracy: 0.9742\n",
      "Epoch 111/1000\n",
      " 1/17 [>.............................] - ETA: 0s - loss: 0.4988 - accuracy: 0.7969\n",
      "Epoch 111: saving model to model/keypoint_classifier/keypoint_classifier.hdf5\n",
      "17/17 [==============================] - 0s 3ms/step - loss: 0.5371 - accuracy: 0.8066 - val_loss: 0.2311 - val_accuracy: 0.9728\n",
      "Epoch 112/1000\n",
      " 1/17 [>.............................] - ETA: 0s - loss: 0.6595 - accuracy: 0.7578\n",
      "Epoch 112: saving model to model/keypoint_classifier/keypoint_classifier.hdf5\n",
      "17/17 [==============================] - 0s 3ms/step - loss: 0.5477 - accuracy: 0.8042 - val_loss: 0.2335 - val_accuracy: 0.9713\n",
      "Epoch 113/1000\n",
      " 1/17 [>.............................] - ETA: 0s - loss: 0.4930 - accuracy: 0.8359\n",
      "Epoch 113: saving model to model/keypoint_classifier/keypoint_classifier.hdf5\n",
      "17/17 [==============================] - 0s 3ms/step - loss: 0.5398 - accuracy: 0.8099 - val_loss: 0.2312 - val_accuracy: 0.9742\n",
      "Epoch 114/1000\n",
      " 1/17 [>.............................] - ETA: 0s - loss: 0.6566 - accuracy: 0.7578\n",
      "Epoch 114: saving model to model/keypoint_classifier/keypoint_classifier.hdf5\n",
      "17/17 [==============================] - 0s 3ms/step - loss: 0.5431 - accuracy: 0.8013 - val_loss: 0.2293 - val_accuracy: 0.9713\n",
      "Epoch 115/1000\n",
      " 1/17 [>.............................] - ETA: 0s - loss: 0.5324 - accuracy: 0.7969\n",
      "Epoch 115: saving model to model/keypoint_classifier/keypoint_classifier.hdf5\n",
      "17/17 [==============================] - 0s 3ms/step - loss: 0.5400 - accuracy: 0.7947 - val_loss: 0.2251 - val_accuracy: 0.9685\n",
      "Epoch 116/1000\n",
      " 1/17 [>.............................] - ETA: 0s - loss: 0.5862 - accuracy: 0.7812\n",
      "Epoch 116: saving model to model/keypoint_classifier/keypoint_classifier.hdf5\n",
      "17/17 [==============================] - 0s 3ms/step - loss: 0.5462 - accuracy: 0.8133 - val_loss: 0.2242 - val_accuracy: 0.9728\n",
      "Epoch 117/1000\n",
      " 1/17 [>.............................] - ETA: 0s - loss: 0.5382 - accuracy: 0.7812\n",
      "Epoch 117: saving model to model/keypoint_classifier/keypoint_classifier.hdf5\n",
      "17/17 [==============================] - 0s 3ms/step - loss: 0.5310 - accuracy: 0.8090 - val_loss: 0.2272 - val_accuracy: 0.9756\n",
      "Epoch 118/1000\n",
      " 1/17 [>.............................] - ETA: 0s - loss: 0.5121 - accuracy: 0.8438\n",
      "Epoch 118: saving model to model/keypoint_classifier/keypoint_classifier.hdf5\n",
      "17/17 [==============================] - 0s 3ms/step - loss: 0.5275 - accuracy: 0.8032 - val_loss: 0.2242 - val_accuracy: 0.9713\n",
      "Epoch 119/1000\n",
      " 1/17 [>.............................] - ETA: 0s - loss: 0.5336 - accuracy: 0.8281\n",
      "Epoch 119: saving model to model/keypoint_classifier/keypoint_classifier.hdf5\n",
      "17/17 [==============================] - 0s 3ms/step - loss: 0.5514 - accuracy: 0.8009 - val_loss: 0.2242 - val_accuracy: 0.9728\n",
      "Epoch 120/1000\n",
      " 1/17 [>.............................] - ETA: 0s - loss: 0.6113 - accuracy: 0.7578\n",
      "Epoch 120: saving model to model/keypoint_classifier/keypoint_classifier.hdf5\n",
      "17/17 [==============================] - 0s 3ms/step - loss: 0.5726 - accuracy: 0.7846 - val_loss: 0.2246 - val_accuracy: 0.9742\n",
      "Epoch 121/1000\n",
      " 1/17 [>.............................] - ETA: 0s - loss: 0.5586 - accuracy: 0.7578\n",
      "Epoch 121: saving model to model/keypoint_classifier/keypoint_classifier.hdf5\n",
      "17/17 [==============================] - 0s 3ms/step - loss: 0.5511 - accuracy: 0.7951 - val_loss: 0.2243 - val_accuracy: 0.9742\n",
      "Epoch 122/1000\n",
      " 1/17 [>.............................] - ETA: 0s - loss: 0.5168 - accuracy: 0.8359\n",
      "Epoch 122: saving model to model/keypoint_classifier/keypoint_classifier.hdf5\n",
      "17/17 [==============================] - 0s 3ms/step - loss: 0.5307 - accuracy: 0.8061 - val_loss: 0.2233 - val_accuracy: 0.9742\n",
      "Epoch 123/1000\n",
      " 1/17 [>.............................] - ETA: 0s - loss: 0.5237 - accuracy: 0.8203\n",
      "Epoch 123: saving model to model/keypoint_classifier/keypoint_classifier.hdf5\n",
      "17/17 [==============================] - 0s 3ms/step - loss: 0.5226 - accuracy: 0.8209 - val_loss: 0.2174 - val_accuracy: 0.9742\n",
      "Epoch 124/1000\n",
      " 1/17 [>.............................] - ETA: 0s - loss: 0.5561 - accuracy: 0.7656\n",
      "Epoch 124: saving model to model/keypoint_classifier/keypoint_classifier.hdf5\n",
      "17/17 [==============================] - 0s 3ms/step - loss: 0.5274 - accuracy: 0.8128 - val_loss: 0.2148 - val_accuracy: 0.9728\n",
      "Epoch 125/1000\n",
      " 1/17 [>.............................] - ETA: 0s - loss: 0.5364 - accuracy: 0.7578\n",
      "Epoch 125: saving model to model/keypoint_classifier/keypoint_classifier.hdf5\n",
      "17/17 [==============================] - 0s 3ms/step - loss: 0.5449 - accuracy: 0.8047 - val_loss: 0.2150 - val_accuracy: 0.9728\n",
      "Epoch 126/1000\n",
      " 1/17 [>.............................] - ETA: 0s - loss: 0.5906 - accuracy: 0.7969\n",
      "Epoch 126: saving model to model/keypoint_classifier/keypoint_classifier.hdf5\n",
      "17/17 [==============================] - 0s 3ms/step - loss: 0.5210 - accuracy: 0.8176 - val_loss: 0.2206 - val_accuracy: 0.9742\n",
      "Epoch 127/1000\n",
      " 1/17 [>.............................] - ETA: 0s - loss: 0.4567 - accuracy: 0.7969\n",
      "Epoch 127: saving model to model/keypoint_classifier/keypoint_classifier.hdf5\n",
      "17/17 [==============================] - 0s 3ms/step - loss: 0.5050 - accuracy: 0.8161 - val_loss: 0.2143 - val_accuracy: 0.9742\n",
      "Epoch 128/1000\n",
      " 1/17 [>.............................] - ETA: 0s - loss: 0.6032 - accuracy: 0.7734\n",
      "Epoch 128: saving model to model/keypoint_classifier/keypoint_classifier.hdf5\n",
      "17/17 [==============================] - 0s 3ms/step - loss: 0.5591 - accuracy: 0.8042 - val_loss: 0.2154 - val_accuracy: 0.9728\n",
      "Epoch 129/1000\n",
      " 1/17 [>.............................] - ETA: 0s - loss: 0.5422 - accuracy: 0.7969\n",
      "Epoch 129: saving model to model/keypoint_classifier/keypoint_classifier.hdf5\n",
      "17/17 [==============================] - 0s 3ms/step - loss: 0.5478 - accuracy: 0.8142 - val_loss: 0.2143 - val_accuracy: 0.9728\n",
      "Epoch 130/1000\n",
      " 1/17 [>.............................] - ETA: 0s - loss: 0.5876 - accuracy: 0.7969\n",
      "Epoch 130: saving model to model/keypoint_classifier/keypoint_classifier.hdf5\n",
      "17/17 [==============================] - 0s 3ms/step - loss: 0.5446 - accuracy: 0.8066 - val_loss: 0.2182 - val_accuracy: 0.9742\n",
      "Epoch 131/1000\n",
      " 1/17 [>.............................] - ETA: 0s - loss: 0.5503 - accuracy: 0.7891\n",
      "Epoch 131: saving model to model/keypoint_classifier/keypoint_classifier.hdf5\n",
      "17/17 [==============================] - 0s 3ms/step - loss: 0.5006 - accuracy: 0.8214 - val_loss: 0.2140 - val_accuracy: 0.9742\n",
      "Epoch 132/1000\n",
      " 1/17 [>.............................] - ETA: 0s - loss: 0.5652 - accuracy: 0.8125\n",
      "Epoch 132: saving model to model/keypoint_classifier/keypoint_classifier.hdf5\n",
      "17/17 [==============================] - 0s 3ms/step - loss: 0.5373 - accuracy: 0.8176 - val_loss: 0.2170 - val_accuracy: 0.9742\n",
      "Epoch 133/1000\n",
      " 1/17 [>.............................] - ETA: 0s - loss: 0.5754 - accuracy: 0.8125\n",
      "Epoch 133: saving model to model/keypoint_classifier/keypoint_classifier.hdf5\n",
      "17/17 [==============================] - 0s 3ms/step - loss: 0.5470 - accuracy: 0.7980 - val_loss: 0.2177 - val_accuracy: 0.9742\n",
      "Epoch 134/1000\n",
      " 1/17 [>.............................] - ETA: 0s - loss: 0.4972 - accuracy: 0.7969\n",
      "Epoch 134: saving model to model/keypoint_classifier/keypoint_classifier.hdf5\n",
      "17/17 [==============================] - 0s 3ms/step - loss: 0.5245 - accuracy: 0.8109 - val_loss: 0.2174 - val_accuracy: 0.9742\n",
      "Epoch 135/1000\n",
      " 1/17 [>.............................] - ETA: 0s - loss: 0.5561 - accuracy: 0.7891\n",
      "Epoch 135: saving model to model/keypoint_classifier/keypoint_classifier.hdf5\n",
      "17/17 [==============================] - 0s 4ms/step - loss: 0.5082 - accuracy: 0.8200 - val_loss: 0.2115 - val_accuracy: 0.9728\n"
     ]
    },
    {
     "name": "stdout",
     "output_type": "stream",
     "text": [
      "Epoch 136/1000\n",
      " 1/17 [>.............................] - ETA: 0s - loss: 0.3999 - accuracy: 0.8359\n",
      "Epoch 136: saving model to model/keypoint_classifier/keypoint_classifier.hdf5\n",
      "17/17 [==============================] - 0s 3ms/step - loss: 0.5188 - accuracy: 0.8090 - val_loss: 0.2135 - val_accuracy: 0.9713\n",
      "Epoch 137/1000\n",
      " 1/17 [>.............................] - ETA: 0s - loss: 0.5206 - accuracy: 0.8047\n",
      "Epoch 137: saving model to model/keypoint_classifier/keypoint_classifier.hdf5\n",
      "17/17 [==============================] - 0s 3ms/step - loss: 0.5112 - accuracy: 0.8114 - val_loss: 0.2178 - val_accuracy: 0.9728\n",
      "Epoch 138/1000\n",
      " 1/17 [>.............................] - ETA: 0s - loss: 0.6350 - accuracy: 0.8047\n",
      "Epoch 138: saving model to model/keypoint_classifier/keypoint_classifier.hdf5\n",
      "17/17 [==============================] - 0s 3ms/step - loss: 0.5383 - accuracy: 0.8209 - val_loss: 0.2144 - val_accuracy: 0.9728\n",
      "Epoch 139/1000\n",
      " 1/17 [>.............................] - ETA: 0s - loss: 0.4711 - accuracy: 0.8672\n",
      "Epoch 139: saving model to model/keypoint_classifier/keypoint_classifier.hdf5\n",
      "17/17 [==============================] - 0s 4ms/step - loss: 0.5329 - accuracy: 0.8128 - val_loss: 0.2152 - val_accuracy: 0.9742\n",
      "Epoch 140/1000\n",
      " 1/17 [>.............................] - ETA: 0s - loss: 0.4885 - accuracy: 0.8281\n",
      "Epoch 140: saving model to model/keypoint_classifier/keypoint_classifier.hdf5\n",
      "17/17 [==============================] - 0s 4ms/step - loss: 0.5167 - accuracy: 0.8181 - val_loss: 0.2085 - val_accuracy: 0.9728\n",
      "Epoch 141/1000\n",
      " 1/17 [>.............................] - ETA: 0s - loss: 0.4825 - accuracy: 0.8047\n",
      "Epoch 141: saving model to model/keypoint_classifier/keypoint_classifier.hdf5\n",
      "17/17 [==============================] - 0s 4ms/step - loss: 0.5165 - accuracy: 0.8185 - val_loss: 0.2047 - val_accuracy: 0.9713\n",
      "Epoch 142/1000\n",
      " 1/17 [>.............................] - ETA: 0s - loss: 0.4481 - accuracy: 0.8672\n",
      "Epoch 142: saving model to model/keypoint_classifier/keypoint_classifier.hdf5\n",
      "17/17 [==============================] - 0s 4ms/step - loss: 0.5034 - accuracy: 0.8405 - val_loss: 0.2049 - val_accuracy: 0.9742\n",
      "Epoch 143/1000\n",
      " 1/17 [>.............................] - ETA: 0s - loss: 0.4663 - accuracy: 0.8125\n",
      "Epoch 143: saving model to model/keypoint_classifier/keypoint_classifier.hdf5\n",
      "17/17 [==============================] - 0s 4ms/step - loss: 0.5172 - accuracy: 0.8133 - val_loss: 0.2062 - val_accuracy: 0.9728\n",
      "Epoch 144/1000\n",
      " 1/17 [>.............................] - ETA: 0s - loss: 0.6628 - accuracy: 0.7578\n",
      "Epoch 144: saving model to model/keypoint_classifier/keypoint_classifier.hdf5\n",
      "17/17 [==============================] - 0s 4ms/step - loss: 0.5184 - accuracy: 0.8195 - val_loss: 0.2027 - val_accuracy: 0.9728\n",
      "Epoch 145/1000\n",
      " 1/17 [>.............................] - ETA: 0s - loss: 0.5991 - accuracy: 0.8047\n",
      "Epoch 145: saving model to model/keypoint_classifier/keypoint_classifier.hdf5\n",
      "17/17 [==============================] - 0s 3ms/step - loss: 0.5041 - accuracy: 0.8185 - val_loss: 0.1998 - val_accuracy: 0.9728\n",
      "Epoch 146/1000\n",
      " 1/17 [>.............................] - ETA: 0s - loss: 0.5775 - accuracy: 0.7812\n",
      "Epoch 146: saving model to model/keypoint_classifier/keypoint_classifier.hdf5\n",
      "17/17 [==============================] - 0s 4ms/step - loss: 0.4918 - accuracy: 0.8286 - val_loss: 0.2004 - val_accuracy: 0.9713\n",
      "Epoch 147/1000\n",
      " 1/17 [>.............................] - ETA: 0s - loss: 0.6776 - accuracy: 0.7578\n",
      "Epoch 147: saving model to model/keypoint_classifier/keypoint_classifier.hdf5\n",
      "17/17 [==============================] - 0s 4ms/step - loss: 0.5115 - accuracy: 0.8219 - val_loss: 0.1987 - val_accuracy: 0.9728\n",
      "Epoch 148/1000\n",
      " 1/17 [>.............................] - ETA: 0s - loss: 0.4792 - accuracy: 0.8047\n",
      "Epoch 148: saving model to model/keypoint_classifier/keypoint_classifier.hdf5\n",
      "17/17 [==============================] - 0s 4ms/step - loss: 0.5092 - accuracy: 0.8099 - val_loss: 0.2008 - val_accuracy: 0.9728\n",
      "Epoch 149/1000\n",
      " 1/17 [>.............................] - ETA: 0s - loss: 0.4168 - accuracy: 0.8750\n",
      "Epoch 149: saving model to model/keypoint_classifier/keypoint_classifier.hdf5\n",
      "17/17 [==============================] - 0s 4ms/step - loss: 0.5037 - accuracy: 0.8228 - val_loss: 0.2015 - val_accuracy: 0.9742\n",
      "Epoch 150/1000\n",
      " 1/17 [>.............................] - ETA: 0s - loss: 0.4576 - accuracy: 0.8672\n",
      "Epoch 150: saving model to model/keypoint_classifier/keypoint_classifier.hdf5\n",
      "17/17 [==============================] - 0s 3ms/step - loss: 0.4887 - accuracy: 0.8295 - val_loss: 0.1959 - val_accuracy: 0.9742\n",
      "Epoch 151/1000\n",
      " 1/17 [>.............................] - ETA: 0s - loss: 0.6006 - accuracy: 0.7812\n",
      "Epoch 151: saving model to model/keypoint_classifier/keypoint_classifier.hdf5\n",
      "17/17 [==============================] - 0s 4ms/step - loss: 0.5163 - accuracy: 0.8181 - val_loss: 0.1945 - val_accuracy: 0.9713\n",
      "Epoch 152/1000\n",
      " 1/17 [>.............................] - ETA: 0s - loss: 0.4978 - accuracy: 0.8516\n",
      "Epoch 152: saving model to model/keypoint_classifier/keypoint_classifier.hdf5\n",
      "17/17 [==============================] - 0s 4ms/step - loss: 0.4762 - accuracy: 0.8290 - val_loss: 0.1925 - val_accuracy: 0.9742\n",
      "Epoch 153/1000\n",
      " 1/17 [>.............................] - ETA: 0s - loss: 0.4176 - accuracy: 0.8750\n",
      "Epoch 153: saving model to model/keypoint_classifier/keypoint_classifier.hdf5\n",
      "17/17 [==============================] - 0s 4ms/step - loss: 0.5129 - accuracy: 0.8161 - val_loss: 0.1922 - val_accuracy: 0.9728\n",
      "Epoch 154/1000\n",
      " 1/17 [>.............................] - ETA: 0s - loss: 0.4537 - accuracy: 0.8281\n",
      "Epoch 154: saving model to model/keypoint_classifier/keypoint_classifier.hdf5\n",
      "17/17 [==============================] - 0s 4ms/step - loss: 0.5151 - accuracy: 0.8138 - val_loss: 0.1955 - val_accuracy: 0.9728\n",
      "Epoch 155/1000\n",
      " 1/17 [>.............................] - ETA: 0s - loss: 0.4425 - accuracy: 0.8672\n",
      "Epoch 155: saving model to model/keypoint_classifier/keypoint_classifier.hdf5\n",
      "17/17 [==============================] - 0s 4ms/step - loss: 0.4844 - accuracy: 0.8333 - val_loss: 0.1905 - val_accuracy: 0.9728\n",
      "Epoch 156/1000\n",
      " 1/17 [>.............................] - ETA: 0s - loss: 0.5118 - accuracy: 0.8359\n",
      "Epoch 156: saving model to model/keypoint_classifier/keypoint_classifier.hdf5\n",
      "17/17 [==============================] - 0s 4ms/step - loss: 0.4801 - accuracy: 0.8219 - val_loss: 0.1867 - val_accuracy: 0.9742\n",
      "Epoch 157/1000\n",
      " 1/17 [>.............................] - ETA: 0s - loss: 0.4539 - accuracy: 0.8359\n",
      "Epoch 157: saving model to model/keypoint_classifier/keypoint_classifier.hdf5\n",
      "17/17 [==============================] - 0s 4ms/step - loss: 0.5245 - accuracy: 0.8118 - val_loss: 0.1903 - val_accuracy: 0.9728\n",
      "Epoch 158/1000\n",
      " 1/17 [>.............................] - ETA: 0s - loss: 0.5004 - accuracy: 0.7891\n",
      "Epoch 158: saving model to model/keypoint_classifier/keypoint_classifier.hdf5\n",
      "17/17 [==============================] - 0s 3ms/step - loss: 0.5045 - accuracy: 0.8157 - val_loss: 0.1901 - val_accuracy: 0.9728\n",
      "Epoch 159/1000\n",
      " 1/17 [>.............................] - ETA: 0s - loss: 0.4662 - accuracy: 0.8516\n",
      "Epoch 159: saving model to model/keypoint_classifier/keypoint_classifier.hdf5\n",
      "17/17 [==============================] - 0s 3ms/step - loss: 0.4915 - accuracy: 0.8357 - val_loss: 0.1970 - val_accuracy: 0.9728\n",
      "Epoch 160/1000\n",
      " 1/17 [>.............................] - ETA: 0s - loss: 0.5387 - accuracy: 0.8125\n",
      "Epoch 160: saving model to model/keypoint_classifier/keypoint_classifier.hdf5\n",
      "17/17 [==============================] - 0s 4ms/step - loss: 0.4981 - accuracy: 0.8300 - val_loss: 0.1967 - val_accuracy: 0.9728\n",
      "Epoch 161/1000\n",
      " 1/17 [>.............................] - ETA: 0s - loss: 0.3711 - accuracy: 0.8672\n",
      "Epoch 161: saving model to model/keypoint_classifier/keypoint_classifier.hdf5\n",
      "17/17 [==============================] - 0s 3ms/step - loss: 0.4791 - accuracy: 0.8219 - val_loss: 0.1913 - val_accuracy: 0.9728\n",
      "Epoch 162/1000\n",
      " 1/17 [>.............................] - ETA: 0s - loss: 0.3941 - accuracy: 0.8594\n",
      "Epoch 162: saving model to model/keypoint_classifier/keypoint_classifier.hdf5\n",
      "17/17 [==============================] - 0s 3ms/step - loss: 0.4788 - accuracy: 0.8228 - val_loss: 0.1865 - val_accuracy: 0.9728\n"
     ]
    },
    {
     "name": "stdout",
     "output_type": "stream",
     "text": [
      "Epoch 163/1000\n",
      " 1/17 [>.............................] - ETA: 0s - loss: 0.4421 - accuracy: 0.8359\n",
      "Epoch 163: saving model to model/keypoint_classifier/keypoint_classifier.hdf5\n",
      "17/17 [==============================] - 0s 4ms/step - loss: 0.5099 - accuracy: 0.8243 - val_loss: 0.1881 - val_accuracy: 0.9728\n",
      "Epoch 164/1000\n",
      " 1/17 [>.............................] - ETA: 0s - loss: 0.5296 - accuracy: 0.8672\n",
      "Epoch 164: saving model to model/keypoint_classifier/keypoint_classifier.hdf5\n",
      "17/17 [==============================] - 0s 3ms/step - loss: 0.5128 - accuracy: 0.8166 - val_loss: 0.1886 - val_accuracy: 0.9713\n",
      "Epoch 165/1000\n",
      " 1/17 [>.............................] - ETA: 0s - loss: 0.5700 - accuracy: 0.7969\n",
      "Epoch 165: saving model to model/keypoint_classifier/keypoint_classifier.hdf5\n",
      "17/17 [==============================] - 0s 3ms/step - loss: 0.5102 - accuracy: 0.8219 - val_loss: 0.1913 - val_accuracy: 0.9728\n",
      "Epoch 166/1000\n",
      " 1/17 [>.............................] - ETA: 0s - loss: 0.5704 - accuracy: 0.8359\n",
      "Epoch 166: saving model to model/keypoint_classifier/keypoint_classifier.hdf5\n",
      "17/17 [==============================] - 0s 3ms/step - loss: 0.5264 - accuracy: 0.8133 - val_loss: 0.1958 - val_accuracy: 0.9728\n",
      "Epoch 167/1000\n",
      " 1/17 [>.............................] - ETA: 0s - loss: 0.5637 - accuracy: 0.7891\n",
      "Epoch 167: saving model to model/keypoint_classifier/keypoint_classifier.hdf5\n",
      "17/17 [==============================] - 0s 3ms/step - loss: 0.4978 - accuracy: 0.8171 - val_loss: 0.1913 - val_accuracy: 0.9728\n",
      "Epoch 168/1000\n",
      " 1/17 [>.............................] - ETA: 0s - loss: 0.4729 - accuracy: 0.8438\n",
      "Epoch 168: saving model to model/keypoint_classifier/keypoint_classifier.hdf5\n",
      "17/17 [==============================] - 0s 3ms/step - loss: 0.4767 - accuracy: 0.8352 - val_loss: 0.1907 - val_accuracy: 0.9742\n",
      "Epoch 169/1000\n",
      " 1/17 [>.............................] - ETA: 0s - loss: 0.6395 - accuracy: 0.7578\n",
      "Epoch 169: saving model to model/keypoint_classifier/keypoint_classifier.hdf5\n",
      "17/17 [==============================] - 0s 3ms/step - loss: 0.5104 - accuracy: 0.8185 - val_loss: 0.1909 - val_accuracy: 0.9756\n",
      "Epoch 170/1000\n",
      " 1/17 [>.............................] - ETA: 0s - loss: 0.5035 - accuracy: 0.8125\n",
      "Epoch 170: saving model to model/keypoint_classifier/keypoint_classifier.hdf5\n",
      "17/17 [==============================] - 0s 3ms/step - loss: 0.4833 - accuracy: 0.8243 - val_loss: 0.1910 - val_accuracy: 0.9756\n",
      "Epoch 171/1000\n",
      " 1/17 [>.............................] - ETA: 0s - loss: 0.4740 - accuracy: 0.8359\n",
      "Epoch 171: saving model to model/keypoint_classifier/keypoint_classifier.hdf5\n",
      "17/17 [==============================] - 0s 3ms/step - loss: 0.4980 - accuracy: 0.8252 - val_loss: 0.1899 - val_accuracy: 0.9699\n",
      "Epoch 172/1000\n",
      " 1/17 [>.............................] - ETA: 0s - loss: 0.2965 - accuracy: 0.9062\n",
      "Epoch 172: saving model to model/keypoint_classifier/keypoint_classifier.hdf5\n",
      "17/17 [==============================] - 0s 3ms/step - loss: 0.4929 - accuracy: 0.8300 - val_loss: 0.1888 - val_accuracy: 0.9742\n",
      "Epoch 173/1000\n",
      " 1/17 [>.............................] - ETA: 0s - loss: 0.5568 - accuracy: 0.7812\n",
      "Epoch 173: saving model to model/keypoint_classifier/keypoint_classifier.hdf5\n",
      "17/17 [==============================] - 0s 3ms/step - loss: 0.4967 - accuracy: 0.8209 - val_loss: 0.1891 - val_accuracy: 0.9756\n",
      "Epoch 174/1000\n",
      " 1/17 [>.............................] - ETA: 0s - loss: 0.5033 - accuracy: 0.7969\n",
      "Epoch 174: saving model to model/keypoint_classifier/keypoint_classifier.hdf5\n",
      "17/17 [==============================] - 0s 3ms/step - loss: 0.4964 - accuracy: 0.8190 - val_loss: 0.1884 - val_accuracy: 0.9728\n",
      "Epoch 175/1000\n",
      " 1/17 [>.............................] - ETA: 0s - loss: 0.5504 - accuracy: 0.7891\n",
      "Epoch 175: saving model to model/keypoint_classifier/keypoint_classifier.hdf5\n",
      "17/17 [==============================] - 0s 3ms/step - loss: 0.5076 - accuracy: 0.8233 - val_loss: 0.1910 - val_accuracy: 0.9742\n",
      "Epoch 176/1000\n",
      " 1/17 [>.............................] - ETA: 0s - loss: 0.5473 - accuracy: 0.8359\n",
      "Epoch 176: saving model to model/keypoint_classifier/keypoint_classifier.hdf5\n",
      "17/17 [==============================] - 0s 3ms/step - loss: 0.4877 - accuracy: 0.8243 - val_loss: 0.1880 - val_accuracy: 0.9728\n",
      "Epoch 177/1000\n",
      " 1/17 [>.............................] - ETA: 0s - loss: 0.5153 - accuracy: 0.8359\n",
      "Epoch 177: saving model to model/keypoint_classifier/keypoint_classifier.hdf5\n",
      "17/17 [==============================] - 0s 3ms/step - loss: 0.5172 - accuracy: 0.8185 - val_loss: 0.1909 - val_accuracy: 0.9742\n",
      "Epoch 178/1000\n",
      " 1/17 [>.............................] - ETA: 0s - loss: 0.5812 - accuracy: 0.7969\n",
      "Epoch 178: saving model to model/keypoint_classifier/keypoint_classifier.hdf5\n",
      "17/17 [==============================] - 0s 3ms/step - loss: 0.5005 - accuracy: 0.8266 - val_loss: 0.1919 - val_accuracy: 0.9742\n",
      "Epoch 179/1000\n",
      " 1/17 [>.............................] - ETA: 0s - loss: 0.5190 - accuracy: 0.7891\n",
      "Epoch 179: saving model to model/keypoint_classifier/keypoint_classifier.hdf5\n",
      "17/17 [==============================] - 0s 3ms/step - loss: 0.4978 - accuracy: 0.8247 - val_loss: 0.1924 - val_accuracy: 0.9728\n",
      "Epoch 180/1000\n",
      " 1/17 [>.............................] - ETA: 0s - loss: 0.5096 - accuracy: 0.8359\n",
      "Epoch 180: saving model to model/keypoint_classifier/keypoint_classifier.hdf5\n",
      "17/17 [==============================] - 0s 3ms/step - loss: 0.5078 - accuracy: 0.8281 - val_loss: 0.1928 - val_accuracy: 0.9728\n",
      "Epoch 181/1000\n",
      " 1/17 [>.............................] - ETA: 0s - loss: 0.4438 - accuracy: 0.8359\n",
      "Epoch 181: saving model to model/keypoint_classifier/keypoint_classifier.hdf5\n",
      "17/17 [==============================] - 0s 3ms/step - loss: 0.4904 - accuracy: 0.8305 - val_loss: 0.1892 - val_accuracy: 0.9742\n",
      "Epoch 182/1000\n",
      " 1/17 [>.............................] - ETA: 0s - loss: 0.4139 - accuracy: 0.8594\n",
      "Epoch 182: saving model to model/keypoint_classifier/keypoint_classifier.hdf5\n",
      "17/17 [==============================] - 0s 3ms/step - loss: 0.4879 - accuracy: 0.8391 - val_loss: 0.1892 - val_accuracy: 0.9756\n",
      "Epoch 182: early stopping\n"
     ]
    },
    {
     "data": {
      "text/plain": [
       "<keras.callbacks.History at 0x7725582ee500>"
      ]
     },
     "execution_count": 11,
     "metadata": {},
     "output_type": "execute_result"
    }
   ],
   "source": [
    "model.fit(\n",
    "    X_train,\n",
    "    y_train,\n",
    "    epochs=1000,\n",
    "    batch_size=128,\n",
    "    validation_data=(X_test, y_test),\n",
    "    callbacks=[cp_callback, es_callback]\n",
    ")"
   ]
  },
  {
   "cell_type": "code",
   "execution_count": 12,
   "metadata": {
    "colab": {
     "base_uri": "https://localhost:8080/"
    },
    "id": "pxvb2Y299hE3",
    "outputId": "59eb3185-2e37-4b9e-bc9d-ab1b8ac29b7f"
   },
   "outputs": [
    {
     "name": "stdout",
     "output_type": "stream",
     "text": [
      "6/6 [==============================] - 0s 1ms/step - loss: 0.1892 - accuracy: 0.9756\n"
     ]
    }
   ],
   "source": [
    "# Model evaluation\n",
    "val_loss, val_acc = model.evaluate(X_test, y_test, batch_size=128)"
   ]
  },
  {
   "cell_type": "code",
   "execution_count": 13,
   "metadata": {
    "id": "RBkmDeUW9hE4"
   },
   "outputs": [],
   "source": [
    "# Loading the saved model\n",
    "model = tf.keras.models.load_model(model_save_path)"
   ]
  },
  {
   "cell_type": "code",
   "execution_count": 14,
   "metadata": {
    "colab": {
     "base_uri": "https://localhost:8080/"
    },
    "id": "tFz9Tb0I9hE4",
    "outputId": "1c3b3528-54ae-4ee2-ab04-77429211cbef"
   },
   "outputs": [
    {
     "name": "stdout",
     "output_type": "stream",
     "text": [
      "1/1 [==============================] - 0s 59ms/step\n",
      "[6.3173515e-03 1.1866551e-03 2.4928909e-02 4.3923907e-07 4.8694463e-05\n",
      " 6.3970620e-05 1.1355265e-03 9.6631837e-01]\n",
      "7\n"
     ]
    }
   ],
   "source": [
    "# Inference test\n",
    "predict_result = model.predict(np.array([X_test[0]]))\n",
    "print(np.squeeze(predict_result))\n",
    "print(np.argmax(np.squeeze(predict_result)))"
   ]
  },
  {
   "cell_type": "markdown",
   "metadata": {
    "id": "FNP6aqzc9hE5"
   },
   "source": [
    "# Saving Model"
   ]
  },
  {
   "cell_type": "code",
   "execution_count": 15,
   "metadata": {
    "id": "ODjnYyld9hE6"
   },
   "outputs": [],
   "source": [
    "# Save as a model dedicated to inference\n",
    "model.save(model_save_path, include_optimizer=False)"
   ]
  },
  {
   "cell_type": "code",
   "execution_count": 16,
   "metadata": {
    "colab": {
     "base_uri": "https://localhost:8080/"
    },
    "id": "zRfuK8Y59hE6",
    "outputId": "a4ca585c-b5d5-4244-8291-8674063209bb"
   },
   "outputs": [
    {
     "name": "stderr",
     "output_type": "stream",
     "text": [
      "2023-04-25 09:11:28.964609: I tensorflow/core/common_runtime/executor.cc:1197] [/device:CPU:0] (DEBUG INFO) Executor start aborting (this does not indicate an error and you can ignore this message): INVALID_ARGUMENT: You must feed a value for placeholder tensor 'input_1' with dtype float and shape [?,42]\n",
      "\t [[{{node input_1}}]]\n",
      "2023-04-25 09:11:29.018513: I tensorflow/core/common_runtime/executor.cc:1197] [/device:CPU:0] (DEBUG INFO) Executor start aborting (this does not indicate an error and you can ignore this message): INVALID_ARGUMENT: You must feed a value for placeholder tensor 'inputs' with dtype float and shape [?,42]\n",
      "\t [[{{node inputs}}]]\n",
      "2023-04-25 09:11:29.030732: I tensorflow/core/common_runtime/executor.cc:1197] [/device:CPU:0] (DEBUG INFO) Executor start aborting (this does not indicate an error and you can ignore this message): INVALID_ARGUMENT: You must feed a value for placeholder tensor 'input_1' with dtype float and shape [?,42]\n",
      "\t [[{{node input_1}}]]\n",
      "2023-04-25 09:11:29.053778: I tensorflow/core/common_runtime/executor.cc:1197] [/device:CPU:0] (DEBUG INFO) Executor start aborting (this does not indicate an error and you can ignore this message): INVALID_ARGUMENT: You must feed a value for placeholder tensor 'inputs' with dtype float and shape [?,42]\n",
      "\t [[{{node inputs}}]]\n",
      "2023-04-25 09:11:29.066781: I tensorflow/core/common_runtime/executor.cc:1197] [/device:CPU:0] (DEBUG INFO) Executor start aborting (this does not indicate an error and you can ignore this message): INVALID_ARGUMENT: You must feed a value for placeholder tensor 'inputs' with dtype float and shape [?,20]\n",
      "\t [[{{node inputs}}]]\n",
      "2023-04-25 09:11:29.087949: I tensorflow/core/common_runtime/executor.cc:1197] [/device:CPU:0] (DEBUG INFO) Executor start aborting (this does not indicate an error and you can ignore this message): INVALID_ARGUMENT: You must feed a value for placeholder tensor 'inputs' with dtype float and shape [?,42]\n",
      "\t [[{{node inputs}}]]\n",
      "2023-04-25 09:11:29.152601: I tensorflow/core/common_runtime/executor.cc:1197] [/device:CPU:0] (DEBUG INFO) Executor start aborting (this does not indicate an error and you can ignore this message): INVALID_ARGUMENT: You must feed a value for placeholder tensor 'inputs' with dtype float and shape [?,42]\n",
      "\t [[{{node inputs}}]]\n",
      "2023-04-25 09:11:29.203516: I tensorflow/core/common_runtime/executor.cc:1197] [/device:CPU:0] (DEBUG INFO) Executor start aborting (this does not indicate an error and you can ignore this message): INVALID_ARGUMENT: You must feed a value for placeholder tensor 'inputs' with dtype float and shape [?,42]\n",
      "\t [[{{node inputs}}]]\n",
      "2023-04-25 09:11:29.231642: I tensorflow/core/common_runtime/executor.cc:1197] [/device:CPU:0] (DEBUG INFO) Executor start aborting (this does not indicate an error and you can ignore this message): INVALID_ARGUMENT: You must feed a value for placeholder tensor 'inputs' with dtype float and shape [?,20]\n",
      "\t [[{{node inputs}}]]\n",
      "WARNING:absl:Found untraced functions such as _update_step_xla while saving (showing 1 of 1). These functions will not be directly callable after loading.\n"
     ]
    },
    {
     "name": "stdout",
     "output_type": "stream",
     "text": [
      "INFO:tensorflow:Assets written to: /tmp/tmpmker5p56/assets\n"
     ]
    },
    {
     "name": "stderr",
     "output_type": "stream",
     "text": [
      "INFO:tensorflow:Assets written to: /tmp/tmpmker5p56/assets\n",
      "2023-04-25 09:11:29.877998: W tensorflow/compiler/mlir/lite/python/tf_tfl_flatbuffer_helpers.cc:364] Ignored output_format.\n",
      "2023-04-25 09:11:29.878032: W tensorflow/compiler/mlir/lite/python/tf_tfl_flatbuffer_helpers.cc:367] Ignored drop_control_dependency.\n",
      "2023-04-25 09:11:29.878841: I tensorflow/cc/saved_model/reader.cc:45] Reading SavedModel from: /tmp/tmpmker5p56\n",
      "2023-04-25 09:11:29.879905: I tensorflow/cc/saved_model/reader.cc:89] Reading meta graph with tags { serve }\n",
      "2023-04-25 09:11:29.879921: I tensorflow/cc/saved_model/reader.cc:130] Reading SavedModel debug info (if present) from: /tmp/tmpmker5p56\n",
      "2023-04-25 09:11:29.883422: I tensorflow/compiler/mlir/mlir_graph_optimization_pass.cc:353] MLIR V1 optimization pass is not enabled\n",
      "2023-04-25 09:11:29.884415: I tensorflow/cc/saved_model/loader.cc:231] Restoring SavedModel bundle.\n",
      "2023-04-25 09:11:29.918682: I tensorflow/cc/saved_model/loader.cc:215] Running initialization op on SavedModel bundle at path: /tmp/tmpmker5p56\n",
      "2023-04-25 09:11:29.928058: I tensorflow/cc/saved_model/loader.cc:314] SavedModel load for tags { serve }; Status: success: OK. Took 49218 microseconds.\n",
      "2023-04-25 09:11:29.970007: I tensorflow/compiler/mlir/tensorflow/utils/dump_mlir_util.cc:269] disabling MLIR crash reproducer, set env var `MLIR_CRASH_REPRODUCER_DIRECTORY` to enable.\n"
     ]
    },
    {
     "data": {
      "text/plain": [
       "6720"
      ]
     },
     "execution_count": 16,
     "metadata": {},
     "output_type": "execute_result"
    }
   ],
   "source": [
    "# Transform model (quantization)\n",
    "\n",
    "converter = tf.lite.TFLiteConverter.from_keras_model(model)\n",
    "converter.optimizations = [tf.lite.Optimize.DEFAULT]\n",
    "tflite_quantized_model = converter.convert()\n",
    "\n",
    "open(tflite_save_path, 'wb').write(tflite_quantized_model)"
   ]
  },
  {
   "cell_type": "markdown",
   "metadata": {
    "id": "CHBPBXdx9hE6"
   },
   "source": [
    "# Inference test"
   ]
  },
  {
   "cell_type": "code",
   "execution_count": 17,
   "metadata": {
    "id": "mGAzLocO9hE7"
   },
   "outputs": [
    {
     "name": "stderr",
     "output_type": "stream",
     "text": [
      "INFO: Created TensorFlow Lite XNNPACK delegate for CPU.\n"
     ]
    }
   ],
   "source": [
    "interpreter = tf.lite.Interpreter(model_path=tflite_save_path)\n",
    "interpreter.allocate_tensors()"
   ]
  },
  {
   "cell_type": "code",
   "execution_count": 18,
   "metadata": {
    "id": "oQuDK8YS9hE7"
   },
   "outputs": [],
   "source": [
    "# Get I / O tensor\n",
    "input_details = interpreter.get_input_details()\n",
    "output_details = interpreter.get_output_details()"
   ]
  },
  {
   "cell_type": "code",
   "execution_count": 19,
   "metadata": {
    "id": "2_ixAf_l9hE7"
   },
   "outputs": [],
   "source": [
    "interpreter.set_tensor(input_details[0]['index'], np.array([X_test[0]]))"
   ]
  },
  {
   "cell_type": "code",
   "execution_count": 20,
   "metadata": {
    "colab": {
     "base_uri": "https://localhost:8080/"
    },
    "id": "s4FoAnuc9hE7",
    "outputId": "91f18257-8d8b-4ef3-c558-e9b5f94fabbf",
    "scrolled": true
   },
   "outputs": [
    {
     "name": "stdout",
     "output_type": "stream",
     "text": [
      "CPU times: user 522 µs, sys: 31 µs, total: 553 µs\n",
      "Wall time: 2.52 ms\n"
     ]
    }
   ],
   "source": [
    "%%time\n",
    "# Inference implementation\n",
    "interpreter.invoke()\n",
    "tflite_results = interpreter.get_tensor(output_details[0]['index'])"
   ]
  },
  {
   "cell_type": "code",
   "execution_count": 21,
   "metadata": {
    "colab": {
     "base_uri": "https://localhost:8080/"
    },
    "id": "vONjp19J9hE8",
    "outputId": "77205e24-fd00-42c4-f7b6-e06e527c2cba"
   },
   "outputs": [
    {
     "name": "stdout",
     "output_type": "stream",
     "text": [
      "[6.3173566e-03 1.1866568e-03 2.4928926e-02 4.3924075e-07 4.8694550e-05\n",
      " 6.3970678e-05 1.1355279e-03 9.6631837e-01]\n",
      "7\n"
     ]
    }
   ],
   "source": [
    "print(np.squeeze(tflite_results))\n",
    "print(np.argmax(np.squeeze(tflite_results)))"
   ]
  }
 ],
 "metadata": {
  "accelerator": "GPU",
  "colab": {
   "collapsed_sections": [],
   "name": "keypoint_classification_EN.ipynb",
   "provenance": [],
   "toc_visible": true
  },
  "kernelspec": {
   "display_name": "Python 3 (ipykernel)",
   "language": "python",
   "name": "python3"
  },
  "language_info": {
   "codemirror_mode": {
    "name": "ipython",
    "version": 3
   },
   "file_extension": ".py",
   "mimetype": "text/x-python",
   "name": "python",
   "nbconvert_exporter": "python",
   "pygments_lexer": "ipython3",
   "version": "3.10.9"
  }
 },
 "nbformat": 4,
 "nbformat_minor": 1
}
